{
  "cells": [
    {
      "cell_type": "markdown",
      "metadata": {
        "id": "owXeAh2TQo_t"
      },
      "source": [
        "# Python Crash Course 1\n",
        "\n",
        "- Modules\n",
        "- Function\n",
        "- Data types  \n",
        "  \n",
        "(This notebook is translated and edited from https://hcid-courses.github.io/datajournalism-2019/schedule.html)"
      ]
    },
    {
      "cell_type": "code",
      "execution_count": null,
      "metadata": {
        "id": "FC9ZoW8iQo_z",
        "outputId": "bf3fd0ad-5bc7-4bcd-e6f5-eec5f6f1fa23"
      },
      "outputs": [
        {
          "name": "stdout",
          "output_type": "stream",
          "text": [
            "Hello, World!\n"
          ]
        }
      ],
      "source": [
        "print(\"Hello, World!\")"
      ]
    },
    {
      "cell_type": "markdown",
      "metadata": {
        "id": "m06NyjC2Qo_2"
      },
      "source": [
        "## The Zen of Python"
      ]
    },
    {
      "cell_type": "code",
      "execution_count": null,
      "metadata": {
        "scrolled": true,
        "id": "VaGdgE2YQo_2",
        "outputId": "28098437-e6c4-49d0-8441-3ccf0fb58d62"
      },
      "outputs": [
        {
          "name": "stdout",
          "output_type": "stream",
          "text": [
            "The Zen of Python, by Tim Peters\n",
            "\n",
            "Beautiful is better than ugly.\n",
            "Explicit is better than implicit.\n",
            "Simple is better than complex.\n",
            "Complex is better than complicated.\n",
            "Flat is better than nested.\n",
            "Sparse is better than dense.\n",
            "Readability counts.\n",
            "Special cases aren't special enough to break the rules.\n",
            "Although practicality beats purity.\n",
            "Errors should never pass silently.\n",
            "Unless explicitly silenced.\n",
            "In the face of ambiguity, refuse the temptation to guess.\n",
            "There should be one-- and preferably only one --obvious way to do it.\n",
            "Although that way may not be obvious at first unless you're Dutch.\n",
            "Now is better than never.\n",
            "Although never is often better than *right* now.\n",
            "If the implementation is hard to explain, it's a bad idea.\n",
            "If the implementation is easy to explain, it may be a good idea.\n",
            "Namespaces are one honking great idea -- let's do more of those!\n"
          ]
        }
      ],
      "source": [
        "import this"
      ]
    },
    {
      "cell_type": "markdown",
      "metadata": {
        "id": "VUmBMMfHQo_3"
      },
      "source": [
        "## Whitespace Formatting\n",
        "\n",
        "- Python uses indentation for blocks.\n",
        "- You must indent when using for, if, while, try-except, def...\n",
        "- The number of spaces is up to you as a programmer.\n",
        "- But, everyone uses 4 spaces so let's just do that."
      ]
    },
    {
      "cell_type": "code",
      "execution_count": null,
      "metadata": {
        "scrolled": true,
        "id": "uIAMVkN2Qo_4",
        "outputId": "0a93d4ba-1894-48a5-d4df-aecae238d990"
      },
      "outputs": [
        {
          "name": "stdout",
          "output_type": "stream",
          "text": [
            "1\n",
            "1\n",
            "2\n",
            "2\n",
            "3\n",
            "3\n",
            "4\n",
            "4\n",
            "5\n",
            "5\n",
            "6\n",
            "1\n",
            "2\n",
            "1\n",
            "3\n",
            "2\n",
            "4\n",
            "3\n",
            "5\n",
            "4\n",
            "6\n",
            "5\n",
            "7\n",
            "2\n",
            "3\n",
            "1\n",
            "4\n",
            "2\n",
            "5\n",
            "3\n",
            "6\n",
            "4\n",
            "7\n",
            "5\n",
            "8\n",
            "3\n",
            "4\n",
            "1\n",
            "5\n",
            "2\n",
            "6\n",
            "3\n",
            "7\n",
            "4\n",
            "8\n",
            "5\n",
            "9\n",
            "4\n",
            "5\n",
            "1\n",
            "6\n",
            "2\n",
            "7\n",
            "3\n",
            "8\n",
            "4\n",
            "9\n",
            "5\n",
            "10\n",
            "5\n",
            "done looping\n"
          ]
        }
      ],
      "source": [
        "for i in [1, 2, 3, 4, 5]:\n",
        "    print(i)                     # first line in \"for i\" block\n",
        "    for j in [1, 2, 3, 4, 5]:\n",
        "        print(j)                # first line in \"for j\" block\n",
        "        print(i + j)             # last line in \"for j\" block\n",
        "    print(i)                     # last line in \"for i\" block\n",
        "print(\"done looping\")"
      ]
    },
    {
      "cell_type": "markdown",
      "metadata": {
        "id": "UAmmQ7qvQo_4"
      },
      "source": [
        "- Whitespace(=indent) tells you the start and the end of blocks.\n",
        "- However, the whitespace inside a parenthesis is ignored."
      ]
    },
    {
      "cell_type": "code",
      "execution_count": null,
      "metadata": {
        "id": "C6aIgII0Qo_5"
      },
      "outputs": [],
      "source": [
        "long_winded_computation=(1 + 2 + 3 + 4 + 5 + 6 + 7 + 8 + 9 + 10 + 11 + 12 +\n",
        "                         13 + 14 + 15 + 16 + 17 + 18 + 19 + 20)"
      ]
    },
    {
      "cell_type": "markdown",
      "metadata": {
        "id": "AEI0-jHnQo_6"
      },
      "source": [
        "- Thus, although the end result is the same, you would like to format your code so that it is easier to read."
      ]
    },
    {
      "cell_type": "code",
      "execution_count": null,
      "metadata": {
        "id": "aFigJFRCQo_6",
        "outputId": "50671a39-eea3-4551-9479-c27bd8b2ffbf"
      },
      "outputs": [
        {
          "data": {
            "text/plain": [
              "True"
            ]
          },
          "execution_count": 4,
          "metadata": {},
          "output_type": "execute_result"
        }
      ],
      "source": [
        "list_of_lists = [[1, 2, 3], [4, 5, 6], [7, 8, 9]]\n",
        "\n",
        "easier_to_read_list_of_lists = [ [1, 2, 3],\n",
        "                                 [4, 5, 6],\n",
        "                                 [7, 8, 9] ]\n",
        "\n",
        "list_of_lists == easier_to_read_list_of_lists"
      ]
    },
    {
      "cell_type": "markdown",
      "metadata": {
        "id": "E1hdh8b3Qo_7"
      },
      "source": [
        "## Commenting the Codes\n",
        "\n",
        "- If you want to add some explaination to your code, or temporarily deactivate certain part of the code, you use #.\n",
        "- Shortcut: ctrl + /"
      ]
    },
    {
      "cell_type": "code",
      "execution_count": null,
      "metadata": {
        "id": "ApqKtCwDQo_7",
        "outputId": "f618c331-11c5-40f2-dae3-6fd1341aa0fd"
      },
      "outputs": [
        {
          "name": "stdout",
          "output_type": "stream",
          "text": [
            "Hello World\n"
          ]
        },
        {
          "data": {
            "text/plain": [
              "'\\nThis is an example of a multiline\\ncomment that spans multiple lines...\\n'"
            ]
          },
          "execution_count": 7,
          "metadata": {},
          "output_type": "execute_result"
        }
      ],
      "source": [
        "# This is a comment in Python\n",
        "print(\"Hello World\") # This is also a comment in Python"
      ]
    },
    {
      "cell_type": "code",
      "execution_count": null,
      "metadata": {
        "id": "G7IRH8eCQo_8",
        "outputId": "3df81749-28a5-4bad-9ccc-91d4590f9e26"
      },
      "outputs": [
        {
          "ename": "NameError",
          "evalue": "name 'a' is not defined",
          "output_type": "error",
          "traceback": [
            "\u001b[1;31m---------------------------------------------------------------------------\u001b[0m",
            "\u001b[1;31mNameError\u001b[0m                                 Traceback (most recent call last)",
            "Cell \u001b[1;32mIn[10], line 2\u001b[0m\n\u001b[0;32m      1\u001b[0m \u001b[38;5;28;01mfor\u001b[39;00m i \u001b[38;5;129;01min\u001b[39;00m \u001b[38;5;28mrange\u001b[39m(\u001b[38;5;241m5\u001b[39m):\n\u001b[1;32m----> 2\u001b[0m     m \u001b[38;5;241m=\u001b[39m \u001b[43ma\u001b[49m \u001b[38;5;241m+\u001b[39m b\n\u001b[0;32m      3\u001b[0m     \u001b[38;5;28mprint\u001b[39m(i)\n",
            "\u001b[1;31mNameError\u001b[0m: name 'a' is not defined"
          ]
        }
      ],
      "source": [
        "for i in range(5):\n",
        "    m = a + b\n",
        "    print(i)"
      ]
    },
    {
      "cell_type": "code",
      "execution_count": null,
      "metadata": {
        "id": "x7AR6fduQo_8",
        "outputId": "bf92da45-0f8e-4b91-c312-625bd886d216"
      },
      "outputs": [
        {
          "name": "stdout",
          "output_type": "stream",
          "text": [
            "0\n",
            "1\n",
            "2\n",
            "3\n",
            "4\n"
          ]
        }
      ],
      "source": [
        "for i in range(5):\n",
        "    # m = a + b\n",
        "    print(i)"
      ]
    },
    {
      "cell_type": "markdown",
      "metadata": {
        "id": "AIXHbpA1Qo_9"
      },
      "source": [
        "## Modules\n",
        "\n",
        "- All languages are lacking in their inherent features.\n",
        "- Therefore, external extension libraries that someone has created are often used, and in Python, these are referred to as modules.\n",
        "- Modules extend the functionality that Python provides."
      ]
    },
    {
      "cell_type": "code",
      "execution_count": null,
      "metadata": {
        "id": "r4Fx8CgqQo_9",
        "outputId": "7a889a20-1712-491a-c7b4-89e198ac1521"
      },
      "outputs": [
        {
          "data": {
            "text/plain": [
              "['100', '200', '300']"
            ]
          },
          "execution_count": 15,
          "metadata": {},
          "output_type": "execute_result"
        }
      ],
      "source": [
        "import re  # This module is for using regular expression(=regex) in python\n",
        "\n",
        "my_regex = re.compile(\"[0-9]+\")\n",
        "string_to_search = \"I got 100 dollars first month, 200 next month, and 300 this month. What a deal!\"\n",
        "match = my_regex.findall(string_to_search)\n",
        "\n",
        "match"
      ]
    },
    {
      "cell_type": "code",
      "execution_count": null,
      "metadata": {
        "id": "jB3EEShjQo_9"
      },
      "outputs": [],
      "source": [
        "import matplotlib.pyplot as plt # If some modules' names are too long, this is useful"
      ]
    },
    {
      "cell_type": "code",
      "execution_count": null,
      "metadata": {
        "id": "Y7huVty8Qo_-",
        "outputId": "e25a4bfa-ae1c-4c83-87bf-d82b704d5a6e"
      },
      "outputs": [
        {
          "name": "stdout",
          "output_type": "stream",
          "text": [
            "Empty DataFrame\n",
            "Columns: []\n",
            "Index: []\n"
          ]
        }
      ],
      "source": [
        "import pandas\n",
        "print(pandas.DataFrame())"
      ]
    },
    {
      "cell_type": "code",
      "execution_count": null,
      "metadata": {
        "id": "b0_fZ0kzQo_-",
        "outputId": "e07e4249-9ed5-46ab-ffc5-ea6b503a44e9"
      },
      "outputs": [
        {
          "name": "stdout",
          "output_type": "stream",
          "text": [
            "Empty DataFrame\n",
            "Columns: []\n",
            "Index: []\n"
          ]
        }
      ],
      "source": [
        "import pandas as pd\n",
        "print(pd.DataFrame())"
      ]
    },
    {
      "cell_type": "markdown",
      "metadata": {
        "collapsed": true,
        "jupyter": {
          "outputs_hidden": true
        },
        "id": "fxf0kutlQo_-"
      },
      "source": [
        "- You can choose to import a subset of variables and/or functions from a module."
      ]
    },
    {
      "cell_type": "code",
      "execution_count": null,
      "metadata": {
        "id": "M2iSsDoLQo__"
      },
      "outputs": [],
      "source": [
        "from collections import defaultdict, Counter"
      ]
    },
    {
      "cell_type": "markdown",
      "metadata": {
        "id": "SgecMKL4Qo__"
      },
      "source": [
        "## Value Assign\n",
        "\n",
        "- In Python, to assign a value to a variable, you do it as follows.\n",
        "- Unlike other languages, Python does not create variables by specifying a particular data type.\n",
        "- When one variable (d) references another variable (c), if you change the value of the new variable, the value of the referenced variable also changes."
      ]
    },
    {
      "cell_type": "code",
      "execution_count": null,
      "metadata": {
        "id": "vFSEDUYIQo__",
        "outputId": "0db658d1-a5cc-4100-b9b1-f60510490749"
      },
      "outputs": [
        {
          "name": "stdout",
          "output_type": "stream",
          "text": [
            "my string\n",
            "1027\n",
            "1027.0\n",
            "[1, 2, 3, 4]\n",
            "[1, 2, 3, 4]\n"
          ]
        }
      ],
      "source": [
        "a = \"my string\"\n",
        "b = 1027\n",
        "c = 1027.0\n",
        "d = [1, 2, 3]\n",
        "e = d\n",
        "e.append(4)\n",
        "\n",
        "\n",
        "print(a)\n",
        "print(b)\n",
        "print(c)\n",
        "print(d)\n",
        "print(e)"
      ]
    },
    {
      "cell_type": "code",
      "execution_count": null,
      "metadata": {
        "id": "_MixNbZgQo__",
        "outputId": "afec3de0-b155-4ba6-e5cc-fc8a8e52bf3e"
      },
      "outputs": [
        {
          "data": {
            "text/plain": [
              "(str, int, float, list, list)"
            ]
          },
          "execution_count": 164,
          "metadata": {},
          "output_type": "execute_result"
        }
      ],
      "source": [
        "type(a), type(b), type(c), type(d), type(e)"
      ]
    },
    {
      "cell_type": "markdown",
      "metadata": {
        "id": "cHa2xBIrQo__"
      },
      "source": [
        "- To create a different list while copying the values from the original referenced variable, you can do as follows."
      ]
    },
    {
      "cell_type": "code",
      "execution_count": null,
      "metadata": {
        "id": "bMK7e3KbQpAA",
        "outputId": "ec87d6dd-3915-4a53-ddda-84aa3ac6ac25"
      },
      "outputs": [
        {
          "name": "stdout",
          "output_type": "stream",
          "text": [
            "original:  [1, 2, 3]\n",
            "duplicated:  [1, 2, 3]\n",
            "original:  [1, 2, 3]\n",
            "duplicated:  [1, 2, 3, 4]\n"
          ]
        }
      ],
      "source": [
        "# 1. [:]\n",
        "orig = [1, 2, 3]\n",
        "dupe = orig[:]\n",
        "\n",
        "print(\"original: \", orig)\n",
        "print(\"duplicated: \", dupe)\n",
        "dupe.append(4)\n",
        "\n",
        "print(\"original: \", orig)\n",
        "print(\"duplicated: \", dupe)"
      ]
    },
    {
      "cell_type": "code",
      "execution_count": null,
      "metadata": {
        "id": "_ZMRA0IBQpAA",
        "outputId": "2b6efb0f-691d-4deb-9d1e-602dfbd9eb86"
      },
      "outputs": [
        {
          "name": "stdout",
          "output_type": "stream",
          "text": [
            "original:  [1, 2, 3]\n",
            "duplicated:  [1, 2, 3]\n",
            "original:  [1, 2, 3]\n",
            "duplicated:  [1, 2, 3, 4]\n"
          ]
        }
      ],
      "source": [
        "# 2. copy\n",
        "\n",
        "from copy import copy\n",
        "orig = [1, 2, 3]\n",
        "dupe = copy(orig)\n",
        "\n",
        "print(\"original: \", orig)\n",
        "print(\"duplicated: \", dupe)\n",
        "dupe.append(4)\n",
        "\n",
        "print(\"original: \", orig)\n",
        "print(\"duplicated: \", dupe)"
      ]
    },
    {
      "cell_type": "markdown",
      "metadata": {
        "id": "DKz_zx1hQpAA"
      },
      "source": [
        "## Interactive Programming\n",
        "\n",
        "- To receive and process user input, the **input()** method is used."
      ]
    },
    {
      "cell_type": "code",
      "execution_count": null,
      "metadata": {
        "id": "rO-xG-gOQpAA",
        "outputId": "05638854-33d0-4260-92f2-4202a46a869c"
      },
      "outputs": [
        {
          "name": "stdin",
          "output_type": "stream",
          "text": [
            "Hello there, and what's your name? Chur\n"
          ]
        },
        {
          "name": "stdout",
          "output_type": "stream",
          "text": [
            "Nice to meet you, Chur.\n"
          ]
        }
      ],
      "source": [
        "name = input(\"Hello there, and what's your name?\")\n",
        "print(\"Nice to meet you, \" + name + \".\")"
      ]
    },
    {
      "cell_type": "markdown",
      "metadata": {
        "id": "ycD0G14aQpAA"
      },
      "source": [
        "## Arithmetic\n",
        "\n",
        "- Python provides basic arithmetic functions. For more complex calculations, modules like *math* are imported and used."
      ]
    },
    {
      "cell_type": "code",
      "execution_count": null,
      "metadata": {
        "id": "-_7dAXz3QpAB",
        "outputId": "7858d154-bf8d-44e4-dd44-b643da664a3a"
      },
      "outputs": [
        {
          "name": "stdout",
          "output_type": "stream",
          "text": [
            "3\n",
            "-1\n",
            "15\n",
            "1.6666666666666667\n"
          ]
        }
      ],
      "source": [
        "print(1 + 2)\n",
        "print(1 - 2)\n",
        "print(5 * 3)\n",
        "print(5 / 3)"
      ]
    },
    {
      "cell_type": "markdown",
      "metadata": {
        "id": "4mslCs-bQpAB"
      },
      "source": [
        "- If the end result of print(5 / 3) is 1, then you are using Python 2.\n",
        "- Please consider upgrading it"
      ]
    },
    {
      "cell_type": "markdown",
      "metadata": {
        "id": "OsclKa_IQpAB"
      },
      "source": [
        "- Calculating remainder"
      ]
    },
    {
      "cell_type": "code",
      "execution_count": null,
      "metadata": {
        "id": "ioWXXVI-QpAB",
        "outputId": "6cafff2c-c177-4f42-c876-be8597860555"
      },
      "outputs": [
        {
          "name": "stdout",
          "output_type": "stream",
          "text": [
            "2\n",
            "1\n"
          ]
        }
      ],
      "source": [
        "print(5 % 3)\n",
        "print(7 % 2)"
      ]
    },
    {
      "cell_type": "markdown",
      "metadata": {
        "id": "zx4LRqo3QpAB"
      },
      "source": [
        "- The 'remainder' is used very often when coding.\n",
        "- You can increase a number and use the remainder to control the output frequency."
      ]
    },
    {
      "cell_type": "code",
      "execution_count": null,
      "metadata": {
        "id": "WQ4ba5oCQpAC",
        "outputId": "d5ea23e1-3854-4049-83c0-ceff0e36998c"
      },
      "outputs": [
        {
          "name": "stdout",
          "output_type": "stream",
          "text": [
            "0 - 0 : Hello\n",
            "1 - 1 : Python\n",
            "2 - 2 : World!\n",
            "3 - 0 : Hello\n",
            "4 - 1 : Python\n",
            "5 - 2 : World!\n",
            "6 - 0 : Hello\n",
            "7 - 1 : Python\n",
            "8 - 2 : World!\n",
            "9 - 0 : Hello\n",
            "10 - 1 : Python\n",
            "11 - 2 : World!\n",
            "12 - 0 : Hello\n",
            "13 - 1 : Python\n",
            "14 - 2 : World!\n",
            "15 - 0 : Hello\n",
            "16 - 1 : Python\n",
            "17 - 2 : World!\n",
            "18 - 0 : Hello\n",
            "19 - 1 : Python\n",
            "20 - 2 : World!\n"
          ]
        }
      ],
      "source": [
        "for i in range(21):\n",
        "    flag = i % 3\n",
        "    if flag == 0:\n",
        "        print(i, \"-\", flag, \": Hello\")\n",
        "    elif flag == 1:\n",
        "        print(i, \"-\", flag, \": Python\")\n",
        "    else:\n",
        "        print(i, \"-\", flag, \": World!\")"
      ]
    },
    {
      "cell_type": "markdown",
      "metadata": {
        "id": "JH2RWJmLQpAC"
      },
      "source": [
        "## Functions\n",
        "\n",
        "- Functions are used to repeat the same functionality.\n",
        "- There may be cases where they have parameters, and cases where they do not."
      ]
    },
    {
      "cell_type": "code",
      "execution_count": null,
      "metadata": {
        "id": "FsoxUKIaQpAC",
        "outputId": "2ea7a065-3830-4d26-a410-98fefaee9749"
      },
      "outputs": [
        {
          "name": "stdout",
          "output_type": "stream",
          "text": [
            "Hello, my friend.\n"
          ]
        }
      ],
      "source": [
        "def hello():\n",
        "    print(\"Hello, my friend.\")\n",
        "\n",
        "hello()"
      ]
    },
    {
      "cell_type": "code",
      "execution_count": null,
      "metadata": {
        "id": "DhKTGCD9QpAC",
        "outputId": "bfe8e1c1-ab4a-44e5-ff13-1e8077ec6e4e"
      },
      "outputs": [
        {
          "name": "stdout",
          "output_type": "stream",
          "text": [
            "Hello, Emilio\n",
            "Hello, my friend\n"
          ]
        }
      ],
      "source": [
        "def hello(name=\"my friend\"):\n",
        "    print(\"Hello, \" + name)\n",
        "\n",
        "hello(\"Emilio\")\n",
        "hello()"
      ]
    },
    {
      "cell_type": "code",
      "execution_count": null,
      "metadata": {
        "id": "dYCOHeZxQpAJ",
        "outputId": "50221483-c6be-4f7c-999b-005f802791ba"
      },
      "outputs": [
        {
          "data": {
            "text/plain": [
              "8"
            ]
          },
          "execution_count": 46,
          "metadata": {},
          "output_type": "execute_result"
        }
      ],
      "source": [
        "def double(x):\n",
        "    \"\"\"this is where you put an optional docstring\n",
        "    that explains what the function does.\n",
        "    for example, this function multiplies its input by 2\"\"\"\n",
        "    return x * 2\n",
        "\n",
        "double(4)"
      ]
    },
    {
      "cell_type": "code",
      "execution_count": null,
      "metadata": {
        "id": "grAJAW1LQpAK",
        "outputId": "067b60e9-a1d8-4e4e-f09a-b12b25b6b2b3"
      },
      "outputs": [
        {
          "name": "stdout",
          "output_type": "stream",
          "text": [
            "1\n",
            "-8\n",
            "-5\n",
            "0\n"
          ]
        }
      ],
      "source": [
        "def subtract(a=0, b=0):\n",
        "    return a - b\n",
        "\n",
        "print(subtract(5, 4))\n",
        "print(subtract(0, 8))\n",
        "print(subtract(b=5))\n",
        "print(subtract())"
      ]
    },
    {
      "cell_type": "markdown",
      "metadata": {
        "id": "4rcet4SKQpAK"
      },
      "source": [
        "## Strings\n",
        "\n",
        "- Strings are declared using either single quotes or double quotes."
      ]
    },
    {
      "cell_type": "code",
      "execution_count": null,
      "metadata": {
        "id": "mnBjOyuMQpAL",
        "outputId": "b2957a3c-ff5a-4cc5-a5d7-6f63ab3aa35d"
      },
      "outputs": [
        {
          "data": {
            "text/plain": [
              "True"
            ]
          },
          "execution_count": 49,
          "metadata": {},
          "output_type": "execute_result"
        }
      ],
      "source": [
        "single_quoted_string = 'data science'\n",
        "double_quoted_string = \"data science\"\n",
        "\n",
        "single_quoted_string == double_quoted_string"
      ]
    },
    {
      "cell_type": "markdown",
      "metadata": {
        "id": "QJ2RocMLQpAL"
      },
      "source": [
        "- To use a quotation mark within a string, you can either mix single and double quotes or use an escape character."
      ]
    },
    {
      "cell_type": "code",
      "execution_count": null,
      "metadata": {
        "id": "EODY29UbQpAL",
        "outputId": "7979aa1b-a68b-4b4d-d901-e0a37033f772"
      },
      "outputs": [
        {
          "ename": "SyntaxError",
          "evalue": "unterminated string literal (detected at line 1) (1179448193.py, line 1)",
          "output_type": "error",
          "traceback": [
            "\u001b[1;36m  Cell \u001b[1;32mIn[50], line 1\u001b[1;36m\u001b[0m\n\u001b[1;33m    string = 'I'm a python.'\u001b[0m\n\u001b[1;37m                           ^\u001b[0m\n\u001b[1;31mSyntaxError\u001b[0m\u001b[1;31m:\u001b[0m unterminated string literal (detected at line 1)\n"
          ]
        }
      ],
      "source": [
        "string = 'I'm a python.'\n",
        "print(string)"
      ]
    },
    {
      "cell_type": "code",
      "execution_count": null,
      "metadata": {
        "id": "1lkzjoYfQpAL",
        "outputId": "af5b65bb-9f0e-45f0-ff76-484096c7c38a"
      },
      "outputs": [
        {
          "name": "stdout",
          "output_type": "stream",
          "text": [
            "I'm a python.\n"
          ]
        }
      ],
      "source": [
        "string = \"I'm a python.\"\n",
        "print(string)"
      ]
    },
    {
      "cell_type": "code",
      "execution_count": null,
      "metadata": {
        "id": "lsZxn5D9QpAM",
        "outputId": "bca35594-bdcf-4d50-ccd0-f98e51afcb70"
      },
      "outputs": [
        {
          "name": "stdout",
          "output_type": "stream",
          "text": [
            "I'm a python.\n"
          ]
        }
      ],
      "source": [
        "string = 'I\\'m a python.'\n",
        "print(string)"
      ]
    },
    {
      "cell_type": "markdown",
      "metadata": {
        "id": "QSFuq2iFQpAM"
      },
      "source": [
        "- \\t : tab\n",
        "- \\n or \\r : newline\n",
        "\n",
        "(Ref.) https://docs.python.org/2.0/ref/strings.html"
      ]
    },
    {
      "cell_type": "code",
      "execution_count": null,
      "metadata": {
        "id": "X0mAn0GTQpAM",
        "outputId": "b5a6262b-b77e-4b33-da8a-67aaa8924eaa"
      },
      "outputs": [
        {
          "name": "stdout",
          "output_type": "stream",
          "text": [
            "I'm\t\tpython.\n",
            "This is the list of food I like:\n",
            "\t* Rat\n",
            "\t* Rabbit\n",
            "\t* Data\n"
          ]
        }
      ],
      "source": [
        "tabstring1 = \"I'm\\t\\tpython.\"\n",
        "tabstring2 = \"This is the list of food I like:\\n\\t* Rat\\n\\t* Rabbit\\n\\t* Data\"\n",
        "print(tabstring1)\n",
        "print(tabstring2)"
      ]
    },
    {
      "cell_type": "markdown",
      "metadata": {
        "id": "1ktgu6NjQpAM"
      },
      "source": [
        "- Strings can be operated on using operators.\n"
      ]
    },
    {
      "cell_type": "code",
      "execution_count": null,
      "metadata": {
        "id": "kCDQRWKHQpAN",
        "outputId": "adf9905c-a1dc-49b3-d5cc-5d2df8bed471"
      },
      "outputs": [
        {
          "name": "stdout",
          "output_type": "stream",
          "text": [
            "I like Python.\n",
            "python python python \n"
          ]
        },
        {
          "ename": "TypeError",
          "evalue": "can only concatenate str (not \"int\") to str",
          "output_type": "error",
          "traceback": [
            "\u001b[1;31m---------------------------------------------------------------------------\u001b[0m",
            "\u001b[1;31mTypeError\u001b[0m                                 Traceback (most recent call last)",
            "Cell \u001b[1;32mIn[55], line 3\u001b[0m\n\u001b[0;32m      1\u001b[0m \u001b[38;5;28mprint\u001b[39m(\u001b[38;5;124m\"\u001b[39m\u001b[38;5;124mI like \u001b[39m\u001b[38;5;124m\"\u001b[39m \u001b[38;5;241m+\u001b[39m \u001b[38;5;124m\"\u001b[39m\u001b[38;5;124mPython.\u001b[39m\u001b[38;5;124m\"\u001b[39m)\n\u001b[0;32m      2\u001b[0m \u001b[38;5;28mprint\u001b[39m(\u001b[38;5;124m\"\u001b[39m\u001b[38;5;124mpython \u001b[39m\u001b[38;5;124m\"\u001b[39m \u001b[38;5;241m*\u001b[39m \u001b[38;5;241m3\u001b[39m)\n\u001b[1;32m----> 3\u001b[0m \u001b[38;5;28mprint\u001b[39m(\u001b[38;5;124;43m\"\u001b[39;49m\u001b[38;5;124;43mpython \u001b[39;49m\u001b[38;5;124;43m\"\u001b[39;49m\u001b[43m \u001b[49m\u001b[38;5;241;43m+\u001b[39;49m\u001b[43m \u001b[49m\u001b[38;5;241;43m3\u001b[39;49m)\n",
            "\u001b[1;31mTypeError\u001b[0m: can only concatenate str (not \"int\") to str"
          ]
        }
      ],
      "source": [
        "print(\"I like \" + \"Python.\")\n",
        "print(\"python \" * 3)\n",
        "print(\"python \" + 3)"
      ]
    },
    {
      "cell_type": "code",
      "execution_count": null,
      "metadata": {
        "id": "xh4Bshc8QpAN",
        "outputId": "c716a587-6b73-4497-f10d-1af2294f636c"
      },
      "outputs": [
        {
          "name": "stdout",
          "output_type": "stream",
          "text": [
            "python 3\n"
          ]
        }
      ],
      "source": [
        "print(\"python \" + str(3)) # make 3 string first"
      ]
    },
    {
      "cell_type": "markdown",
      "metadata": {
        "id": "PMrF3NbPQpAN"
      },
      "source": [
        "- When creating a multi-line string, you can use the triple quotes (\"\"\") that were used to make comments.\n"
      ]
    },
    {
      "cell_type": "code",
      "execution_count": null,
      "metadata": {
        "id": "y7fTIXUYQpAX",
        "outputId": "bb544d83-c996-4441-83af-7e8306c285ff"
      },
      "outputs": [
        {
          "name": "stdout",
          "output_type": "stream",
          "text": [
            "This is the first line.\n",
            "and this is the second line\n",
            "    and this is the third line\n"
          ]
        }
      ],
      "source": [
        "multi_line_string = \"\"\"This is the first line.\n",
        "and this is the second line\n",
        "    and this is the third line\"\"\"\n",
        "print(multi_line_string)"
      ]
    },
    {
      "cell_type": "markdown",
      "metadata": {
        "id": "3wbOh49wQpAY"
      },
      "source": [
        "- To access elements within a string, you use an index just like with a list.\n",
        "- To explicitly convert to a list, you use the list() function.\n",
        "- (The usage of a list is discussed in more detail in the section below.)"
      ]
    },
    {
      "cell_type": "code",
      "execution_count": null,
      "metadata": {
        "id": "Rn6yAD2QQpAY",
        "outputId": "e5d2fec2-4c9e-4a6e-efbf-8da0d9781cfc"
      },
      "outputs": [
        {
          "name": "stdout",
          "output_type": "stream",
          "text": [
            "h\n",
            "o\n",
            "hel\n",
            "lo python\n",
            "lo\n"
          ]
        },
        {
          "data": {
            "text/plain": [
              "['h', 'e', 'l', 'l', 'o', ' ', 'p', 'y', 't', 'h', 'o', 'n']"
            ]
          },
          "execution_count": 63,
          "metadata": {},
          "output_type": "execute_result"
        }
      ],
      "source": [
        "myString = 'hello python'\n",
        "print(myString[0])\n",
        "print(myString[4])\n",
        "print(myString[:3])\n",
        "print(myString[3:])\n",
        "print(myString[3:5])\n",
        "list(myString)"
      ]
    },
    {
      "cell_type": "markdown",
      "metadata": {
        "id": "4gpg2CBgQpAZ"
      },
      "source": [
        "## Date and Time\n",
        "\n",
        "- The datetime module that Python has by default supports datetime, date, and time types.\n",
        "- As can be inferred from the name, the datetime type stores both date and time information and is the mainly used data type.\n",
        "\n"
      ]
    },
    {
      "cell_type": "code",
      "execution_count": null,
      "metadata": {
        "id": "VGQOiXblQpAZ",
        "outputId": "9bf9fb11-e882-44f2-d713-7e68579c5db9"
      },
      "outputs": [
        {
          "name": "stdout",
          "output_type": "stream",
          "text": [
            "2023-08-21 12:34:56\n"
          ]
        }
      ],
      "source": [
        "from datetime import datetime, date, time\n",
        "\n",
        "# Year, Month, Day, Hour, Minute, Second\n",
        "dt = datetime(2023, 8, 21, 12, 34, 56)\n",
        "\n",
        "print(dt)"
      ]
    },
    {
      "cell_type": "code",
      "execution_count": null,
      "metadata": {
        "id": "fnhaYr2mQpAa",
        "outputId": "e2428647-2c5d-4ea3-da41-e84b42b9e154"
      },
      "outputs": [
        {
          "name": "stdout",
          "output_type": "stream",
          "text": [
            "21\n",
            "8\n",
            "34\n"
          ]
        }
      ],
      "source": [
        "print(dt.day)\n",
        "print(dt.month)\n",
        "print(dt.minute)"
      ]
    },
    {
      "cell_type": "code",
      "execution_count": null,
      "metadata": {
        "id": "73117cRlQpAa",
        "outputId": "8f4ab2e6-f732-4c8b-ca07-3b327c2dfc89"
      },
      "outputs": [
        {
          "name": "stdout",
          "output_type": "stream",
          "text": [
            "2023-08-21\n",
            "12:34:56\n"
          ]
        }
      ],
      "source": [
        "print(dt.date())\n",
        "print(dt.time())"
      ]
    },
    {
      "cell_type": "markdown",
      "metadata": {
        "id": "nGvegh1-QpAa"
      },
      "source": [
        "- The strftime method converts datetime into a string. It is necessary to understand the formatting method.\n",
        "-\n",
        "(Ref.) http://strftime.org/"
      ]
    },
    {
      "cell_type": "code",
      "execution_count": null,
      "metadata": {
        "id": "mn22qidaQpAb",
        "outputId": "996ea4e2-1b04-4dc9-bd0a-720be252e64c"
      },
      "outputs": [
        {
          "data": {
            "text/plain": [
              "'08/21/2023 12:34 (Monday)'"
            ]
          },
          "execution_count": 71,
          "metadata": {},
          "output_type": "execute_result"
        }
      ],
      "source": [
        "dt.strftime(\"%m/%d/%Y %H:%M (%A)\")"
      ]
    },
    {
      "cell_type": "code",
      "execution_count": null,
      "metadata": {
        "id": "pwWb5U3gQpAb",
        "outputId": "b94d33cf-b9ae-45db-ee33-65d0042278cc"
      },
      "outputs": [
        {
          "data": {
            "text/plain": [
              "datetime.datetime(2023, 8, 16, 12, 37, 32, 294472)"
            ]
          },
          "execution_count": 85,
          "metadata": {},
          "output_type": "execute_result"
        }
      ],
      "source": [
        "dt2 = dt.now()\n",
        "dt2\n",
        "\n",
        "# awkwardly big number indicates microsecond"
      ]
    },
    {
      "cell_type": "code",
      "execution_count": null,
      "metadata": {
        "id": "DQAlzMu8QpAb",
        "outputId": "3b24bd40-e4ab-4f11-fde8-e05634bc9637"
      },
      "outputs": [
        {
          "name": "stdout",
          "output_type": "stream",
          "text": [
            "-5 days, 0:02:36.294472\n",
            "-5 days\n",
            "156 seconds\n"
          ]
        }
      ],
      "source": [
        "delta = dt2 - dt\n",
        "\n",
        "print(delta)\n",
        "\n",
        "print(f\"{delta.days} days\")\n",
        "print(f\"{delta.seconds} seconds\")"
      ]
    },
    {
      "cell_type": "markdown",
      "metadata": {
        "id": "PqJVuZ99QpAb"
      },
      "source": [
        "## Exceptions\n",
        "\n",
        "- While programming, errors related to data operations always occur.\n",
        "- There are various types of errors, and typically the program terminates when an error occurs.\n",
        "- To continue the program without termination after handling the error, the feature called \"exception\" is used.\n",
        "- For example, performing 0/0 will cause a ZeroDivisionError and the program will terminate, but if you handle the exception, the program will continue after processing the error.\n",
        "- Let's check the following code.\n",
        "\n",
        "\n"
      ]
    },
    {
      "cell_type": "code",
      "execution_count": null,
      "metadata": {
        "id": "jX_fjN4DQpAc",
        "outputId": "9b8dec8d-a98e-40e6-f00a-252f7702f556"
      },
      "outputs": [
        {
          "ename": "ZeroDivisionError",
          "evalue": "division by zero",
          "output_type": "error",
          "traceback": [
            "\u001b[1;31m---------------------------------------------------------------------------\u001b[0m",
            "\u001b[1;31mZeroDivisionError\u001b[0m                         Traceback (most recent call last)",
            "Cell \u001b[1;32mIn[88], line 1\u001b[0m\n\u001b[1;32m----> 1\u001b[0m \u001b[38;5;28mprint\u001b[39m(\u001b[38;5;241;43m0\u001b[39;49m\u001b[38;5;241;43m/\u001b[39;49m\u001b[38;5;241;43m0\u001b[39;49m)\n\u001b[0;32m      2\u001b[0m \u001b[38;5;28mprint\u001b[39m(\u001b[38;5;124m\"\u001b[39m\u001b[38;5;124mFinished.\u001b[39m\u001b[38;5;124m\"\u001b[39m)\n",
            "\u001b[1;31mZeroDivisionError\u001b[0m: division by zero"
          ]
        }
      ],
      "source": [
        "print(0/0)\n",
        "print(\"Finished.\")"
      ]
    },
    {
      "cell_type": "code",
      "execution_count": null,
      "metadata": {
        "id": "V9VDrHPrQpAc",
        "outputId": "d9958bb6-d5d6-43b2-e00e-5063a0030bac"
      },
      "outputs": [
        {
          "name": "stdout",
          "output_type": "stream",
          "text": [
            "What is happening\n",
            "Finished.\n"
          ]
        }
      ],
      "source": [
        "try:\n",
        "    print(0/0)\n",
        "except:\n",
        "    print(\"What is happening?\")\n",
        "\n",
        "print(\"Finished.\")"
      ]
    },
    {
      "cell_type": "code",
      "execution_count": null,
      "metadata": {
        "id": "s5bJlm5QQpAc",
        "outputId": "8d94982a-5d21-40c3-9f83-d2b556ee6d55"
      },
      "outputs": [
        {
          "name": "stdout",
          "output_type": "stream",
          "text": [
            "What is happening?\n",
            "Finished.\n"
          ]
        }
      ],
      "source": [
        "try:\n",
        "    print(0/0)\n",
        "except ZeroDivisionError:\n",
        "    print(\"What is happening?\")\n",
        "\n",
        "print(\"Finished.\")"
      ]
    },
    {
      "cell_type": "code",
      "execution_count": null,
      "metadata": {
        "id": "1Q93uRJrQpAd",
        "outputId": "37871d04-af4d-4c29-f108-32b5d324e75b"
      },
      "outputs": [
        {
          "name": "stdout",
          "output_type": "stream",
          "text": [
            "division by zero\n",
            "Finished.\n"
          ]
        }
      ],
      "source": [
        "try:\n",
        "    print(0/0)\n",
        "except ZeroDivisionError as e:\n",
        "    print(e)\n",
        "\n",
        "print(\"Finished.\")"
      ]
    },
    {
      "cell_type": "markdown",
      "metadata": {
        "collapsed": true,
        "jupyter": {
          "outputs_hidden": true
        },
        "id": "XXFklesiQpAd"
      },
      "source": [
        "## Lists\n",
        "\n",
        "- In Python, the most basic data structure is the List, a simple ordered collection.\n",
        "- It is similar to an array in other languages, but it is implemented with more diverse functions related to the insertion, deletion, and merging of data.\n",
        "- Generally, in other languages, you must specify the data type to be stored when creating a list or array, but in recent languages, including Python, you don't need to specifically designate the data type.\n",
        "\n",
        "\n"
      ]
    },
    {
      "cell_type": "code",
      "execution_count": null,
      "metadata": {
        "id": "gp4uiTavQpAd",
        "outputId": "ff8f4d21-a5a3-4561-c124-c27e0f7cd0a7"
      },
      "outputs": [
        {
          "name": "stdout",
          "output_type": "stream",
          "text": [
            "[1, 2, 3]\n"
          ]
        }
      ],
      "source": [
        "integer_list = [1, 2, 3]\n",
        "print(integer_list)"
      ]
    },
    {
      "cell_type": "code",
      "execution_count": null,
      "metadata": {
        "id": "mtmCsBkaQpAe",
        "outputId": "c62759e1-3fe6-4640-9219-aebc316d855f"
      },
      "outputs": [
        {
          "name": "stdout",
          "output_type": "stream",
          "text": [
            "['string', 0.1, True]\n"
          ]
        }
      ],
      "source": [
        "# Different types of data can be placed in a single list.\n",
        "heterogeneous_list = [\"string\", 0.1, True]\n",
        "print(heterogeneous_list)"
      ]
    },
    {
      "cell_type": "code",
      "execution_count": null,
      "metadata": {
        "id": "7NQa01QgQpAe",
        "outputId": "eb8dc4d6-6de1-49de-d90e-e35befd3d474"
      },
      "outputs": [
        {
          "name": "stdout",
          "output_type": "stream",
          "text": [
            "[[1, 2, 3], ['string', 0.1, True], []]\n"
          ]
        }
      ],
      "source": [
        "# A list can contain another list.\n",
        "list_of_lists = [ integer_list, heterogeneous_list, [] ]\n",
        "print(list_of_lists)"
      ]
    },
    {
      "cell_type": "code",
      "execution_count": null,
      "metadata": {
        "id": "Y4Giih67QpAe",
        "outputId": "94ac7355-3485-4d3e-d749-7bcfa692ee75"
      },
      "outputs": [
        {
          "name": "stdout",
          "output_type": "stream",
          "text": [
            "3 6\n"
          ]
        }
      ],
      "source": [
        "list_length = len(integer_list)   # equals 3\n",
        "list_sum = sum(integer_list)      # equals 6\n",
        "print(list_length, list_sum)"
      ]
    },
    {
      "cell_type": "markdown",
      "metadata": {
        "id": "GWDQY7kRQpAe"
      },
      "source": [
        "- To store and retrieve data in a List, an index is used. **The index starts from 0.**\n",
        "- I am going to repeat again, **the index starts from 0.**\n",
        "\n",
        "\n"
      ]
    },
    {
      "cell_type": "code",
      "execution_count": null,
      "metadata": {
        "id": "ZWnxvAatQpAf",
        "outputId": "68104d8f-6809-4dae-fa83-42ac8a5d77ec"
      },
      "outputs": [
        {
          "name": "stdout",
          "output_type": "stream",
          "text": [
            "[0, 1, 2, 3, 4, 5, 6, 7, 8, 9]\n"
          ]
        }
      ],
      "source": [
        "x = [0, 1, 2, 3, 4, 5, 6, 7, 8, 9]     # is the list [0, 1, ..., 9]\n",
        "print(x)"
      ]
    },
    {
      "cell_type": "code",
      "execution_count": null,
      "metadata": {
        "id": "gDZOsDEtQpAf",
        "outputId": "d607ba3a-35e2-4874-a06c-44adfef3af4a"
      },
      "outputs": [
        {
          "name": "stdout",
          "output_type": "stream",
          "text": [
            "0 1 9 8\n"
          ]
        }
      ],
      "source": [
        "a = x[0]         # equals 0, lists are 0-indexed\n",
        "b = x[1]         # equals 1\n",
        "c = x[-1]        # equals 9, last element\n",
        "d = x[-2]        # equals 8, next-to-last element\n",
        "print(a, b, c, d)"
      ]
    },
    {
      "cell_type": "code",
      "execution_count": null,
      "metadata": {
        "id": "WLQG3kbzQpAf",
        "outputId": "5c05129a-87e3-44e9-ee92-0a5834f5a447"
      },
      "outputs": [
        {
          "name": "stdout",
          "output_type": "stream",
          "text": [
            "[-1, 1, 2, 3, 4, 5, 6, 7, 100, 9]\n"
          ]
        }
      ],
      "source": [
        "x[0] = -1         # now x is [-1, 1, 2, 3, ..., 9]\n",
        "x[-2] = 100       # now x is [-1, 1, 2, ..., 7, 100, 9]\n",
        "print(x)"
      ]
    },
    {
      "cell_type": "markdown",
      "metadata": {
        "id": "SZ8_hgqrQpAf"
      },
      "source": [
        "- You can slice a list using square brackets.\n",
        "\n",
        "\n"
      ]
    },
    {
      "cell_type": "code",
      "execution_count": null,
      "metadata": {
        "id": "iH7UL3iUQpAf",
        "outputId": "89b25c03-4ba6-49c9-f4ea-e248382d2b19"
      },
      "outputs": [
        {
          "name": "stdout",
          "output_type": "stream",
          "text": [
            "[-1, 1, 2] [3, 4, 5, 6, 7, 100, 9] [1, 2, 3, 4] [7, 100, 9] [1, 2, 3, 4, 5, 6, 7, 100] [-1, 1, 2, 3, 4, 5, 6, 7, 100, 9]\n"
          ]
        }
      ],
      "source": [
        "first_three = x[:3]     # [-1, 1, 2]\n",
        "three_to_end = x[3:]    # [3, 4, ..., 7, 100, 9]\n",
        "one_to_four = x[1:5]    # [1, 2, 3, 4]\n",
        "last_three = x[-3:]     # [7, 100, 9]\n",
        "without_first_and_last = x[1:-1]   # [1, 2, ..., 7, 100]\n",
        "copy_of_x = x[:]        # [-1, 1, 2, ..., 7, 100, 9]\n",
        "print(first_three, three_to_end, one_to_four, last_three, without_first_and_last, copy_of_x)"
      ]
    },
    {
      "cell_type": "markdown",
      "metadata": {
        "id": "NdGo9Y8PQpAg"
      },
      "source": [
        "- To combine two lists, you can use the + operator or the .extend function. (As previously discussed) The .append function adds one element to the end.\n",
        "\n",
        "\n"
      ]
    },
    {
      "cell_type": "code",
      "execution_count": null,
      "metadata": {
        "id": "_tBiLlTyQpAg",
        "outputId": "d93cd320-5771-4aa6-9686-aa4035f79807"
      },
      "outputs": [
        {
          "name": "stdout",
          "output_type": "stream",
          "text": [
            "[1, 2, 3, 4, 5, 6]\n"
          ]
        }
      ],
      "source": [
        "x = [1,2,3]\n",
        "x.extend([4, 5, 6])    # x is now [1,2,3,4,5,6]\n",
        "print(x)"
      ]
    },
    {
      "cell_type": "code",
      "execution_count": null,
      "metadata": {
        "id": "TfySuQh2QpAg",
        "outputId": "5d9869f4-fc44-48db-9097-868dab4c76e8"
      },
      "outputs": [
        {
          "name": "stdout",
          "output_type": "stream",
          "text": [
            "[1, 2, 3, 4, 5, 6]\n"
          ]
        }
      ],
      "source": [
        "x = [1,2,3]\n",
        "y = x + [4, 5, 6]      # y is [1, 2, 3, 4, 5, 6]; x is unchanged\n",
        "print(y)"
      ]
    },
    {
      "cell_type": "code",
      "execution_count": null,
      "metadata": {
        "id": "ern7J4QzQpAg",
        "outputId": "93407d33-ec71-4206-8e11-525f06c9f5a3"
      },
      "outputs": [
        {
          "name": "stdout",
          "output_type": "stream",
          "text": [
            "[1, 2, 3, 0]\n"
          ]
        }
      ],
      "source": [
        "x = [1, 2, 3]\n",
        "x.append(0)\n",
        "print(x)"
      ]
    },
    {
      "cell_type": "markdown",
      "metadata": {
        "id": "5bKoZUyBQpAg"
      },
      "source": [
        "- You can determine whether a specific element is included in a list by using the 'in' operator.\n",
        "\n",
        "\n"
      ]
    },
    {
      "cell_type": "code",
      "execution_count": null,
      "metadata": {
        "id": "wbluJV9lQpAg",
        "outputId": "cf49097e-11c0-4af1-edec-1b175fdb3940"
      },
      "outputs": [
        {
          "name": "stdout",
          "output_type": "stream",
          "text": [
            "True\n",
            "False\n"
          ]
        }
      ],
      "source": [
        "print(1 in [1, 2, 3])  # True\n",
        "print(0 in [1, 2, 3])  # False"
      ]
    },
    {
      "cell_type": "markdown",
      "metadata": {
        "id": "-KAUhKcqQpAh"
      },
      "source": [
        "- You can create a sequence of consecutive numbers using the range() function.\n",
        "- However, since the sequence created by range() is not a list, you must convert it using the list() function if you want to use it like a list.\n",
        "\n",
        "\n"
      ]
    },
    {
      "cell_type": "code",
      "execution_count": null,
      "metadata": {
        "id": "JTDAuCj9QpAh",
        "outputId": "6004b756-4a29-4611-f831-930a1bfb4398"
      },
      "outputs": [
        {
          "name": "stdout",
          "output_type": "stream",
          "text": [
            "range(0, 10)\n"
          ]
        }
      ],
      "source": [
        "a = range(10)\n",
        "print(a)"
      ]
    },
    {
      "cell_type": "code",
      "execution_count": null,
      "metadata": {
        "id": "tMbWPvE1QpAh",
        "outputId": "eeb1e343-7aaf-45ff-9bcb-cb51418665f3"
      },
      "outputs": [
        {
          "name": "stdout",
          "output_type": "stream",
          "text": [
            "[0, 1, 2, 3, 4, 5, 6, 7, 8, 9]\n"
          ]
        }
      ],
      "source": [
        "b = list(a)\n",
        "print(b)"
      ]
    },
    {
      "cell_type": "markdown",
      "metadata": {
        "collapsed": true,
        "jupyter": {
          "outputs_hidden": true
        },
        "id": "Ga76ebC9QpAh"
      },
      "source": [
        "## Tuples\n",
        "\n",
        "- A Tuple is a unique data type in Python that has almost the same properties as a list.\n",
        "- Therefore, you can handle data in the same way as a list.\n",
        "- The difference between a Tuple and a list is that you cannot modify the contents of a Tuple.\n",
        "-\n",
        "Tuples can be created with or without parentheses. Lists use square brackets [].\n",
        "\n",
        "\n",
        "\n",
        "\n"
      ]
    },
    {
      "cell_type": "code",
      "execution_count": null,
      "metadata": {
        "id": "lT4-jCX4QpAh",
        "outputId": "bb115ddb-8203-40c5-de64-f64e3d0dd41f"
      },
      "outputs": [
        {
          "name": "stdout",
          "output_type": "stream",
          "text": [
            "[1, 2]\n",
            "(1, 2)\n",
            "(1, 2)\n"
          ]
        },
        {
          "data": {
            "text/plain": [
              "True"
            ]
          },
          "execution_count": 122,
          "metadata": {},
          "output_type": "execute_result"
        }
      ],
      "source": [
        "my_list = [1, 2]\n",
        "my_tuple1 = (1, 2)\n",
        "my_tuple2 = 1, 2\n",
        "\n",
        "print(my_list)\n",
        "print(my_tuple1)\n",
        "print(my_tuple2)\n",
        "\n",
        "my_tuple1 == my_tuple2"
      ]
    },
    {
      "cell_type": "code",
      "execution_count": null,
      "metadata": {
        "id": "cXBEy0oaQpAh",
        "outputId": "b7be9ac3-957f-4481-efc1-202b65f9934e"
      },
      "outputs": [
        {
          "name": "stdout",
          "output_type": "stream",
          "text": [
            "[1, 3]\n"
          ]
        }
      ],
      "source": [
        "my_list[1] = 3\n",
        "print(my_list)"
      ]
    },
    {
      "cell_type": "code",
      "execution_count": null,
      "metadata": {
        "id": "_fMrdCMMQpAh",
        "outputId": "cf242261-11ca-427d-8d10-a69c38f4dcdc"
      },
      "outputs": [
        {
          "ename": "TypeError",
          "evalue": "'tuple' object does not support item assignment",
          "output_type": "error",
          "traceback": [
            "\u001b[1;31m---------------------------------------------------------------------------\u001b[0m",
            "\u001b[1;31mTypeError\u001b[0m                                 Traceback (most recent call last)",
            "Cell \u001b[1;32mIn[124], line 1\u001b[0m\n\u001b[1;32m----> 1\u001b[0m \u001b[43mmy_tuple1\u001b[49m\u001b[43m[\u001b[49m\u001b[38;5;241;43m1\u001b[39;49m\u001b[43m]\u001b[49m \u001b[38;5;241m=\u001b[39m \u001b[38;5;241m3\u001b[39m\n\u001b[0;32m      2\u001b[0m \u001b[38;5;28mprint\u001b[39m(my_tuple1)\n",
            "\u001b[1;31mTypeError\u001b[0m: 'tuple' object does not support item assignment"
          ]
        }
      ],
      "source": [
        "my_tuple1[1] = 3\n",
        "print(my_tuple1)"
      ]
    },
    {
      "cell_type": "markdown",
      "metadata": {
        "id": "CHu1idyBQpAh"
      },
      "source": [
        "- Running the above code will result in a TypeError. In this case, creating an exception allows the program to continue without termination and handle the error.\n",
        "\n",
        "\n"
      ]
    },
    {
      "cell_type": "code",
      "execution_count": null,
      "metadata": {
        "id": "qkV_cne9QpAi",
        "outputId": "bfbc033f-c9da-4fcb-9474-33bc2ae6d9f0"
      },
      "outputs": [
        {
          "name": "stdout",
          "output_type": "stream",
          "text": [
            "You cannot modify an element of a tuple.\n",
            "(1, 2)\n"
          ]
        }
      ],
      "source": [
        "try:\n",
        "    my_tuple1[1] = 3\n",
        "except TypeError:\n",
        "    print(\"You cannot modify an element of a tuple.\")\n",
        "\n",
        "print(my_tuple1)"
      ]
    },
    {
      "cell_type": "markdown",
      "metadata": {
        "id": "Au2trMXYQpAi"
      },
      "source": [
        "- Tuples are also used as return values in functions.\n",
        "- Unlike in most other languages where a function can only return one value, in Python, a tuple can be used to return multiple values.\n",
        "\n",
        "\n"
      ]
    },
    {
      "cell_type": "code",
      "execution_count": null,
      "metadata": {
        "id": "w49_4TYvQpAi",
        "outputId": "83ce7f58-3241-4536-cfb3-3e1da99ba79e"
      },
      "outputs": [
        {
          "name": "stdout",
          "output_type": "stream",
          "text": [
            "(5, 6)\n",
            "15 50\n"
          ]
        }
      ],
      "source": [
        "def sum_and_product(x, y):\n",
        "    return (x + y), (x * y)\n",
        "\n",
        "sp = sum_and_product(2, 3)\n",
        "print(sp)\n",
        "\n",
        "s, p = sum_and_product(5, 10)\n",
        "print(s, p)"
      ]
    },
    {
      "cell_type": "markdown",
      "metadata": {
        "id": "lUlKa_fOQpAi"
      },
      "source": [
        "- In the example above, s, p = sum_and_product(5, 10) is an instance of multiple assignment.\n",
        "- Tuples and Lists allow you to assign elements to multiple variables simultaneously.\n",
        "\n",
        "\n"
      ]
    },
    {
      "cell_type": "code",
      "execution_count": null,
      "metadata": {
        "id": "4L_9WGekQpAi",
        "outputId": "5a4228c7-b9eb-4eb7-939b-f5d33cae44ab"
      },
      "outputs": [
        {
          "name": "stdout",
          "output_type": "stream",
          "text": [
            "1 2 4 3\n"
          ]
        }
      ],
      "source": [
        "x, y = (1, 2)\n",
        "a, b = [4, 3]\n",
        "print(x, y, a, b)"
      ]
    },
    {
      "cell_type": "markdown",
      "metadata": {
        "id": "Xkarz4jWQpAi"
      },
      "source": [
        "- When programming, there are often instances where the data contained in variables needs to be swapped.\n",
        "- In Python, this operation can be performed as below:"
      ]
    },
    {
      "cell_type": "code",
      "execution_count": null,
      "metadata": {
        "id": "cbb4nhkfQpAi",
        "outputId": "45d58670-792e-4aed-9a3a-7569043ffd2c"
      },
      "outputs": [
        {
          "name": "stdout",
          "output_type": "stream",
          "text": [
            "10 5\n",
            "5 10\n"
          ]
        }
      ],
      "source": [
        "# pythonic way\n",
        "a, b = 10, 5\n",
        "print(a, b)\n",
        "a, b = b, a\n",
        "print(a, b)"
      ]
    },
    {
      "cell_type": "markdown",
      "metadata": {
        "id": "cukys7gHQpAi"
      },
      "source": [
        "## Dictionaries\n",
        "\n",
        "- Dictionaries are one of the most frequently used data types in data processing.\n",
        "- While lists and tuples only perform the role of storing data in order, dictionaries store data in a key-value format.\n",
        "- Key-value is a common method we often use for storing data. For example, if you record\n",
        "  \n",
        "    Name: Emilio Ferrara  \n",
        "    Course: COMM-557\n",
        "\n",
        "- Here, \"Name\" and \"Course\" are keys, and the values after the colon are the corresponding values.\n",
        "\n"
      ]
    },
    {
      "cell_type": "code",
      "execution_count": null,
      "metadata": {
        "id": "mjzrsG6CQpAj",
        "outputId": "88534584-fc20-462d-c0ea-bae685dc1f70"
      },
      "outputs": [
        {
          "name": "stdout",
          "output_type": "stream",
          "text": [
            "{}\n",
            "{}\n",
            "{'Joel': 80, 'Tim': 90}\n"
          ]
        }
      ],
      "source": [
        "empty_dict1 = {}\n",
        "empty_dict2 = dict()\n",
        "grades = { \"Joel\":80, \"Tim\":90 }\n",
        "\n",
        "print(empty_dict1)\n",
        "print(empty_dict2)\n",
        "print(grades)"
      ]
    },
    {
      "cell_type": "markdown",
      "metadata": {
        "id": "9sN3Pp9gQpAj"
      },
      "source": [
        "- In Python, dictionaries are collections that store key-value pairs.\n",
        "- Unlike lists and tuples, where you access elements by their index (an integer), dictionaries allow you to access values using keys, which can be any immutable type, such as strings or numbers.\n",
        "- It's essential to note that keys are case-sensitive, so 'Name' and 'name' would be treated as different keys in the dictionary.\n",
        "\n",
        "\n",
        "\n"
      ]
    },
    {
      "cell_type": "code",
      "execution_count": null,
      "metadata": {
        "id": "rJISK-7dQpAj",
        "outputId": "bbf951cf-0d28-45aa-c058-941b99f198a3"
      },
      "outputs": [
        {
          "ename": "KeyError",
          "evalue": "'joel'",
          "output_type": "error",
          "traceback": [
            "\u001b[1;31m---------------------------------------------------------------------------\u001b[0m",
            "\u001b[1;31mKeyError\u001b[0m                                  Traceback (most recent call last)",
            "Cell \u001b[1;32mIn[134], line 2\u001b[0m\n\u001b[0;32m      1\u001b[0m joel_grade \u001b[38;5;241m=\u001b[39m grades[\u001b[38;5;124m\"\u001b[39m\u001b[38;5;124mJoel\u001b[39m\u001b[38;5;124m\"\u001b[39m]\n\u001b[1;32m----> 2\u001b[0m joel_grade \u001b[38;5;241m=\u001b[39m \u001b[43mgrades\u001b[49m\u001b[43m[\u001b[49m\u001b[38;5;124;43m\"\u001b[39;49m\u001b[38;5;124;43mjoel\u001b[39;49m\u001b[38;5;124;43m\"\u001b[39;49m\u001b[43m]\u001b[49m\n",
            "\u001b[1;31mKeyError\u001b[0m: 'joel'"
          ]
        }
      ],
      "source": [
        "joel_grade = grades[\"Joel\"]\n",
        "joel_grade = grades[\"joel\"]"
      ]
    },
    {
      "cell_type": "code",
      "execution_count": null,
      "metadata": {
        "id": "ufUdHBNrQpAj",
        "outputId": "fe74ebd5-5c0c-4a47-bef6-c427eb81fb44"
      },
      "outputs": [
        {
          "name": "stdout",
          "output_type": "stream",
          "text": [
            "No Key found.\n"
          ]
        }
      ],
      "source": [
        "try:\n",
        "    kate_grade = grades[\"Kate\"]\n",
        "except KeyError:\n",
        "    print(\"No Key found.\")"
      ]
    },
    {
      "cell_type": "markdown",
      "metadata": {
        "id": "2ttXybfDQpAj"
      },
      "source": [
        "- You can also proceed by first checking whether the key exists.\n",
        "\n",
        "\n"
      ]
    },
    {
      "cell_type": "code",
      "execution_count": null,
      "metadata": {
        "id": "zEIqCVTGQpAj",
        "outputId": "ad0b15c7-3234-41cf-8fc6-0f9ef013010e"
      },
      "outputs": [
        {
          "name": "stdout",
          "output_type": "stream",
          "text": [
            "True\n",
            "False\n"
          ]
        }
      ],
      "source": [
        "print(\"Joel\" in grades)\n",
        "print(\"Kate\" in grades)"
      ]
    },
    {
      "cell_type": "markdown",
      "metadata": {
        "id": "IHMsRb4JQpAj"
      },
      "source": [
        "- It is better to first check if the key exists using the if-else statement (although we have not yet covered it).\n",
        "- Depending on the situation, this may be preferable to using an exception.\n",
        "- (In fact, this method is often used more - it's also a kind of exception handling.)\n",
        "\n",
        "\n"
      ]
    },
    {
      "cell_type": "code",
      "execution_count": null,
      "metadata": {
        "id": "maC65ybiQpAk",
        "outputId": "75177e63-636e-4306-b46e-108ca468501d"
      },
      "outputs": [
        {
          "name": "stdout",
          "output_type": "stream",
          "text": [
            "Kate's grade is not in the list.\n"
          ]
        }
      ],
      "source": [
        "if \"Kate\" in grades:\n",
        "    kate_grades = grades[\"Kate\"]\n",
        "else:\n",
        "    print(\"Kate's grade is not in the list.\")"
      ]
    },
    {
      "cell_type": "markdown",
      "metadata": {
        "id": "FpW1ICiFQpAk"
      },
      "source": [
        "- Dictionaries in Python also provide a method called get().\n",
        "- The advantage of using get() is that there is no need for exception handling.\n",
        "- In the case of an exception, you can specify a default value to return (the default is None).ecified."
      ]
    },
    {
      "cell_type": "code",
      "execution_count": null,
      "metadata": {
        "id": "jxZ-VwsmQpAk",
        "outputId": "012a2302-474b-462d-91b8-ebcc74c3c155"
      },
      "outputs": [
        {
          "name": "stdout",
          "output_type": "stream",
          "text": [
            "80\n",
            "None\n",
            "0\n",
            "nokey\n"
          ]
        }
      ],
      "source": [
        "print(grades.get(\"Joel\"))\n",
        "print(grades.get(\"Kate\"))\n",
        "print(grades.get(\"Kate\", 0))\n",
        "print(grades.get(\"Kate\", \"nokey\"))"
      ]
    },
    {
      "cell_type": "markdown",
      "metadata": {
        "id": "gdiUbOqrQpAk"
      },
      "source": [
        "- To assign a value to a specific key in a dictionary, you use square brackets [].\n",
        "\n",
        "\n"
      ]
    },
    {
      "cell_type": "code",
      "execution_count": null,
      "metadata": {
        "id": "4IIiePF2QpAk",
        "outputId": "ac3ee3eb-224a-434b-9424-8b09e2a55583"
      },
      "outputs": [
        {
          "name": "stdout",
          "output_type": "stream",
          "text": [
            "{'Joel': 85, 'Tim': 95, 'Kate': 100}\n"
          ]
        }
      ],
      "source": [
        "grades[\"Tim\"] = 95\n",
        "grades[\"Kate\"] = 100\n",
        "grades[\"Joel\"] = 85\n",
        "print(grades)"
      ]
    },
    {
      "cell_type": "markdown",
      "metadata": {
        "id": "VVZ8KvRlQpAk"
      },
      "source": [
        "- Going forward, when collecting data, you will mostly handle it in the form of a Dictionary.\n",
        "- For example, after collecting data from Twitter in JSON format, you would store it in the following manner.\n",
        "\n",
        "\n"
      ]
    },
    {
      "cell_type": "code",
      "execution_count": null,
      "metadata": {
        "id": "qAFwYnedQpAk"
      },
      "outputs": [],
      "source": [
        "tweet = {\n",
        "    \"user\" : \"joelgrus\",\n",
        "    \"text\" : \"Data Science is Awesome\",\n",
        "    \"retweet_count\" : 100,\n",
        "    \"hashtags\" : [\"#data\", \"#science\", \"#datascience\", \"#awesome\", \"#yolo\"]\n",
        "}"
      ]
    },
    {
      "cell_type": "markdown",
      "metadata": {
        "id": "72v51HvbQpAl"
      },
      "source": [
        "- The collected data is processed in the following manner.\n",
        "\n",
        "\n"
      ]
    },
    {
      "cell_type": "code",
      "execution_count": null,
      "metadata": {
        "id": "lDw86NmVQpAl",
        "outputId": "265f8773-1dfd-4fad-b5c1-2efdb41b1d39"
      },
      "outputs": [
        {
          "name": "stdout",
          "output_type": "stream",
          "text": [
            "dict_keys(['user', 'text', 'retweet_count', 'hashtags'])\n"
          ]
        }
      ],
      "source": [
        "tweet_keys = tweet.keys()\n",
        "print(tweet_keys)"
      ]
    },
    {
      "cell_type": "code",
      "execution_count": null,
      "metadata": {
        "id": "rX6PA87tQpAl",
        "outputId": "7adc421f-f772-46e9-df11-6ddc76253ef2"
      },
      "outputs": [
        {
          "name": "stdout",
          "output_type": "stream",
          "text": [
            "dict_values(['joelgrus', 'Data Science is Awesome', 100, ['#data', '#science', '#datascience', '#awesome', '#yolo']])\n"
          ]
        }
      ],
      "source": [
        "tweet_values = tweet.values()\n",
        "print(tweet_values)"
      ]
    },
    {
      "cell_type": "code",
      "execution_count": null,
      "metadata": {
        "id": "B5tEuAC7QpAl",
        "outputId": "ce24fba0-e800-498d-f1e2-fbb06b3b7f5f"
      },
      "outputs": [
        {
          "name": "stdout",
          "output_type": "stream",
          "text": [
            "dict_items([('user', 'joelgrus'), ('text', 'Data Science is Awesome'), ('retweet_count', 100), ('hashtags', ['#data', '#science', '#datascience', '#awesome', '#yolo'])])\n"
          ]
        }
      ],
      "source": [
        "tweet_items = tweet.items()\n",
        "print(tweet_items)"
      ]
    },
    {
      "cell_type": "code",
      "execution_count": null,
      "metadata": {
        "id": "Mh-qIa6iQpAl",
        "outputId": "8fad9f01-4482-4d8b-d629-c9b764ec3c36"
      },
      "outputs": [
        {
          "name": "stdout",
          "output_type": "stream",
          "text": [
            "True\n",
            "True\n",
            "False\n"
          ]
        }
      ],
      "source": [
        "print(\"user\" in tweet)\n",
        "print(\"Data Science is Awesome\" in tweet_values)\n",
        "print(\"Science\" in tweet_values)"
      ]
    },
    {
      "cell_type": "markdown",
      "metadata": {
        "id": "t-K8jj3LQpAl"
      },
      "source": [
        "- Although not so efficient, you can use dictionary to count the frequency of a value in a list by following code:"
      ]
    },
    {
      "cell_type": "code",
      "execution_count": null,
      "metadata": {
        "id": "_lwGLOCPQpAl",
        "outputId": "1532ce68-c784-4543-8306-764e434cbdea"
      },
      "outputs": [
        {
          "name": "stdout",
          "output_type": "stream",
          "text": [
            "{'a': 7, 'b': 3, 'c': 4}\n"
          ]
        }
      ],
      "source": [
        "document = [\"a\", \"b\", \"c\", \"a\", \"a\", \"c\", \"a\", \"c\", \"a\", \"a\", \"a\", \"b\", \"c\", \"b\"]\n",
        "word_counts = {}\n",
        "for word in document:\n",
        "    if word in word_counts:\n",
        "        word_counts[word] += 1\n",
        "    else:\n",
        "        word_counts[word] = 1\n",
        "\n",
        "print(word_counts)"
      ]
    },
    {
      "cell_type": "markdown",
      "metadata": {
        "id": "wvnEt_MRQpAl"
      },
      "source": [
        "- Python's built-in library, collections, offers the Counter feature, allowing for a more effortless way to create counts.\n",
        "\n",
        "\n"
      ]
    },
    {
      "cell_type": "code",
      "execution_count": null,
      "metadata": {
        "id": "X2GG6j9UQpAl",
        "outputId": "f573385b-4d96-4647-8d34-03f6a48bec10"
      },
      "outputs": [
        {
          "name": "stdout",
          "output_type": "stream",
          "text": [
            "Counter({'a': 7, 'c': 4, 'b': 3})\n",
            "4 7\n"
          ]
        }
      ],
      "source": [
        "from collections import Counter\n",
        "word_counts = Counter(document)\n",
        "print(word_counts)\n",
        "print(word_counts['c'], word_counts['a'])"
      ]
    },
    {
      "cell_type": "markdown",
      "metadata": {
        "collapsed": true,
        "jupyter": {
          "outputs_hidden": true
        },
        "id": "u4gUvyenQpAm"
      },
      "source": [
        "## Sets\n",
        "\n",
        "- The data type called \"Set\" has the characteristics of **not allowing duplicates** and **having no order** to the elements contained within it.\n",
        "\n",
        "\n"
      ]
    },
    {
      "cell_type": "code",
      "execution_count": null,
      "metadata": {
        "id": "2IpVHKwrQpAm",
        "outputId": "f7cbb040-3079-4fc7-8b3d-16b52cbbea56"
      },
      "outputs": [
        {
          "name": "stdout",
          "output_type": "stream",
          "text": [
            "{1, 2}\n"
          ]
        }
      ],
      "source": [
        "s = set()\n",
        "s.add(1)\n",
        "s.add(2)\n",
        "s.add(2)\n",
        "print(s)"
      ]
    },
    {
      "cell_type": "code",
      "execution_count": null,
      "metadata": {
        "id": "x0V5QzhcQpAm",
        "outputId": "52e77911-6b6b-442a-a12a-1d044b52ef56"
      },
      "outputs": [
        {
          "name": "stdout",
          "output_type": "stream",
          "text": [
            "{1, 2, 3, 4}\n",
            "{1, 2, 3, 4, 5, 6, 7, 8, 9, 10}\n",
            "{1, 2, 3, 4, 5, 6, 7, 8, 9}\n"
          ]
        }
      ],
      "source": [
        "my_set = set([1,2,3])\n",
        "\n",
        "my_set.add(4)\n",
        "print(my_set)\n",
        "\n",
        "my_set.update([5,6,7,8,9,10])\n",
        "print(my_set)\n",
        "\n",
        "my_set.remove(10)\n",
        "print(my_set)"
      ]
    },
    {
      "cell_type": "markdown",
      "metadata": {
        "id": "QCKOLiYEQpAm"
      },
      "source": [
        "- A set has no order, so you cannot access the data using an index.\n",
        "- Therefore, to access specific data in a set, you must convert it to a list or a tuple.\n",
        "\n",
        "\n"
      ]
    },
    {
      "cell_type": "code",
      "execution_count": null,
      "metadata": {
        "id": "oNMKmRD-QpAm",
        "outputId": "7127d5f1-4a2f-4077-867e-7e0607a6f6b2"
      },
      "outputs": [
        {
          "name": "stdout",
          "output_type": "stream",
          "text": [
            "[1, 2, 3]\n",
            "1\n",
            "(1, 2, 3)\n",
            "1\n"
          ]
        }
      ],
      "source": [
        "my_set = set([1,2,3])\n",
        "my_list = list(my_set)\n",
        "my_tuple = tuple(my_set)\n",
        "\n",
        "print(my_list)\n",
        "print(my_list[0])\n",
        "print(my_tuple)\n",
        "print(my_tuple[0])"
      ]
    },
    {
      "cell_type": "code",
      "execution_count": null,
      "metadata": {
        "id": "l0Yefe4WQpAn",
        "outputId": "12ab831c-2e0b-414e-febb-5efc7e6bcfcc"
      },
      "outputs": [
        {
          "name": "stdout",
          "output_type": "stream",
          "text": [
            "{2}\n",
            "{2}\n",
            "{1, 2, 3, 4, 5, 6}\n",
            "{1, 2, 3, 4, 5, 6}\n",
            "{1, 3}\n",
            "{1, 3}\n",
            "{4, 5, 6}\n",
            "{1, 3, 4, 5, 6}\n"
          ]
        }
      ],
      "source": [
        "set1 = set([1,2,3])\n",
        "set2 = set([2,4,5,6])\n",
        "set3 = set() # empty set\n",
        "\n",
        "# Intersection set (A ∩ B)\n",
        "print(set1 & set2)\n",
        "print(set1.intersection(set2))\n",
        "\n",
        "# Union set (A ∪ B)\n",
        "print(set1 | set2)\n",
        "print(set1.union(set2))\n",
        "\n",
        "# Difference (A − B)\n",
        "print(set1 - set2)\n",
        "print(set1.difference(set2))\n",
        "print(set2.difference(set1))\n",
        "\n",
        "# Symmetric difference (A ∪ B) - (A ∩ B)\n",
        "print(set1 ^ set2)"
      ]
    }
  ],
  "metadata": {
    "kernelspec": {
      "display_name": "Python 3 (ipykernel)",
      "language": "python",
      "name": "python3"
    },
    "language_info": {
      "codemirror_mode": {
        "name": "ipython",
        "version": 3
      },
      "file_extension": ".py",
      "mimetype": "text/x-python",
      "name": "python",
      "nbconvert_exporter": "python",
      "pygments_lexer": "ipython3",
      "version": "3.11.4"
    },
    "colab": {
      "provenance": []
    }
  },
  "nbformat": 4,
  "nbformat_minor": 0
}