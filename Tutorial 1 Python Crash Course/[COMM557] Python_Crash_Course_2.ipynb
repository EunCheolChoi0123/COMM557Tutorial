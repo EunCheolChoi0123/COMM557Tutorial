{
  "cells": [
    {
      "cell_type": "markdown",
      "metadata": {
        "id": "JaMo5SLi07tK"
      },
      "source": [
        "# Python Crash Course 2\n",
        "\n",
        "- Control flow (if-else, for, while)\n",
        "- Classes, objects, and methods\n",
        "- Reading and writing files\n",
        "- Object-oriented programming\n",
        "\n",
        "\n"
      ]
    },
    {
      "cell_type": "markdown",
      "metadata": {
        "id": "UqgytXu_07tL"
      },
      "source": [
        "## Control Flow\n",
        "\n",
        "- Control flow is used within a program to create branches or to repeat certain processes.\n",
        "\n",
        "\n"
      ]
    },
    {
      "cell_type": "markdown",
      "metadata": {
        "id": "N1gxrUUi07tL"
      },
      "source": [
        "**if, elif, else**"
      ]
    },
    {
      "cell_type": "markdown",
      "metadata": {
        "id": "PXk4faI907tL"
      },
      "source": [
        "- The \"if\" statement is the most commonly used control flow statement in programming.\n",
        "- It checks a condition, and if that condition is true, it executes the code within the \"if\" block.\n",
        "\n",
        "\n",
        "\n",
        "\n"
      ]
    },
    {
      "cell_type": "code",
      "execution_count": null,
      "metadata": {
        "id": "rtWyygP707tM"
      },
      "outputs": [],
      "source": [
        "x = 0\n",
        "if x < 0:\n",
        "    print(\"x is negative\")"
      ]
    },
    {
      "cell_type": "markdown",
      "metadata": {
        "id": "5riuws1l07tM"
      },
      "source": [
        "- When multiple conditions need to be checked, the if-elif-else is used."
      ]
    },
    {
      "cell_type": "code",
      "execution_count": null,
      "metadata": {
        "id": "HceNPKVd07tM",
        "outputId": "46a0b09a-5ac3-4ad1-dfc4-f9ba0db32baa"
      },
      "outputs": [
        {
          "name": "stdout",
          "output_type": "stream",
          "text": [
            "x is zero\n"
          ]
        }
      ],
      "source": [
        "x = 0\n",
        "if x < 0:\n",
        "    print(\"x is negative\")\n",
        "elif x == 0:\n",
        "    print(\"x is zero\")\n",
        "elif 0 < x < 5:\n",
        "    print(\"x is positive but smaller than 5\")\n",
        "else:\n",
        "    print(\"x is positive and larger than or equal to 5\")"
      ]
    },
    {
      "cell_type": "markdown",
      "metadata": {
        "id": "vmd0E-gT07tM"
      },
      "source": [
        "- The if-else statement can be condensed into a single line in some scenarios, especially when the logic is simple and requires executing only small expressions based on the condition.\n",
        "- This is often referred to as a conditional (ternary) operator."
      ]
    },
    {
      "cell_type": "code",
      "execution_count": null,
      "metadata": {
        "id": "CyB00cGq07tN",
        "outputId": "d89bbfea-7095-496e-db35-c76d146061c3"
      },
      "outputs": [
        {
          "name": "stdout",
          "output_type": "stream",
          "text": [
            "odd\n"
          ]
        }
      ],
      "source": [
        "x = 1\n",
        "parity = \"even\" if x % 2 == 0 else \"odd\"\n",
        "print(parity)"
      ]
    },
    {
      "cell_type": "markdown",
      "metadata": {
        "id": "vdHb32Bx07tN"
      },
      "source": [
        "**and / or**\n",
        "\n",
        "- If the conditions in an if statement are connected with \"and,\" it is considered true only if both conditions are true.\n",
        "\n",
        "\n",
        "\n",
        "|   A   |   B   | Output |\n",
        "|:-----:|:-----:|:------:|\n",
        "|  true |  true |  true  |\n",
        "|  true | false |  false |\n",
        "| false |  true |  false |\n",
        "| false | false |  false |"
      ]
    },
    {
      "cell_type": "markdown",
      "metadata": {
        "id": "P465yS3I07tN"
      },
      "source": [
        "- If the conditions in an if statement are connected with \"or,\" it is considered true if at least one of the conditions is true.\n",
        "\n",
        "|   A   |   B   | Output |\n",
        "|:-----:|:-----:|:------:|\n",
        "|  true |  true |  true  |\n",
        "|  true | false |  true  |\n",
        "| false |  true |  true  |\n",
        "| false | false |  false |"
      ]
    },
    {
      "cell_type": "code",
      "execution_count": null,
      "metadata": {
        "id": "F9tWlFvj07tN",
        "outputId": "657c0a29-e82a-4b0a-a5f5-ee555bce54f8"
      },
      "outputs": [
        {
          "name": "stdout",
          "output_type": "stream",
          "text": [
            "False\n"
          ]
        }
      ],
      "source": [
        "x, y = 5, 10\n",
        "if x < 10 and y < 10:\n",
        "    print(True)\n",
        "else:\n",
        "    print(False)"
      ]
    },
    {
      "cell_type": "code",
      "execution_count": null,
      "metadata": {
        "id": "kJR5ek3q07tN",
        "outputId": "6e96d311-6e13-4149-a5bc-1e22952be940"
      },
      "outputs": [
        {
          "name": "stdout",
          "output_type": "stream",
          "text": [
            "True\n"
          ]
        }
      ],
      "source": [
        "x, y = 5, 10\n",
        "if x < 10 or y < 10:\n",
        "    print(True)\n",
        "else:\n",
        "    print(False)"
      ]
    },
    {
      "cell_type": "markdown",
      "metadata": {
        "id": "ZZyy-iYh07tN"
      },
      "source": [
        "**for loop**\n",
        "\n",
        "- The for loop iterates through lists, tuples, etc.\n",
        "\n",
        "\n"
      ]
    },
    {
      "cell_type": "code",
      "execution_count": null,
      "metadata": {
        "id": "GtVrEAO-07tN",
        "outputId": "7033f8b4-af91-4ad7-e536-ea80954109ca"
      },
      "outputs": [
        {
          "name": "stdout",
          "output_type": "stream",
          "text": [
            "1\n",
            "2\n",
            "3\n",
            "4\n",
            "5\n",
            "6\n",
            "7\n",
            "8\n",
            "9\n",
            "10\n"
          ]
        }
      ],
      "source": [
        "sequence = [1, 2, 3, 4, 5, 6, 7, 8, 9, 10]\n",
        "for value in sequence:\n",
        "    print(value)"
      ]
    },
    {
      "cell_type": "code",
      "execution_count": null,
      "metadata": {
        "id": "apgw6S2R07tN",
        "outputId": "76f6a69f-bedc-44db-9bc5-5a4d230bd0c1"
      },
      "outputs": [
        {
          "name": "stdout",
          "output_type": "stream",
          "text": [
            "55\n"
          ]
        }
      ],
      "source": [
        "sequence = [1, 2, 3, 4, 5, 6, 7, 8, 9, 10]\n",
        "total = 0\n",
        "\n",
        "for value in sequence:\n",
        "    total += value\n",
        "\n",
        "print(total)"
      ]
    },
    {
      "cell_type": "code",
      "execution_count": null,
      "metadata": {
        "id": "YI6k6Edj07tO",
        "outputId": "5038f4f5-3df4-487b-b06a-74d8e5c2cd2c"
      },
      "outputs": [
        {
          "name": "stdout",
          "output_type": "stream",
          "text": [
            "0\n",
            "1\n",
            "2\n",
            "4\n"
          ]
        }
      ],
      "source": [
        "for x in range(10):\n",
        "\n",
        "    if x == 3: # if x is 3, it skips to the next element.\n",
        "        continue\n",
        "\n",
        "    if x == 5:\n",
        "        break # if x is 5, it ends the for loop\n",
        "\n",
        "    print(x)"
      ]
    },
    {
      "cell_type": "markdown",
      "metadata": {
        "id": "Y_tv9zOq07tO"
      },
      "source": [
        "**while loop**\n",
        "\n",
        "- The while loop continues to iterate as long as the condition inside the while statement is true.\n",
        "\n",
        "\n"
      ]
    },
    {
      "cell_type": "code",
      "execution_count": null,
      "metadata": {
        "id": "VwS_gquQ07tO",
        "outputId": "895eb73c-4ba3-460e-c44a-ae85d712c655"
      },
      "outputs": [
        {
          "name": "stdout",
          "output_type": "stream",
          "text": [
            "0 is less than 10\n",
            "1 is less than 10\n",
            "2 is less than 10\n",
            "3 is less than 10\n",
            "4 is less than 10\n",
            "5 is less than 10\n",
            "6 is less than 10\n",
            "7 is less than 10\n",
            "8 is less than 10\n",
            "9 is less than 10\n"
          ]
        }
      ],
      "source": [
        "x = 0\n",
        "while x < 10:\n",
        "    print(x, \"is less than 10\")\n",
        "    x += 1"
      ]
    },
    {
      "cell_type": "markdown",
      "metadata": {
        "id": "lVwOkvKM07tO"
      },
      "source": [
        "## Methods\n",
        "\n",
        "- An **object** is something created from a **class**, and a **method** is a function defined within that class.\n",
        "- (Metaphor alert) In the statement \"The car runs,\" car is an **object** created from the transportation **class**, and runs is a **method** defined within the transportation class.\n",
        "\n",
        "- In python, method is used like this.\n",
        "\n",
        "** ``` object.method(parameter) ``` **\n"
      ]
    },
    {
      "cell_type": "code",
      "execution_count": null,
      "metadata": {
        "id": "KkumwUly07tO",
        "outputId": "63ff9d5b-a9c9-4b31-9d88-da354e8a1b97"
      },
      "outputs": [
        {
          "name": "stdout",
          "output_type": "stream",
          "text": [
            "HELLO, PYTHON\n",
            "Hello, python\n",
            "['hello', ' python']\n"
          ]
        }
      ],
      "source": [
        "greeting = \"hello, python\"           # We made an 'greeting' object that is in 'string' class\n",
        "print(greeting.upper())              # upper() method, defined within string class, makes everything upper letters.\n",
        "print(greeting.capitalize())         # similarly, capitalize() method capitalizes each of the first letter of the words.\n",
        "greeting_list = greeting.split(',')  # split() method splits the object into a list by the specified parameter, in this case ','\n",
        "print(greeting_list)"
      ]
    },
    {
      "cell_type": "markdown",
      "metadata": {
        "id": "1ZvCu8Qa07tO"
      },
      "source": [
        "- You can look up other methods within string class in the url below:  \n",
        "(Ref.) https://docs.python.org/3/library/stdtypes.html#string-methods"
      ]
    },
    {
      "cell_type": "markdown",
      "metadata": {
        "id": "fSjpSaUn07tO"
      },
      "source": [
        "## Sorting\n",
        "\n",
        "- In programming, there are often instances where data needs to be sorted.\n",
        "- For this purpose, Python provides the methods sort() and sorted()."
      ]
    },
    {
      "cell_type": "code",
      "execution_count": null,
      "metadata": {
        "id": "ox5CgBwK07tO",
        "outputId": "6a575f25-c2f7-4441-993f-ed9409dc61b3"
      },
      "outputs": [
        {
          "name": "stdout",
          "output_type": "stream",
          "text": [
            "[0, 1, 3, 3, 4, 5, 7, 9]\n"
          ]
        }
      ],
      "source": [
        "x = [7, 3, 5, 9, 0, 1, 4, 3]\n",
        "x.sort()  # sort() changes x\n",
        "print(x)"
      ]
    },
    {
      "cell_type": "code",
      "execution_count": null,
      "metadata": {
        "id": "C9Zt6p0j07tO",
        "outputId": "e9d1ab77-2a88-4e98-dcea-b621761afc04"
      },
      "outputs": [
        {
          "name": "stdout",
          "output_type": "stream",
          "text": [
            "[7, 3, 5, 9, 0, 1, 4, 3] [0, 1, 3, 3, 4, 5, 7, 9]\n"
          ]
        }
      ],
      "source": [
        "x = [7, 3, 5, 9, 0, 1, 4, 3]\n",
        "y = sorted(x)  # sorted(x) do not change x\n",
        "print(x, y)"
      ]
    },
    {
      "cell_type": "code",
      "execution_count": null,
      "metadata": {
        "id": "koqh63vO07tO",
        "outputId": "a373aeaf-14b4-42cf-929c-772842c309eb"
      },
      "outputs": [
        {
          "name": "stdout",
          "output_type": "stream",
          "text": [
            "['Apple', 'Banana', 'Grape', 'Melon', 'Orange', 'Peach', 'Tomato']\n"
          ]
        }
      ],
      "source": [
        "names = [\"Banana\", \"Tomato\", \"Orange\", \"Grape\", \"Apple\", \"Peach\", \"Melon\"]\n",
        "print(sorted(names))"
      ]
    },
    {
      "cell_type": "code",
      "execution_count": null,
      "metadata": {
        "id": "DECloMxs07tO",
        "outputId": "fec56210-c952-4114-9da8-d9f0d0d9bea8"
      },
      "outputs": [
        {
          "name": "stdout",
          "output_type": "stream",
          "text": [
            "[-4, -2, 1, 3]\n",
            "[3, 1, -2, -4]\n",
            "[1, -2, 3, -4]\n",
            "[-4, 3, -2, 1]\n"
          ]
        }
      ],
      "source": [
        "x = [-4,1,-2,3]\n",
        "print(sorted(x))  # ascending\n",
        "print(sorted(x, reverse=True))  # descending\n",
        "print(sorted(x, key=abs))  # ascending, absolute values\n",
        "print(sorted(x, key=abs, reverse=True))  # descending, absolute values"
      ]
    },
    {
      "cell_type": "markdown",
      "metadata": {
        "id": "F4IGsd2k07tP"
      },
      "source": [
        "## Random\n",
        "\n",
        "- When analyzing data, there are many instances where random numbers are used.\n",
        "- In these cases, the random module is utilized.\n",
        "\n",
        "\n"
      ]
    },
    {
      "cell_type": "code",
      "execution_count": null,
      "metadata": {
        "id": "v7f1UkAT07tP",
        "outputId": "005dc2b6-e90b-476f-d260-2c9bca66a951"
      },
      "outputs": [
        {
          "data": {
            "text/plain": [
              "0.824121321118584"
            ]
          },
          "execution_count": 15,
          "metadata": {},
          "output_type": "execute_result"
        }
      ],
      "source": [
        "import random\n",
        "random.random()  # generates a random number between 0 and 1"
      ]
    },
    {
      "cell_type": "code",
      "execution_count": null,
      "metadata": {
        "id": "6q9Uvc_907tP",
        "outputId": "166c2325-e30a-4fda-d9ea-10181a4fa890"
      },
      "outputs": [
        {
          "data": {
            "text/plain": [
              "0.6394267984578837"
            ]
          },
          "execution_count": 16,
          "metadata": {},
          "output_type": "execute_result"
        }
      ],
      "source": [
        "random.seed(42) # when we set a seed, we can reproduce the generated number.\n",
        "random.random()"
      ]
    },
    {
      "cell_type": "code",
      "execution_count": null,
      "metadata": {
        "id": "i6jRi6TX07tP",
        "outputId": "2fb67871-46f8-4878-f337-dc78e6376aac"
      },
      "outputs": [
        {
          "data": {
            "text/plain": [
              "0.07925066699056116"
            ]
          },
          "execution_count": 17,
          "metadata": {},
          "output_type": "execute_result"
        }
      ],
      "source": [
        "random.seed() # we can unset the seed as well\n",
        "random.random()"
      ]
    },
    {
      "cell_type": "code",
      "execution_count": null,
      "metadata": {
        "id": "HKYP1lYV07tP",
        "outputId": "d176f8ac-18ee-419e-9dfd-063e2cf4b9f7"
      },
      "outputs": [
        {
          "name": "stdout",
          "output_type": "stream",
          "text": [
            "[0.388118695735474, 0.42348384964584396, 0.034225556802669255, 0.6870241131043999]\n"
          ]
        }
      ],
      "source": [
        "four_uniform_random = [random.random() for x in range(4)] # generate four random numbers, and put them into the list\n",
        "print(four_uniform_random)"
      ]
    },
    {
      "cell_type": "markdown",
      "metadata": {
        "id": "FPuQJuFi07tP"
      },
      "source": [
        "- In Python, the underscore ( _ ) is often used as a \"throwaway\" variable to indicate that a particular variable's value is being intentionally ignored.\n",
        "- This can make the code more readable by making it clear that the variable is not going to be used later in the code."
      ]
    },
    {
      "cell_type": "code",
      "execution_count": null,
      "metadata": {
        "id": "JW9IYjRR07tP",
        "outputId": "dd15b026-8572-44ec-ab36-475c2235aac9"
      },
      "outputs": [
        {
          "name": "stdout",
          "output_type": "stream",
          "text": [
            "[0.5677076932058513, 0.5280278697272357, 0.9877712219615313, 0.8929313091490277]\n"
          ]
        }
      ],
      "source": [
        "four_uniform_random = [random.random() for _ in range(4)]  # generate four random numbers, and put them into the list\n",
        "print(four_uniform_random)"
      ]
    },
    {
      "cell_type": "markdown",
      "metadata": {
        "id": "22DGsJRp07tP"
      },
      "source": [
        "- When you want to generate a random integer within a specific range in Python, you can use the randrange() function"
      ]
    },
    {
      "cell_type": "code",
      "execution_count": null,
      "metadata": {
        "id": "wQcM3Wkd07tP",
        "outputId": "3fe1aae3-e002-4590-f386-a73e913f3a46"
      },
      "outputs": [
        {
          "name": "stdout",
          "output_type": "stream",
          "text": [
            "2\n",
            "6\n"
          ]
        }
      ],
      "source": [
        "print(random.randrange(10)) # generates random integer between 0 and 9 (inclusive)\n",
        "print(random.randrange(6, 9)) # generates random integer between 6 and 8 (inclusive)"
      ]
    },
    {
      "cell_type": "markdown",
      "metadata": {
        "id": "sg1NUQVu07tP"
      },
      "source": [
        "- The random.choice() function is part of Python's random module, and it's used to select a random element from a non-empty sequence such as a list or a tuple.\n"
      ]
    },
    {
      "cell_type": "code",
      "execution_count": null,
      "metadata": {
        "id": "wS_pG9R-07tP",
        "outputId": "304a6bb3-4ffe-4eed-c783-b0746a474f4a"
      },
      "outputs": [
        {
          "name": "stdout",
          "output_type": "stream",
          "text": [
            "7\n",
            "Apple\n"
          ]
        }
      ],
      "source": [
        "list1 = [1, 2, 3, 4, 5, 6, 7, 8, 9, 10]\n",
        "my_choice1 = random.choice(list1)\n",
        "print(my_choice1)\n",
        "\n",
        "list2 = [\"Banana\", \"Tomato\", \"Orange\", \"Grape\", \"Apple\", \"Peach\", \"Melon\"]\n",
        "my_choice2 = random.choice(list2)\n",
        "print(my_choice2)"
      ]
    },
    {
      "cell_type": "markdown",
      "metadata": {
        "collapsed": true,
        "jupyter": {
          "outputs_hidden": true
        },
        "id": "G83LmA5I07tP"
      },
      "source": [
        "- The sample() function randomly shuffles the elements within a range or list, and you can pass the number of items you want to draw as a parameter.\n",
        "\n",
        "\n"
      ]
    },
    {
      "cell_type": "code",
      "execution_count": null,
      "metadata": {
        "id": "P58ev-Xa07tT",
        "outputId": "65ce1282-ce9c-4e64-9ff3-04fed872d4ec"
      },
      "outputs": [
        {
          "name": "stdout",
          "output_type": "stream",
          "text": [
            "[1, 3, 6, 2, 5, 9, 4, 7, 8, 0]\n"
          ]
        }
      ],
      "source": [
        "up_to_ten = range(10)\n",
        "shuffled = random.sample(up_to_ten, 10)\n",
        "print(shuffled)"
      ]
    },
    {
      "cell_type": "markdown",
      "metadata": {
        "id": "ysXaVspu07tT"
      },
      "source": [
        "- Let's make a Powerball simulater!\n",
        "- They draw 5 white balls from 1 to 69, and 1 red ball between 1 and 26."
      ]
    },
    {
      "cell_type": "code",
      "execution_count": null,
      "metadata": {
        "scrolled": true,
        "id": "BUc1SS6m07tT",
        "outputId": "2f550938-63bd-47d2-c4e1-46e1ae5402b1"
      },
      "outputs": [
        {
          "name": "stdout",
          "output_type": "stream",
          "text": [
            "[24, 34, 35, 48, 67, 8]\n"
          ]
        }
      ],
      "source": [
        "# Draw 5 white balls\n",
        "powerball_whiteball_number = range(1, 70)\n",
        "whiteball_numbers = random.sample(powerball_whiteball_number, 5)\n",
        "\n",
        "# Draw 1 red ball\n",
        "redball_number = random.randrange(1, 27)\n",
        "\n",
        "# Sort white balls, add red ball, and print the final result.\n",
        "winning_numbers = sorted(whiteball_numbers) + [redball_number]\n",
        "print(winning_numbers)"
      ]
    },
    {
      "cell_type": "markdown",
      "metadata": {
        "id": "ajDwlh_x07tT"
      },
      "source": [
        "## Reading files\n",
        "\n",
        "- In Python, the open() function is used to read and write files.\n",
        "- The file you want to read must be in the same path, or you must set the file path accurately.\n",
        "\n",
        "\n"
      ]
    },
    {
      "cell_type": "markdown",
      "metadata": {
        "id": "xmID7e4Y07tT"
      },
      "source": [
        "**read()** method\n",
        "\n",
        "- The read() method reads the entire text of a file.\n",
        "\n",
        "\n"
      ]
    },
    {
      "cell_type": "code",
      "execution_count": null,
      "metadata": {
        "id": "7s1EQA9807tT",
        "outputId": "7e43cc91-b797-4f53-e460-0c29bbe37bd3"
      },
      "outputs": [
        {
          "name": "stdout",
          "output_type": "stream",
          "text": [
            "Hello!\n",
            "Welcome to COMM-557 Data Science for Communication and Social Networks\n",
            "The instructor is Emilio Ferrara, and the TA is Eun Cheol Choi.\n",
            "Have fun!\n"
          ]
        }
      ],
      "source": [
        "f = open(\"sample-1.txt\", \"r\", encoding=\"utf-8\")  # \"r\" is for read-only\n",
        "text = f.read()  # read the txt file.\n",
        "f.close()  # close the file after use.\n",
        "\n",
        "print(text)"
      ]
    },
    {
      "cell_type": "markdown",
      "metadata": {
        "id": "CkIyfw4Y07tT"
      },
      "source": [
        "**readlines()** method\n",
        "\n",
        "- The readlines() method reads the text of a file line by line (separated by \\n) and stores it as a list.\n",
        "- Therefore, you can use \"for ... in\" to iterate through the sentences stored in the list.\n",
        "\n",
        "\n"
      ]
    },
    {
      "cell_type": "code",
      "execution_count": null,
      "metadata": {
        "id": "ptF1nbxr07tT",
        "outputId": "51423acb-966b-44d9-c17e-ea10706c6285"
      },
      "outputs": [
        {
          "name": "stdout",
          "output_type": "stream",
          "text": [
            "['Hello!\\n', 'Welcome to COMM-557 Data Science for Communication and Social Networks\\n', 'The instructor is Emilio Ferrara, and the TA is Eun Cheol Choi.\\n', 'Have fun!']\n"
          ]
        }
      ],
      "source": [
        "f = open(\"sample-1.txt\", \"r\", encoding=\"utf-8\")\n",
        "text = f.readlines()\n",
        "f.close()\n",
        "\n",
        "print(text)"
      ]
    },
    {
      "cell_type": "code",
      "execution_count": null,
      "metadata": {
        "id": "jRrKF2lY07tT",
        "outputId": "796222ce-b358-4c0f-9831-20498521f611"
      },
      "outputs": [
        {
          "name": "stdout",
          "output_type": "stream",
          "text": [
            "Hello!\n",
            "\n",
            "Welcome to COMM-557 Data Science for Communication and Social Networks\n",
            "\n",
            "The instructor is Emilio Ferrara, and the TA is Eun Cheol Choi.\n",
            "\n",
            "Have fun!\n"
          ]
        }
      ],
      "source": [
        "for line in text:\n",
        "    print(line)"
      ]
    },
    {
      "cell_type": "code",
      "execution_count": null,
      "metadata": {
        "id": "BVd7je_H07tT",
        "outputId": "bfa75cb6-00d4-4c4a-fc30-27c22d3489fb"
      },
      "outputs": [
        {
          "name": "stdout",
          "output_type": "stream",
          "text": [
            "Hello!\n",
            "Welcome to COMM-557 Data Science for Communication and Social Networks\n",
            "The instructor is Emilio Ferrara, and the TA is Eun Cheol Choi.\n",
            "Have fun!\n"
          ]
        }
      ],
      "source": [
        "# To remove unnecessary \\n, use strip() method.\n",
        "for line in text:\n",
        "    print(line.strip())"
      ]
    },
    {
      "cell_type": "markdown",
      "metadata": {
        "id": "E5op4f2D07tU"
      },
      "source": [
        "**with open()** method\n",
        "\n",
        "- You don't have to close the file when using ```with open(...) as f:```"
      ]
    },
    {
      "cell_type": "code",
      "execution_count": null,
      "metadata": {
        "id": "4u62qX2p07tU",
        "outputId": "34dc4346-9f8a-4a63-fa97-98ba78e4a523"
      },
      "outputs": [
        {
          "name": "stdout",
          "output_type": "stream",
          "text": [
            "Hello!\n",
            "Welcome to COMM-557 Data Science for Communication and Social Networks\n",
            "The instructor is Emilio Ferrara, and the TA is Eun Cheol Choi.\n",
            "Have fun!\n"
          ]
        }
      ],
      "source": [
        "with open(\"sample-1.txt\", \"r\", encoding=\"utf-8\") as f:\n",
        "    text = f.read()  # when the code block ends, it automatically closes the file\n",
        "\n",
        "print(text)"
      ]
    },
    {
      "cell_type": "markdown",
      "metadata": {
        "id": "Wkh8HDEa07tU"
      },
      "source": [
        "## Writing files\n",
        "\n",
        "- In Python, the open() function is also used to save a file, but the mode used is either \"w\" for writing or \"a\" for appending.\n",
        "\n",
        "\n"
      ]
    },
    {
      "cell_type": "code",
      "execution_count": null,
      "metadata": {
        "id": "HQbRuobk07tU"
      },
      "outputs": [],
      "source": [
        "mylist = [\"Hello\", \"Python\", \"World\", 1, 2, 3]\n",
        "f = open(\"result-w.txt\", \"w\")  # \"w\" for write\n",
        "for i in mylist:\n",
        "    f.write(str(i) + \"\\n\") # You gotta make integers into strings in order to write with open()\n",
        "f.close()  # It does not save the file until we close()"
      ]
    },
    {
      "cell_type": "markdown",
      "metadata": {
        "id": "iqILfh3e07tU"
      },
      "source": [
        "- The \"w\" option in the open function in Python is used for writing to a file.\n",
        "- If the file specified in the path already exists, opening it with the \"w\" mode will truncate the file, meaning that any existing content in the file will be deleted.\n",
        "- If a new content is written using this mode, it will replace the previous content.\n",
        "- If the file does not exist, it will be created."
      ]
    },
    {
      "cell_type": "code",
      "execution_count": null,
      "metadata": {
        "id": "twrbCqfA07tU"
      },
      "outputs": [],
      "source": [
        "f = open(\"result-w.txt\", \"w\")\n",
        "f.write(\"Change\")\n",
        "f.write(\"\\n\")\n",
        "f.write(\"the\")\n",
        "f.write(\"content\")\n",
        "f.close()"
      ]
    },
    {
      "cell_type": "markdown",
      "metadata": {
        "id": "yydgZrrd07tU"
      },
      "source": [
        "- In contrast, \"a\" mode appends new content to the end of the file without deleting the existing content."
      ]
    },
    {
      "cell_type": "code",
      "execution_count": null,
      "metadata": {
        "id": "3SraWOsd07tU"
      },
      "outputs": [],
      "source": [
        "f = open(\"result-w.txt\",\"a\")\n",
        "f.write(\"\\nadd new content\")\n",
        "f.close()"
      ]
    },
    {
      "cell_type": "markdown",
      "metadata": {
        "id": "WkDP_OBK07tU"
      },
      "source": [
        "```with open()```\n",
        "\n",
        "- You don't have to close the file when using ```with open(...) as f:```"
      ]
    },
    {
      "cell_type": "code",
      "execution_count": null,
      "metadata": {
        "id": "VYBy-8NR07tU"
      },
      "outputs": [],
      "source": [
        "mylist = [\"Hello\", \"Python\", \"World\", 1, 2, 3]\n",
        "with open(\"result-w.txt\", \"w\") as f:\n",
        "    for i in mylist:\n",
        "        f.write(str(i) + \"\\n\")"
      ]
    },
    {
      "cell_type": "markdown",
      "metadata": {
        "id": "wiMtSE--07tU"
      },
      "source": [
        "## Object Oriented Programming\n",
        "\n",
        "- You don't have to rely on built-in classes, objects, and methods.\n",
        "- Instead, YOU can make your own class, objects, and methods.\n",
        "- You define the class as follows\n",
        "\n",
        "```\n",
        "class class_name(super_class_name):\n",
        "    \n",
        "    def __init__(self, [var1, var2, ...]):\n",
        "        self.member_variable1 = var1\n",
        "        do something\n",
        "        \n",
        "    def public_method(self, [var1, var2, ...]):\n",
        "        do something\n",
        "        \n",
        "    def __private_method(self, [var1, var2, ...]):\n",
        "        do something\n",
        "    ...\n",
        "    ...\n",
        "```"
      ]
    },
    {
      "cell_type": "markdown",
      "metadata": {
        "id": "hIDHS-vL07tU"
      },
      "source": [
        "- The Die class has a method called roll().\n",
        "- A die object is created in the form of **die = Die()**.\n",
        "- To execute the roll member method of the class, declare **die.roll()**."
      ]
    },
    {
      "cell_type": "code",
      "execution_count": null,
      "metadata": {
        "id": "BUvvVnB007tU"
      },
      "outputs": [],
      "source": [
        "import random\n",
        "class D6:\n",
        "    def roll(self):\n",
        "        return random.randrange(1, 7) # When you use roll method, it randomly chooses an integer between 1 and 6"
      ]
    },
    {
      "cell_type": "code",
      "execution_count": null,
      "metadata": {
        "id": "N3kf6OJ107tV",
        "outputId": "bf305f0d-eeb2-475e-9646-866ec8850238"
      },
      "outputs": [
        {
          "name": "stdout",
          "output_type": "stream",
          "text": [
            "1\n"
          ]
        }
      ],
      "source": [
        "die = D6()          # You make an 'die' object that is 'D6' class\n",
        "print(die.roll())    # You use roll() method you defined"
      ]
    },
    {
      "cell_type": "markdown",
      "metadata": {
        "id": "tbs-vYbf07tV"
      },
      "source": [
        "- In the case below, you use roll() method to save a random integer (from 1 to 6) as the attribute 'number'.\n",
        "- Then, you use show() method to return the integer.\n",
        "- If you call show() first, then there would be nothing to show(), thus it returns error."
      ]
    },
    {
      "cell_type": "code",
      "execution_count": null,
      "metadata": {
        "id": "3367pT9l07tV",
        "outputId": "c2297e3d-21b1-4d8b-c07f-1cc0975b54ee"
      },
      "outputs": [
        {
          "name": "stdout",
          "output_type": "stream",
          "text": [
            "4\n"
          ]
        }
      ],
      "source": [
        "import random\n",
        "class D6:\n",
        "\n",
        "    def roll(self):\n",
        "        self.number = random.randrange(1, 7)\n",
        "\n",
        "    def show(self):\n",
        "        return self.number\n",
        "\n",
        "die = D6()\n",
        "die.roll()\n",
        "print(die.show())"
      ]
    },
    {
      "cell_type": "code",
      "execution_count": null,
      "metadata": {
        "id": "wJmkW6j-07tV",
        "outputId": "219d259d-5146-40c3-fac4-d6df3bc8110c"
      },
      "outputs": [
        {
          "ename": "AttributeError",
          "evalue": "'D6' object has no attribute 'number'",
          "output_type": "error",
          "traceback": [
            "\u001b[1;31m---------------------------------------------------------------------------\u001b[0m",
            "\u001b[1;31mAttributeError\u001b[0m                            Traceback (most recent call last)",
            "Cell \u001b[1;32mIn[91], line 2\u001b[0m\n\u001b[0;32m      1\u001b[0m new_die \u001b[38;5;241m=\u001b[39m D6()\n\u001b[1;32m----> 2\u001b[0m \u001b[38;5;28mprint\u001b[39m(\u001b[43mnew_die\u001b[49m\u001b[38;5;241;43m.\u001b[39;49m\u001b[43mshow\u001b[49m\u001b[43m(\u001b[49m\u001b[43m)\u001b[49m)\n",
            "Cell \u001b[1;32mIn[90], line 8\u001b[0m, in \u001b[0;36mD6.show\u001b[1;34m(self)\u001b[0m\n\u001b[0;32m      7\u001b[0m \u001b[38;5;28;01mdef\u001b[39;00m \u001b[38;5;21mshow\u001b[39m(\u001b[38;5;28mself\u001b[39m):\n\u001b[1;32m----> 8\u001b[0m     \u001b[38;5;28;01mreturn\u001b[39;00m \u001b[38;5;28;43mself\u001b[39;49m\u001b[38;5;241;43m.\u001b[39;49m\u001b[43mnumber\u001b[49m\n",
            "\u001b[1;31mAttributeError\u001b[0m: 'D6' object has no attribute 'number'"
          ]
        }
      ],
      "source": [
        "new_die = D6()\n",
        "print(new_die.show())"
      ]
    },
    {
      "cell_type": "markdown",
      "metadata": {
        "id": "oh_6pbZk07tV"
      },
      "source": [
        "```__init__```  \n",
        "  \n",
        "- It automatically runs when an object is called.\n",
        "- You can declare member variable(s)."
      ]
    },
    {
      "cell_type": "code",
      "execution_count": null,
      "metadata": {
        "id": "h82pNEf507tV"
      },
      "outputs": [],
      "source": [
        "import random\n",
        "class D6:\n",
        "\n",
        "    def __init__(self):\n",
        "        self.roll()\n",
        "\n",
        "    def roll(self):\n",
        "        self.number = random.randrange(1, 7)\n",
        "\n",
        "    def show(self):\n",
        "        return self.number\n"
      ]
    },
    {
      "cell_type": "code",
      "execution_count": null,
      "metadata": {
        "id": "ixqebZZ507tV",
        "outputId": "8c39c515-5424-4d02-9669-78f2c8a4dbcd"
      },
      "outputs": [
        {
          "name": "stdout",
          "output_type": "stream",
          "text": [
            "1\n"
          ]
        }
      ],
      "source": [
        "die = D6().show()\n",
        "print(die)"
      ]
    },
    {
      "cell_type": "code",
      "execution_count": null,
      "metadata": {
        "id": "cD1CFQMJ07tV",
        "outputId": "a025d5ee-fdfc-44c0-acc6-eee77ad301e3"
      },
      "outputs": [
        {
          "name": "stdout",
          "output_type": "stream",
          "text": [
            "5\n"
          ]
        }
      ],
      "source": [
        "die1 = D6()\n",
        "print(die1.show())"
      ]
    },
    {
      "cell_type": "markdown",
      "metadata": {
        "id": "eSV58pza07tV"
      },
      "source": [
        "- You can declare additional parameters.\n",
        "- In the case below, we will change the code so that it can encompass any form of die."
      ]
    },
    {
      "cell_type": "code",
      "execution_count": null,
      "metadata": {
        "id": "MIVwNRdX07tV"
      },
      "outputs": [],
      "source": [
        "import random\n",
        "class Die_n:\n",
        "\n",
        "    def __init__(self, n=6):\n",
        "        self.n = n\n",
        "        self.roll()\n",
        "\n",
        "    def roll(self):\n",
        "        self.number = random.randrange(1, self.n + 1)\n",
        "\n",
        "    def show(self):\n",
        "        return self.number"
      ]
    },
    {
      "cell_type": "code",
      "execution_count": null,
      "metadata": {
        "id": "IA-uqvYR07tV",
        "outputId": "11ac1f98-c7b1-4d52-f36f-55e2c46e0010"
      },
      "outputs": [
        {
          "name": "stdout",
          "output_type": "stream",
          "text": [
            "3\n"
          ]
        }
      ],
      "source": [
        "normal_d6 = Die_n()\n",
        "print(normal_d6.show())"
      ]
    },
    {
      "cell_type": "code",
      "execution_count": null,
      "metadata": {
        "id": "ceyNDT1207tV",
        "outputId": "cea21f06-20ff-4a79-eef3-7d2c9ceff76d"
      },
      "outputs": [
        {
          "name": "stdout",
          "output_type": "stream",
          "text": [
            "1\n"
          ]
        }
      ],
      "source": [
        "small_die = Die_n(4)\n",
        "print(big_die.show())"
      ]
    },
    {
      "cell_type": "code",
      "execution_count": null,
      "metadata": {
        "id": "xlGFFI7O07tW",
        "outputId": "3a813ee3-e98b-4ece-c679-376e47ea9262"
      },
      "outputs": [
        {
          "name": "stdout",
          "output_type": "stream",
          "text": [
            "6\n"
          ]
        }
      ],
      "source": [
        "big_die = Die_n(n=12)\n",
        "print(big_die.show())"
      ]
    },
    {
      "cell_type": "markdown",
      "metadata": {
        "jp-MarkdownHeadingCollapsed": true,
        "id": "m-HrfXaN07tW"
      },
      "source": [
        "### OOP Practice: Raising a Dragon 1  \n",
        "Let's create a simple game about raising a dragon.  \n",
        "The following actions will be performed:\n",
        "- The Dragon has a name.\n",
        "- When fed, its belly becomes full.\n",
        "- If its digestive system is full, it needs to go for a walk to relieve itself.\n",
        "- When put to sleep, it snores three times and then wakes up shortly after.\n",
        "- When tossed high into the sky, it enjoys it, and when rocked, it falls asleep but wakes up soon.\n",
        "- For each time an action is performed, it becomes hungrier, and its digestive system gets fuller.\n",
        "- If it becomes too hungry, the game ends. If its digestive system gets too full, ...you don't want that."
      ]
    },
    {
      "cell_type": "code",
      "execution_count": null,
      "metadata": {
        "id": "OpjY1OW307tW",
        "outputId": "009cdf8f-201c-409d-8f46-18521e0c3699"
      },
      "outputs": [
        {
          "name": "stdout",
          "output_type": "stream",
          "text": [
            "Dvalin is born.\n",
            "Dvalin is awake.\n",
            "Dvalin's belly status is 10.\n",
            "Dvalin's digestion status is 0.\n",
            "===============================\n",
            "Feeding Dvalin.\n",
            "===============================\n",
            "Dvalin's belly status is 10.\n",
            "Dvalin's digestion status is 1.\n",
            "===============================\n",
            "Took a walk with Dvalin.\n",
            "===============================\n",
            "Dvalin's belly status is 9.\n",
            "Dvalin's digestion status is 0.\n"
          ]
        }
      ],
      "source": [
        "# first, let's write the first three parts.\n",
        "\n",
        "class Dragon:\n",
        "\n",
        "    def __init__ (self, name=\"dora\"):\n",
        "        self.name = name\n",
        "        self.asleep = False\n",
        "        self.stuff_in_belly = 10\n",
        "        self.stuff_in_intestine = 0\n",
        "\n",
        "        print(\"%s is born.\" % self.name)\n",
        "\n",
        "        if self.asleep:\n",
        "            print(\"%s is sleeping now.\" % self.name)\n",
        "        else:\n",
        "            print(\"%s is awake.\" % self.name)\n",
        "\n",
        "        self.check_variables()\n",
        "\n",
        "    def feed(self):\n",
        "        print(\"===============================\")\n",
        "        print(\"Feeding %s.\" % self.name)\n",
        "        print(\"===============================\")\n",
        "        self.passage_of_time()\n",
        "        self.stuff_in_belly = 10\n",
        "        self.check_variables()\n",
        "\n",
        "    def walk(self):\n",
        "        print(\"===============================\")\n",
        "        print(\"Took a walk with %s.\" % self.name)\n",
        "        print(\"===============================\")\n",
        "        self.passage_of_time()\n",
        "        self.stuff_in_intestine = 0\n",
        "        self.check_variables()\n",
        "\n",
        "    def passage_of_time(self):\n",
        "        self.stuff_in_belly = self.stuff_in_belly - 1          # Empty the belly by one\n",
        "        self.stuff_in_intestine = self.stuff_in_intestine + 1  # Fill the intestine by one\n",
        "\n",
        "    def check_variables(self):\n",
        "        print(\"%s's belly status is %d.\" % (self.name, self.stuff_in_belly))\n",
        "        print(\"%s's digestion status is %d.\" % (self.name, self.stuff_in_intestine))\n",
        "\n",
        "\n",
        "dragon = Dragon(\"Dvalin\")\n",
        "dragon.feed()\n",
        "dragon.walk()"
      ]
    },
    {
      "cell_type": "markdown",
      "metadata": {
        "collapsed": true,
        "jupyter": {
          "outputs_hidden": true
        },
        "id": "ZQTMa_V007tW"
      },
      "source": [
        "### OOP Practice: Raising a Dragon 2  \n",
        "\n",
        "Let's write other methods as well."
      ]
    },
    {
      "cell_type": "code",
      "execution_count": null,
      "metadata": {
        "id": "TBVjIOuQ07tW"
      },
      "outputs": [],
      "source": [
        "class Dragon:\n",
        "\n",
        "    def __init__ (self, name=\"dora\"):\n",
        "        \"\"\"\n",
        "        Constructor: Initializes variables related to Dragon's creation and prints a creation message\n",
        "        Variables: name, asleep, stuff_in_belly, stuff_in_intestine\n",
        "        \"\"\"\n",
        "        self.name = name\n",
        "        self.asleep = False\n",
        "        self.stuff_in_belly = 10\n",
        "        self.stuff_in_intestine = 0\n",
        "        self.game_over = False\n",
        "\n",
        "        print(\"\\n===============================\")\n",
        "        print(\"%s is born.\" % self.name)\n",
        "        print(\"===============================\")\n",
        "        self.check_variables()\n",
        "\n",
        "    def feed(self):\n",
        "        \"\"\"\n",
        "        Feed method: Sets stuff_in_belly value to maximum (10)\n",
        "        Executes passage_of_time() once (advancing time)\n",
        "        \"\"\"\n",
        "        if self.game_over:\n",
        "            print(\"The game is over. You cannot perform any more actions.\")\n",
        "            return\n",
        "\n",
        "        print(\"\\n===============================\")\n",
        "        print(\"Feeding %s.\" % self.name)\n",
        "        print(\"===============================\")\n",
        "        self.stuff_in_belly = 11\n",
        "        self.passage_of_time()\n",
        "        if self.game_over == False:\n",
        "            self.check_variables()\n",
        "\n",
        "    def walk(self):\n",
        "        \"\"\"\n",
        "        Walk method: Sets stuff_in_intestine value to minimum (0)\n",
        "        Executes passage_of_time() once (advancing time)\n",
        "        \"\"\"\n",
        "        if self.game_over:\n",
        "            print(\"The game is over. You cannot perform any more actions.\")\n",
        "            return\n",
        "\n",
        "        print(\"\\n===============================\")\n",
        "        print(\"Took a walk with %s.\" % self.name)\n",
        "        print(\"===============================\")\n",
        "        self.stuff_in_intestine = -1\n",
        "        self.passage_of_time()\n",
        "        if self.game_over == False:\n",
        "            self.check_variables()\n",
        "\n",
        "    def toss(self):\n",
        "        \"\"\"\n",
        "        Toss method: Does not change internal variables.\n",
        "        Executes passage_of_time() once (serves the role of advancing time)\n",
        "        \"\"\"\n",
        "        if self.game_over:\n",
        "            print(\"The game is over. You cannot perform any more actions.\")\n",
        "            return\n",
        "\n",
        "        print(\"\\n===============================\")\n",
        "        print(\"Tossed %s high in the sky.\" % self.name)\n",
        "        print(\"===============================\")\n",
        "        print(\"It's enjoying it.\")\n",
        "        self.passage_of_time()\n",
        "        if self.game_over == False:\n",
        "            self.check_variables()\n",
        "\n",
        "    def rock(self):\n",
        "        \"\"\"\n",
        "        Rock method: Sets asleep variable to True, prints a message, then sets it back to False\n",
        "        Executes passage_of_time() once (serves the role of advancing time)\n",
        "        \"\"\"\n",
        "        if self.game_over:\n",
        "            print(\"The game is over. You cannot perform any more actions.\")\n",
        "            return\n",
        "\n",
        "        print(\"\\n===============================\")\n",
        "        print(\"Rocking %s in your arms.\" % self.name)\n",
        "        print(\"===============================\")\n",
        "        print(\"It fell asleep.\")\n",
        "        self.asleep = True\n",
        "        self.passage_of_time()\n",
        "        if self.asleep:\n",
        "            self.asleep = False\n",
        "            print(\"...but as soon as you stopped rocking, it woke up.\")\n",
        "        if self.game_over == False:\n",
        "            self.check_variables()\n",
        "\n",
        "    def put_to_bed(self):\n",
        "        if self.game_over:\n",
        "            print(\"The game is over. You cannot perform any more actions.\")\n",
        "            return\n",
        "\n",
        "        \"\"\"\n",
        "        Put to bed method: Sets asleep to True\n",
        "        Executes passage_of_time() three times.\n",
        "        Then sets asleep to False.\n",
        "        \"\"\"\n",
        "        print(\"\\n===============================\")\n",
        "        print(\"Putting %s to bed.\" % self.name)\n",
        "        print(\"===============================\")\n",
        "        self.asleep = True\n",
        "        for _ in range(3):\n",
        "            if self.asleep:\n",
        "                print(\"%s is snoring so much the room is filled with smoke!\" % self.name)\n",
        "                self.passage_of_time()\n",
        "        if self.asleep:\n",
        "            self.asleep = False\n",
        "            print(\"%s is trying to wake up.\" % self.name)\n",
        "\n",
        "        if self.game_over == False:\n",
        "            self.check_variables()\n",
        "\n",
        "    def passage_of_time(self):\n",
        "        \"\"\"\n",
        "        Passage of Time method: Executes one turn.\n",
        "        Increases stuff_in_belly and decreases stuff_in_intestine values as turns advance.\n",
        "        Also checks current hunger state and how full the intestines are, printing related messages.\n",
        "        \"\"\"\n",
        "\n",
        "        # Check whether the belly is hungry and proceed\n",
        "        if self.stuff_in_belly > 0: # Empty the belly and fill the intestines if there's something in the belly\n",
        "            self.stuff_in_belly = self.stuff_in_belly - 1  # Empty the belly\n",
        "            self.stuff_in_intestine = self.stuff_in_intestine + 1  # fill the intestines\n",
        "        else:  # In a hungry state (stuff_in_belly <= 0)\n",
        "            if self.asleep:  # If sleeping while hungry\n",
        "                self.asleep = False  # wake up\n",
        "                print(\"Suddenly it woke up!\")\n",
        "            print(\"%s is starving to death! It devours you.\" % self.name)\n",
        "            print(\"\\n===============================\")\n",
        "            print(\"GAME OVER\")\n",
        "            print(\"===============================\")\n",
        "            self.game_over = True\n",
        "            return\n",
        "\n",
        "        # Check how much the intestines are filled and then process\n",
        "        if self.stuff_in_intestine >= 10:  # When intestines are more than 10\n",
        "            self.stuff_in_intestine = 0  # Empty the intestines completely\n",
        "            print(\"Oh no! %s has just had an accident...\" % self.name)\n",
        "\n",
        "\n",
        "        # If hungry, notify in advance\n",
        "        if self.is_hungry():\n",
        "            if self.asleep:\n",
        "                self.asleep = False\n",
        "                print(\"Suddenly it woke up!\")\n",
        "            print(\"%s's stomach is growling...\" % self.name)\n",
        "\n",
        "        # If gotta go, notify in advance\n",
        "        if self.is_poopy():\n",
        "            if self.asleep:\n",
        "                self.asleep = False\n",
        "                print(\"Suddenly it woke up!\")\n",
        "            print(\"%s wants to go to the bathroom and doesn't know what to do.\" % self.name)\n",
        "\n",
        "    def is_hungry(self):\n",
        "        \"\"\"\n",
        "        If hungry (if less than or equal to 2, return true)\n",
        "        \"\"\"\n",
        "        if self.stuff_in_belly <= 2:\n",
        "            return True\n",
        "        else:\n",
        "            return False\n",
        "\n",
        "    def is_poopy(self):\n",
        "        \"\"\"\n",
        "        If intestines are full (if greater than or equal to 8, return true)\n",
        "        \"\"\"\n",
        "        if self.stuff_in_intestine >= 8:\n",
        "            return True\n",
        "        else:\n",
        "            return False\n",
        "\n",
        "    def check_variables(self):\n",
        "        \"\"\"\n",
        "        Print the values of the main internal variables (stuff_in_belly, stuff_in_intestine)\n",
        "        \"\"\"\n",
        "        print(\"%s's belly status is %d.\" % (self.name, self.stuff_in_belly))\n",
        "        print(\"%s's digestion status is %d.\" % (self.name, self.stuff_in_intestine))"
      ]
    },
    {
      "cell_type": "code",
      "execution_count": null,
      "metadata": {
        "scrolled": true,
        "id": "_9xtaCDv07tW",
        "outputId": "da676081-5018-4ffd-f551-c69b7755ee09"
      },
      "outputs": [
        {
          "name": "stdout",
          "output_type": "stream",
          "text": [
            "\n",
            "===============================\n",
            "dora is born.\n",
            "===============================\n",
            "dora's belly status is 10.\n",
            "dora's digestion status is 0.\n",
            "\n",
            "===============================\n",
            "Feeding dora.\n",
            "===============================\n",
            "dora's belly status is 10.\n",
            "dora's digestion status is 1.\n",
            "\n",
            "===============================\n",
            "Took a walk with dora.\n",
            "===============================\n",
            "dora's belly status is 9.\n",
            "dora's digestion status is 0.\n",
            "\n",
            "===============================\n",
            "Tossed dora high in the sky.\n",
            "===============================\n",
            "It's enjoying it.\n",
            "dora's belly status is 8.\n",
            "dora's digestion status is 1.\n",
            "\n",
            "===============================\n",
            "Tossed dora high in the sky.\n",
            "===============================\n",
            "It's enjoying it.\n",
            "dora's belly status is 7.\n",
            "dora's digestion status is 2.\n",
            "\n",
            "===============================\n",
            "Rocking dora in your arms.\n",
            "===============================\n",
            "It fell asleep.\n",
            "...but as soon as you stopped rocking, it woke up.\n",
            "dora's belly status is 6.\n",
            "dora's digestion status is 3.\n",
            "\n",
            "===============================\n",
            "Putting dora to bed.\n",
            "===============================\n",
            "dora is snoring so much the room is filled with smoke!\n",
            "dora is snoring so much the room is filled with smoke!\n",
            "dora is snoring so much the room is filled with smoke!\n",
            "dora is trying to wake up.\n",
            "dora's belly status is 3.\n",
            "dora's digestion status is 6.\n",
            "\n",
            "===============================\n",
            "Putting dora to bed.\n",
            "===============================\n",
            "dora is snoring so much the room is filled with smoke!\n",
            "Suddenly it woke up!\n",
            "dora's stomach is growling...\n",
            "dora's belly status is 2.\n",
            "dora's digestion status is 7.\n",
            "\n",
            "===============================\n",
            "Feeding dora.\n",
            "===============================\n",
            "dora wants to go to the bathroom and doesn't know what to do.\n",
            "dora's belly status is 10.\n",
            "dora's digestion status is 8.\n",
            "\n",
            "===============================\n",
            "Feeding dora.\n",
            "===============================\n",
            "dora wants to go to the bathroom and doesn't know what to do.\n",
            "dora's belly status is 10.\n",
            "dora's digestion status is 9.\n",
            "\n",
            "===============================\n",
            "Putting dora to bed.\n",
            "===============================\n",
            "dora is snoring so much the room is filled with smoke!\n",
            "Oh no! dora has just had an accident...\n",
            "dora is snoring so much the room is filled with smoke!\n",
            "dora is snoring so much the room is filled with smoke!\n",
            "dora is trying to wake up.\n",
            "dora's belly status is 7.\n",
            "dora's digestion status is 2.\n",
            "\n",
            "===============================\n",
            "Putting dora to bed.\n",
            "===============================\n",
            "dora is snoring so much the room is filled with smoke!\n",
            "dora is snoring so much the room is filled with smoke!\n",
            "dora is snoring so much the room is filled with smoke!\n",
            "dora is trying to wake up.\n",
            "dora's belly status is 4.\n",
            "dora's digestion status is 5.\n",
            "\n",
            "===============================\n",
            "Putting dora to bed.\n",
            "===============================\n",
            "dora is snoring so much the room is filled with smoke!\n",
            "dora is snoring so much the room is filled with smoke!\n",
            "Suddenly it woke up!\n",
            "dora's stomach is growling...\n",
            "dora's belly status is 2.\n",
            "dora's digestion status is 7.\n",
            "\n",
            "===============================\n",
            "Putting dora to bed.\n",
            "===============================\n",
            "dora is snoring so much the room is filled with smoke!\n",
            "Suddenly it woke up!\n",
            "dora's stomach is growling...\n",
            "dora wants to go to the bathroom and doesn't know what to do.\n",
            "dora's belly status is 1.\n",
            "dora's digestion status is 8.\n",
            "\n",
            "===============================\n",
            "Putting dora to bed.\n",
            "===============================\n",
            "dora is snoring so much the room is filled with smoke!\n",
            "Suddenly it woke up!\n",
            "dora's stomach is growling...\n",
            "dora wants to go to the bathroom and doesn't know what to do.\n",
            "dora's belly status is 0.\n",
            "dora's digestion status is 9.\n",
            "\n",
            "===============================\n",
            "Putting dora to bed.\n",
            "===============================\n",
            "dora is snoring so much the room is filled with smoke!\n",
            "Suddenly it woke up!\n",
            "dora is starving to death! It devours you.\n",
            "\n",
            "===============================\n",
            "GAME OVER\n",
            "===============================\n"
          ]
        }
      ],
      "source": [
        "dragon = Dragon()\n",
        "dragon.feed()\n",
        "dragon.walk()\n",
        "dragon.toss()\n",
        "dragon.toss()\n",
        "dragon.rock()\n",
        "dragon.put_to_bed()\n",
        "dragon.put_to_bed()\n",
        "dragon.feed()\n",
        "dragon.feed()\n",
        "dragon.put_to_bed()\n",
        "dragon.put_to_bed()\n",
        "dragon.put_to_bed()\n",
        "dragon.put_to_bed()\n",
        "dragon.put_to_bed()\n",
        "dragon.put_to_bed()"
      ]
    },
    {
      "cell_type": "code",
      "execution_count": null,
      "metadata": {
        "id": "hSAY92N307tX",
        "outputId": "71f548c4-9a5b-4528-91d5-09cb68e1eda6"
      },
      "outputs": [
        {
          "name": "stdout",
          "output_type": "stream",
          "text": [
            "The game is over. You cannot perform any more actions.\n"
          ]
        }
      ],
      "source": [
        "dragon.put_to_bed()"
      ]
    },
    {
      "cell_type": "markdown",
      "metadata": {
        "id": "i-3Dg_QO07tX"
      },
      "source": [
        "- Let's play the game interactively"
      ]
    },
    {
      "cell_type": "code",
      "execution_count": null,
      "metadata": {
        "id": "BwXktdS107tX",
        "outputId": "a8217b51-fd30-4f71-c0f9-690396f3d757"
      },
      "outputs": [
        {
          "name": "stdin",
          "output_type": "stream",
          "text": [
            ">> Enter your Dragon's name.  Dvalin\n"
          ]
        },
        {
          "name": "stdout",
          "output_type": "stream",
          "text": [
            "\n",
            "===============================\n",
            "Dvalin is born.\n",
            "===============================\n",
            "Dvalin's belly status is 10.\n",
            "Dvalin's digestion status is 0.\n",
            "\n",
            ">> commands:  feed, toss, walk, rock, put to bed, exit\n"
          ]
        },
        {
          "name": "stdin",
          "output_type": "stream",
          "text": [
            ">> Enter command:  exit\n"
          ]
        },
        {
          "name": "stdout",
          "output_type": "stream",
          "text": [
            ">> Exiting the game.\n"
          ]
        }
      ],
      "source": [
        "name = input(\">> Enter your Dragon's name. \")\n",
        "if name == \"\":\n",
        "    dragon = Dragon()\n",
        "else:\n",
        "    dragon = Dragon(name)\n",
        "\n",
        "status = True\n",
        "while status:\n",
        "    if dragon.game_over:\n",
        "        print(\">> Exiting the game.\")\n",
        "        break\n",
        "\n",
        "    print(\"\\n>> commands:  feed, toss, walk, rock, put to bed, exit\")\n",
        "    command = input(\">> Enter command: \")\n",
        "\n",
        "    if command == \"exit\":\n",
        "        print(\">> Exiting the game.\")\n",
        "        status = False\n",
        "    elif command == \"feed\":\n",
        "        dragon.feed()\n",
        "    elif command == \"toss\":\n",
        "        dragon.toss()\n",
        "    elif command == \"walk\":\n",
        "        dragon.walk()\n",
        "    elif command == \"rock\":\n",
        "        dragon.rock()\n",
        "    elif command == \"put to bed\":\n",
        "        dragon.put_to_bed()\n",
        "    else:\n",
        "        print(\">> Please only use the given commands.\")"
      ]
    }
  ],
  "metadata": {
    "kernelspec": {
      "display_name": "Python 3 (ipykernel)",
      "language": "python",
      "name": "python3"
    },
    "language_info": {
      "codemirror_mode": {
        "name": "ipython",
        "version": 3
      },
      "file_extension": ".py",
      "mimetype": "text/x-python",
      "name": "python",
      "nbconvert_exporter": "python",
      "pygments_lexer": "ipython3",
      "version": "3.11.4"
    },
    "colab": {
      "provenance": []
    }
  },
  "nbformat": 4,
  "nbformat_minor": 0
}