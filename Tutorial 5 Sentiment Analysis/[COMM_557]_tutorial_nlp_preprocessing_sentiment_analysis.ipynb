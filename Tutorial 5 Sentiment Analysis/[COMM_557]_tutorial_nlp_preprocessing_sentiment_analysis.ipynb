{
  "cells": [
    {
      "cell_type": "code",
      "source": [
        "!pip install vaderSentiment"
      ],
      "metadata": {
        "colab": {
          "base_uri": "https://localhost:8080/"
        },
        "id": "rTxtRIMOwEL8",
        "outputId": "cf118fce-09c1-4a20-8b5f-3aee67c93432"
      },
      "execution_count": 1,
      "outputs": [
        {
          "output_type": "stream",
          "name": "stdout",
          "text": [
            "Collecting vaderSentiment\n",
            "  Downloading vaderSentiment-3.3.2-py2.py3-none-any.whl (125 kB)\n",
            "\u001b[2K     \u001b[90m━━━━━━━━━━━━━━━━━━━━━━━━━━━━━━━━━━━━━━━━\u001b[0m \u001b[32m126.0/126.0 kB\u001b[0m \u001b[31m2.3 MB/s\u001b[0m eta \u001b[36m0:00:00\u001b[0m\n",
            "\u001b[?25hRequirement already satisfied: requests in /usr/local/lib/python3.10/dist-packages (from vaderSentiment) (2.31.0)\n",
            "Requirement already satisfied: charset-normalizer<4,>=2 in /usr/local/lib/python3.10/dist-packages (from requests->vaderSentiment) (3.3.0)\n",
            "Requirement already satisfied: idna<4,>=2.5 in /usr/local/lib/python3.10/dist-packages (from requests->vaderSentiment) (3.4)\n",
            "Requirement already satisfied: urllib3<3,>=1.21.1 in /usr/local/lib/python3.10/dist-packages (from requests->vaderSentiment) (2.0.7)\n",
            "Requirement already satisfied: certifi>=2017.4.17 in /usr/local/lib/python3.10/dist-packages (from requests->vaderSentiment) (2023.7.22)\n",
            "Installing collected packages: vaderSentiment\n",
            "Successfully installed vaderSentiment-3.3.2\n"
          ]
        }
      ]
    },
    {
      "cell_type": "code",
      "execution_count": 2,
      "metadata": {
        "id": "mqTZpWNKvZoY"
      },
      "outputs": [],
      "source": [
        "import pandas as pd\n",
        "import nltk\n",
        "from nltk.tokenize.toktok import ToktokTokenizer\n",
        "import spacy\n",
        "from datetime import datetime\n",
        "import re\n",
        "import string\n",
        "import unicodedata\n",
        "import random\n",
        "from gensim import corpora\n",
        "\n",
        "### Sentiment analysis\n",
        "from textblob import TextBlob\n",
        "from vaderSentiment.vaderSentiment import SentimentIntensityAnalyzer"
      ]
    },
    {
      "cell_type": "markdown",
      "metadata": {
        "id": "wsb9T2qqvZoZ"
      },
      "source": [
        "### Load Reddit data"
      ]
    },
    {
      "cell_type": "code",
      "execution_count": 3,
      "metadata": {
        "colab": {
          "base_uri": "https://localhost:8080/"
        },
        "id": "wK3EtNfmvZoa",
        "outputId": "159efd80-4bd6-4cc5-daf4-726fa82d72aa"
      },
      "outputs": [
        {
          "output_type": "execute_result",
          "data": {
            "text/plain": [
              "0                           I think it’s just a bad time.\n",
              "1       I’m on the hunt as well atm but with 3 YOE and...\n",
              "2       Data engineering is not really a natural progr...\n",
              "3       If you haven't yet check out r/dataengineering...\n",
              "4       Contractor at FAANg is definitely not somethin...\n",
              "                              ...                        \n",
              "1136    In most cases, the company extends these offer...\n",
              "1137    I wanna hear more about the consultant route o...\n",
              "1138    My thought process was if a company is willing...\n",
              "1139                                             Yea sure\n",
              "1140    An intern is temporary. A minor waste of resou...\n",
              "Name: body, Length: 1141, dtype: object"
            ]
          },
          "metadata": {},
          "execution_count": 3
        }
      ],
      "source": [
        "df = pd.read_csv(\"/content/rdatascience_submission_comments_df.csv\", index_col=[0])\n",
        "df['body'] = df['body'].astype('str')\n",
        "df['body']"
      ]
    },
    {
      "cell_type": "markdown",
      "metadata": {
        "id": "odOdOfc-vZoa"
      },
      "source": [
        "### Preprocessing text"
      ]
    },
    {
      "cell_type": "code",
      "execution_count": 4,
      "metadata": {
        "id": "mgvrhzv-vZoa"
      },
      "outputs": [],
      "source": [
        "# remove HTML links and special characters\n",
        "# choose functions that suit your neeeds\n",
        "\n",
        "def strip_links(text):\n",
        "    link_regex    = re.compile('((https?):((//)|(\\\\\\\\))+([\\w\\d:#@%/;$()~_?\\+-=\\\\\\.&](#!)?)*)', re.DOTALL)\n",
        "    links         = re.findall(link_regex, text)\n",
        "    for link in links:\n",
        "        text = text.replace(link[0], ' ')\n",
        "    return text\n",
        "\n",
        "def remove_special_characters(text, remove_digits=False):\n",
        "    pattern = r'[^a-zA-z0-9\\s]' if not remove_digits else r'[^a-zA-z\\s]'\n",
        "    text = re.sub(pattern, '', text)\n",
        "    text = unicodedata.normalize('NFKD', text).encode('ascii', 'ignore').decode('utf-8', 'ignore')\n",
        "    return text"
      ]
    },
    {
      "cell_type": "code",
      "execution_count": 5,
      "metadata": {
        "id": "1vr6JYwJvZob"
      },
      "outputs": [],
      "source": [
        "def process_posts(post):\n",
        "    post = strip_links(post)\n",
        "    post = remove_special_characters(post)\n",
        "    return post"
      ]
    },
    {
      "cell_type": "code",
      "execution_count": 6,
      "metadata": {
        "colab": {
          "base_uri": "https://localhost:8080/"
        },
        "id": "ctuNFIx6vZob",
        "outputId": "ecc0ee86-afbe-4a91-f928-b24f28ff95d1"
      },
      "outputs": [
        {
          "output_type": "execute_result",
          "data": {
            "text/plain": [
              "0                             I think its just a bad time\n",
              "1       Im on the hunt as well atm but with 3 YOE and ...\n",
              "2       Data engineering is not really a natural progr...\n",
              "3       If you havent yet check out rdataengineering\\n...\n",
              "4       Contractor at FAANg is definitely not somethin...\n",
              "                              ...                        \n",
              "1136    In most cases the company extends these offers...\n",
              "1137    I wanna hear more about the consultant route o...\n",
              "1138    My thought process was if a company is willing...\n",
              "1139                                             Yea sure\n",
              "1140    An intern is temporary A minor waste of resour...\n",
              "Name: body, Length: 1141, dtype: object"
            ]
          },
          "metadata": {},
          "execution_count": 6
        }
      ],
      "source": [
        "df.loc[:, 'body'] = df.body.apply(process_posts)\n",
        "df.body"
      ]
    },
    {
      "cell_type": "code",
      "execution_count": 7,
      "metadata": {
        "colab": {
          "base_uri": "https://localhost:8080/"
        },
        "id": "eZFabP5qvZoa",
        "outputId": "54c41d43-2cd0-4320-f7c2-c8078ca475d9"
      },
      "outputs": [
        {
          "output_type": "stream",
          "name": "stdout",
          "text": [
            "Also the program in GT starts in a year if I applied now Is there a way to start before that Is it difficult to get accepted into the program\n"
          ]
        }
      ],
      "source": [
        "# generate a random submission for sentiment analysis:\n",
        "i = random.choice(df.index)\n",
        "post = df.loc[i, 'body']\n",
        "print(post)"
      ]
    },
    {
      "cell_type": "markdown",
      "metadata": {
        "id": "zZeEg-28vZob"
      },
      "source": [
        "### Sentiment Analysis\n",
        "#### TextBlob"
      ]
    },
    {
      "cell_type": "code",
      "source": [
        "nltk.download('punkt')\n",
        "nltk.download('averaged_perceptron_tagger')\n",
        "nltk.download('brown')\n",
        "nltk.download('movie_reviews')"
      ],
      "metadata": {
        "colab": {
          "base_uri": "https://localhost:8080/"
        },
        "id": "xmn3htnsy9uu",
        "outputId": "d446d96f-6919-4665-a670-7abb774c7626"
      },
      "execution_count": 8,
      "outputs": [
        {
          "output_type": "stream",
          "name": "stderr",
          "text": [
            "[nltk_data] Downloading package punkt to /root/nltk_data...\n",
            "[nltk_data]   Unzipping tokenizers/punkt.zip.\n",
            "[nltk_data] Downloading package averaged_perceptron_tagger to\n",
            "[nltk_data]     /root/nltk_data...\n",
            "[nltk_data]   Unzipping taggers/averaged_perceptron_tagger.zip.\n",
            "[nltk_data] Downloading package brown to /root/nltk_data...\n",
            "[nltk_data]   Unzipping corpora/brown.zip.\n",
            "[nltk_data] Downloading package movie_reviews to /root/nltk_data...\n",
            "[nltk_data]   Unzipping corpora/movie_reviews.zip.\n"
          ]
        },
        {
          "output_type": "execute_result",
          "data": {
            "text/plain": [
              "True"
            ]
          },
          "metadata": {},
          "execution_count": 8
        }
      ]
    },
    {
      "cell_type": "code",
      "execution_count": 9,
      "metadata": {
        "colab": {
          "base_uri": "https://localhost:8080/"
        },
        "id": "p22_oBbdvZob",
        "outputId": "0f096a49-7776-459a-cefc-2491bc8031af"
      },
      "outputs": [
        {
          "output_type": "execute_result",
          "data": {
            "text/plain": [
              "Sentiment(polarity=-0.5, subjectivity=1.0)"
            ]
          },
          "metadata": {},
          "execution_count": 9
        }
      ],
      "source": [
        "blob = TextBlob(post)\n",
        "blob.sentiment"
      ]
    },
    {
      "cell_type": "markdown",
      "metadata": {
        "id": "wXHTftOGvZob"
      },
      "source": [
        "Textblob sentiment output:\n",
        "\n",
        "Polarity in [-1, 1] := [most negative, most positive]\n",
        "\n",
        "Subjectivity in [0, 1] := [factual, personal opinion]"
      ]
    },
    {
      "cell_type": "code",
      "execution_count": 10,
      "metadata": {
        "colab": {
          "base_uri": "https://localhost:8080/"
        },
        "id": "1RUx-kd_vZob",
        "outputId": "be699e41-2604-4c34-e015-df0f78fd40b3"
      },
      "outputs": [
        {
          "output_type": "execute_result",
          "data": {
            "text/plain": [
              "WordList(['Also', 'the', 'program', 'in', 'GT', 'starts', 'in', 'a', 'year', 'if', 'I', 'applied', 'now', 'Is', 'there', 'a', 'way', 'to', 'start', 'before', 'that', 'Is', 'it', 'difficult', 'to', 'get', 'accepted', 'into', 'the', 'program'])"
            ]
          },
          "metadata": {},
          "execution_count": 10
        }
      ],
      "source": [
        "blob.tokens"
      ]
    },
    {
      "cell_type": "code",
      "execution_count": 11,
      "metadata": {
        "colab": {
          "base_uri": "https://localhost:8080/"
        },
        "id": "Jbh3kSQmvZob",
        "outputId": "8dec6b3b-7c00-43d7-c97d-3683f55cb1e9"
      },
      "outputs": [
        {
          "output_type": "execute_result",
          "data": {
            "text/plain": [
              "[('Also', 'RB'),\n",
              " ('the', 'DT'),\n",
              " ('program', 'NN'),\n",
              " ('in', 'IN'),\n",
              " ('GT', 'NNP'),\n",
              " ('starts', 'NNS'),\n",
              " ('in', 'IN'),\n",
              " ('a', 'DT'),\n",
              " ('year', 'NN'),\n",
              " ('if', 'IN'),\n",
              " ('I', 'PRP'),\n",
              " ('applied', 'VBD'),\n",
              " ('now', 'RB'),\n",
              " ('Is', 'VBZ'),\n",
              " ('there', 'EX'),\n",
              " ('a', 'DT'),\n",
              " ('way', 'NN'),\n",
              " ('to', 'TO'),\n",
              " ('start', 'VB'),\n",
              " ('before', 'IN'),\n",
              " ('that', 'DT'),\n",
              " ('Is', 'VBZ'),\n",
              " ('it', 'PRP'),\n",
              " ('difficult', 'JJ'),\n",
              " ('to', 'TO'),\n",
              " ('get', 'VB'),\n",
              " ('accepted', 'VBN'),\n",
              " ('into', 'IN'),\n",
              " ('the', 'DT'),\n",
              " ('program', 'NN')]"
            ]
          },
          "metadata": {},
          "execution_count": 11
        }
      ],
      "source": [
        "blob.tags"
      ]
    },
    {
      "cell_type": "code",
      "execution_count": 12,
      "metadata": {
        "colab": {
          "base_uri": "https://localhost:8080/"
        },
        "id": "yY_OwmEhvZoc",
        "outputId": "ed2ba4b3-6512-4a64-ca39-1d0ef5cb0cd8"
      },
      "outputs": [
        {
          "output_type": "execute_result",
          "data": {
            "text/plain": [
              "WordList(['gt'])"
            ]
          },
          "metadata": {},
          "execution_count": 12
        }
      ],
      "source": [
        "blob.noun_phrases"
      ]
    },
    {
      "cell_type": "code",
      "execution_count": 13,
      "metadata": {
        "colab": {
          "base_uri": "https://localhost:8080/"
        },
        "id": "qzjeOYb9vZoc",
        "outputId": "a9e30060-ee93-4d64-b364-1c2fba4c1acc"
      },
      "outputs": [
        {
          "output_type": "execute_result",
          "data": {
            "text/plain": [
              "0"
            ]
          },
          "metadata": {},
          "execution_count": 13
        }
      ],
      "source": [
        "blob.words.count('pandemic')"
      ]
    },
    {
      "cell_type": "code",
      "execution_count": 14,
      "metadata": {
        "id": "L_fhJqqqvZoc"
      },
      "outputs": [],
      "source": [
        "test_msg1 = 'this is not the best football team'"
      ]
    },
    {
      "cell_type": "code",
      "execution_count": 15,
      "metadata": {
        "colab": {
          "base_uri": "https://localhost:8080/"
        },
        "id": "502RkgyjvZoc",
        "outputId": "49eb5131-2a0c-4415-ae6f-d44a288be238"
      },
      "outputs": [
        {
          "output_type": "execute_result",
          "data": {
            "text/plain": [
              "Sentiment(polarity=1.0, subjectivity=0.3)"
            ]
          },
          "metadata": {},
          "execution_count": 15
        }
      ],
      "source": [
        "blob = TextBlob(test_msg1)\n",
        "blob.sentiment"
      ]
    },
    {
      "cell_type": "code",
      "execution_count": 16,
      "metadata": {
        "id": "I8d3PXjYvZoc"
      },
      "outputs": [],
      "source": [
        "test_msg2 = 'hey this is not too bad'"
      ]
    },
    {
      "cell_type": "code",
      "execution_count": 17,
      "metadata": {
        "colab": {
          "base_uri": "https://localhost:8080/"
        },
        "id": "XqgUbuZPvZoc",
        "outputId": "4f7cede7-43ae-4df3-ad80-af8995934870"
      },
      "outputs": [
        {
          "output_type": "execute_result",
          "data": {
            "text/plain": [
              "Sentiment(polarity=-0.6999999999999998, subjectivity=0.6666666666666666)"
            ]
          },
          "metadata": {},
          "execution_count": 17
        }
      ],
      "source": [
        "blob = TextBlob(test_msg2)\n",
        "blob.sentiment"
      ]
    },
    {
      "cell_type": "code",
      "execution_count": 18,
      "metadata": {
        "colab": {
          "base_uri": "https://localhost:8080/"
        },
        "id": "vXoH5fBavZoc",
        "outputId": "7fd7eae5-f428-4803-b14b-1f5ce2ec9d73"
      },
      "outputs": [
        {
          "output_type": "stream",
          "name": "stdout",
          "text": [
            "this is not the best football team\n",
            "Sentiment(classification='neg', p_pos=0.41870201702509297, p_neg=0.5812979829749073)\n",
            "hey this is not too bad\n",
            "Sentiment(classification='neg', p_pos=0.21032203786065207, p_neg=0.7896779621393482)\n"
          ]
        }
      ],
      "source": [
        "# NaiveBayesAnalyzer option, trained on movie reviews\n",
        "from textblob.sentiments import NaiveBayesAnalyzer\n",
        "\n",
        "print(test_msg1)\n",
        "blob = TextBlob(test_msg1, analyzer=NaiveBayesAnalyzer())\n",
        "print(blob.sentiment)\n",
        "\n",
        "print(test_msg2)\n",
        "blob = TextBlob(test_msg2, analyzer=NaiveBayesAnalyzer())\n",
        "print(blob.sentiment)"
      ]
    },
    {
      "cell_type": "code",
      "execution_count": 19,
      "metadata": {
        "colab": {
          "base_uri": "https://localhost:8080/"
        },
        "id": "EzMOQMfmvZoc",
        "outputId": "ed9a98e4-3c15-4193-e7f3-8c40061d2bc6"
      },
      "outputs": [
        {
          "output_type": "execute_result",
          "data": {
            "text/plain": [
              "Sentiment(classification='pos', p_pos=0.8462095023744807, p_neg=0.15379049762552024)"
            ]
          },
          "metadata": {},
          "execution_count": 19
        }
      ],
      "source": [
        "blob = TextBlob(post, analyzer=NaiveBayesAnalyzer())\n",
        "blob.sentiment"
      ]
    },
    {
      "cell_type": "markdown",
      "metadata": {
        "id": "DDtZxt5mvZoc"
      },
      "source": [
        "Train your own classifers:\n",
        "https://textblob.readthedocs.io/en/dev/api_reference.html#module-textblob.classifiers"
      ]
    },
    {
      "cell_type": "markdown",
      "metadata": {
        "id": "5Sz4-6YavZoc"
      },
      "source": [
        "#### VADER (Valence Aware Dictionary and Sentiment Reasoner)"
      ]
    },
    {
      "cell_type": "code",
      "execution_count": 20,
      "metadata": {
        "id": "P6raNOUfvZoc"
      },
      "outputs": [],
      "source": [
        "#find sentiment vader\n",
        "analyser = SentimentIntensityAnalyzer()"
      ]
    },
    {
      "cell_type": "code",
      "execution_count": 21,
      "metadata": {
        "colab": {
          "base_uri": "https://localhost:8080/"
        },
        "id": "JKwDz3bJvZoc",
        "outputId": "a8ca76c2-4b56-4920-80b2-170fe3f9710c"
      },
      "outputs": [
        {
          "output_type": "stream",
          "name": "stdout",
          "text": [
            "Help on method polarity_scores in module vaderSentiment.vaderSentiment:\n",
            "\n",
            "polarity_scores(text) method of vaderSentiment.vaderSentiment.SentimentIntensityAnalyzer instance\n",
            "    Return a float for sentiment strength based on the input text.\n",
            "    Positive values are positive valence, negative value are negative\n",
            "    valence.\n",
            "\n"
          ]
        }
      ],
      "source": [
        "help(analyser.polarity_scores)"
      ]
    },
    {
      "cell_type": "markdown",
      "metadata": {
        "id": "lnRuhpwtvZoc"
      },
      "source": [
        "Compound scores in [-1, 1] := [most negative, most positive]\n",
        "\n",
        "neg, neu, pos in [0, 1]"
      ]
    },
    {
      "cell_type": "code",
      "execution_count": 22,
      "metadata": {
        "scrolled": true,
        "colab": {
          "base_uri": "https://localhost:8080/"
        },
        "id": "mk3IgT0YvZoc",
        "outputId": "e94c64f2-9d99-4426-abb7-3ed4169d57c7"
      },
      "outputs": [
        {
          "output_type": "stream",
          "name": "stdout",
          "text": [
            "{'neg': 0.0, 'neu': 0.654, 'pos': 0.346, 'compound': 0.5719}\n"
          ]
        }
      ],
      "source": [
        "sentiment = analyser.polarity_scores('This is an example of a happy post')\n",
        "print(sentiment)"
      ]
    },
    {
      "cell_type": "code",
      "execution_count": 23,
      "metadata": {
        "colab": {
          "base_uri": "https://localhost:8080/"
        },
        "id": "kwaGrrhYvZoc",
        "outputId": "ffa680b3-9ffd-4377-d2fc-a52f91523094"
      },
      "outputs": [
        {
          "output_type": "execute_result",
          "data": {
            "text/plain": [
              "1.0"
            ]
          },
          "metadata": {},
          "execution_count": 23
        }
      ],
      "source": [
        "sentiment['neg'] + sentiment['neu'] + sentiment['pos']"
      ]
    },
    {
      "cell_type": "code",
      "execution_count": 24,
      "metadata": {
        "colab": {
          "base_uri": "https://localhost:8080/"
        },
        "id": "eD2CM_0-vZoc",
        "outputId": "2fe70fae-52ed-411f-afc0-670f6cbcc316"
      },
      "outputs": [
        {
          "output_type": "stream",
          "name": "stdout",
          "text": [
            "{'neg': 0.0, 'neu': 0.637, 'pos': 0.363, 'compound': 0.6114}\n"
          ]
        }
      ],
      "source": [
        "# impact of punctuation\n",
        "sentiment = analyser.polarity_scores('This is an example of a happy post!')\n",
        "print(sentiment)"
      ]
    },
    {
      "cell_type": "code",
      "execution_count": 25,
      "metadata": {
        "colab": {
          "base_uri": "https://localhost:8080/"
        },
        "id": "rHGIRIYCvZoc",
        "outputId": "ae8cedb2-18d8-446a-c73c-f9ccef565659"
      },
      "outputs": [
        {
          "output_type": "stream",
          "name": "stdout",
          "text": [
            "{'neg': 0.0, 'neu': 0.65, 'pos': 0.35, 'compound': 0.7901}\n"
          ]
        }
      ],
      "source": [
        "# impact of emoji\n",
        "sentiment = analyser.polarity_scores('This is an example of a happy 😁 ❤️ post! ')\n",
        "print(sentiment)"
      ]
    },
    {
      "cell_type": "code",
      "execution_count": 26,
      "metadata": {
        "colab": {
          "base_uri": "https://localhost:8080/"
        },
        "id": "0HlduuJQvZoc",
        "outputId": "a08d9550-5092-47b1-b050-c98a88529017"
      },
      "outputs": [
        {
          "output_type": "stream",
          "name": "stdout",
          "text": [
            "this is not the best football team\n",
            "{'neg': 0.36, 'neu': 0.64, 'pos': 0.0, 'compound': -0.5216}\n",
            "hey this is not too bad\n",
            "{'neg': 0.0, 'neu': 0.637, 'pos': 0.363, 'compound': 0.431}\n"
          ]
        }
      ],
      "source": [
        "print(test_msg1)\n",
        "sentiment = analyser.polarity_scores(test_msg1)\n",
        "print(sentiment)\n",
        "\n",
        "print(test_msg2)\n",
        "sentiment = analyser.polarity_scores(test_msg2)\n",
        "print(sentiment)"
      ]
    },
    {
      "cell_type": "code",
      "source": [
        "print(post)\n",
        "sentiment = analyser.polarity_scores(post)\n",
        "print(sentiment)"
      ],
      "metadata": {
        "colab": {
          "base_uri": "https://localhost:8080/"
        },
        "id": "ZHoLmWIXFnLK",
        "outputId": "50ff7877-19b0-460a-aaa2-82df2d30959c"
      },
      "execution_count": 27,
      "outputs": [
        {
          "output_type": "stream",
          "name": "stdout",
          "text": [
            "Also the program in GT starts in a year if I applied now Is there a way to start before that Is it difficult to get accepted into the program\n",
            "{'neg': 0.073, 'neu': 0.784, 'pos': 0.143, 'compound': 0.347}\n"
          ]
        }
      ]
    },
    {
      "cell_type": "markdown",
      "metadata": {
        "id": "J9bfX-QkvZod"
      },
      "source": [
        "#### Extension\n",
        "\n",
        "Twitter roBERTa\n",
        "\n",
        "https://huggingface.co/cardiffnlp/twitter-roberta-base-sentiment\n",
        "\n",
        "Multilingual Twitter roBERTa: 8 languages (Ar, En, Fr, De, Hi, It, Sp, Pt)\n",
        "\n",
        "https://huggingface.co/cardiffnlp/twitter-xlm-roberta-base-sentiment\n"
      ]
    },
    {
      "cell_type": "markdown",
      "metadata": {
        "id": "m_RCl-USvZod"
      },
      "source": [
        "### Stemming/Lemming"
      ]
    },
    {
      "cell_type": "code",
      "execution_count": 28,
      "metadata": {
        "id": "rLxarKfLvZod"
      },
      "outputs": [],
      "source": [
        "# Stemming / Lemming\n",
        "\n",
        "### loading a spacy language model\n",
        "# python -m spacy download en_core_web_sm\n",
        "# https://spacy.io/models/en\n",
        "\n",
        "nlp = spacy.load('en_core_web_sm')\n",
        "\n",
        "def simple_stemmer(text):\n",
        "    ps = nltk.porter.PorterStemmer()\n",
        "    text = ' '.join([ps.stem(word) for word in text.split()])\n",
        "    return text\n",
        "\n",
        "def lemmatize_text(text):\n",
        "    text = nlp(text)\n",
        "    text = ' '.join([word.lemma_ if word.lemma_ != '-PRON-' else word.text for word in text])\n",
        "    return text"
      ]
    },
    {
      "cell_type": "code",
      "execution_count": 29,
      "metadata": {
        "colab": {
          "base_uri": "https://localhost:8080/"
        },
        "id": "lhVxNcRJvZod",
        "outputId": "07057b44-a950-4046-ad80-12c13dd788b6"
      },
      "outputs": [
        {
          "output_type": "stream",
          "name": "stdout",
          "text": [
            "Also the program in GT starts in a year if I applied now Is there a way to start before that Is it difficult to get accepted into the program\n",
            "------\n",
            "stemmed post:\n",
            "also the program in gt start in a year if i appli now is there a way to start befor that is it difficult to get accept into the program\n",
            "------\n",
            "lemmatized post:\n",
            "also the program in GT start in a year if I apply now be there a way to start before that be it difficult to get accept into the program\n"
          ]
        }
      ],
      "source": [
        "print(post)\n",
        "print('------\\nstemmed post:')\n",
        "print(simple_stemmer(post))\n",
        "print('------\\nlemmatized post:')\n",
        "print(lemmatize_text(post))"
      ]
    },
    {
      "cell_type": "markdown",
      "metadata": {
        "id": "RrZpPqp2vZod"
      },
      "source": [
        "### Tokenizing and Corpus Creation"
      ]
    },
    {
      "cell_type": "code",
      "execution_count": 30,
      "metadata": {
        "colab": {
          "base_uri": "https://localhost:8080/"
        },
        "id": "v1hN1Hx-vZod",
        "outputId": "56ef5427-229d-4fd1-9cfc-db099f3cc73e"
      },
      "outputs": [
        {
          "output_type": "stream",
          "name": "stderr",
          "text": [
            "[nltk_data] Downloading package stopwords to /root/nltk_data...\n",
            "[nltk_data]   Unzipping corpora/stopwords.zip.\n"
          ]
        },
        {
          "output_type": "execute_result",
          "data": {
            "text/plain": [
              "True"
            ]
          },
          "metadata": {},
          "execution_count": 30
        }
      ],
      "source": [
        "### Run this the first time\n",
        "nltk.download('stopwords')"
      ]
    },
    {
      "cell_type": "code",
      "execution_count": 31,
      "metadata": {
        "id": "jR18y_iJvZod"
      },
      "outputs": [],
      "source": [
        "tokenizer = ToktokTokenizer()\n",
        "stopword_list = nltk.corpus.stopwords.words('english')\n",
        "\n",
        "def remove_stopwords(text, is_lower_case=False):\n",
        "    tokens = tokenizer.tokenize(text)\n",
        "    tokens = [token.strip() for token in tokens]\n",
        "    if is_lower_case:\n",
        "        filtered_tokens = [token for token in tokens if token not in stopword_list]\n",
        "    else:\n",
        "        filtered_tokens = [token for token in tokens if token.lower() not in stopword_list]\n",
        "    filtered_text = ' '.join(filtered_tokens)\n",
        "    return filtered_text"
      ]
    },
    {
      "cell_type": "code",
      "execution_count": 32,
      "metadata": {
        "colab": {
          "base_uri": "https://localhost:8080/"
        },
        "id": "UHYdOC1ivZog",
        "outputId": "b65f6fc9-6c5a-4aa5-c2ef-6182ce19729e"
      },
      "outputs": [
        {
          "output_type": "stream",
          "name": "stdout",
          "text": [
            "1141\n",
            "4855\n"
          ]
        }
      ],
      "source": [
        "#Create corupus of all words\n",
        "words_corpus = []\n",
        "for elem in df.body:\n",
        "    # remove stop words\n",
        "    elem = remove_stopwords(elem)\n",
        "    # lemmatize text\n",
        "    elem = lemmatize_text(elem)\n",
        "    words_corpus.append(elem.lower().split())\n",
        "print(len(words_corpus))\n",
        "\n",
        "dictionary = corpora.Dictionary(words_corpus)\n",
        "print(len(dictionary))"
      ]
    },
    {
      "cell_type": "code",
      "execution_count": 33,
      "metadata": {
        "colab": {
          "base_uri": "https://localhost:8080/"
        },
        "id": "3WLAr4xTvZog",
        "outputId": "fcc1a857-55d8-4108-9719-a9c66c1d490c"
      },
      "outputs": [
        {
          "output_type": "execute_result",
          "data": {
            "text/plain": [
              "(1141, 32087)"
            ]
          },
          "metadata": {},
          "execution_count": 33
        }
      ],
      "source": [
        "dictionary.num_docs, dictionary.num_pos"
      ]
    },
    {
      "cell_type": "code",
      "execution_count": 34,
      "metadata": {
        "colab": {
          "base_uri": "https://localhost:8080/"
        },
        "id": "na9IWzbovZog",
        "outputId": "ce7aeaaa-c5cf-4afe-9e64-dca5c53628aa"
      },
      "outputs": [
        {
          "output_type": "execute_result",
          "data": {
            "text/plain": [
              "{'bad': 0,\n",
              " 'think': 1,\n",
              " 'time': 2,\n",
              " '3': 3,\n",
              " '400500': 4,\n",
              " 'ago': 5,\n",
              " 'application': 6,\n",
              " 'atm': 7,\n",
              " 'ats': 8,\n",
              " 'back': 9,\n",
              " 'bsc': 10,\n",
              " 'call': 11,\n",
              " 'case': 12,\n",
              " 'get': 13,\n",
              " 'hunt': 14,\n",
              " 'i': 15,\n",
              " 'issue': 16,\n",
              " 'm': 17,\n",
              " 'number': 18,\n",
              " 'offer': 19,\n",
              " 'pass': 20,\n",
              " 'place': 21,\n",
              " 'probably': 22,\n",
              " 'put': 23,\n",
              " 'resume': 24,\n",
              " 'rework': 25,\n",
              " 'scanner': 26,\n",
              " 'serious': 27,\n",
              " 'significant': 28,\n",
              " 'start': 29,\n",
              " 'tough': 30,\n",
              " 've': 31,\n",
              " 'week': 32,\n",
              " 'well': 33,\n",
              " 'yoe': 34,\n",
              " 'analyst': 35,\n",
              " 'code': 36,\n",
              " 'computer': 37,\n",
              " 'confidently': 38,\n",
              " 'cron': 39,\n",
              " 'datum': 40,\n",
              " 'engineering': 41,\n",
              " 'etc': 42,\n",
              " 'fake': 43,\n",
              " 'infrastructre': 44,\n",
              " 'job': 45,\n",
              " 'kafka': 46,\n",
              " 'know': 47,\n",
              " 'knowledge': 48,\n",
              " 'kubernetes': 49,\n",
              " 'natural': 50,\n",
              " 'need': 51,\n",
              " 'progression': 52,\n",
              " 'pull': 53,\n",
              " 'really': 54,\n",
              " 'require': 55,\n",
              " 'sas': 56,\n",
              " 'say': 57,\n",
              " 'science': 58,\n",
              " 'spark': 59,\n",
              " 'specialized': 60,\n",
              " 'stream': 61,\n",
              " 'thing': 62,\n",
              " 'work': 63,\n",
              " '35': 64,\n",
              " '45': 65,\n",
              " 'airflow': 66,\n",
              " 'also': 67,\n",
              " 'another': 68,\n",
              " 'aws': 69,\n",
              " 'check': 70,\n",
              " 'cloud': 71,\n",
              " 'competently': 72,\n",
              " 'da': 73,\n",
              " 'databrick': 74,\n",
              " 'dbt': 75,\n",
              " 'de': 76,\n",
              " 'demand': 77,\n",
              " 'example': 78,\n",
              " 'experience': 79,\n",
              " 'find': 80,\n",
              " 'fivetran': 81,\n",
              " 'have': 82,\n",
              " 'help': 83,\n",
              " 'june': 84,\n",
              " 'juniormid': 85,\n",
              " 'lay': 86,\n",
              " 'least': 87,\n",
              " 'like': 88,\n",
              " 'look': 89,\n",
              " 'make': 90,\n",
              " 'market': 91,\n",
              " 'matillion': 92,\n",
              " 'might': 93,\n",
              " 'modern': 94,\n",
              " 'niche': 95,\n",
              " 'not': 96,\n",
              " 'otherwise': 97,\n",
              " 'personal': 98,\n",
              " 'platform': 99,\n",
              " 'project': 100,\n",
              " 'rdataengineere': 101,\n",
              " 'redshift': 102,\n",
              " 'role': 103,\n",
              " 's': 104,\n",
              " 'show': 105,\n",
              " 'sme': 106,\n",
              " 'snowflake': 107,\n",
              " 'sort': 108,\n",
              " 'stack': 109,\n",
              " 'star': 110,\n",
              " 'sure': 111,\n",
              " 'that': 112,\n",
              " 'tool': 113,\n",
              " 'tooling': 114,\n",
              " 'transition': 115,\n",
              " 'use': 116,\n",
              " 'want': 117,\n",
              " 'would': 118,\n",
              " 'yet': 119,\n",
              " '150k': 120,\n",
              " 'already': 121,\n",
              " 'anything': 122,\n",
              " 'ask': 123,\n",
              " 'balk': 124,\n",
              " 'can': 125,\n",
              " 'candidate': 126,\n",
              " 'contractor': 127,\n",
              " 'cv': 128,\n",
              " 'definitely': 129,\n",
              " 'end': 130,\n",
              " 'expectationssome': 131,\n",
              " 'faang': 132,\n",
              " 'funnel': 133,\n",
              " 'general': 134,\n",
              " 'gloss': 135,\n",
              " 'go': 136,\n",
              " 'however': 137,\n",
              " 'list': 138,\n",
              " 'lot': 139,\n",
              " 'lucrative': 140,\n",
              " 'maybe': 141,\n",
              " 'narrow': 142,\n",
              " 'ofc': 143,\n",
              " 'ok': 144,\n",
              " 'one': 145,\n",
              " 'point': 146,\n",
              " 'recruiter': 147,\n",
              " 'salary': 148,\n",
              " 'screen': 149,\n",
              " 'see': 150,\n",
              " 'selection': 151,\n",
              " 'shell': 152,\n",
              " 'something': 153,\n",
              " 'specific': 154,\n",
              " 'substantial': 155,\n",
              " 'ther': 156,\n",
              " 'top': 157,\n",
              " 'will': 158,\n",
              " 'august': 159,\n",
              " 'bud': 160,\n",
              " 'people': 161,\n",
              " 'slow': 162,\n",
              " 'vacation': 163,\n",
              " 'away': 164,\n",
              " 'beat': 165,\n",
              " 'friend': 166,\n",
              " 'hand': 167,\n",
              " 'interest': 168,\n",
              " 'interview': 169,\n",
              " 'must': 170,\n",
              " 'nice': 171,\n",
              " 'rough': 172,\n",
              " 'ux': 173,\n",
              " '2': 174,\n",
              " 'apply': 175,\n",
              " 'half': 176,\n",
              " 'month': 177,\n",
              " 'new': 178,\n",
              " 'nothing': 179,\n",
              " 'permanent': 180,\n",
              " 'position': 181,\n",
              " 'proprietary': 182,\n",
              " 'scam': 183,\n",
              " 'search': 184,\n",
              " 'six': 185,\n",
              " 'take': 186,\n",
              " 'website': 187,\n",
              " 'world': 188,\n",
              " 'chance': 189,\n",
              " 'huge': 190,\n",
              " 'jump': 191,\n",
              " 'land': 192,\n",
              " 'slightly': 193,\n",
              " 'two': 194,\n",
              " 'without': 195,\n",
              " 'you': 196,\n",
              " 'zero': 197,\n",
              " '10': 198,\n",
              " '20': 199,\n",
              " '200': 200,\n",
              " '30': 201,\n",
              " '500': 202,\n",
              " '7': 203,\n",
              " '\\\\': 204,\n",
              " '\\\\2': 205,\n",
              " 'anecdotally': 206,\n",
              " 'annoying': 207,\n",
              " 'app': 208,\n",
              " 'bie': 209,\n",
              " 'broad': 210,\n",
              " 'cold': 211,\n",
              " 'combination': 212,\n",
              " 'come': 213,\n",
              " 'company': 214,\n",
              " 'contractorsfteonsiteremote': 215,\n",
              " 'crucial': 216,\n",
              " 'data': 217,\n",
              " 'deep': 218,\n",
              " 'do': 219,\n",
              " 'door': 220,\n",
              " 'engineer': 221,\n",
              " 'entrylevel': 222,\n",
              " 'even': 223,\n",
              " 'event': 224,\n",
              " 'explain': 225,\n",
              " 'focus': 226,\n",
              " 'folk': 227,\n",
              " 'front': 228,\n",
              " 'game': 229,\n",
              " 'grave': 230,\n",
              " 'ill': 231,\n",
              " 'include': 232,\n",
              " 'individual': 233,\n",
              " 'internal': 234,\n",
              " 'involve': 235,\n",
              " 'last': 236,\n",
              " 'linkedin': 237,\n",
              " 'listing': 238,\n",
              " 'luck': 239,\n",
              " 'mean': 240,\n",
              " 'meet': 241,\n",
              " 'meetup': 242,\n",
              " 'network': 243,\n",
              " 'networking': 244,\n",
              " 'never': 245,\n",
              " 'nowadays': 246,\n",
              " 'online': 247,\n",
              " 'open': 248,\n",
              " 'pay': 249,\n",
              " 'person': 250,\n",
              " 'quickly': 251,\n",
              " 're': 252,\n",
              " 'reach': 253,\n",
              " 'recommend': 254,\n",
              " 'referral': 255,\n",
              " 'send': 256,\n",
              " 'sentence': 257,\n",
              " 'strongly': 258,\n",
              " 'swear': 259,\n",
              " 'tailoring': 260,\n",
              " 'target': 261,\n",
              " 'they': 262,\n",
              " 'unfair': 263,\n",
              " 'unless': 264,\n",
              " 'usually': 265,\n",
              " 'vs': 266,\n",
              " 'warm': 267,\n",
              " 'way': 268,\n",
              " 'willing': 269,\n",
              " 'x200b': 270,\n",
              " 'batch': 271,\n",
              " 'first': 272,\n",
              " 'keep': 273,\n",
              " '14': 274,\n",
              " '15': 275,\n",
              " '32k': 276,\n",
              " '4': 277,\n",
              " '9': 278,\n",
              " 'analytic': 279,\n",
              " 'current': 280,\n",
              " 'dadebids': 281,\n",
              " 'exact': 282,\n",
              " 'far': 283,\n",
              " 'fulltime': 284,\n",
              " 'masters': 285,\n",
              " 'ongoing': 286,\n",
              " 'part': 287,\n",
              " 'reject': 288,\n",
              " 'remote': 289,\n",
              " 'round': 290,\n",
              " 'second': 291,\n",
              " 'similar': 292,\n",
              " 'since': 293,\n",
              " '6': 294,\n",
              " 'bank': 295,\n",
              " 'become': 296,\n",
              " 'currently': 297,\n",
              " 'either': 298,\n",
              " 'gis': 299,\n",
              " 'industry': 300,\n",
              " 'it': 301,\n",
              " 'learning': 302,\n",
              " 'll': 303,\n",
              " 'meantime': 304,\n",
              " 'skill': 305,\n",
              " 'year': 306,\n",
              " 'contract': 307,\n",
              " 'era': 308,\n",
              " 'firm': 309,\n",
              " 'important': 310,\n",
              " 'lead': 311,\n",
              " 'major': 312,\n",
              " 'member': 313,\n",
              " 'past': 314,\n",
              " 'software': 315,\n",
              " 'staff': 316,\n",
              " 'still': 317,\n",
              " '1': 318,\n",
              " '12': 319,\n",
              " '25': 320,\n",
              " '84': 321,\n",
              " 'almost': 322,\n",
              " 'assume': 323,\n",
              " 'cover': 324,\n",
              " 'day': 325,\n",
              " 'different': 326,\n",
              " 'every': 327,\n",
              " 'going': 328,\n",
              " 'guarantee': 329,\n",
              " 'hour': 330,\n",
              " 'ignore': 331,\n",
              " 'incorporate': 332,\n",
              " 'indeed': 333,\n",
              " 'kind': 334,\n",
              " 'letter': 335,\n",
              " 'likely': 336,\n",
              " 'long': 337,\n",
              " 'minute': 338,\n",
              " 'much': 339,\n",
              " 'oneclick': 340,\n",
              " 'outstanding': 341,\n",
              " 'ridiculous': 342,\n",
              " 'separate': 343,\n",
              " 'seriously': 344,\n",
              " 'site': 345,\n",
              " 'slowly': 346,\n",
              " 'speed': 347,\n",
              " 'tailor': 348,\n",
              " 'us': 349,\n",
              " 'value': 350,\n",
              " 'version': 351,\n",
              " 'write': 352,\n",
              " '2008': 353,\n",
              " 'be': 354,\n",
              " 'career': 355,\n",
              " 'coach': 356,\n",
              " 'direction': 357,\n",
              " 'fact': 358,\n",
              " 'head': 359,\n",
              " 'move': 360,\n",
              " 'next': 361,\n",
              " 'odd': 362,\n",
              " 'professional': 363,\n",
              " 'resumes': 364,\n",
              " 'right': 365,\n",
              " 'stage': 366,\n",
              " 'true': 367,\n",
              " 'wellcrafte': 368,\n",
              " 'blind': 369,\n",
              " 'cooprecruite': 370,\n",
              " 'efficient': 371,\n",
              " 'eg': 372,\n",
              " 'outside': 373,\n",
              " 'pipeline': 374,\n",
              " 'program': 375,\n",
              " 'recruiting': 376,\n",
              " 'school': 377,\n",
              " 'ton': 378,\n",
              " 'bia': 379,\n",
              " 'dm': 380,\n",
              " 'hire': 381,\n",
              " 'interested': 382,\n",
              " 'team': 383,\n",
              " 'change': 384,\n",
              " 'colleague': 385,\n",
              " 'crisis': 386,\n",
              " 'depend': 387,\n",
              " 'economic': 388,\n",
              " 'else': 389,\n",
              " 'employee': 390,\n",
              " 'entrepreneur': 391,\n",
              " 'financial': 392,\n",
              " 'fucking': 393,\n",
              " 'got': 394,\n",
              " 'hope': 395,\n",
              " 'inflation': 396,\n",
              " 'layoff': 397,\n",
              " 'many': 398,\n",
              " 'million': 399,\n",
              " 'nightmare': 400,\n",
              " 'nobody': 401,\n",
              " 'obvious': 402,\n",
              " 'operate': 403,\n",
              " 'pandemic': 404,\n",
              " 'shit': 405,\n",
              " 'societal': 406,\n",
              " 'street': 407,\n",
              " 'switch': 408,\n",
              " 'tech': 409,\n",
              " 'terrible': 410,\n",
              " 'there': 411,\n",
              " 'to': 412,\n",
              " 'twitter': 413,\n",
              " 'unbearable': 414,\n",
              " 'we': 415,\n",
              " 'worker': 416,\n",
              " 'jobless': 417,\n",
              " 'expect': 418,\n",
              " 'understand': 419,\n",
              " 'actually': 420,\n",
              " 'low': 421,\n",
              " 'pretty': 422,\n",
              " 'sadly': 423,\n",
              " 'easy': 424,\n",
              " 'scientist': 425,\n",
              " 'senior': 426,\n",
              " 'mentor': 427,\n",
              " 'mid': 428,\n",
              " 'november': 429,\n",
              " 'ramp': 430,\n",
              " 'thanksgiving': 431,\n",
              " 'who': 432,\n",
              " 'add': 433,\n",
              " 'difficult': 434,\n",
              " 'everything': 435,\n",
              " 'finally': 436,\n",
              " 'fit': 437,\n",
              " 'give': 438,\n",
              " 'good': 439,\n",
              " 'instead': 440,\n",
              " 'little': 441,\n",
              " 'lower': 442,\n",
              " 'try': 443,\n",
              " 'unemployment': 444,\n",
              " 'abstract': 445,\n",
              " 'base': 446,\n",
              " 'bi': 447,\n",
              " 'big': 448,\n",
              " 'journey': 449,\n",
              " 'jupyter': 450,\n",
              " 'leap': 451,\n",
              " 'notebookbut': 452,\n",
              " 'primarily': 453,\n",
              " 'python': 454,\n",
              " 'sql': 455,\n",
              " 'yeah': 456,\n",
              " 'applying': 457,\n",
              " 'craft': 458,\n",
              " 'crazy': 459,\n",
              " 'meare': 460,\n",
              " 'quality': 461,\n",
              " 'utilize': 462,\n",
              " 'wonder': 463,\n",
              " 'h1b': 464,\n",
              " 'visa': 465,\n",
              " 'everyone': 466,\n",
              " 'seem': 467,\n",
              " 'struggle': 468,\n",
              " 'sub': 469,\n",
              " 'af': 470,\n",
              " 'luckily': 471,\n",
              " 'yup': 472,\n",
              " 'may': 473,\n",
              " 'tricky': 474,\n",
              " 'd': 475,\n",
              " 'figure': 476,\n",
              " 'how': 477,\n",
              " 'cause': 478,\n",
              " 'actual': 479,\n",
              " 'addition': 480,\n",
              " 'anyone': 481,\n",
              " 'caliber': 482,\n",
              " 'convince': 483,\n",
              " 'demonstrate': 484,\n",
              " 'entry': 485,\n",
              " 'frame': 486,\n",
              " 'join': 487,\n",
              " 'learn': 488,\n",
              " 'let': 489,\n",
              " 'level': 490,\n",
              " 'light': 491,\n",
              " 'manipulate': 492,\n",
              " 'mscs': 493,\n",
              " 'op': 494,\n",
              " 'override': 495,\n",
              " 'pivot': 496,\n",
              " 'recover': 497,\n",
              " 'regular': 498,\n",
              " 'swap': 499,\n",
              " 'swe': 500,\n",
              " '90': 501,\n",
              " 'college': 502,\n",
              " 'common': 503,\n",
              " 'cs': 504,\n",
              " 'difference': 505,\n",
              " 'ds': 506,\n",
              " 'etl': 507,\n",
              " 'finicky': 508,\n",
              " 'grad': 509,\n",
              " 'label': 510,\n",
              " 'mostly': 511,\n",
              " 'r': 512,\n",
              " 'stuff': 513,\n",
              " 'none': 514,\n",
              " 'within': 515,\n",
              " 'course': 516,\n",
              " 'extra': 517,\n",
              " 'nowand': 518,\n",
              " 'ppl': 519,\n",
              " 'mention': 520,\n",
              " 'relate': 521,\n",
              " 'udemy': 522,\n",
              " 'unfortunately': 523,\n",
              " 'able': 524,\n",
              " '100k': 525,\n",
              " '70k': 526,\n",
              " 'beside': 527,\n",
              " 'happy': 528,\n",
              " 'input': 529,\n",
              " 'notice': 530,\n",
              " 'sense': 531,\n",
              " 'thank': 532,\n",
              " 'title': 533,\n",
              " 'earn': 534,\n",
              " 'fresh': 535,\n",
              " 'hear': 536,\n",
              " 'profit': 537,\n",
              " 'scream': 538,\n",
              " 'ui': 539,\n",
              " 'woman': 540,\n",
              " 'x': 541,\n",
              " 'advice': 542,\n",
              " 'effective': 543,\n",
              " 'stick': 544,\n",
              " 'thought': 545,\n",
              " 'wonderful': 546,\n",
              " 'wild': 547,\n",
              " 'locate': 548,\n",
              " 'scary': 549,\n",
              " 'feel': 550,\n",
              " 'pain': 551,\n",
              " 'analystscientist': 552,\n",
              " 'bit': 553,\n",
              " 'cheeky': 554,\n",
              " 'concerted': 555,\n",
              " 'devengineering': 556,\n",
              " 'effort': 557,\n",
              " 'free': 558,\n",
              " 'jobscanner': 559,\n",
              " 'kinda': 560,\n",
              " 'lol': 561,\n",
              " 'personalize': 562,\n",
              " 'post': 563,\n",
              " 'seemed': 564,\n",
              " 'slog': 565,\n",
              " 'sprinkle': 566,\n",
              " 'trial': 567,\n",
              " '24': 568,\n",
              " 'applicant': 569,\n",
              " 'consider': 570,\n",
              " 'department': 571,\n",
              " 'figured': 572,\n",
              " 'heluva': 573,\n",
              " 'hr': 574,\n",
              " 'large': 575,\n",
              " 'less': 576,\n",
              " 'often': 577,\n",
              " 'reply': 578,\n",
              " 'review': 579,\n",
              " 'short': 580,\n",
              " 'submit': 581,\n",
              " 'turnaround': 582,\n",
              " 'unreasonable': 583,\n",
              " 'chickenandegg': 584,\n",
              " 'feeling': 585,\n",
              " 'problem': 586,\n",
              " 'agree': 587,\n",
              " 'background': 588,\n",
              " 'business': 589,\n",
              " 'engineers': 590,\n",
              " 'excellent': 591,\n",
              " 'finnicky': 592,\n",
              " 'intelligence': 593,\n",
              " 'programmer': 594,\n",
              " 'prefer': 595,\n",
              " 'hard': 596,\n",
              " 'matter': 597,\n",
              " 'imagine': 598,\n",
              " '20152016': 599,\n",
              " 'accomplish': 600,\n",
              " 'aggregation': 601,\n",
              " 'always': 602,\n",
              " 'around': 603,\n",
              " 'benefit': 604,\n",
              " 'biased': 605,\n",
              " 'build': 606,\n",
              " 'care': 607,\n",
              " 'codecademy': 608,\n",
              " 'compelling': 609,\n",
              " 'could': 610,\n",
              " 'datacamp': 611,\n",
              " 'decent': 612,\n",
              " 'depth': 613,\n",
              " 'design': 614,\n",
              " 'detail': 615,\n",
              " 'disparate': 616,\n",
              " 'encourage': 617,\n",
              " 'excited': 618,\n",
              " 'goal': 619,\n",
              " 'host': 620,\n",
              " 'link': 621,\n",
              " 'love': 622,\n",
              " 'main': 623,\n",
              " 'manage': 624,\n",
              " 'motivate': 625,\n",
              " 'news': 626,\n",
              " 'nlp': 627,\n",
              " 'orchestration': 628,\n",
              " 'outcome': 629,\n",
              " 'pbl': 630,\n",
              " 'pbls': 631,\n",
              " 'process': 632,\n",
              " 'product': 633,\n",
              " 'real': 634,\n",
              " 'result': 635,\n",
              " 'run': 636,\n",
              " 'scale': 637,\n",
              " 'side': 638,\n",
              " 'solve': 639,\n",
              " 'source': 640,\n",
              " 'step': 641,\n",
              " 'store': 642,\n",
              " 'story': 643,\n",
              " 'talk': 644,\n",
              " 'task': 645,\n",
              " 'teacher': 646,\n",
              " 'together': 647,\n",
              " 'topic': 648,\n",
              " 'towards': 649,\n",
              " 'turn': 650,\n",
              " 'unbiase': 651,\n",
              " '116': 652,\n",
              " '2020': 653,\n",
              " '60': 654,\n",
              " 'apparently': 655,\n",
              " 'cancel': 656,\n",
              " 'counter': 657,\n",
              " 'deal': 658,\n",
              " 'deprioritize': 659,\n",
              " 'direct': 660,\n",
              " 'fortune': 661,\n",
              " 'forward': 662,\n",
              " 'happen': 663,\n",
              " 'healthcare': 664,\n",
              " 'high': 665,\n",
              " 'life': 666,\n",
              " 'minimal': 667,\n",
              " 'moved': 668,\n",
              " 'opposite': 669,\n",
              " 'previously': 670,\n",
              " 'relatively': 671,\n",
              " 'small': 672,\n",
              " 'startup': 673,\n",
              " 'success': 674,\n",
              " 'tc': 675,\n",
              " 'type': 676,\n",
              " 'ymmv': 677,\n",
              " 'apple': 678,\n",
              " 'architect': 679,\n",
              " 'b': 680,\n",
              " 'boom': 681,\n",
              " 'bust': 682,\n",
              " 'communicate': 683,\n",
              " 'cycle': 684,\n",
              " 'drive': 685,\n",
              " 'facebook': 686,\n",
              " 'generally': 687,\n",
              " 'hiring': 688,\n",
              " 'imo': 689,\n",
              " 'l2': 690,\n",
              " 'l6': 691,\n",
              " 'medium': 692,\n",
              " 'nonsense': 693,\n",
              " 'overlap': 694,\n",
              " 'piece': 695,\n",
              " 'pressure': 696,\n",
              " 'public': 697,\n",
              " 'reachout': 698,\n",
              " 'relevant': 699,\n",
              " 'requirement': 700,\n",
              " 'sale': 701,\n",
              " 'set': 702,\n",
              " 'sized': 703,\n",
              " 'solution': 704,\n",
              " 'someone': 705,\n",
              " 'speak': 706,\n",
              " 'spend': 707,\n",
              " 'stock': 708,\n",
              " 'strong': 709,\n",
              " 'vicious': 710,\n",
              " 'whim': 711,\n",
              " 'frequency': 712,\n",
              " 'glassdoor': 713,\n",
              " 'order': 714,\n",
              " 'simplify': 715,\n",
              " 'citizen': 716,\n",
              " 'nyc': 717,\n",
              " 'chatgpt': 718,\n",
              " 'extremely': 719,\n",
              " 'helpful': 720,\n",
              " 'jobscanne': 721,\n",
              " 'analytics': 722,\n",
              " 'best': 723,\n",
              " 'challenge': 724,\n",
              " 'foot': 725,\n",
              " 'history': 726,\n",
              " 'intersection': 727,\n",
              " 'option': 728,\n",
              " 'pop': 729,\n",
              " 'throw': 730,\n",
              " 'datascience': 731,\n",
              " 'fullstack': 732,\n",
              " 'stepping': 733,\n",
              " 'stone': 734,\n",
              " 'complain': 735,\n",
              " 'diversifie': 736,\n",
              " 'familiar': 737,\n",
              " 'honestly': 738,\n",
              " 'plus': 739,\n",
              " 'shortsighted': 740,\n",
              " 'totally': 741,\n",
              " 'traditional': 742,\n",
              " 'useful': 743,\n",
              " 'apart': 744,\n",
              " 'bundled': 745,\n",
              " 'cleanse': 746,\n",
              " 'devops': 747,\n",
              " 'exclude': 748,\n",
              " 'modeling': 749,\n",
              " 'warehouse': 750,\n",
              " 'competitive': 751,\n",
              " 'careful': 752,\n",
              " 'develop': 753,\n",
              " 'early': 754,\n",
              " 'especially': 755,\n",
              " 'great': 756,\n",
              " 'hurt': 757,\n",
              " 'paper': 758,\n",
              " 'particular': 759,\n",
              " 'skillset': 760,\n",
              " 'sound': 761,\n",
              " '5': 762,\n",
              " 'cluster': 763,\n",
              " 'genius': 764,\n",
              " 'google': 765,\n",
              " 'handed': 766,\n",
              " 'infrastructure': 767,\n",
              " 'invent': 768,\n",
              " 'kubernete': 769,\n",
              " 'l5': 770,\n",
              " 'practice': 771,\n",
              " 'proper': 772,\n",
              " 'security': 773,\n",
              " 'simply': 774,\n",
              " 'tells': 775,\n",
              " 'follow': 776,\n",
              " 'spending': 777,\n",
              " 'tutorial': 778,\n",
              " 'amount': 779,\n",
              " 'auditor': 780,\n",
              " 'bias': 781,\n",
              " 'city': 782,\n",
              " 'collect': 783,\n",
              " 'concern': 784,\n",
              " 'crime': 785,\n",
              " 'ethical': 786,\n",
              " 'evidence': 787,\n",
              " 'government': 788,\n",
              " 'investigate': 789,\n",
              " 'ml': 790,\n",
              " 'organization': 791,\n",
              " 'popular': 792,\n",
              " 'professor': 793,\n",
              " 'red': 794,\n",
              " 'suggest': 795,\n",
              " 'suspicious': 796,\n",
              " 'tape': 797,\n",
              " 'transactional': 798,\n",
              " 'charge': 799,\n",
              " 'conflicted': 800,\n",
              " 'dependent': 801,\n",
              " 'distinction': 802,\n",
              " 'happening': 803,\n",
              " 'insurmountably': 804,\n",
              " 'pleae': 805,\n",
              " 'police': 806,\n",
              " 'policy': 807,\n",
              " 'prosecute': 808,\n",
              " 'report': 809,\n",
              " 'skeptical': 810,\n",
              " 'account': 811,\n",
              " 'bullshit': 812,\n",
              " 'calculate': 813,\n",
              " 'chapter': 814,\n",
              " 'complexity': 815,\n",
              " 'context': 816,\n",
              " 'decide': 817,\n",
              " 'economist': 818,\n",
              " 'freakonomic': 819,\n",
              " 'illegal': 820,\n",
              " 'interesting': 821,\n",
              " 'judge': 822,\n",
              " 'rate': 823,\n",
              " 'reason': 824,\n",
              " 'recidivism': 825,\n",
              " 'state': 826,\n",
              " 'study': 827,\n",
              " 'thirdparty': 828,\n",
              " 'total': 829,\n",
              " 'transparent': 830,\n",
              " '[': 831,\n",
              " ']': 832,\n",
              " 'allocate': 833,\n",
              " 'analyse': 834,\n",
              " 'answer': 835,\n",
              " 'appetite': 836,\n",
              " 'arrest': 837,\n",
              " 'assessment': 838,\n",
              " 'bail': 839,\n",
              " 'beyond': 840,\n",
              " 'button': 841,\n",
              " 'causal': 842,\n",
              " 'cetera': 843,\n",
              " 'clean': 844,\n",
              " 'close': 845,\n",
              " 'collection': 846,\n",
              " 'conduct': 847,\n",
              " 'control': 848,\n",
              " 'cost': 849,\n",
              " 'criminal': 850,\n",
              " 'decision': 851,\n",
              " 'defendant': 852,\n",
              " 'detention': 853,\n",
              " 'determine': 854,\n",
              " 'et': 855,\n",
              " 'ethically': 856,\n",
              " 'experiment': 857,\n",
              " 'form': 858,\n",
              " 'generate': 859,\n",
              " 'generating': 860,\n",
              " 'ground': 861,\n",
              " 'grow': 862,\n",
              " 'guide': 863,\n",
              " 'honest': 864,\n",
              " 'hot': 865,\n",
              " 'idea': 866,\n",
              " 'impact': 867,\n",
              " 'inference': 868,\n",
              " 'inferential': 869,\n",
              " 'instance': 870,\n",
              " 'jurisdiction': 871,\n",
              " 'justice': 872,\n",
              " 'justify': 873,\n",
              " 'majority': 874,\n",
              " 'model': 875,\n",
              " 'observational': 876,\n",
              " 'occasional': 877,\n",
              " 'percentage': 878,\n",
              " 'plea': 879,\n",
              " 'politic': 880,\n",
              " 'predict': 881,\n",
              " 'prediction': 882,\n",
              " 'predictive': 883,\n",
              " 'press': 884,\n",
              " 'pretrial': 885,\n",
              " 'private': 886,\n",
              " 'purpose': 887,\n",
              " 'question': 888,\n",
              " 'quite': 889,\n",
              " 'random': 890,\n",
              " 'reform': 891,\n",
              " 'release': 892,\n",
              " 'research': 893,\n",
              " 'researcher': 894,\n",
              " 'resource': 895,\n",
              " 'risk': 896,\n",
              " 'sexy': 897,\n",
              " 'slice': 898,\n",
              " 'states': 899,\n",
              " 'statistic': 900,\n",
              " 'subset': 901,\n",
              " 'summary': 902,\n",
              " 'support': 903,\n",
              " 'surprise': 904,\n",
              " 'terribly': 905,\n",
              " 'throughout': 906,\n",
              " 'times': 907,\n",
              " 'transformation': 908,\n",
              " 'united': 909,\n",
              " 'victim': 910,\n",
              " 'visualize': 911,\n",
              " 'what': 912,\n",
              " 'widespread': 913,\n",
              " 'area': 914,\n",
              " 'basically': 915,\n",
              " 'black': 916,\n",
              " 'conclusively': 917,\n",
              " 'cop': 918,\n",
              " 'country': 919,\n",
              " 'geolitica': 920,\n",
              " 'highly': 921,\n",
              " 'investigation': 922,\n",
              " 'methodology': 923,\n",
              " 'neighborhood': 924,\n",
              " 'policing': 925,\n",
              " 'predpol': 926,\n",
              " 'reading': 927,\n",
              " 'reporter': 928,\n",
              " 'sell': 929,\n",
              " 'thinking': 930,\n",
              " 'cathy': 931,\n",
              " 'destruction': 932,\n",
              " 'initiative': 933,\n",
              " 'math': 934,\n",
              " 'oneil': 935,\n",
              " 'weapons': 936,\n",
              " 'act': 937,\n",
              " 'block': 938,\n",
              " 'burglary': 939,\n",
              " 'catch': 940,\n",
              " 'climb': 941,\n",
              " 'create': 942,\n",
              " 'encounter': 943,\n",
              " 'later': 944,\n",
              " 'mapping': 945,\n",
              " 'mind': 946,\n",
              " 'nature': 947,\n",
              " 'patrol': 948,\n",
              " 'respond': 949,\n",
              " 'scare': 950,\n",
              " 'series': 951,\n",
              " 'spread': 952,\n",
              " 'suspect': 953,\n",
              " 'technique': 954,\n",
              " 'tell': 955,\n",
              " 'three': 956,\n",
              " 'trend': 957,\n",
              " 'racist': 958,\n",
              " 'capture': 959,\n",
              " 'fraud': 960,\n",
              " 'laundering': 961,\n",
              " 'money': 962,\n",
              " 'recently': 963,\n",
              " '2021': 964,\n",
              " 'active': 965,\n",
              " 'center': 966,\n",
              " 'collaboration': 967,\n",
              " 'density': 968,\n",
              " 'detroit': 969,\n",
              " 'forgot': 970,\n",
              " 'hashad': 971,\n",
              " 'iswas': 972,\n",
              " 'leverage': 973,\n",
              " 'standard': 974,\n",
              " 'studies': 975,\n",
              " 'understanding': 976,\n",
              " 'urban': 977,\n",
              " 'wayne': 978,\n",
              " 'access': 979,\n",
              " 'accurately': 980,\n",
              " 'activity': 981,\n",
              " 'advanced': 982,\n",
              " 'adversary': 983,\n",
              " 'aiml': 984,\n",
              " 'allow': 985,\n",
              " 'alter': 986,\n",
              " 'analysis': 987,\n",
              " 'anomaly': 988,\n",
              " 'apt': 989,\n",
              " 'apts': 990,\n",
              " 'attack': 991,\n",
              " 'attacker': 992,\n",
              " 'attempt': 993,\n",
              " 'avoidance': 994,\n",
              " 'baseline': 995,\n",
              " 'behavioral': 996,\n",
              " 'believe': 997,\n",
              " 'boil': 998,\n",
              " 'broadly': 999,\n",
              " ...}"
            ]
          },
          "metadata": {},
          "execution_count": 34
        }
      ],
      "source": [
        "# get token-id mapping\n",
        "dictionary.token2id"
      ]
    },
    {
      "cell_type": "code",
      "execution_count": 35,
      "metadata": {
        "colab": {
          "base_uri": "https://localhost:8080/"
        },
        "id": "-R-ZtzCgvZog",
        "outputId": "39cdf0d8-23be-4832-dfdb-7c913e8ff032"
      },
      "outputs": [
        {
          "output_type": "execute_result",
          "data": {
            "text/plain": [
              "[('not', 486),\n",
              " ('datum', 363),\n",
              " ('i', 342),\n",
              " ('work', 339),\n",
              " ('get', 319),\n",
              " ('do', 306),\n",
              " ('use', 274),\n",
              " ('job', 252),\n",
              " ('like', 222),\n",
              " ('would', 214)]"
            ]
          },
          "metadata": {},
          "execution_count": 35
        }
      ],
      "source": [
        "dictionary.most_common(10)"
      ]
    },
    {
      "cell_type": "code",
      "execution_count": 36,
      "metadata": {
        "colab": {
          "base_uri": "https://localhost:8080/"
        },
        "id": "U0b__5uBvZoh",
        "outputId": "a09f3995-f27e-4ee7-f499-9f9880677ebd"
      },
      "outputs": [
        {
          "output_type": "execute_result",
          "data": {
            "text/plain": [
              "[(0, 1), (1, 1), (2, 1)]"
            ]
          },
          "metadata": {},
          "execution_count": 36
        }
      ],
      "source": [
        "# get bag-of-words repesentation of documents: list of (token_id, token_count) tuples\n",
        "dictionary.doc2bow(words_corpus[0])"
      ]
    },
    {
      "cell_type": "code",
      "execution_count": 36,
      "metadata": {
        "id": "-vcMcXt-vZoh"
      },
      "outputs": [],
      "source": []
    },
    {
      "cell_type": "markdown",
      "metadata": {
        "id": "v_gizP1ovZoh"
      },
      "source": [
        "## Topic Modeling"
      ]
    },
    {
      "cell_type": "code",
      "execution_count": 37,
      "metadata": {
        "colab": {
          "base_uri": "https://localhost:8080/"
        },
        "id": "RwIPHB0nvZoh",
        "outputId": "a3c65dc2-c045-4c00-b9dd-101672acc454"
      },
      "outputs": [
        {
          "output_type": "stream",
          "name": "stdout",
          "text": [
            "Help on method filter_extremes in module gensim.corpora.dictionary:\n",
            "\n",
            "filter_extremes(no_below=5, no_above=0.5, keep_n=100000, keep_tokens=None) method of gensim.corpora.dictionary.Dictionary instance\n",
            "    Filter out tokens in the dictionary by their frequency.\n",
            "    \n",
            "    Parameters\n",
            "    ----------\n",
            "    no_below : int, optional\n",
            "        Keep tokens which are contained in at least `no_below` documents.\n",
            "    no_above : float, optional\n",
            "        Keep tokens which are contained in no more than `no_above` documents\n",
            "        (fraction of total corpus size, not an absolute number).\n",
            "    keep_n : int, optional\n",
            "        Keep only the first `keep_n` most frequent tokens.\n",
            "    keep_tokens : iterable of str\n",
            "        Iterable of tokens that **must** stay in dictionary after filtering.\n",
            "    \n",
            "    Notes\n",
            "    -----\n",
            "    This removes all tokens in the dictionary that are:\n",
            "    \n",
            "    #. Less frequent than `no_below` documents (absolute number, e.g. `5`) or \n",
            "    \n",
            "    #. More frequent than `no_above` documents (fraction of the total corpus size, e.g. `0.3`).\n",
            "    #. After (1) and (2), keep only the first `keep_n` most frequent tokens (or keep all if `keep_n=None`).\n",
            "    \n",
            "    After the pruning, resulting gaps in word ids are shrunk.\n",
            "    Due to this gap shrinking, **the same word may have a different word id before and after the call\n",
            "    to this function!** See :class:`gensim.models.VocabTransform` and the\n",
            "    `dedicated FAQ entry <https://github.com/RaRe-Technologies/gensim/wiki/Recipes-&-FAQ#q8-how-can-i-filter-a-saved-corpus-and-its-corresponding-dictionary>`_ on how  # noqa\n",
            "    to transform a corpus built with a dictionary before pruning.\n",
            "    \n",
            "    Examples\n",
            "    --------\n",
            "    .. sourcecode:: pycon\n",
            "    \n",
            "        >>> from gensim.corpora import Dictionary\n",
            "        >>>\n",
            "        >>> corpus = [[\"máma\", \"mele\", \"maso\"], [\"ema\", \"má\", \"máma\"]]\n",
            "        >>> dct = Dictionary(corpus)\n",
            "        >>> len(dct)\n",
            "        5\n",
            "        >>> dct.filter_extremes(no_below=1, no_above=0.5, keep_n=1)\n",
            "        >>> len(dct)\n",
            "        1\n",
            "\n"
          ]
        }
      ],
      "source": [
        "help(dictionary.filter_extremes)"
      ]
    },
    {
      "cell_type": "code",
      "execution_count": 38,
      "metadata": {
        "id": "YC8S_pWWvZoh"
      },
      "outputs": [],
      "source": [
        "dictionary = corpora.Dictionary(words_corpus)\n",
        "# dictionary.filter_extremes(no_below=10, no_above=0.2, keep_n=10000)\n",
        "\n",
        "corpus_bow = [dictionary.doc2bow(text) for text in words_corpus]\n",
        "\n",
        "# Term Frequency - Inverse Document Frequency\n",
        "\n",
        "from gensim import corpora, models\n",
        "\n",
        "# https://radimrehurek.com/gensim/models/ldamodel.html\n",
        "\n",
        "tfidf = models.TfidfModel(corpus_bow)\n",
        "corpus_tfidf = tfidf[corpus_bow]"
      ]
    },
    {
      "cell_type": "code",
      "execution_count": 45,
      "metadata": {
        "colab": {
          "base_uri": "https://localhost:8080/"
        },
        "id": "xoWf5jEGvZoi",
        "outputId": "da9681e4-464e-4b14-952e-3f89458da459"
      },
      "outputs": [
        {
          "output_type": "execute_result",
          "data": {
            "text/plain": [
              "[(67, 1),\n",
              " (103, 1),\n",
              " (116, 2),\n",
              " (150, 1),\n",
              " (283, 1),\n",
              " (299, 1),\n",
              " (310, 1),\n",
              " (467, 1),\n",
              " (577, 1),\n",
              " (809, 2),\n",
              " (821, 1),\n",
              " (914, 1),\n",
              " (1226, 1),\n",
              " (1227, 1)]"
            ]
          },
          "metadata": {},
          "execution_count": 45
        }
      ],
      "source": [
        "corpus_tfidf.corpus[100]"
      ]
    },
    {
      "cell_type": "code",
      "execution_count": 40,
      "metadata": {
        "colab": {
          "base_uri": "https://localhost:8080/"
        },
        "id": "a-Lr1_9IvZoi",
        "outputId": "e6a3bafe-e02d-4a76-eee5-57698fd9e896"
      },
      "outputs": [
        {
          "output_type": "stream",
          "name": "stderr",
          "text": [
            "WARNING:gensim.models.ldamulticore:too few updates, training might not converge; consider increasing the number of passes or iterations to improve accuracy\n"
          ]
        },
        {
          "output_type": "stream",
          "name": "stdout",
          "text": [
            "Topic: 0 Word: 0.003*\"use\" + 0.002*\"i\" + 0.002*\"not\" + 0.002*\"model\" + 0.002*\"datum\" + 0.002*\"]\" + 0.002*\"[\" + 0.002*\"m\" + 0.002*\"get\" + 0.002*\"would\"\n",
            "Topic: 1 Word: 0.003*\"job\" + 0.003*\"not\" + 0.003*\"know\" + 0.003*\"datum\" + 0.003*\"]\" + 0.003*\"[\" + 0.003*\"use\" + 0.003*\"do\" + 0.003*\"work\" + 0.002*\"go\"\n",
            "Topic: 2 Word: 0.004*\"thank\" + 0.003*\"datum\" + 0.003*\"job\" + 0.003*\"i\" + 0.002*\"think\" + 0.002*\"start\" + 0.002*\"try\" + 0.002*\"get\" + 0.002*\"science\" + 0.002*\"not\"\n",
            "Topic: 3 Word: 0.003*\"not\" + 0.003*\"work\" + 0.003*\"experience\" + 0.003*\"do\" + 0.003*\"i\" + 0.003*\"year\" + 0.002*\"get\" + 0.002*\"job\" + 0.002*\"think\" + 0.002*\"s\"\n",
            "Topic: 4 Word: 0.003*\"datum\" + 0.002*\"i\" + 0.002*\"like\" + 0.002*\"think\" + 0.002*\"get\" + 0.002*\"job\" + 0.002*\"work\" + 0.002*\"not\" + 0.002*\"would\" + 0.002*\"m\"\n"
          ]
        }
      ],
      "source": [
        "# Only 5 topics this time for simplicity\n",
        "num_topics = 5\n",
        "lda_model_tfidf = models.LdaMulticore(corpus_tfidf, num_topics=num_topics, id2word=dictionary, passes=4, workers=4)\n",
        "for idx, topic in lda_model_tfidf.print_topics(-1):\n",
        "    print('Topic: {} Word: {}'.format(idx, topic))"
      ]
    },
    {
      "cell_type": "code",
      "execution_count": 40,
      "metadata": {
        "id": "xlY0Zy5LvZoj"
      },
      "outputs": [],
      "source": []
    },
    {
      "cell_type": "markdown",
      "metadata": {
        "id": "TG3uxgAVvZoj"
      },
      "source": [
        "## Parts of Speech Tagging"
      ]
    },
    {
      "cell_type": "code",
      "execution_count": 41,
      "metadata": {
        "id": "gb8gR5_MvZoj"
      },
      "outputs": [],
      "source": [
        "sentence = 'London is the capital and most populous city of England.'\n",
        "# sentence = post\n",
        "sentence_nlp = nlp(sentence)"
      ]
    },
    {
      "cell_type": "code",
      "execution_count": 42,
      "metadata": {
        "colab": {
          "base_uri": "https://localhost:8080/",
          "height": 268
        },
        "id": "uNbOmMYqvZoj",
        "outputId": "72684c3c-264f-4e37-80ac-1c369bcf41eb"
      },
      "outputs": [
        {
          "output_type": "display_data",
          "data": {
            "text/plain": [
              "<IPython.core.display.HTML object>"
            ],
            "text/html": [
              "<span class=\"tex2jax_ignore\"><svg xmlns=\"http://www.w3.org/2000/svg\" xmlns:xlink=\"http://www.w3.org/1999/xlink\" xml:lang=\"en\" id=\"cfd3c1fa2100466a81b9062e888215bd-0\" class=\"displacy\" width=\"1150\" height=\"247.0\" direction=\"ltr\" style=\"max-width: none; height: 247.0px; color: #000000; background: #ffffff; font-family: Arial; direction: ltr\">\n",
              "<text class=\"displacy-token\" fill=\"currentColor\" text-anchor=\"middle\" y=\"157.0\">\n",
              "    <tspan class=\"displacy-word\" fill=\"currentColor\" x=\"50\">London</tspan>\n",
              "    <tspan class=\"displacy-tag\" dy=\"2em\" fill=\"currentColor\" x=\"50\">PROPN</tspan>\n",
              "</text>\n",
              "\n",
              "<text class=\"displacy-token\" fill=\"currentColor\" text-anchor=\"middle\" y=\"157.0\">\n",
              "    <tspan class=\"displacy-word\" fill=\"currentColor\" x=\"160\">is</tspan>\n",
              "    <tspan class=\"displacy-tag\" dy=\"2em\" fill=\"currentColor\" x=\"160\">AUX</tspan>\n",
              "</text>\n",
              "\n",
              "<text class=\"displacy-token\" fill=\"currentColor\" text-anchor=\"middle\" y=\"157.0\">\n",
              "    <tspan class=\"displacy-word\" fill=\"currentColor\" x=\"270\">the</tspan>\n",
              "    <tspan class=\"displacy-tag\" dy=\"2em\" fill=\"currentColor\" x=\"270\">DET</tspan>\n",
              "</text>\n",
              "\n",
              "<text class=\"displacy-token\" fill=\"currentColor\" text-anchor=\"middle\" y=\"157.0\">\n",
              "    <tspan class=\"displacy-word\" fill=\"currentColor\" x=\"380\">capital</tspan>\n",
              "    <tspan class=\"displacy-tag\" dy=\"2em\" fill=\"currentColor\" x=\"380\">NOUN</tspan>\n",
              "</text>\n",
              "\n",
              "<text class=\"displacy-token\" fill=\"currentColor\" text-anchor=\"middle\" y=\"157.0\">\n",
              "    <tspan class=\"displacy-word\" fill=\"currentColor\" x=\"490\">and</tspan>\n",
              "    <tspan class=\"displacy-tag\" dy=\"2em\" fill=\"currentColor\" x=\"490\">CCONJ</tspan>\n",
              "</text>\n",
              "\n",
              "<text class=\"displacy-token\" fill=\"currentColor\" text-anchor=\"middle\" y=\"157.0\">\n",
              "    <tspan class=\"displacy-word\" fill=\"currentColor\" x=\"600\">most</tspan>\n",
              "    <tspan class=\"displacy-tag\" dy=\"2em\" fill=\"currentColor\" x=\"600\">ADV</tspan>\n",
              "</text>\n",
              "\n",
              "<text class=\"displacy-token\" fill=\"currentColor\" text-anchor=\"middle\" y=\"157.0\">\n",
              "    <tspan class=\"displacy-word\" fill=\"currentColor\" x=\"710\">populous</tspan>\n",
              "    <tspan class=\"displacy-tag\" dy=\"2em\" fill=\"currentColor\" x=\"710\">ADJ</tspan>\n",
              "</text>\n",
              "\n",
              "<text class=\"displacy-token\" fill=\"currentColor\" text-anchor=\"middle\" y=\"157.0\">\n",
              "    <tspan class=\"displacy-word\" fill=\"currentColor\" x=\"820\">city</tspan>\n",
              "    <tspan class=\"displacy-tag\" dy=\"2em\" fill=\"currentColor\" x=\"820\">NOUN</tspan>\n",
              "</text>\n",
              "\n",
              "<text class=\"displacy-token\" fill=\"currentColor\" text-anchor=\"middle\" y=\"157.0\">\n",
              "    <tspan class=\"displacy-word\" fill=\"currentColor\" x=\"930\">of</tspan>\n",
              "    <tspan class=\"displacy-tag\" dy=\"2em\" fill=\"currentColor\" x=\"930\">ADP</tspan>\n",
              "</text>\n",
              "\n",
              "<text class=\"displacy-token\" fill=\"currentColor\" text-anchor=\"middle\" y=\"157.0\">\n",
              "    <tspan class=\"displacy-word\" fill=\"currentColor\" x=\"1040\">England.</tspan>\n",
              "    <tspan class=\"displacy-tag\" dy=\"2em\" fill=\"currentColor\" x=\"1040\">PROPN</tspan>\n",
              "</text>\n",
              "\n",
              "<g class=\"displacy-arrow\">\n",
              "    <path class=\"displacy-arc\" id=\"arrow-cfd3c1fa2100466a81b9062e888215bd-0-0\" stroke-width=\"2px\" d=\"M70,112.0 C70,57.0 155.0,57.0 155.0,112.0\" fill=\"none\" stroke=\"currentColor\"/>\n",
              "    <text dy=\"1.25em\" style=\"font-size: 0.8em; letter-spacing: 1px\">\n",
              "        <textPath xlink:href=\"#arrow-cfd3c1fa2100466a81b9062e888215bd-0-0\" class=\"displacy-label\" startOffset=\"50%\" side=\"left\" fill=\"currentColor\" text-anchor=\"middle\">nsubj</textPath>\n",
              "    </text>\n",
              "    <path class=\"displacy-arrowhead\" d=\"M70,114.0 L64,104.0 76,104.0\" fill=\"currentColor\"/>\n",
              "</g>\n",
              "\n",
              "<g class=\"displacy-arrow\">\n",
              "    <path class=\"displacy-arc\" id=\"arrow-cfd3c1fa2100466a81b9062e888215bd-0-1\" stroke-width=\"2px\" d=\"M290,112.0 C290,57.0 375.0,57.0 375.0,112.0\" fill=\"none\" stroke=\"currentColor\"/>\n",
              "    <text dy=\"1.25em\" style=\"font-size: 0.8em; letter-spacing: 1px\">\n",
              "        <textPath xlink:href=\"#arrow-cfd3c1fa2100466a81b9062e888215bd-0-1\" class=\"displacy-label\" startOffset=\"50%\" side=\"left\" fill=\"currentColor\" text-anchor=\"middle\">det</textPath>\n",
              "    </text>\n",
              "    <path class=\"displacy-arrowhead\" d=\"M290,114.0 L284,104.0 296,104.0\" fill=\"currentColor\"/>\n",
              "</g>\n",
              "\n",
              "<g class=\"displacy-arrow\">\n",
              "    <path class=\"displacy-arc\" id=\"arrow-cfd3c1fa2100466a81b9062e888215bd-0-2\" stroke-width=\"2px\" d=\"M180,112.0 C180,2.0 380.0,2.0 380.0,112.0\" fill=\"none\" stroke=\"currentColor\"/>\n",
              "    <text dy=\"1.25em\" style=\"font-size: 0.8em; letter-spacing: 1px\">\n",
              "        <textPath xlink:href=\"#arrow-cfd3c1fa2100466a81b9062e888215bd-0-2\" class=\"displacy-label\" startOffset=\"50%\" side=\"left\" fill=\"currentColor\" text-anchor=\"middle\">attr</textPath>\n",
              "    </text>\n",
              "    <path class=\"displacy-arrowhead\" d=\"M380.0,114.0 L386.0,104.0 374.0,104.0\" fill=\"currentColor\"/>\n",
              "</g>\n",
              "\n",
              "<g class=\"displacy-arrow\">\n",
              "    <path class=\"displacy-arc\" id=\"arrow-cfd3c1fa2100466a81b9062e888215bd-0-3\" stroke-width=\"2px\" d=\"M400,112.0 C400,57.0 485.0,57.0 485.0,112.0\" fill=\"none\" stroke=\"currentColor\"/>\n",
              "    <text dy=\"1.25em\" style=\"font-size: 0.8em; letter-spacing: 1px\">\n",
              "        <textPath xlink:href=\"#arrow-cfd3c1fa2100466a81b9062e888215bd-0-3\" class=\"displacy-label\" startOffset=\"50%\" side=\"left\" fill=\"currentColor\" text-anchor=\"middle\">cc</textPath>\n",
              "    </text>\n",
              "    <path class=\"displacy-arrowhead\" d=\"M485.0,114.0 L491.0,104.0 479.0,104.0\" fill=\"currentColor\"/>\n",
              "</g>\n",
              "\n",
              "<g class=\"displacy-arrow\">\n",
              "    <path class=\"displacy-arc\" id=\"arrow-cfd3c1fa2100466a81b9062e888215bd-0-4\" stroke-width=\"2px\" d=\"M620,112.0 C620,57.0 705.0,57.0 705.0,112.0\" fill=\"none\" stroke=\"currentColor\"/>\n",
              "    <text dy=\"1.25em\" style=\"font-size: 0.8em; letter-spacing: 1px\">\n",
              "        <textPath xlink:href=\"#arrow-cfd3c1fa2100466a81b9062e888215bd-0-4\" class=\"displacy-label\" startOffset=\"50%\" side=\"left\" fill=\"currentColor\" text-anchor=\"middle\">advmod</textPath>\n",
              "    </text>\n",
              "    <path class=\"displacy-arrowhead\" d=\"M620,114.0 L614,104.0 626,104.0\" fill=\"currentColor\"/>\n",
              "</g>\n",
              "\n",
              "<g class=\"displacy-arrow\">\n",
              "    <path class=\"displacy-arc\" id=\"arrow-cfd3c1fa2100466a81b9062e888215bd-0-5\" stroke-width=\"2px\" d=\"M730,112.0 C730,57.0 815.0,57.0 815.0,112.0\" fill=\"none\" stroke=\"currentColor\"/>\n",
              "    <text dy=\"1.25em\" style=\"font-size: 0.8em; letter-spacing: 1px\">\n",
              "        <textPath xlink:href=\"#arrow-cfd3c1fa2100466a81b9062e888215bd-0-5\" class=\"displacy-label\" startOffset=\"50%\" side=\"left\" fill=\"currentColor\" text-anchor=\"middle\">amod</textPath>\n",
              "    </text>\n",
              "    <path class=\"displacy-arrowhead\" d=\"M730,114.0 L724,104.0 736,104.0\" fill=\"currentColor\"/>\n",
              "</g>\n",
              "\n",
              "<g class=\"displacy-arrow\">\n",
              "    <path class=\"displacy-arc\" id=\"arrow-cfd3c1fa2100466a81b9062e888215bd-0-6\" stroke-width=\"2px\" d=\"M400,112.0 C400,2.0 820.0,2.0 820.0,112.0\" fill=\"none\" stroke=\"currentColor\"/>\n",
              "    <text dy=\"1.25em\" style=\"font-size: 0.8em; letter-spacing: 1px\">\n",
              "        <textPath xlink:href=\"#arrow-cfd3c1fa2100466a81b9062e888215bd-0-6\" class=\"displacy-label\" startOffset=\"50%\" side=\"left\" fill=\"currentColor\" text-anchor=\"middle\">conj</textPath>\n",
              "    </text>\n",
              "    <path class=\"displacy-arrowhead\" d=\"M820.0,114.0 L826.0,104.0 814.0,104.0\" fill=\"currentColor\"/>\n",
              "</g>\n",
              "\n",
              "<g class=\"displacy-arrow\">\n",
              "    <path class=\"displacy-arc\" id=\"arrow-cfd3c1fa2100466a81b9062e888215bd-0-7\" stroke-width=\"2px\" d=\"M840,112.0 C840,57.0 925.0,57.0 925.0,112.0\" fill=\"none\" stroke=\"currentColor\"/>\n",
              "    <text dy=\"1.25em\" style=\"font-size: 0.8em; letter-spacing: 1px\">\n",
              "        <textPath xlink:href=\"#arrow-cfd3c1fa2100466a81b9062e888215bd-0-7\" class=\"displacy-label\" startOffset=\"50%\" side=\"left\" fill=\"currentColor\" text-anchor=\"middle\">prep</textPath>\n",
              "    </text>\n",
              "    <path class=\"displacy-arrowhead\" d=\"M925.0,114.0 L931.0,104.0 919.0,104.0\" fill=\"currentColor\"/>\n",
              "</g>\n",
              "\n",
              "<g class=\"displacy-arrow\">\n",
              "    <path class=\"displacy-arc\" id=\"arrow-cfd3c1fa2100466a81b9062e888215bd-0-8\" stroke-width=\"2px\" d=\"M950,112.0 C950,57.0 1035.0,57.0 1035.0,112.0\" fill=\"none\" stroke=\"currentColor\"/>\n",
              "    <text dy=\"1.25em\" style=\"font-size: 0.8em; letter-spacing: 1px\">\n",
              "        <textPath xlink:href=\"#arrow-cfd3c1fa2100466a81b9062e888215bd-0-8\" class=\"displacy-label\" startOffset=\"50%\" side=\"left\" fill=\"currentColor\" text-anchor=\"middle\">pobj</textPath>\n",
              "    </text>\n",
              "    <path class=\"displacy-arrowhead\" d=\"M1035.0,114.0 L1041.0,104.0 1029.0,104.0\" fill=\"currentColor\"/>\n",
              "</g>\n",
              "</svg></span>"
            ]
          },
          "metadata": {}
        }
      ],
      "source": [
        "from spacy import displacy\n",
        "displacy.render(sentence_nlp, jupyter=True,\n",
        "                options={'distance': 110,\n",
        "                         'arrow_stroke': 2,\n",
        "                         'arrow_width': 8})"
      ]
    },
    {
      "cell_type": "code",
      "execution_count": 43,
      "metadata": {
        "colab": {
          "base_uri": "https://localhost:8080/",
          "height": 70
        },
        "id": "yGH1uGacvZoj",
        "outputId": "76b77020-98e8-4a70-e4aa-54e6fbc6db5b"
      },
      "outputs": [
        {
          "output_type": "stream",
          "name": "stdout",
          "text": [
            "[(London, 'GPE'), (England, 'GPE')]\n"
          ]
        },
        {
          "output_type": "display_data",
          "data": {
            "text/plain": [
              "<IPython.core.display.HTML object>"
            ],
            "text/html": [
              "<span class=\"tex2jax_ignore\"><div class=\"entities\" style=\"line-height: 2.5; direction: ltr\">\n",
              "<mark class=\"entity\" style=\"background: #feca74; padding: 0.45em 0.6em; margin: 0 0.25em; line-height: 1; border-radius: 0.35em;\">\n",
              "    London\n",
              "    <span style=\"font-size: 0.8em; font-weight: bold; line-height: 1; border-radius: 0.35em; vertical-align: middle; margin-left: 0.5rem\">GPE</span>\n",
              "</mark>\n",
              " is the capital and most populous city of \n",
              "<mark class=\"entity\" style=\"background: #feca74; padding: 0.45em 0.6em; margin: 0 0.25em; line-height: 1; border-radius: 0.35em;\">\n",
              "    England\n",
              "    <span style=\"font-size: 0.8em; font-weight: bold; line-height: 1; border-radius: 0.35em; vertical-align: middle; margin-left: 0.5rem\">GPE</span>\n",
              "</mark>\n",
              ".</div></span>"
            ]
          },
          "metadata": {}
        }
      ],
      "source": [
        "# print named entities in article\n",
        "print([(word, word.ent_type_) for word in sentence_nlp if word.ent_type_])\n",
        "\n",
        "# visualize named entities\n",
        "displacy.render(sentence_nlp, style='ent', jupyter=True)"
      ]
    }
  ],
  "metadata": {
    "kernelspec": {
      "display_name": "Python 3 (ipykernel)",
      "language": "python",
      "name": "python3"
    },
    "language_info": {
      "codemirror_mode": {
        "name": "ipython",
        "version": 3
      },
      "file_extension": ".py",
      "mimetype": "text/x-python",
      "name": "python",
      "nbconvert_exporter": "python",
      "pygments_lexer": "ipython3",
      "version": "3.10.4"
    },
    "colab": {
      "provenance": []
    }
  },
  "nbformat": 4,
  "nbformat_minor": 0
}