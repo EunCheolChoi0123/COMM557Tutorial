{
  "nbformat": 4,
  "nbformat_minor": 0,
  "metadata": {
    "colab": {
      "provenance": []
    },
    "kernelspec": {
      "name": "python3",
      "display_name": "Python 3"
    },
    "language_info": {
      "name": "python"
    }
  },
  "cells": [
    {
      "cell_type": "markdown",
      "metadata": {
        "id": "zZeEg-28vZob"
      },
      "source": [
        "### Sentiment Analysis\n",
        "#### TextBlob"
      ]
    },
    {
      "cell_type": "code",
      "source": [
        "!pip install vaderSentiment"
      ],
      "metadata": {
        "colab": {
          "base_uri": "https://localhost:8080/"
        },
        "id": "tfK31UX0A-Zm",
        "outputId": "47eac1dc-8b4b-459f-f124-5ab59eb5b96a"
      },
      "execution_count": 1,
      "outputs": [
        {
          "output_type": "stream",
          "name": "stdout",
          "text": [
            "Collecting vaderSentiment\n",
            "  Downloading vaderSentiment-3.3.2-py2.py3-none-any.whl.metadata (572 bytes)\n",
            "Requirement already satisfied: requests in /usr/local/lib/python3.12/dist-packages (from vaderSentiment) (2.32.4)\n",
            "Requirement already satisfied: charset_normalizer<4,>=2 in /usr/local/lib/python3.12/dist-packages (from requests->vaderSentiment) (3.4.3)\n",
            "Requirement already satisfied: idna<4,>=2.5 in /usr/local/lib/python3.12/dist-packages (from requests->vaderSentiment) (3.10)\n",
            "Requirement already satisfied: urllib3<3,>=1.21.1 in /usr/local/lib/python3.12/dist-packages (from requests->vaderSentiment) (2.5.0)\n",
            "Requirement already satisfied: certifi>=2017.4.17 in /usr/local/lib/python3.12/dist-packages (from requests->vaderSentiment) (2025.8.3)\n",
            "Downloading vaderSentiment-3.3.2-py2.py3-none-any.whl (125 kB)\n",
            "\u001b[2K   \u001b[90m━━━━━━━━━━━━━━━━━━━━━━━━━━━━━━━━━━━━━━━━\u001b[0m \u001b[32m126.0/126.0 kB\u001b[0m \u001b[31m3.0 MB/s\u001b[0m eta \u001b[36m0:00:00\u001b[0m\n",
            "\u001b[?25hInstalling collected packages: vaderSentiment\n",
            "Successfully installed vaderSentiment-3.3.2\n"
          ]
        }
      ]
    },
    {
      "cell_type": "code",
      "source": [
        "### Sentiment analysis\n",
        "import nltk\n",
        "from textblob import TextBlob\n",
        "from vaderSentiment.vaderSentiment import SentimentIntensityAnalyzer"
      ],
      "metadata": {
        "id": "96YnHkOZAySO"
      },
      "execution_count": 2,
      "outputs": []
    },
    {
      "cell_type": "code",
      "source": [
        "nltk.download('punkt')\n",
        "nltk.download('averaged_perceptron_tagger')\n",
        "nltk.download('brown')\n",
        "nltk.download('movie_reviews')"
      ],
      "metadata": {
        "colab": {
          "base_uri": "https://localhost:8080/"
        },
        "id": "xmn3htnsy9uu",
        "outputId": "14505194-efcd-4b33-dd09-fde9143aaae1"
      },
      "execution_count": 3,
      "outputs": [
        {
          "output_type": "stream",
          "name": "stderr",
          "text": [
            "[nltk_data] Downloading package punkt to /root/nltk_data...\n",
            "[nltk_data]   Unzipping tokenizers/punkt.zip.\n",
            "[nltk_data] Downloading package averaged_perceptron_tagger to\n",
            "[nltk_data]     /root/nltk_data...\n",
            "[nltk_data]   Unzipping taggers/averaged_perceptron_tagger.zip.\n",
            "[nltk_data] Downloading package brown to /root/nltk_data...\n",
            "[nltk_data]   Unzipping corpora/brown.zip.\n",
            "[nltk_data] Downloading package movie_reviews to /root/nltk_data...\n",
            "[nltk_data]   Unzipping corpora/movie_reviews.zip.\n"
          ]
        },
        {
          "output_type": "execute_result",
          "data": {
            "text/plain": [
              "True"
            ]
          },
          "metadata": {},
          "execution_count": 3
        }
      ]
    },
    {
      "cell_type": "code",
      "source": [
        "post = \"Our analysis shows concerted efforts by coordinated accounts to disseminate misleading, redundant, biased, and AI-generated content through a cross-platform information operation. The network spans X and YouTube, disseminating political content through duplicated mock news sites.\""
      ],
      "metadata": {
        "id": "LY0NSt9tBTUn"
      },
      "execution_count": 4,
      "outputs": []
    },
    {
      "cell_type": "code",
      "execution_count": 17,
      "metadata": {
        "id": "p22_oBbdvZob"
      },
      "outputs": [],
      "source": [
        "blob = TextBlob(post)"
      ]
    },
    {
      "cell_type": "code",
      "execution_count": 7,
      "metadata": {
        "colab": {
          "base_uri": "https://localhost:8080/"
        },
        "id": "1RUx-kd_vZob",
        "outputId": "f219af26-d695-45d5-baa9-4511ede217bb"
      },
      "outputs": [
        {
          "output_type": "stream",
          "name": "stderr",
          "text": [
            "[nltk_data] Downloading package punkt_tab to /root/nltk_data...\n",
            "[nltk_data]   Unzipping tokenizers/punkt_tab.zip.\n"
          ]
        },
        {
          "output_type": "execute_result",
          "data": {
            "text/plain": [
              "WordList(['Our', 'analysis', 'shows', 'concerted', 'efforts', 'by', 'coordinated', 'accounts', 'to', 'disseminate', 'misleading', ',', 'redundant', ',', 'biased', ',', 'and', 'AI-generated', 'content', 'through', 'a', 'cross-platform', 'information', 'operation', '.', 'The', 'network', 'spans', 'X', 'and', 'YouTube', ',', 'disseminating', 'political', 'content', 'through', 'duplicated', 'mock', 'news', 'sites', '.'])"
            ]
          },
          "metadata": {},
          "execution_count": 7
        }
      ],
      "source": [
        "import nltk\n",
        "nltk.download('punkt_tab')\n",
        "\n",
        "blob.tokens"
      ]
    },
    {
      "cell_type": "code",
      "execution_count": 9,
      "metadata": {
        "colab": {
          "base_uri": "https://localhost:8080/"
        },
        "id": "Jbh3kSQmvZob",
        "outputId": "2405d01d-038a-45c2-e7d5-f7a33a73c79c"
      },
      "outputs": [
        {
          "output_type": "stream",
          "name": "stderr",
          "text": [
            "[nltk_data] Downloading package averaged_perceptron_tagger_eng to\n",
            "[nltk_data]     /root/nltk_data...\n",
            "[nltk_data]   Unzipping taggers/averaged_perceptron_tagger_eng.zip.\n"
          ]
        },
        {
          "output_type": "execute_result",
          "data": {
            "text/plain": [
              "[('Our', 'PRP$'),\n",
              " ('analysis', 'NN'),\n",
              " ('shows', 'VBZ'),\n",
              " ('concerted', 'VBN'),\n",
              " ('efforts', 'NNS'),\n",
              " ('by', 'IN'),\n",
              " ('coordinated', 'JJ'),\n",
              " ('accounts', 'NNS'),\n",
              " ('to', 'TO'),\n",
              " ('disseminate', 'VB'),\n",
              " ('misleading', 'NN'),\n",
              " ('redundant', 'NN'),\n",
              " ('biased', 'VBN'),\n",
              " ('and', 'CC'),\n",
              " ('AI-generated', 'JJ'),\n",
              " ('content', 'NN'),\n",
              " ('through', 'IN'),\n",
              " ('a', 'DT'),\n",
              " ('cross-platform', 'JJ'),\n",
              " ('information', 'NN'),\n",
              " ('operation', 'NN'),\n",
              " ('The', 'DT'),\n",
              " ('network', 'NN'),\n",
              " ('spans', 'NNS'),\n",
              " ('X', 'VBP'),\n",
              " ('and', 'CC'),\n",
              " ('YouTube', 'NNP'),\n",
              " ('disseminating', 'VBG'),\n",
              " ('political', 'JJ'),\n",
              " ('content', 'NN'),\n",
              " ('through', 'IN'),\n",
              " ('duplicated', 'VBN'),\n",
              " ('mock', 'NN'),\n",
              " ('news', 'NN'),\n",
              " ('sites', 'NNS')]"
            ]
          },
          "metadata": {},
          "execution_count": 9
        }
      ],
      "source": [
        "import nltk\n",
        "nltk.download('averaged_perceptron_tagger_eng')\n",
        "\n",
        "blob.tags"
      ]
    },
    {
      "cell_type": "code",
      "execution_count": 10,
      "metadata": {
        "colab": {
          "base_uri": "https://localhost:8080/"
        },
        "id": "yY_OwmEhvZoc",
        "outputId": "5b4861fb-cfa9-4e11-c03e-75e240cefa72"
      },
      "outputs": [
        {
          "output_type": "execute_result",
          "data": {
            "text/plain": [
              "WordList(['analysis shows', 'ai-generated', 'cross-platform information operation', 'network spans', 'youtube', 'political content', 'mock news sites'])"
            ]
          },
          "metadata": {},
          "execution_count": 10
        }
      ],
      "source": [
        "blob.noun_phrases"
      ]
    },
    {
      "cell_type": "code",
      "execution_count": 11,
      "metadata": {
        "colab": {
          "base_uri": "https://localhost:8080/"
        },
        "id": "qzjeOYb9vZoc",
        "outputId": "aa440208-bd8e-4aa2-fede-9c78638818d4"
      },
      "outputs": [
        {
          "output_type": "execute_result",
          "data": {
            "text/plain": [
              "1"
            ]
          },
          "metadata": {},
          "execution_count": 11
        }
      ],
      "source": [
        "blob.words.count('youtube')"
      ]
    },
    {
      "cell_type": "code",
      "source": [
        "blob.sentiment"
      ],
      "metadata": {
        "colab": {
          "base_uri": "https://localhost:8080/"
        },
        "id": "mdC8_kBFFIH_",
        "outputId": "1ce34091-fa0f-4590-f3af-0715a657c1f8"
      },
      "execution_count": 18,
      "outputs": [
        {
          "output_type": "execute_result",
          "data": {
            "text/plain": [
              "Sentiment(polarity=-0.1, subjectivity=0.15000000000000002)"
            ]
          },
          "metadata": {},
          "execution_count": 18
        }
      ]
    },
    {
      "cell_type": "markdown",
      "metadata": {
        "id": "wXHTftOGvZob"
      },
      "source": [
        "Textblob sentiment output:\n",
        "\n",
        "Polarity in [-1, 1] := [most negative, most positive]\n",
        "\n",
        "Subjectivity in [0, 1] := [factual, personal opinion]"
      ]
    },
    {
      "cell_type": "code",
      "execution_count": 12,
      "metadata": {
        "id": "L_fhJqqqvZoc"
      },
      "outputs": [],
      "source": [
        "test_msg1 = 'this is not the best football team'"
      ]
    },
    {
      "cell_type": "code",
      "execution_count": 13,
      "metadata": {
        "colab": {
          "base_uri": "https://localhost:8080/"
        },
        "id": "502RkgyjvZoc",
        "outputId": "15ae3cf4-8ece-45c3-c539-c41d5a665798"
      },
      "outputs": [
        {
          "output_type": "execute_result",
          "data": {
            "text/plain": [
              "Sentiment(polarity=1.0, subjectivity=0.3)"
            ]
          },
          "metadata": {},
          "execution_count": 13
        }
      ],
      "source": [
        "blob = TextBlob(test_msg1)\n",
        "blob.sentiment"
      ]
    },
    {
      "cell_type": "code",
      "execution_count": 14,
      "metadata": {
        "id": "I8d3PXjYvZoc"
      },
      "outputs": [],
      "source": [
        "test_msg2 = 'hey this is not too bad'"
      ]
    },
    {
      "cell_type": "code",
      "execution_count": 15,
      "metadata": {
        "colab": {
          "base_uri": "https://localhost:8080/"
        },
        "id": "XqgUbuZPvZoc",
        "outputId": "aac608be-d689-4a0e-8569-0fd3c67dc2ca"
      },
      "outputs": [
        {
          "output_type": "execute_result",
          "data": {
            "text/plain": [
              "Sentiment(polarity=-0.6999999999999998, subjectivity=0.6666666666666666)"
            ]
          },
          "metadata": {},
          "execution_count": 15
        }
      ],
      "source": [
        "blob = TextBlob(test_msg2)\n",
        "blob.sentiment"
      ]
    },
    {
      "cell_type": "code",
      "execution_count": 19,
      "metadata": {
        "colab": {
          "base_uri": "https://localhost:8080/"
        },
        "id": "vXoH5fBavZoc",
        "outputId": "7394616e-f5f8-4c68-c9e5-c2b8053fd5d1"
      },
      "outputs": [
        {
          "output_type": "stream",
          "name": "stdout",
          "text": [
            "this is not the best football team\n",
            "Sentiment(classification='neg', p_pos=0.41870201702509297, p_neg=0.5812979829749073)\n",
            "hey this is not too bad\n",
            "Sentiment(classification='neg', p_pos=0.21032203786065207, p_neg=0.7896779621393482)\n"
          ]
        }
      ],
      "source": [
        "# NaiveBayesAnalyzer option, trained on movie reviews\n",
        "from textblob.sentiments import NaiveBayesAnalyzer\n",
        "\n",
        "print(test_msg1)\n",
        "blob = TextBlob(test_msg1, analyzer=NaiveBayesAnalyzer())\n",
        "print(blob.sentiment)\n",
        "\n",
        "print(test_msg2)\n",
        "blob = TextBlob(test_msg2, analyzer=NaiveBayesAnalyzer())\n",
        "print(blob.sentiment)"
      ]
    },
    {
      "cell_type": "code",
      "execution_count": 20,
      "metadata": {
        "id": "EzMOQMfmvZoc",
        "colab": {
          "base_uri": "https://localhost:8080/"
        },
        "outputId": "1fbb8a80-1f7a-415d-cf0a-527014beac33"
      },
      "outputs": [
        {
          "output_type": "execute_result",
          "data": {
            "text/plain": [
              "Sentiment(classification='pos', p_pos=0.9975511715073467, p_neg=0.002448828492648301)"
            ]
          },
          "metadata": {},
          "execution_count": 20
        }
      ],
      "source": [
        "blob = TextBlob(post, analyzer=NaiveBayesAnalyzer())\n",
        "blob.sentiment"
      ]
    },
    {
      "cell_type": "markdown",
      "metadata": {
        "id": "DDtZxt5mvZoc"
      },
      "source": [
        "Train your own classifers:\n",
        "https://textblob.readthedocs.io/en/dev/api_reference.html#module-textblob.classifiers"
      ]
    },
    {
      "cell_type": "markdown",
      "metadata": {
        "id": "5Sz4-6YavZoc"
      },
      "source": [
        "#### VADER (Valence Aware Dictionary and Sentiment Reasoner)"
      ]
    },
    {
      "cell_type": "code",
      "execution_count": 21,
      "metadata": {
        "id": "P6raNOUfvZoc"
      },
      "outputs": [],
      "source": [
        "#find sentiment vader\n",
        "analyser = SentimentIntensityAnalyzer()"
      ]
    },
    {
      "cell_type": "code",
      "execution_count": 22,
      "metadata": {
        "id": "JKwDz3bJvZoc",
        "colab": {
          "base_uri": "https://localhost:8080/"
        },
        "outputId": "89909ff4-171c-4f0f-dac5-5b70240b43e5"
      },
      "outputs": [
        {
          "output_type": "stream",
          "name": "stdout",
          "text": [
            "Help on method polarity_scores in module vaderSentiment.vaderSentiment:\n",
            "\n",
            "polarity_scores(text) method of vaderSentiment.vaderSentiment.SentimentIntensityAnalyzer instance\n",
            "    Return a float for sentiment strength based on the input text.\n",
            "    Positive values are positive valence, negative value are negative\n",
            "    valence.\n",
            "\n"
          ]
        }
      ],
      "source": [
        "help(analyser.polarity_scores)"
      ]
    },
    {
      "cell_type": "markdown",
      "metadata": {
        "id": "lnRuhpwtvZoc"
      },
      "source": [
        "Compound scores in [-1, 1] := [most negative, most positive]\n",
        "\n",
        "neg, neu, pos in [0, 1]"
      ]
    },
    {
      "cell_type": "code",
      "execution_count": 23,
      "metadata": {
        "scrolled": true,
        "id": "mk3IgT0YvZoc",
        "outputId": "0e3539fb-f8b4-4d1f-9b77-8c53963c0e3f",
        "colab": {
          "base_uri": "https://localhost:8080/"
        }
      },
      "outputs": [
        {
          "output_type": "stream",
          "name": "stdout",
          "text": [
            "{'neg': 0.0, 'neu': 0.654, 'pos': 0.346, 'compound': 0.5719}\n"
          ]
        }
      ],
      "source": [
        "sentiment = analyser.polarity_scores('This is an example of a happy post')\n",
        "print(sentiment)"
      ]
    },
    {
      "cell_type": "code",
      "execution_count": 24,
      "metadata": {
        "id": "kwaGrrhYvZoc",
        "colab": {
          "base_uri": "https://localhost:8080/"
        },
        "outputId": "81dfdc43-3476-4704-fde4-b97c05537c28"
      },
      "outputs": [
        {
          "output_type": "execute_result",
          "data": {
            "text/plain": [
              "1.0"
            ]
          },
          "metadata": {},
          "execution_count": 24
        }
      ],
      "source": [
        "sentiment['neg'] + sentiment['neu'] + sentiment['pos']"
      ]
    },
    {
      "cell_type": "code",
      "execution_count": 25,
      "metadata": {
        "id": "eD2CM_0-vZoc",
        "colab": {
          "base_uri": "https://localhost:8080/"
        },
        "outputId": "260c645c-70b4-4d0f-acf6-1eb8baa3f20e"
      },
      "outputs": [
        {
          "output_type": "stream",
          "name": "stdout",
          "text": [
            "{'neg': 0.0, 'neu': 0.637, 'pos': 0.363, 'compound': 0.6114}\n"
          ]
        }
      ],
      "source": [
        "# impact of punctuation\n",
        "sentiment = analyser.polarity_scores('This is an example of a happy post!')\n",
        "print(sentiment)"
      ]
    },
    {
      "cell_type": "code",
      "execution_count": 26,
      "metadata": {
        "id": "rHGIRIYCvZoc",
        "colab": {
          "base_uri": "https://localhost:8080/"
        },
        "outputId": "d8c5e44a-88b0-4f26-ed37-f70242b2ac0c"
      },
      "outputs": [
        {
          "output_type": "stream",
          "name": "stdout",
          "text": [
            "{'neg': 0.0, 'neu': 0.65, 'pos': 0.35, 'compound': 0.7901}\n"
          ]
        }
      ],
      "source": [
        "# impact of emoji\n",
        "sentiment = analyser.polarity_scores('This is an example of a happy 😁 ❤️ post! ')\n",
        "print(sentiment)"
      ]
    },
    {
      "cell_type": "code",
      "execution_count": 27,
      "metadata": {
        "id": "0HlduuJQvZoc",
        "colab": {
          "base_uri": "https://localhost:8080/"
        },
        "outputId": "badd721d-c167-42cb-dee8-6a69f1eddfa0"
      },
      "outputs": [
        {
          "output_type": "stream",
          "name": "stdout",
          "text": [
            "this is not the best football team\n",
            "{'neg': 0.36, 'neu': 0.64, 'pos': 0.0, 'compound': -0.5216}\n",
            "hey this is not too bad\n",
            "{'neg': 0.0, 'neu': 0.637, 'pos': 0.363, 'compound': 0.431}\n"
          ]
        }
      ],
      "source": [
        "print(test_msg1)\n",
        "sentiment = analyser.polarity_scores(test_msg1)\n",
        "print(sentiment)\n",
        "\n",
        "print(test_msg2)\n",
        "sentiment = analyser.polarity_scores(test_msg2)\n",
        "print(sentiment)"
      ]
    },
    {
      "cell_type": "code",
      "source": [
        "print(post)\n",
        "sentiment = analyser.polarity_scores(post)\n",
        "print(sentiment)"
      ],
      "metadata": {
        "id": "ZHoLmWIXFnLK",
        "colab": {
          "base_uri": "https://localhost:8080/"
        },
        "outputId": "36080435-5948-485e-985d-9c448198fef3"
      },
      "execution_count": 28,
      "outputs": [
        {
          "output_type": "stream",
          "name": "stdout",
          "text": [
            "Our analysis shows concerted efforts by coordinated accounts to disseminate misleading, redundant, biased, and AI-generated content through a cross-platform information operation. The network spans X and YouTube, disseminating political content through duplicated mock news sites.\n",
            "{'neg': 0.192, 'neu': 0.808, 'pos': 0.0, 'compound': -0.765}\n"
          ]
        }
      ]
    }
  ]
}