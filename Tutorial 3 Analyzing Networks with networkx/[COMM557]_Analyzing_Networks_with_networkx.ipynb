{
 "cells": [
  {
   "cell_type": "markdown",
   "metadata": {
    "id": "TBsFRZexMqjq"
   },
   "source": [
    "# Analyzing networks in Python\n",
    "Some of the codes are adapted from https://github.com/CambridgeUniversityPress/FirstCourseNetworkScience, Chapter 1-2."
   ]
  },
  {
   "cell_type": "markdown",
   "metadata": {
    "id": "ciNKkqzRH9ln"
   },
   "source": [
    "# Import modules"
   ]
  },
  {
   "cell_type": "code",
   "execution_count": 18,
   "metadata": {
    "id": "4a9fNwFfMqjt"
   },
   "outputs": [
    {
     "name": "stdout",
     "output_type": "stream",
     "text": [
      "Requirement already satisfied: networkx in c:\\users\\neoch\\anaconda3\\lib\\site-packages (3.1)\n"
     ]
    },
    {
     "name": "stderr",
     "output_type": "stream",
     "text": [
      "WARNING: Ignoring invalid distribution -rotobuf (c:\\users\\neoch\\anaconda3\\lib\\site-packages)\n",
      "WARNING: Ignoring invalid distribution -rotobuf (c:\\users\\neoch\\anaconda3\\lib\\site-packages)\n",
      "\n",
      "[notice] A new release of pip is available: 23.1.2 -> 23.2.1\n",
      "[notice] To update, run: python.exe -m pip install --upgrade pip\n"
     ]
    },
    {
     "name": "stdout",
     "output_type": "stream",
     "text": [
      "Requirement already satisfied: matplotlib in c:\\users\\neoch\\anaconda3\\lib\\site-packages (3.6.3)\n",
      "Requirement already satisfied: contourpy>=1.0.1 in c:\\users\\neoch\\anaconda3\\lib\\site-packages (from matplotlib) (1.0.7)\n",
      "Requirement already satisfied: cycler>=0.10 in c:\\users\\neoch\\anaconda3\\lib\\site-packages (from matplotlib) (0.11.0)\n",
      "Requirement already satisfied: fonttools>=4.22.0 in c:\\users\\neoch\\anaconda3\\lib\\site-packages (from matplotlib) (4.25.0)\n",
      "Requirement already satisfied: kiwisolver>=1.0.1 in c:\\users\\neoch\\anaconda3\\lib\\site-packages (from matplotlib) (1.3.2)\n",
      "Requirement already satisfied: numpy>=1.19 in c:\\users\\neoch\\anaconda3\\lib\\site-packages (from matplotlib) (1.21.6)"
     ]
    },
    {
     "name": "stderr",
     "output_type": "stream",
     "text": [
      "WARNING: Ignoring invalid distribution -rotobuf (c:\\users\\neoch\\anaconda3\\lib\\site-packages)\n",
      "WARNING: Ignoring invalid distribution -rotobuf (c:\\users\\neoch\\anaconda3\\lib\\site-packages)\n",
      "\n",
      "[notice] A new release of pip is available: 23.1.2 -> 23.2.1\n",
      "[notice] To update, run: python.exe -m pip install --upgrade pip\n"
     ]
    },
    {
     "name": "stdout",
     "output_type": "stream",
     "text": [
      "\n",
      "Requirement already satisfied: packaging>=20.0 in c:\\users\\neoch\\anaconda3\\lib\\site-packages (from matplotlib) (21.3)\n",
      "Requirement already satisfied: pillow>=6.2.0 in c:\\users\\neoch\\anaconda3\\lib\\site-packages (from matplotlib) (9.0.1)\n",
      "Requirement already satisfied: pyparsing>=2.2.1 in c:\\users\\neoch\\anaconda3\\lib\\site-packages (from matplotlib) (3.0.4)\n",
      "Requirement already satisfied: python-dateutil>=2.7 in c:\\users\\neoch\\anaconda3\\lib\\site-packages (from matplotlib) (2.8.2)\n",
      "Requirement already satisfied: six>=1.5 in c:\\users\\neoch\\anaconda3\\lib\\site-packages (from python-dateutil>=2.7->matplotlib) (1.16.0)\n"
     ]
    }
   ],
   "source": [
    "!pip install networkx\n",
    "!pip install matplotlib\n",
    "\n",
    "import networkx as nx\n",
    "\n",
    "import pandas as pd\n",
    "import matplotlib.pyplot as plt\n",
    "import urllib, json"
   ]
  },
  {
   "cell_type": "markdown",
   "metadata": {
    "id": "yoZCZ0RQMqju"
   },
   "source": [
    "## Loading a Network\n",
    "### House Graph example\n",
    "https://networkx.org/documentation/stable/auto_examples/drawing/plot_house_with_colors.html"
   ]
  },
  {
   "cell_type": "code",
   "execution_count": 19,
   "metadata": {
    "id": "hZ46432DMqju"
   },
   "outputs": [],
   "source": [
    "HG = nx.house_graph()"
   ]
  },
  {
   "cell_type": "code",
   "execution_count": 20,
   "metadata": {
    "colab": {
     "base_uri": "https://localhost:8080/"
    },
    "id": "GVT_7LZ0Mqju",
    "outputId": "fbbeb521-d68d-4ec1-c7ed-77058057f638"
   },
   "outputs": [
    {
     "data": {
      "text/plain": [
       "NodeView((0, 1, 2, 3, 4))"
      ]
     },
     "execution_count": 20,
     "metadata": {},
     "output_type": "execute_result"
    }
   ],
   "source": [
    "## Nodes\n",
    "HG.nodes()"
   ]
  },
  {
   "cell_type": "code",
   "execution_count": 21,
   "metadata": {
    "colab": {
     "base_uri": "https://localhost:8080/"
    },
    "id": "MqJckP98Mqjv",
    "outputId": "24091c0e-bb18-4f28-bc84-6d99dfe0c1ae"
   },
   "outputs": [
    {
     "data": {
      "text/plain": [
       "EdgeView([(0, 1), (0, 2), (1, 3), (2, 3), (2, 4), (3, 4)])"
      ]
     },
     "execution_count": 21,
     "metadata": {},
     "output_type": "execute_result"
    }
   ],
   "source": [
    "## Edges\n",
    "HG.edges()"
   ]
  },
  {
   "cell_type": "markdown",
   "metadata": {
    "id": "cxJ6jIhBMqjv"
   },
   "source": [
    "### Visualization example\n",
    "https://networkx.org/documentation/stable/auto_examples/drawing/plot_house_with_colors.html"
   ]
  },
  {
   "cell_type": "code",
   "execution_count": 22,
   "metadata": {
    "colab": {
     "base_uri": "https://localhost:8080/",
     "height": 516
    },
    "id": "t-lCiGpbEB_T",
    "outputId": "0c9fab28-bccd-4579-eee8-032b71173030"
   },
   "outputs": [
    {
     "ename": "TypeError",
     "evalue": "'_AxesStack' object is not callable",
     "output_type": "error",
     "traceback": [
      "\u001b[1;31m---------------------------------------------------------------------------\u001b[0m",
      "\u001b[1;31mTypeError\u001b[0m                                 Traceback (most recent call last)",
      "Input \u001b[1;32mIn [22]\u001b[0m, in \u001b[0;36m<cell line: 2>\u001b[1;34m()\u001b[0m\n\u001b[0;32m      1\u001b[0m \u001b[38;5;66;03m# draw the graph\u001b[39;00m\n\u001b[1;32m----> 2\u001b[0m \u001b[43mnx\u001b[49m\u001b[38;5;241;43m.\u001b[39;49m\u001b[43mdraw\u001b[49m\u001b[43m(\u001b[49m\u001b[43mHG\u001b[49m\u001b[43m,\u001b[49m\u001b[43m \u001b[49m\u001b[43mwith_labels\u001b[49m\u001b[38;5;241;43m=\u001b[39;49m\u001b[38;5;28;43;01mTrue\u001b[39;49;00m\u001b[43m)\u001b[49m\n",
      "File \u001b[1;32m~\\anaconda3\\lib\\site-packages\\networkx\\drawing\\nx_pylab.py:112\u001b[0m, in \u001b[0;36mdraw\u001b[1;34m(G, pos, ax, **kwds)\u001b[0m\n\u001b[0;32m    110\u001b[0m cf\u001b[38;5;241m.\u001b[39mset_facecolor(\u001b[38;5;124m\"\u001b[39m\u001b[38;5;124mw\u001b[39m\u001b[38;5;124m\"\u001b[39m)\n\u001b[0;32m    111\u001b[0m \u001b[38;5;28;01mif\u001b[39;00m ax \u001b[38;5;129;01mis\u001b[39;00m \u001b[38;5;28;01mNone\u001b[39;00m:\n\u001b[1;32m--> 112\u001b[0m     \u001b[38;5;28;01mif\u001b[39;00m \u001b[43mcf\u001b[49m\u001b[38;5;241;43m.\u001b[39;49m\u001b[43m_axstack\u001b[49m\u001b[43m(\u001b[49m\u001b[43m)\u001b[49m \u001b[38;5;129;01mis\u001b[39;00m \u001b[38;5;28;01mNone\u001b[39;00m:\n\u001b[0;32m    113\u001b[0m         ax \u001b[38;5;241m=\u001b[39m cf\u001b[38;5;241m.\u001b[39madd_axes((\u001b[38;5;241m0\u001b[39m, \u001b[38;5;241m0\u001b[39m, \u001b[38;5;241m1\u001b[39m, \u001b[38;5;241m1\u001b[39m))\n\u001b[0;32m    114\u001b[0m     \u001b[38;5;28;01melse\u001b[39;00m:\n",
      "\u001b[1;31mTypeError\u001b[0m: '_AxesStack' object is not callable"
     ]
    },
    {
     "data": {
      "text/plain": [
       "<Figure size 432x288 with 0 Axes>"
      ]
     },
     "metadata": {},
     "output_type": "display_data"
    }
   ],
   "source": [
    "# draw the graph\n",
    "nx.draw(HG, with_labels=True)"
   ]
  },
  {
   "cell_type": "code",
   "execution_count": null,
   "metadata": {
    "colab": {
     "base_uri": "https://localhost:8080/",
     "height": 516
    },
    "id": "2QaU5hwUEGGP",
    "outputId": "d5260263-d828-4db1-8665-83d7b0ec8ca5"
   },
   "outputs": [],
   "source": [
    "nx.draw(HG,\n",
    "        with_labels=True,\n",
    "        node_color='blue',\n",
    "        node_size=1600,\n",
    "        font_color='white',\n",
    "        font_size=16,\n",
    "        )"
   ]
  },
  {
   "cell_type": "code",
   "execution_count": null,
   "metadata": {
    "colab": {
     "base_uri": "https://localhost:8080/",
     "height": 487
    },
    "id": "LlM-jzalMqjv",
    "outputId": "f7e0831b-4f0f-429a-a5b1-0065fa3a9d73",
    "scrolled": false
   },
   "outputs": [],
   "source": [
    "pos = {0: (0, 0), 1: (1, 0), 2: (0, 1), 3: (1, 1), 4: (0.5, 2.0)}\n",
    "nx.draw_networkx_nodes(\n",
    "    HG, pos, node_size=3000, nodelist=[0, 1, 2, 3], node_color=\"tab:blue\"\n",
    ")\n",
    "nx.draw_networkx_nodes(HG, pos, node_size=2000, nodelist=[4], node_color=\"tab:orange\")\n",
    "nx.draw_networkx_edges(HG, pos, alpha=1, width=6)\n",
    "nx.draw_networkx_labels(HG, pos, font_size=20)\n",
    "\n",
    "plt.tight_layout()"
   ]
  },
  {
   "cell_type": "markdown",
   "metadata": {
    "id": "EX35U0-6Mqjw"
   },
   "source": [
    "# Types of Representations"
   ]
  },
  {
   "cell_type": "markdown",
   "metadata": {
    "id": "iHjhO1PqMqjw"
   },
   "source": [
    "### Edge List"
   ]
  },
  {
   "cell_type": "code",
   "execution_count": null,
   "metadata": {
    "colab": {
     "base_uri": "https://localhost:8080/"
    },
    "id": "-F3aIpKGMqjw",
    "outputId": "6e918423-1ac0-4d06-c80d-77fdafdb0d74"
   },
   "outputs": [],
   "source": [
    "list( HG.edges() )"
   ]
  },
  {
   "cell_type": "markdown",
   "metadata": {
    "id": "QB5x07xyMqjw"
   },
   "source": [
    "### Adjacency Matrix"
   ]
  },
  {
   "cell_type": "code",
   "execution_count": null,
   "metadata": {
    "colab": {
     "base_uri": "https://localhost:8080/",
     "height": 206
    },
    "id": "4Am5X8BeMqjw",
    "outputId": "e0f1bcfb-eaaf-42a9-c466-6131b4d47db6"
   },
   "outputs": [],
   "source": [
    "ADJ = nx.to_pandas_adjacency(HG)\n",
    "ADJ"
   ]
  },
  {
   "cell_type": "markdown",
   "metadata": {
    "id": "MFTqzmznMqjw"
   },
   "source": [
    "### Node-edge list"
   ]
  },
  {
   "cell_type": "code",
   "execution_count": null,
   "metadata": {
    "colab": {
     "base_uri": "https://localhost:8080/"
    },
    "id": "YN1lnZbvMqjw",
    "outputId": "38cccd39-774d-4207-a54a-229db6be6ddb"
   },
   "outputs": [],
   "source": [
    "nx.to_dict_of_lists(HG)"
   ]
  },
  {
   "cell_type": "markdown",
   "metadata": {
    "id": "yVzGFzgYElfn"
   },
   "source": [
    "# Graph methods"
   ]
  },
  {
   "cell_type": "code",
   "execution_count": null,
   "metadata": {
    "colab": {
     "base_uri": "https://localhost:8080/"
    },
    "id": "0m3Nx3d3E2qI",
    "outputId": "fcdee9c0-5b67-4687-d1fb-d96dd578f4aa"
   },
   "outputs": [],
   "source": [
    "# nodes (iterator)\n",
    "HG.nodes()"
   ]
  },
  {
   "cell_type": "code",
   "execution_count": null,
   "metadata": {
    "colab": {
     "base_uri": "https://localhost:8080/"
    },
    "id": "fy8EcfMEFFlE",
    "outputId": "35cdb3dc-f20b-4b90-adac-a925adae2728"
   },
   "outputs": [],
   "source": [
    "# edges (iterator)\n",
    "HG.edges()"
   ]
  },
  {
   "cell_type": "code",
   "execution_count": null,
   "metadata": {
    "colab": {
     "base_uri": "https://localhost:8080/"
    },
    "id": "0HO-6s8nMqjw",
    "outputId": "322d6a59-d684-4fb2-b640-18734c9c298d"
   },
   "outputs": [],
   "source": [
    "# number of nodes and edges\n",
    "HG.number_of_nodes(), HG.number_of_edges()"
   ]
  },
  {
   "cell_type": "code",
   "execution_count": null,
   "metadata": {
    "colab": {
     "base_uri": "https://localhost:8080/"
    },
    "id": "wvhTCvUjErlW",
    "outputId": "95f9efe0-2e96-4aec-f239-31986142991d"
   },
   "outputs": [],
   "source": [
    "# Let's see neighbors of a certain node\n",
    "HG.neighbors(1)"
   ]
  },
  {
   "cell_type": "code",
   "execution_count": null,
   "metadata": {
    "colab": {
     "base_uri": "https://localhost:8080/"
    },
    "id": "gQg0jZXuFUJ_",
    "outputId": "df94511f-fdf7-4d9d-c35f-cc57b4311e03"
   },
   "outputs": [],
   "source": [
    "[neighbor for neighbor in HG.neighbors(1)]"
   ]
  },
  {
   "cell_type": "code",
   "execution_count": null,
   "metadata": {
    "colab": {
     "base_uri": "https://localhost:8080/"
    },
    "id": "-bdHTlxqGtRR",
    "outputId": "c711c0db-3a7f-4803-dfd1-29d6085bcaea"
   },
   "outputs": [],
   "source": [
    "HG.degree(1)"
   ]
  },
  {
   "cell_type": "markdown",
   "metadata": {
    "id": "phwT-JjvFtYs"
   },
   "source": [
    "# Directed graphs"
   ]
  },
  {
   "cell_type": "code",
   "execution_count": null,
   "metadata": {
    "colab": {
     "base_uri": "https://localhost:8080/",
     "height": 516
    },
    "id": "lvqN2asIFu66",
    "outputId": "3944840d-485e-43e9-f243-ae747a3b00a2"
   },
   "outputs": [],
   "source": [
    "D = nx.DiGraph()\n",
    "\n",
    "D.add_edges_from([('Albert','Bob'),('Bob', 'Cathy'),('Cathy','Bob'),('Cathy','Donald'),\n",
    " ('Cathy', 'Edward'),('Donald','Edward'),('Donald','Frank'),('Edward','Frank'),('Frank','Donald'),('Donald','Bob')])\n",
    "\n",
    "nx.draw(D, with_labels=True)"
   ]
  },
  {
   "cell_type": "code",
   "execution_count": null,
   "metadata": {
    "colab": {
     "base_uri": "https://localhost:8080/"
    },
    "id": "HF1aaq1TGF7u",
    "outputId": "224d3b18-2ebf-41f3-caa5-e708dc7ad028"
   },
   "outputs": [],
   "source": [
    "D.has_edge('Albert','Bob'), D.has_edge('Bob','Albert'),"
   ]
  },
  {
   "cell_type": "code",
   "execution_count": null,
   "metadata": {
    "colab": {
     "base_uri": "https://localhost:8080/"
    },
    "id": "qsC_MdDwGkKl",
    "outputId": "4bb7f5b6-24fe-4cf3-ceda-5563ab3340bf"
   },
   "outputs": [],
   "source": [
    "D.in_degree('Bob')"
   ]
  },
  {
   "cell_type": "code",
   "execution_count": null,
   "metadata": {
    "colab": {
     "base_uri": "https://localhost:8080/"
    },
    "id": "ayA3hWTNGl41",
    "outputId": "4973284f-fa51-46fc-b011-17a600f02def"
   },
   "outputs": [],
   "source": [
    "D.out_degree('Bob')"
   ]
  },
  {
   "cell_type": "markdown",
   "metadata": {
    "id": "2LhnZwTSMqjx"
   },
   "source": [
    "## Some Metrics"
   ]
  },
  {
   "cell_type": "markdown",
   "metadata": {
    "id": "1yPtnSGwMqjx"
   },
   "source": [
    "Network density"
   ]
  },
  {
   "cell_type": "code",
   "execution_count": null,
   "metadata": {
    "colab": {
     "base_uri": "https://localhost:8080/"
    },
    "id": "vijNj8N4Mqjx",
    "outputId": "ddfd8d19-f5b2-4d28-cfd5-b2349b1e8502"
   },
   "outputs": [],
   "source": [
    "nx.density(HG)"
   ]
  },
  {
   "cell_type": "code",
   "execution_count": null,
   "metadata": {
    "colab": {
     "base_uri": "https://localhost:8080/"
    },
    "id": "IQi22h5ZMqjx",
    "outputId": "5a487b74-3fd4-4fbb-f6d1-8d3148802d55"
   },
   "outputs": [],
   "source": [
    "nx.density(D)"
   ]
  },
  {
   "cell_type": "markdown",
   "metadata": {
    "id": "NKTtbuenMqjy"
   },
   "source": [
    "Degree centrality"
   ]
  },
  {
   "cell_type": "code",
   "execution_count": null,
   "metadata": {
    "colab": {
     "base_uri": "https://localhost:8080/"
    },
    "id": "0ENt7QkZMqjy",
    "outputId": "6ae8647f-c6dd-4ce9-8ed5-9c8413d0afd9"
   },
   "outputs": [],
   "source": [
    "nx.degree_centrality(HG)"
   ]
  },
  {
   "cell_type": "code",
   "execution_count": null,
   "metadata": {
    "colab": {
     "base_uri": "https://localhost:8080/"
    },
    "id": "S1PFYCrKHgKk",
    "outputId": "eecb98b8-8bf6-4775-8a73-cfbaa0b92980"
   },
   "outputs": [],
   "source": [
    "nx.in_degree_centrality(D)"
   ]
  },
  {
   "cell_type": "code",
   "execution_count": null,
   "metadata": {
    "colab": {
     "base_uri": "https://localhost:8080/"
    },
    "id": "Cx1X93qAHs-Y",
    "outputId": "dc380e79-a364-4af7-e5ec-3b9801144eeb"
   },
   "outputs": [],
   "source": [
    "nx.out_degree_centrality(D)"
   ]
  },
  {
   "cell_type": "markdown",
   "metadata": {
    "id": "j463WO15Mqjx"
   },
   "source": [
    "Shortest path\n",
    "\n"
   ]
  },
  {
   "cell_type": "code",
   "execution_count": null,
   "metadata": {
    "colab": {
     "base_uri": "https://localhost:8080/"
    },
    "id": "Hn-yoZHPMqjx",
    "outputId": "a0a9b5cd-95c7-479e-bbec-84bebef96e56"
   },
   "outputs": [],
   "source": [
    "nx.shortest_path(HG,0,4)"
   ]
  },
  {
   "cell_type": "code",
   "execution_count": null,
   "metadata": {
    "colab": {
     "base_uri": "https://localhost:8080/"
    },
    "id": "u70g09GAG6Hx",
    "outputId": "1ca5faf7-0b8a-4613-8cd8-4b2fdd14dde6"
   },
   "outputs": [],
   "source": [
    "nx.shortest_path(D, 'Edward', 'Bob')"
   ]
  },
  {
   "cell_type": "markdown",
   "metadata": {
    "id": "ZmmZA5BoMqjx"
   },
   "source": [
    "Betweenness centrality"
   ]
  },
  {
   "cell_type": "code",
   "execution_count": null,
   "metadata": {
    "colab": {
     "base_uri": "https://localhost:8080/"
    },
    "id": "HKX_eYQZMqjy",
    "outputId": "d19228ea-2f50-4f73-8c7b-4e2052e6ff50"
   },
   "outputs": [],
   "source": [
    "nx.betweenness_centrality(HG, normalized=False)"
   ]
  },
  {
   "cell_type": "code",
   "execution_count": null,
   "metadata": {
    "colab": {
     "base_uri": "https://localhost:8080/"
    },
    "id": "GfB-j8DQHE9A",
    "outputId": "986599dc-20d8-47ea-cb31-3107789188ab"
   },
   "outputs": [],
   "source": [
    "nx.betweenness_centrality(D, normalized=False)"
   ]
  },
  {
   "cell_type": "markdown",
   "metadata": {
    "id": "4KUyBgEEMqjy"
   },
   "source": [
    "# Les Miserables Graph\n",
    "*   Nodes: Each of the characters in Les Miserables.\n",
    "*   Edges: Pairs of characters co-appearing in the same chapter(s)."
   ]
  },
  {
   "cell_type": "code",
   "execution_count": 23,
   "metadata": {
    "id": "YVAVncrBMqjy"
   },
   "outputs": [],
   "source": [
    "lemis_url = 'https://raw.githubusercontent.com/plotly/datasets/master/miserables.json'\n",
    "with urllib.request.urlopen(lemis_url) as url:\n",
    "    raw_data = json.loads(url.read().decode())"
   ]
  },
  {
   "cell_type": "code",
   "execution_count": 24,
   "metadata": {
    "id": "KQ9Q3Cb1IlL8"
   },
   "outputs": [],
   "source": [
    "nodes = raw_data['nodes']\n",
    "nodelist = [(a[\"name\"]) for a in nodes]"
   ]
  },
  {
   "cell_type": "code",
   "execution_count": 25,
   "metadata": {
    "id": "pGr8-0dAMqjy"
   },
   "outputs": [],
   "source": [
    "edgelist = raw_data['links']\n",
    "edgelist = [(a[\"source\"], a[\"target\"]) for a in edgelist]"
   ]
  },
  {
   "cell_type": "code",
   "execution_count": 26,
   "metadata": {
    "colab": {
     "base_uri": "https://localhost:8080/"
    },
    "id": "mFzkOkWhJdkn",
    "outputId": "ed3a9c94-32b4-47ed-fb36-a3cd66fccbbe"
   },
   "outputs": [
    {
     "data": {
      "text/plain": [
       "[('Napoleon', 'Myriel'),\n",
       " ('Mlle.Baptistine', 'Myriel'),\n",
       " ('Mme.Magloire', 'Myriel'),\n",
       " ('Mme.Magloire', 'Mlle.Baptistine'),\n",
       " ('CountessdeLo', 'Myriel'),\n",
       " ('Geborand', 'Myriel'),\n",
       " ('Champtercier', 'Myriel'),\n",
       " ('Cravatte', 'Myriel'),\n",
       " ('Count', 'Myriel'),\n",
       " ('OldMan', 'Myriel'),\n",
       " ('Valjean', 'Labarre'),\n",
       " ('Valjean', 'Mme.Magloire'),\n",
       " ('Valjean', 'Mlle.Baptistine'),\n",
       " ('Valjean', 'Myriel'),\n",
       " ('Marguerite', 'Valjean'),\n",
       " ('Mme.deR', 'Valjean'),\n",
       " ('Isabeau', 'Valjean'),\n",
       " ('Gervais', 'Valjean'),\n",
       " ('Listolier', 'Tholomyes'),\n",
       " ('Fameuil', 'Tholomyes'),\n",
       " ('Fameuil', 'Listolier'),\n",
       " ('Blacheville', 'Tholomyes'),\n",
       " ('Blacheville', 'Listolier'),\n",
       " ('Blacheville', 'Fameuil'),\n",
       " ('Favourite', 'Tholomyes'),\n",
       " ('Favourite', 'Listolier'),\n",
       " ('Favourite', 'Fameuil'),\n",
       " ('Favourite', 'Blacheville'),\n",
       " ('Dahlia', 'Tholomyes'),\n",
       " ('Dahlia', 'Listolier'),\n",
       " ('Dahlia', 'Fameuil'),\n",
       " ('Dahlia', 'Blacheville'),\n",
       " ('Dahlia', 'Favourite'),\n",
       " ('Zephine', 'Tholomyes'),\n",
       " ('Zephine', 'Listolier'),\n",
       " ('Zephine', 'Fameuil'),\n",
       " ('Zephine', 'Blacheville'),\n",
       " ('Zephine', 'Favourite'),\n",
       " ('Zephine', 'Dahlia'),\n",
       " ('Fantine', 'Tholomyes'),\n",
       " ('Fantine', 'Listolier'),\n",
       " ('Fantine', 'Fameuil'),\n",
       " ('Fantine', 'Blacheville'),\n",
       " ('Fantine', 'Favourite'),\n",
       " ('Fantine', 'Dahlia'),\n",
       " ('Fantine', 'Zephine'),\n",
       " ('Fantine', 'Marguerite'),\n",
       " ('Fantine', 'Valjean'),\n",
       " ('Mme.Thenardier', 'Fantine'),\n",
       " ('Mme.Thenardier', 'Valjean'),\n",
       " ('Thenardier', 'Mme.Thenardier'),\n",
       " ('Thenardier', 'Fantine'),\n",
       " ('Thenardier', 'Valjean'),\n",
       " ('Cosette', 'Mme.Thenardier'),\n",
       " ('Cosette', 'Valjean'),\n",
       " ('Cosette', 'Tholomyes'),\n",
       " ('Cosette', 'Thenardier'),\n",
       " ('Javert', 'Valjean'),\n",
       " ('Javert', 'Fantine'),\n",
       " ('Javert', 'Thenardier'),\n",
       " ('Javert', 'Mme.Thenardier'),\n",
       " ('Javert', 'Cosette'),\n",
       " ('Fauchelevent', 'Valjean'),\n",
       " ('Fauchelevent', 'Javert'),\n",
       " ('Bamatabois', 'Fantine'),\n",
       " ('Bamatabois', 'Javert'),\n",
       " ('Bamatabois', 'Valjean'),\n",
       " ('Perpetue', 'Fantine'),\n",
       " ('Simplice', 'Perpetue'),\n",
       " ('Simplice', 'Valjean'),\n",
       " ('Simplice', 'Fantine'),\n",
       " ('Simplice', 'Javert'),\n",
       " ('Scaufflaire', 'Valjean'),\n",
       " ('Woman1', 'Valjean'),\n",
       " ('Woman1', 'Javert'),\n",
       " ('Judge', 'Valjean'),\n",
       " ('Judge', 'Bamatabois'),\n",
       " ('Champmathieu', 'Valjean'),\n",
       " ('Champmathieu', 'Judge'),\n",
       " ('Champmathieu', 'Bamatabois'),\n",
       " ('Brevet', 'Judge'),\n",
       " ('Brevet', 'Champmathieu'),\n",
       " ('Brevet', 'Valjean'),\n",
       " ('Brevet', 'Bamatabois'),\n",
       " ('Chenildieu', 'Judge'),\n",
       " ('Chenildieu', 'Champmathieu'),\n",
       " ('Chenildieu', 'Brevet'),\n",
       " ('Chenildieu', 'Valjean'),\n",
       " ('Chenildieu', 'Bamatabois'),\n",
       " ('Cochepaille', 'Judge'),\n",
       " ('Cochepaille', 'Champmathieu'),\n",
       " ('Cochepaille', 'Brevet'),\n",
       " ('Cochepaille', 'Chenildieu'),\n",
       " ('Cochepaille', 'Valjean'),\n",
       " ('Cochepaille', 'Bamatabois'),\n",
       " ('Pontmercy', 'Thenardier'),\n",
       " ('Boulatruelle', 'Thenardier'),\n",
       " ('Eponine', 'Mme.Thenardier'),\n",
       " ('Eponine', 'Thenardier'),\n",
       " ('Anzelma', 'Eponine'),\n",
       " ('Anzelma', 'Thenardier'),\n",
       " ('Anzelma', 'Mme.Thenardier'),\n",
       " ('Woman2', 'Valjean'),\n",
       " ('Woman2', 'Cosette'),\n",
       " ('Woman2', 'Javert'),\n",
       " ('MotherInnocent', 'Fauchelevent'),\n",
       " ('MotherInnocent', 'Valjean'),\n",
       " ('Gribier', 'Fauchelevent'),\n",
       " ('Mme.Burgon', 'Jondrette'),\n",
       " ('Gavroche', 'Mme.Burgon'),\n",
       " ('Gavroche', 'Thenardier'),\n",
       " ('Gavroche', 'Javert'),\n",
       " ('Gavroche', 'Valjean'),\n",
       " ('Gillenormand', 'Cosette'),\n",
       " ('Gillenormand', 'Valjean'),\n",
       " ('Magnon', 'Gillenormand'),\n",
       " ('Magnon', 'Mme.Thenardier'),\n",
       " ('Mlle.Gillenormand', 'Gillenormand'),\n",
       " ('Mlle.Gillenormand', 'Cosette'),\n",
       " ('Mlle.Gillenormand', 'Valjean'),\n",
       " ('Mme.Pontmercy', 'Mlle.Gillenormand'),\n",
       " ('Mme.Pontmercy', 'Pontmercy'),\n",
       " ('Mlle.Vaubois', 'Mlle.Gillenormand'),\n",
       " ('Lt.Gillenormand', 'Mlle.Gillenormand'),\n",
       " ('Lt.Gillenormand', 'Gillenormand'),\n",
       " ('Lt.Gillenormand', 'Cosette'),\n",
       " ('Marius', 'Mlle.Gillenormand'),\n",
       " ('Marius', 'Gillenormand'),\n",
       " ('Marius', 'Pontmercy'),\n",
       " ('Marius', 'Lt.Gillenormand'),\n",
       " ('Marius', 'Cosette'),\n",
       " ('Marius', 'Valjean'),\n",
       " ('Marius', 'Tholomyes'),\n",
       " ('Marius', 'Thenardier'),\n",
       " ('Marius', 'Eponine'),\n",
       " ('Marius', 'Gavroche'),\n",
       " ('BaronessT', 'Gillenormand'),\n",
       " ('BaronessT', 'Marius'),\n",
       " ('Mabeuf', 'Marius'),\n",
       " ('Mabeuf', 'Eponine'),\n",
       " ('Mabeuf', 'Gavroche'),\n",
       " ('Enjolras', 'Marius'),\n",
       " ('Enjolras', 'Gavroche'),\n",
       " ('Enjolras', 'Javert'),\n",
       " ('Enjolras', 'Mabeuf'),\n",
       " ('Enjolras', 'Valjean'),\n",
       " ('Combeferre', 'Enjolras'),\n",
       " ('Combeferre', 'Marius'),\n",
       " ('Combeferre', 'Gavroche'),\n",
       " ('Combeferre', 'Mabeuf'),\n",
       " ('Prouvaire', 'Gavroche'),\n",
       " ('Prouvaire', 'Enjolras'),\n",
       " ('Prouvaire', 'Combeferre'),\n",
       " ('Feuilly', 'Gavroche'),\n",
       " ('Feuilly', 'Enjolras'),\n",
       " ('Feuilly', 'Prouvaire'),\n",
       " ('Feuilly', 'Combeferre'),\n",
       " ('Feuilly', 'Mabeuf'),\n",
       " ('Feuilly', 'Marius'),\n",
       " ('Courfeyrac', 'Marius'),\n",
       " ('Courfeyrac', 'Enjolras'),\n",
       " ('Courfeyrac', 'Combeferre'),\n",
       " ('Courfeyrac', 'Gavroche'),\n",
       " ('Courfeyrac', 'Mabeuf'),\n",
       " ('Courfeyrac', 'Eponine'),\n",
       " ('Courfeyrac', 'Feuilly'),\n",
       " ('Courfeyrac', 'Prouvaire'),\n",
       " ('Bahorel', 'Combeferre'),\n",
       " ('Bahorel', 'Gavroche'),\n",
       " ('Bahorel', 'Courfeyrac'),\n",
       " ('Bahorel', 'Mabeuf'),\n",
       " ('Bahorel', 'Enjolras'),\n",
       " ('Bahorel', 'Feuilly'),\n",
       " ('Bahorel', 'Prouvaire'),\n",
       " ('Bahorel', 'Marius'),\n",
       " ('Bossuet', 'Marius'),\n",
       " ('Bossuet', 'Courfeyrac'),\n",
       " ('Bossuet', 'Gavroche'),\n",
       " ('Bossuet', 'Bahorel'),\n",
       " ('Bossuet', 'Enjolras'),\n",
       " ('Bossuet', 'Feuilly'),\n",
       " ('Bossuet', 'Prouvaire'),\n",
       " ('Bossuet', 'Combeferre'),\n",
       " ('Bossuet', 'Mabeuf'),\n",
       " ('Bossuet', 'Valjean'),\n",
       " ('Joly', 'Bahorel'),\n",
       " ('Joly', 'Bossuet'),\n",
       " ('Joly', 'Gavroche'),\n",
       " ('Joly', 'Courfeyrac'),\n",
       " ('Joly', 'Enjolras'),\n",
       " ('Joly', 'Feuilly'),\n",
       " ('Joly', 'Prouvaire'),\n",
       " ('Joly', 'Combeferre'),\n",
       " ('Joly', 'Mabeuf'),\n",
       " ('Joly', 'Marius'),\n",
       " ('Grantaire', 'Bossuet'),\n",
       " ('Grantaire', 'Enjolras'),\n",
       " ('Grantaire', 'Combeferre'),\n",
       " ('Grantaire', 'Courfeyrac'),\n",
       " ('Grantaire', 'Joly'),\n",
       " ('Grantaire', 'Gavroche'),\n",
       " ('Grantaire', 'Bahorel'),\n",
       " ('Grantaire', 'Feuilly'),\n",
       " ('Grantaire', 'Prouvaire'),\n",
       " ('MotherPlutarch', 'Mabeuf'),\n",
       " ('Gueulemer', 'Thenardier'),\n",
       " ('Gueulemer', 'Valjean'),\n",
       " ('Gueulemer', 'Mme.Thenardier'),\n",
       " ('Gueulemer', 'Javert'),\n",
       " ('Gueulemer', 'Gavroche'),\n",
       " ('Gueulemer', 'Eponine'),\n",
       " ('Babet', 'Thenardier'),\n",
       " ('Babet', 'Gueulemer'),\n",
       " ('Babet', 'Valjean'),\n",
       " ('Babet', 'Mme.Thenardier'),\n",
       " ('Babet', 'Javert'),\n",
       " ('Babet', 'Gavroche'),\n",
       " ('Babet', 'Eponine'),\n",
       " ('Claquesous', 'Thenardier'),\n",
       " ('Claquesous', 'Babet'),\n",
       " ('Claquesous', 'Gueulemer'),\n",
       " ('Claquesous', 'Valjean'),\n",
       " ('Claquesous', 'Mme.Thenardier'),\n",
       " ('Claquesous', 'Javert'),\n",
       " ('Claquesous', 'Eponine'),\n",
       " ('Claquesous', 'Enjolras'),\n",
       " ('Montparnasse', 'Javert'),\n",
       " ('Montparnasse', 'Babet'),\n",
       " ('Montparnasse', 'Gueulemer'),\n",
       " ('Montparnasse', 'Claquesous'),\n",
       " ('Montparnasse', 'Valjean'),\n",
       " ('Montparnasse', 'Gavroche'),\n",
       " ('Montparnasse', 'Eponine'),\n",
       " ('Montparnasse', 'Thenardier'),\n",
       " ('Toussaint', 'Cosette'),\n",
       " ('Toussaint', 'Javert'),\n",
       " ('Toussaint', 'Valjean'),\n",
       " ('Child1', 'Gavroche'),\n",
       " ('Child2', 'Gavroche'),\n",
       " ('Child2', 'Child1'),\n",
       " ('Brujon', 'Babet'),\n",
       " ('Brujon', 'Gueulemer'),\n",
       " ('Brujon', 'Thenardier'),\n",
       " ('Brujon', 'Gavroche'),\n",
       " ('Brujon', 'Eponine'),\n",
       " ('Brujon', 'Claquesous'),\n",
       " ('Brujon', 'Montparnasse'),\n",
       " ('Mme.Hucheloup', 'Bossuet'),\n",
       " ('Mme.Hucheloup', 'Joly'),\n",
       " ('Mme.Hucheloup', 'Grantaire'),\n",
       " ('Mme.Hucheloup', 'Bahorel'),\n",
       " ('Mme.Hucheloup', 'Courfeyrac'),\n",
       " ('Mme.Hucheloup', 'Gavroche'),\n",
       " ('Mme.Hucheloup', 'Enjolras')]"
      ]
     },
     "execution_count": 26,
     "metadata": {},
     "output_type": "execute_result"
    }
   ],
   "source": [
    "edgelist = [(nodelist[a], nodelist[b]) for a, b in edgelist]\n",
    "edgelist"
   ]
  },
  {
   "cell_type": "markdown",
   "metadata": {
    "id": "XAMnBuxdMqjy"
   },
   "source": [
    "### Create a networkx object with the information above\n",
    "https://networkx.org/documentation/networkx-1.0/tutorial/tutorial.html"
   ]
  },
  {
   "cell_type": "code",
   "execution_count": 27,
   "metadata": {
    "id": "_feI2iQKMqjz"
   },
   "outputs": [],
   "source": [
    "LM_G = nx.Graph()\n",
    "LM_G.add_edges_from(edgelist)"
   ]
  },
  {
   "cell_type": "code",
   "execution_count": 28,
   "metadata": {
    "colab": {
     "base_uri": "https://localhost:8080/"
    },
    "id": "7ut5TBy2LZmZ",
    "outputId": "e8fba0af-9b33-4cc9-c98f-2bbfca6e13b1"
   },
   "outputs": [
    {
     "data": {
      "text/plain": [
       "77"
      ]
     },
     "execution_count": 28,
     "metadata": {},
     "output_type": "execute_result"
    }
   ],
   "source": [
    "LM_G.number_of_nodes()"
   ]
  },
  {
   "cell_type": "code",
   "execution_count": 29,
   "metadata": {
    "colab": {
     "base_uri": "https://localhost:8080/"
    },
    "id": "Eg21sUgwLVZb",
    "outputId": "c14e185b-7fb2-464d-b1f9-f132f99ce5f5"
   },
   "outputs": [
    {
     "data": {
      "text/plain": [
       "36"
      ]
     },
     "execution_count": 29,
     "metadata": {},
     "output_type": "execute_result"
    }
   ],
   "source": [
    "LM_G.degree('Valjean')"
   ]
  },
  {
   "cell_type": "code",
   "execution_count": 30,
   "metadata": {
    "colab": {
     "base_uri": "https://localhost:8080/"
    },
    "id": "-P7mn-irK1qQ",
    "outputId": "08142694-c820-4912-a9b2-94f4bcf84680"
   },
   "outputs": [
    {
     "data": {
      "text/plain": [
       "['Labarre',\n",
       " 'Mme.Magloire',\n",
       " 'Mlle.Baptistine',\n",
       " 'Myriel',\n",
       " 'Marguerite',\n",
       " 'Mme.deR',\n",
       " 'Isabeau',\n",
       " 'Gervais',\n",
       " 'Fantine',\n",
       " 'Mme.Thenardier',\n",
       " 'Thenardier',\n",
       " 'Cosette',\n",
       " 'Javert',\n",
       " 'Fauchelevent',\n",
       " 'Bamatabois',\n",
       " 'Simplice',\n",
       " 'Scaufflaire',\n",
       " 'Woman1',\n",
       " 'Judge',\n",
       " 'Champmathieu',\n",
       " 'Brevet',\n",
       " 'Chenildieu',\n",
       " 'Cochepaille',\n",
       " 'Woman2',\n",
       " 'MotherInnocent',\n",
       " 'Gavroche',\n",
       " 'Gillenormand',\n",
       " 'Mlle.Gillenormand',\n",
       " 'Marius',\n",
       " 'Enjolras',\n",
       " 'Bossuet',\n",
       " 'Gueulemer',\n",
       " 'Babet',\n",
       " 'Claquesous',\n",
       " 'Montparnasse',\n",
       " 'Toussaint']"
      ]
     },
     "execution_count": 30,
     "metadata": {},
     "output_type": "execute_result"
    }
   ],
   "source": [
    "[neighbor for neighbor in LM_G.neighbors('Valjean')]"
   ]
  },
  {
   "cell_type": "code",
   "execution_count": 31,
   "metadata": {
    "colab": {
     "base_uri": "https://localhost:8080/",
     "height": 487
    },
    "id": "kaoLITYaMqjz",
    "outputId": "11e17e08-0b00-43b8-dd91-f7c73d6b13f4",
    "scrolled": true
   },
   "outputs": [
    {
     "data": {
      "image/png": "[encoded data removed]",
      "text/plain": [
       "<Figure size 432x288 with 1 Axes>"
      ]
     },
     "metadata": {},
     "output_type": "display_data"
    }
   ],
   "source": [
    "ax = plt.subplots()\n",
    "\n",
    "pos = nx.spring_layout(LM_G, seed=200)\n",
    "nx.draw_networkx_edges(LM_G, pos, alpha=0.25, width=1)\n",
    "nx.draw_networkx_nodes(LM_G, pos, node_size=100).set_edgecolor('black')\n",
    "\n",
    "# Add labels to the nodes\n",
    "labels = {node: str(node) for node in LM_G.nodes()}  # Replace str(node) with your actual labels\n",
    "nx.draw_networkx_labels(LM_G, pos, labels, font_size=5, font_color='black')\n",
    "\n",
    "plt.tight_layout()\n",
    "plt.axis(\"off\")\n",
    "plt.show()"
   ]
  },
  {
   "cell_type": "code",
   "execution_count": 32,
   "metadata": {
    "colab": {
     "base_uri": "https://localhost:8080/",
     "height": 423
    },
    "id": "fDFum6IlMqjz",
    "outputId": "fc73a2a1-f38f-40c6-e11a-41e3b582e6d1"
   },
   "outputs": [
    {
     "data": {
      "text/html": [
       "<div>\n",
       "<style scoped>\n",
       "    .dataframe tbody tr th:only-of-type {\n",
       "        vertical-align: middle;\n",
       "    }\n",
       "\n",
       "    .dataframe tbody tr th {\n",
       "        vertical-align: top;\n",
       "    }\n",
       "\n",
       "    .dataframe thead th {\n",
       "        text-align: right;\n",
       "    }\n",
       "</style>\n",
       "<table border=\"1\" class=\"dataframe\">\n",
       "  <thead>\n",
       "    <tr style=\"text-align: right;\">\n",
       "      <th></th>\n",
       "      <th>node</th>\n",
       "      <th>degree</th>\n",
       "    </tr>\n",
       "  </thead>\n",
       "  <tbody>\n",
       "    <tr>\n",
       "      <th>10</th>\n",
       "      <td>Valjean</td>\n",
       "      <td>36</td>\n",
       "    </tr>\n",
       "    <tr>\n",
       "      <th>48</th>\n",
       "      <td>Gavroche</td>\n",
       "      <td>22</td>\n",
       "    </tr>\n",
       "    <tr>\n",
       "      <th>55</th>\n",
       "      <td>Marius</td>\n",
       "      <td>19</td>\n",
       "    </tr>\n",
       "    <tr>\n",
       "      <th>27</th>\n",
       "      <td>Javert</td>\n",
       "      <td>17</td>\n",
       "    </tr>\n",
       "    <tr>\n",
       "      <th>25</th>\n",
       "      <td>Thenardier</td>\n",
       "      <td>16</td>\n",
       "    </tr>\n",
       "    <tr>\n",
       "      <th>...</th>\n",
       "      <td>...</td>\n",
       "      <td>...</td>\n",
       "    </tr>\n",
       "    <tr>\n",
       "      <th>13</th>\n",
       "      <td>Mme.deR</td>\n",
       "      <td>1</td>\n",
       "    </tr>\n",
       "    <tr>\n",
       "      <th>14</th>\n",
       "      <td>Isabeau</td>\n",
       "      <td>1</td>\n",
       "    </tr>\n",
       "    <tr>\n",
       "      <th>15</th>\n",
       "      <td>Gervais</td>\n",
       "      <td>1</td>\n",
       "    </tr>\n",
       "    <tr>\n",
       "      <th>32</th>\n",
       "      <td>Scaufflaire</td>\n",
       "      <td>1</td>\n",
       "    </tr>\n",
       "    <tr>\n",
       "      <th>0</th>\n",
       "      <td>Napoleon</td>\n",
       "      <td>1</td>\n",
       "    </tr>\n",
       "  </tbody>\n",
       "</table>\n",
       "<p>77 rows × 2 columns</p>\n",
       "</div>"
      ],
      "text/plain": [
       "           node  degree\n",
       "10      Valjean      36\n",
       "48     Gavroche      22\n",
       "55       Marius      19\n",
       "27       Javert      17\n",
       "25   Thenardier      16\n",
       "..          ...     ...\n",
       "13      Mme.deR       1\n",
       "14      Isabeau       1\n",
       "15      Gervais       1\n",
       "32  Scaufflaire       1\n",
       "0      Napoleon       1\n",
       "\n",
       "[77 rows x 2 columns]"
      ]
     },
     "execution_count": 32,
     "metadata": {},
     "output_type": "execute_result"
    }
   ],
   "source": [
    "df = pd.DataFrame( nx.degree(LM_G), columns=['node', 'degree'] )\n",
    "df.sort_values('degree', ascending=False)"
   ]
  },
  {
   "cell_type": "code",
   "execution_count": 33,
   "metadata": {
    "colab": {
     "base_uri": "https://localhost:8080/"
    },
    "id": "VCm1iQBHPNK-",
    "outputId": "5ca36a16-7586-4401-dd82-e219fdf14ff1"
   },
   "outputs": [
    {
     "data": {
      "text/plain": [
       "0.47368421052631576"
      ]
     },
     "execution_count": 33,
     "metadata": {},
     "output_type": "execute_result"
    }
   ],
   "source": [
    "nx.degree_centrality(LM_G)['Valjean']"
   ]
  },
  {
   "cell_type": "code",
   "execution_count": 34,
   "metadata": {
    "colab": {
     "base_uri": "https://localhost:8080/"
    },
    "id": "0SG8lEatPcPa",
    "outputId": "0f7b1bda-de89-4a8e-b7dc-a99c746f7a45"
   },
   "outputs": [
    {
     "data": {
      "text/plain": [
       "0.5699890527836184"
      ]
     },
     "execution_count": 34,
     "metadata": {},
     "output_type": "execute_result"
    }
   ],
   "source": [
    "nx.betweenness_centrality(LM_G)['Valjean']"
   ]
  },
  {
   "cell_type": "code",
   "execution_count": 35,
   "metadata": {
    "colab": {
     "base_uri": "https://localhost:8080/"
    },
    "id": "Al9IoXQqPgjv",
    "outputId": "35ed16fa-7cef-4269-c69d-7e24c72057b7"
   },
   "outputs": [
    {
     "data": {
      "text/plain": [
       "0.6440677966101694"
      ]
     },
     "execution_count": 35,
     "metadata": {},
     "output_type": "execute_result"
    }
   ],
   "source": [
    "nx.closeness_centrality(LM_G)['Valjean']"
   ]
  },
  {
   "cell_type": "code",
   "execution_count": 36,
   "metadata": {
    "colab": {
     "base_uri": "https://localhost:8080/"
    },
    "id": "phSTIOC6PjFa",
    "outputId": "7843e242-d2f4-4474-f251-5a8b0f62de4d"
   },
   "outputs": [
    {
     "data": {
      "text/plain": [
       "0.2676181759885394"
      ]
     },
     "execution_count": 36,
     "metadata": {},
     "output_type": "execute_result"
    }
   ],
   "source": [
    "nx.eigenvector_centrality(LM_G)['Valjean']"
   ]
  },
  {
   "cell_type": "markdown",
   "metadata": {
    "id": "Ra3A-m-g0jD7"
   },
   "source": [
    "# Visualize using PyVis\n",
    "Documentation: https://pyvis.readthedocs.io/en/latest/tutorial.html#getting-started"
   ]
  },
  {
   "cell_type": "code",
   "execution_count": null,
   "metadata": {
    "colab": {
     "base_uri": "https://localhost:8080/"
    },
    "id": "4_srvLYKL5ro",
    "outputId": "6a9fecc9-9d0b-4f69-ca55-5b0a9c62a97d"
   },
   "outputs": [],
   "source": [
    "!pip install pyvis\n",
    "from pyvis.network import Network\n",
    "from IPython.core.display import display, HTML"
   ]
  },
  {
   "cell_type": "code",
   "execution_count": null,
   "metadata": {
    "id": "ZNg3IMLAxiLS"
   },
   "outputs": [],
   "source": [
    "net = Network(notebook=True, cdn_resources='remote')\n",
    "net.from_nx(LM_G)"
   ]
  },
  {
   "cell_type": "code",
   "execution_count": null,
   "metadata": {
    "id": "kkLgxgk3zP0A"
   },
   "outputs": [],
   "source": [
    "net.show_buttons(filter_=['nodes', 'edges'])"
   ]
  },
  {
   "cell_type": "code",
   "execution_count": null,
   "metadata": {
    "colab": {
     "base_uri": "https://localhost:8080/",
     "height": 1000
    },
    "id": "hnzJL1-zyqCJ",
    "outputId": "fcff4e17-e809-4505-8440-0eb5eb0e9cc7"
   },
   "outputs": [],
   "source": [
    "# Save to an HTML file\n",
    "net_file = \"graph.html\"\n",
    "net.save_graph(net_file)\n",
    "\n",
    "# Display the saved HTML within Colab\n",
    "display(HTML(filename=net_file))"
   ]
  },
  {
   "cell_type": "markdown",
   "metadata": {
    "id": "mWdZ_bMQ06_8"
   },
   "source": [
    "# Visualize with netwulf (local only, not on Google CoLab)\n",
    "Documentation: https://netwulf.readthedocs.io/en/latest/"
   ]
  },
  {
   "cell_type": "code",
   "execution_count": 37,
   "metadata": {
    "id": "2MmZwqG51fsh"
   },
   "outputs": [
    {
     "name": "stdout",
     "output_type": "stream",
     "text": [
      "Requirement already satisfied: netwulf in c:\\users\\neoch\\anaconda3\\lib\\site-packages (0.1.5)\n",
      "Requirement already satisfied: networkx>=2.0 in c:\\users\\neoch\\anaconda3\\lib\\site-packages (from netwulf) (3.1)\n",
      "Requirement already satisfied: numpy>=0.14 in c:\\users\\neoch\\anaconda3\\lib\\site-packages (from netwulf) (1.21.6)\n",
      "Requirement already satisfied: matplotlib>=3.0 in c:\\users\\neoch\\anaconda3\\lib\\site-packages (from netwulf) (3.6.3)\n",
      "Requirement already satisfied: simplejson>=3.0 in c:\\users\\neoch\\anaconda3\\lib\\site-packages (from netwulf) (3.18.1)\n",
      "Requirement already satisfied: contourpy>=1.0.1 in c:\\users\\neoch\\anaconda3\\lib\\site-packages (from matplotlib>=3.0->netwulf) (1.0.7)\n",
      "Requirement already satisfied: cycler>=0.10 in c:\\users\\neoch\\anaconda3\\lib\\site-packages (from matplotlib>=3.0->netwulf) (0.11.0)\n",
      "Requirement already satisfied: fonttools>=4.22.0 in c:\\users\\neoch\\anaconda3\\lib\\site-packages (from matplotlib>=3.0->netwulf) (4.25.0)\n",
      "Requirement already satisfied: kiwisolver>=1.0.1 in c:\\users\\neoch\\anaconda3\\lib\\site-packages (from matplotlib>=3.0->netwulf) (1.3.2)\n",
      "Requirement already satisfied: packaging>=20.0 in c:\\users\\neoch\\anaconda3\\lib\\site-packages (from matplotlib>=3.0->netwulf) (21.3)\n",
      "Requirement already satisfied: pillow>=6.2.0 in c:\\users\\neoch\\anaconda3\\lib\\site-packages (from matplotlib>=3.0->netwulf) (9.0.1)\n",
      "Requirement already satisfied: pyparsing>=2.2.1 in c:\\users\\neoch\\anaconda3\\lib\\site-packages (from matplotlib>=3.0->netwulf) (3.0.4)\n",
      "Requirement already satisfied: python-dateutil>=2.7 in c:\\users\\neoch\\anaconda3\\lib\\site-packages (from matplotlib>=3.0->netwulf) (2.8.2)\n",
      "Requirement already satisfied: six>=1.5 in c:\\users\\neoch\\anaconda3\\lib\\site-packages (from python-dateutil>=2.7->matplotlib>=3.0->netwulf) (1.16.0)\n"
     ]
    },
    {
     "name": "stderr",
     "output_type": "stream",
     "text": [
      "WARNING: Ignoring invalid distribution -rotobuf (c:\\users\\neoch\\anaconda3\\lib\\site-packages)\n",
      "WARNING: Ignoring invalid distribution -rotobuf (c:\\users\\neoch\\anaconda3\\lib\\site-packages)\n",
      "\n",
      "[notice] A new release of pip is available: 23.1.2 -> 23.2.1\n",
      "[notice] To update, run: python.exe -m pip install --upgrade pip\n"
     ]
    }
   ],
   "source": [
    "!pip install netwulf"
   ]
  },
  {
   "cell_type": "code",
   "execution_count": 38,
   "metadata": {
    "id": "Lgyx9klZ1LUr"
   },
   "outputs": [
    {
     "data": {
      "image/png": "[encoded data removed]",
      "text/plain": [
       "<Figure size 288x288 with 1 Axes>"
      ]
     },
     "metadata": {
      "needs_background": "light"
     },
     "output_type": "display_data"
    }
   ],
   "source": [
    "from netwulf import visualize\n",
    "import netwulf as nw\n",
    "\n",
    "stylized_network, config = visualize(LM_G,)"
   ]
  },
  {
   "cell_type": "code",
   "execution_count": null,
   "metadata": {},
   "outputs": [],
   "source": []
  }
 ],
 "metadata": {
  "colab": {
   "provenance": []
  },
  "kernelspec": {
   "display_name": "Python 3 (ipykernel)",
   "language": "python",
   "name": "python3"
  },
  "language_info": {
   "codemirror_mode": {
    "name": "ipython",
    "version": 3
   },
   "file_extension": ".py",
   "mimetype": "text/x-python",
   "name": "python",
   "nbconvert_exporter": "python",
   "pygments_lexer": "ipython3",
   "version": "3.9.12"
  }
 },
 "nbformat": 4,
 "nbformat_minor": 1
}
