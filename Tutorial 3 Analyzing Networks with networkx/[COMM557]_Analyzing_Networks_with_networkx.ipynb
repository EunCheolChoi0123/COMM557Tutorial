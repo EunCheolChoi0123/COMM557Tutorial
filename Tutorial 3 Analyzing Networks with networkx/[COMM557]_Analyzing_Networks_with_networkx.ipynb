{
  "cells": [
    {
      "cell_type": "markdown",
      "metadata": {
        "id": "TBsFRZexMqjq"
      },
      "source": [
        "# Analyzing networks in Python"
      ]
    },
    {
      "cell_type": "markdown",
      "metadata": {
        "id": "lBOCW5Q4Mqjs"
      },
      "source": [
        "Activate anaconda and install packages    \n",
        "`conda install -c anaconda networkx`  \n",
        "`conda install pandas`  \n",
        "`conda install matplotlib`"
      ]
    },
    {
      "cell_type": "code",
      "execution_count": null,
      "metadata": {
        "id": "4a9fNwFfMqjt"
      },
      "outputs": [],
      "source": [
        "import networkx as nx\n",
        "import pandas as pd\n",
        "import matplotlib.pyplot as plt\n",
        "import urllib, json"
      ]
    },
    {
      "cell_type": "markdown",
      "metadata": {
        "id": "yoZCZ0RQMqju"
      },
      "source": [
        "## Loading a Network\n",
        "### House Graph example\n",
        "https://networkx.org/documentation/stable/auto_examples/drawing/plot_house_with_colors.html"
      ]
    },
    {
      "cell_type": "code",
      "execution_count": null,
      "metadata": {
        "id": "hZ46432DMqju"
      },
      "outputs": [],
      "source": [
        "HG = nx.house_graph()"
      ]
    },
    {
      "cell_type": "code",
      "execution_count": null,
      "metadata": {
        "id": "GVT_7LZ0Mqju",
        "outputId": "c501a45e-0a80-4528-8e27-9d6268011b55"
      },
      "outputs": [
        {
          "data": {
            "text/plain": [
              "NodeView((0, 1, 2, 3, 4))"
            ]
          },
          "execution_count": 8,
          "metadata": {},
          "output_type": "execute_result"
        }
      ],
      "source": [
        "## Nodes\n",
        "HG.nodes()"
      ]
    },
    {
      "cell_type": "code",
      "execution_count": null,
      "metadata": {
        "id": "MqJckP98Mqjv",
        "outputId": "f45f853c-8f88-4cad-d4b5-d0273cdeccec"
      },
      "outputs": [
        {
          "data": {
            "text/plain": [
              "EdgeView([(0, 1), (0, 2), (1, 3), (2, 3), (2, 4), (3, 4)])"
            ]
          },
          "execution_count": 9,
          "metadata": {},
          "output_type": "execute_result"
        }
      ],
      "source": [
        "## Edges\n",
        "HG.edges()"
      ]
    },
    {
      "cell_type": "markdown",
      "metadata": {
        "id": "cxJ6jIhBMqjv"
      },
      "source": [
        "### Visualization example\n",
        "https://networkx.org/documentation/stable/auto_examples/drawing/plot_house_with_colors.html"
      ]
    },
    {
      "cell_type": "code",
      "execution_count": null,
      "metadata": {
        "scrolled": false,
        "id": "LlM-jzalMqjv",
        "outputId": "c34e39f2-e5d8-460a-bf96-c9d7980c10f0"
      },
      "outputs": [
        {
          "data": {
            "text/plain": [
              "(-0.10500000000000001, 1.105, -0.21000000000000002, 2.21)"
            ]
          },
          "execution_count": 13,
          "metadata": {},
          "output_type": "execute_result"
        },
        {
          "data": {
            "image/png": "[encoded data removed]",
            "text/plain": [
              "<Figure size 432x288 with 1 Axes>"
            ]
          },
          "metadata": {},
          "output_type": "display_data"
        }
      ],
      "source": [
        "pos = {0: (0, 0), 1: (1, 0), 2: (0, 1), 3: (1, 1), 4: (0.5, 2.0)}\n",
        "nx.draw_networkx_nodes(\n",
        "    HG, pos, node_size=3000, nodelist=[0, 1, 2, 3], node_color=\"tab:blue\"\n",
        ")\n",
        "nx.draw_networkx_nodes(HG, pos, node_size=2000, nodelist=[4], node_color=\"tab:orange\")\n",
        "nx.draw_networkx_edges(HG, pos, alpha=1, width=6)\n",
        "nx.draw_networkx_labels(HG, pos, font_size=20)\n",
        "\n",
        "plt.tight_layout()\n",
        "plt.axis(\"off\")"
      ]
    },
    {
      "cell_type": "markdown",
      "metadata": {
        "id": "EX35U0-6Mqjw"
      },
      "source": [
        "# Types of Edge Representation"
      ]
    },
    {
      "cell_type": "markdown",
      "metadata": {
        "id": "iHjhO1PqMqjw"
      },
      "source": [
        "### Edge List"
      ]
    },
    {
      "cell_type": "code",
      "execution_count": null,
      "metadata": {
        "id": "-F3aIpKGMqjw",
        "outputId": "e1b761a9-e699-44aa-d54d-cce5113c3c47"
      },
      "outputs": [
        {
          "data": {
            "text/plain": [
              "[(0, 1), (0, 2), (1, 3), (2, 3), (2, 4), (3, 4)]"
            ]
          },
          "execution_count": 14,
          "metadata": {},
          "output_type": "execute_result"
        }
      ],
      "source": [
        "list( HG.edges() )"
      ]
    },
    {
      "cell_type": "markdown",
      "metadata": {
        "id": "QB5x07xyMqjw"
      },
      "source": [
        "### Adjacency Matrix"
      ]
    },
    {
      "cell_type": "code",
      "execution_count": null,
      "metadata": {
        "id": "4Am5X8BeMqjw",
        "outputId": "1fe106f1-de72-4820-dbeb-67782a9f44ef"
      },
      "outputs": [
        {
          "data": {
            "text/html": [
              "<div>\n",
              "<style scoped>\n",
              "    .dataframe tbody tr th:only-of-type {\n",
              "        vertical-align: middle;\n",
              "    }\n",
              "\n",
              "    .dataframe tbody tr th {\n",
              "        vertical-align: top;\n",
              "    }\n",
              "\n",
              "    .dataframe thead th {\n",
              "        text-align: right;\n",
              "    }\n",
              "</style>\n",
              "<table border=\"1\" class=\"dataframe\">\n",
              "  <thead>\n",
              "    <tr style=\"text-align: right;\">\n",
              "      <th></th>\n",
              "      <th>0</th>\n",
              "      <th>1</th>\n",
              "      <th>2</th>\n",
              "      <th>3</th>\n",
              "      <th>4</th>\n",
              "    </tr>\n",
              "  </thead>\n",
              "  <tbody>\n",
              "    <tr>\n",
              "      <th>0</th>\n",
              "      <td>0.0</td>\n",
              "      <td>1.0</td>\n",
              "      <td>1.0</td>\n",
              "      <td>0.0</td>\n",
              "      <td>0.0</td>\n",
              "    </tr>\n",
              "    <tr>\n",
              "      <th>1</th>\n",
              "      <td>1.0</td>\n",
              "      <td>0.0</td>\n",
              "      <td>0.0</td>\n",
              "      <td>1.0</td>\n",
              "      <td>0.0</td>\n",
              "    </tr>\n",
              "    <tr>\n",
              "      <th>2</th>\n",
              "      <td>1.0</td>\n",
              "      <td>0.0</td>\n",
              "      <td>0.0</td>\n",
              "      <td>1.0</td>\n",
              "      <td>1.0</td>\n",
              "    </tr>\n",
              "    <tr>\n",
              "      <th>3</th>\n",
              "      <td>0.0</td>\n",
              "      <td>1.0</td>\n",
              "      <td>1.0</td>\n",
              "      <td>0.0</td>\n",
              "      <td>1.0</td>\n",
              "    </tr>\n",
              "    <tr>\n",
              "      <th>4</th>\n",
              "      <td>0.0</td>\n",
              "      <td>0.0</td>\n",
              "      <td>1.0</td>\n",
              "      <td>1.0</td>\n",
              "      <td>0.0</td>\n",
              "    </tr>\n",
              "  </tbody>\n",
              "</table>\n",
              "</div>"
            ],
            "text/plain": [
              "     0    1    2    3    4\n",
              "0  0.0  1.0  1.0  0.0  0.0\n",
              "1  1.0  0.0  0.0  1.0  0.0\n",
              "2  1.0  0.0  0.0  1.0  1.0\n",
              "3  0.0  1.0  1.0  0.0  1.0\n",
              "4  0.0  0.0  1.0  1.0  0.0"
            ]
          },
          "execution_count": 15,
          "metadata": {},
          "output_type": "execute_result"
        }
      ],
      "source": [
        "ADJ = nx.to_pandas_adjacency(HG)\n",
        "ADJ"
      ]
    },
    {
      "cell_type": "markdown",
      "metadata": {
        "id": "MFTqzmznMqjw"
      },
      "source": [
        "### Node-edge list"
      ]
    },
    {
      "cell_type": "code",
      "execution_count": null,
      "metadata": {
        "id": "YN1lnZbvMqjw",
        "outputId": "bcf142e1-3570-4e58-8d7d-34316f627d70"
      },
      "outputs": [
        {
          "data": {
            "text/plain": [
              "{0: [1, 2], 1: [0, 3], 2: [0, 3, 4], 3: [1, 2, 4], 4: [2, 3]}"
            ]
          },
          "execution_count": 16,
          "metadata": {},
          "output_type": "execute_result"
        }
      ],
      "source": [
        "nx.to_dict_of_lists(HG)"
      ]
    },
    {
      "cell_type": "code",
      "execution_count": null,
      "metadata": {
        "id": "0HO-6s8nMqjw"
      },
      "outputs": [],
      "source": []
    },
    {
      "cell_type": "markdown",
      "metadata": {
        "id": "2LhnZwTSMqjx"
      },
      "source": [
        "## Metrics"
      ]
    },
    {
      "cell_type": "markdown",
      "metadata": {
        "id": "rat5X0weMqjx"
      },
      "source": [
        "### Degree | How many friends do you have?"
      ]
    },
    {
      "cell_type": "code",
      "execution_count": null,
      "metadata": {
        "id": "M0gSQ-Q5Mqjx",
        "outputId": "2ce1d43b-0162-4c1b-d78c-40252628584f"
      },
      "outputs": [
        {
          "data": {
            "text/plain": [
              "(2, 3)"
            ]
          },
          "execution_count": 17,
          "metadata": {},
          "output_type": "execute_result"
        }
      ],
      "source": [
        "## Find degree of\n",
        "deg_0 = nx.degree(HG, 0)\n",
        "deg_3 = nx.degree(HG, 3)\n",
        "deg_0, deg_3"
      ]
    },
    {
      "cell_type": "code",
      "execution_count": null,
      "metadata": {
        "id": "zg6CmNZ0Mqjx",
        "outputId": "38b994b7-e4cc-4c81-965d-b116a40cf3ea"
      },
      "outputs": [
        {
          "name": "stdout",
          "output_type": "stream",
          "text": [
            "1\n",
            "2\n",
            "4\n"
          ]
        }
      ],
      "source": [
        "for neighbor in nx.neighbors(HG,3):\n",
        "    print(neighbor)"
      ]
    },
    {
      "cell_type": "markdown",
      "metadata": {
        "id": "1yPtnSGwMqjx"
      },
      "source": [
        "### Density | Network-level measure"
      ]
    },
    {
      "cell_type": "code",
      "execution_count": null,
      "metadata": {
        "id": "vijNj8N4Mqjx",
        "outputId": "027f9a57-ba28-4c03-d066-a75b9eba1670"
      },
      "outputs": [
        {
          "data": {
            "text/plain": [
              "0.6"
            ]
          },
          "execution_count": 20,
          "metadata": {},
          "output_type": "execute_result"
        }
      ],
      "source": [
        "nx.density(HG)"
      ]
    },
    {
      "cell_type": "markdown",
      "metadata": {
        "id": "P_mu5MagMqjx"
      },
      "source": [
        "https://networkx.org/documentation/stable/reference/generated/networkx.classes.function.density.html"
      ]
    },
    {
      "cell_type": "code",
      "execution_count": null,
      "metadata": {
        "id": "IQi22h5ZMqjx"
      },
      "outputs": [],
      "source": []
    },
    {
      "cell_type": "code",
      "execution_count": null,
      "metadata": {
        "id": "uXSrgPmCMqjx"
      },
      "outputs": [],
      "source": []
    },
    {
      "cell_type": "markdown",
      "metadata": {
        "id": "j463WO15Mqjx"
      },
      "source": [
        "#### Does a path exist"
      ]
    },
    {
      "cell_type": "code",
      "execution_count": null,
      "metadata": {
        "id": "fMpi4Ak4Mqjx",
        "outputId": "11bac353-ae9a-4dcb-cf6c-403f27c90772"
      },
      "outputs": [
        {
          "data": {
            "text/plain": [
              "(False, True)"
            ]
          },
          "execution_count": 21,
          "metadata": {},
          "output_type": "execute_result"
        }
      ],
      "source": [
        "nx.is_path(HG,[0,4]), nx.is_path(HG,[0,2,4])"
      ]
    },
    {
      "cell_type": "code",
      "execution_count": null,
      "metadata": {
        "id": "Hn-yoZHPMqjx",
        "outputId": "1176995b-76d9-45a2-ef03-d2370438ad40"
      },
      "outputs": [
        {
          "data": {
            "text/plain": [
              "[0, 2, 4]"
            ]
          },
          "execution_count": 22,
          "metadata": {},
          "output_type": "execute_result"
        }
      ],
      "source": [
        "nx.shortest_path(HG,0,4)"
      ]
    },
    {
      "cell_type": "markdown",
      "metadata": {
        "id": "ZmmZA5BoMqjx"
      },
      "source": [
        "https://networkx.org/documentation/stable/reference/algorithms/generated/networkx.algorithms.centrality.degree_centrality.html#networkx.algorithms.centrality.degree_centrality"
      ]
    },
    {
      "cell_type": "code",
      "execution_count": null,
      "metadata": {
        "id": "HKX_eYQZMqjy",
        "outputId": "0569dffc-c2c0-4413-ec94-3b25eca04c17"
      },
      "outputs": [
        {
          "data": {
            "text/plain": [
              "{0: 0.5, 1: 0.5, 2: 1.5, 3: 1.5, 4: 0.0}"
            ]
          },
          "execution_count": 23,
          "metadata": {},
          "output_type": "execute_result"
        }
      ],
      "source": [
        "nx.betweenness_centrality(HG, normalized=False)"
      ]
    },
    {
      "cell_type": "markdown",
      "metadata": {
        "id": "NKTtbuenMqjy"
      },
      "source": [
        "https://networkx.org/documentation/stable/reference/algorithms/generated/networkx.algorithms.centrality.betweenness_centrality.html#networkx.algorithms.centrality.betweenness_centrality  \n",
        "https://en.wikipedia.org/wiki/Betweenness_centrality"
      ]
    },
    {
      "cell_type": "code",
      "execution_count": null,
      "metadata": {
        "id": "0ENt7QkZMqjy",
        "outputId": "ec1026ff-17b4-41c2-e239-ab131e4deaf2"
      },
      "outputs": [
        {
          "data": {
            "text/plain": [
              "{0: 0.5, 1: 0.5, 2: 0.75, 3: 0.75, 4: 0.5}"
            ]
          },
          "execution_count": 24,
          "metadata": {},
          "output_type": "execute_result"
        }
      ],
      "source": [
        "nx.degree_centrality(HG)"
      ]
    },
    {
      "cell_type": "code",
      "execution_count": null,
      "metadata": {
        "id": "N0Xso3WqMqjy"
      },
      "outputs": [],
      "source": []
    },
    {
      "cell_type": "markdown",
      "metadata": {
        "id": "dCkEcLp1Mqjy"
      },
      "source": [
        "________________________________________________"
      ]
    },
    {
      "cell_type": "markdown",
      "metadata": {
        "id": "4KUyBgEEMqjy"
      },
      "source": [
        "### Les Mis Graph"
      ]
    },
    {
      "cell_type": "code",
      "execution_count": null,
      "metadata": {
        "id": "YVAVncrBMqjy"
      },
      "outputs": [],
      "source": [
        "lemis_url = 'https://raw.githubusercontent.com/plotly/datasets/master/miserables.json'\n",
        "with urllib.request.urlopen(lemis_url) as url:\n",
        "    raw_data = json.loads(url.read().decode())"
      ]
    },
    {
      "cell_type": "code",
      "execution_count": null,
      "metadata": {
        "id": "LdSdu5gdMqjy"
      },
      "outputs": [],
      "source": [
        "nodelist = raw_data['nodes']\n",
        "nodelist = [a[\"name\"] for a in nodelist]\n",
        "# nodelist"
      ]
    },
    {
      "cell_type": "code",
      "execution_count": null,
      "metadata": {
        "id": "pGr8-0dAMqjy"
      },
      "outputs": [],
      "source": [
        "edgelist = raw_data['links']\n",
        "edgelist = [(a[\"source\"], a[\"target\"]) for a in edgelist]\n"
      ]
    },
    {
      "cell_type": "markdown",
      "metadata": {
        "id": "XAMnBuxdMqjy"
      },
      "source": [
        "### Create a graph\n",
        "https://networkx.org/documentation/networkx-1.0/tutorial/tutorial.html"
      ]
    },
    {
      "cell_type": "code",
      "execution_count": null,
      "metadata": {
        "id": "_feI2iQKMqjz"
      },
      "outputs": [],
      "source": [
        "LM_G = nx.Graph()\n",
        "# LM_G.add_nodes_from(nodelist)\n",
        "LM_G.add_edges_from(edgelist)"
      ]
    },
    {
      "cell_type": "code",
      "execution_count": null,
      "metadata": {
        "scrolled": true,
        "id": "kaoLITYaMqjz",
        "outputId": "bd02fd60-e6a2-4145-cf6d-61f3275bbf2f"
      },
      "outputs": [
        {
          "data": {
            "image/png": "[encoded data removed]",
            "text/plain": [
              "<Figure size 432x288 with 1 Axes>"
            ]
          },
          "metadata": {},
          "output_type": "display_data"
        }
      ],
      "source": [
        "ax = plt.subplots()\n",
        "\n",
        "pos = nx.spring_layout(LM_G, seed=200)\n",
        "nx.draw_networkx_edges(LM_G, pos, alpha=0.25, width=3)\n",
        "nx.draw_networkx_nodes(LM_G, pos, node_size=100).set_edgecolor('black')\n",
        "\n",
        "plt.tight_layout()\n",
        "plt.axis(\"off\")\n",
        "plt.show()"
      ]
    },
    {
      "cell_type": "code",
      "execution_count": null,
      "metadata": {
        "id": "fDFum6IlMqjz",
        "outputId": "372f2163-46da-4992-ba10-0400c3a9bdc1"
      },
      "outputs": [
        {
          "data": {
            "text/plain": [
              "DegreeView({0: 2, 1: 2, 2: 3, 3: 3, 4: 2})"
            ]
          },
          "execution_count": 41,
          "metadata": {},
          "output_type": "execute_result"
        }
      ],
      "source": [
        "df = pd.DataFrame( nx.degree(LM_G) )"
      ]
    }
  ],
  "metadata": {
    "kernelspec": {
      "display_name": "Python 3 (ipykernel)",
      "language": "python",
      "name": "python3"
    },
    "language_info": {
      "codemirror_mode": {
        "name": "ipython",
        "version": 3
      },
      "file_extension": ".py",
      "mimetype": "text/x-python",
      "name": "python",
      "nbconvert_exporter": "python",
      "pygments_lexer": "ipython3",
      "version": "3.9.12"
    },
    "colab": {
      "provenance": []
    }
  },
  "nbformat": 4,
  "nbformat_minor": 0
}