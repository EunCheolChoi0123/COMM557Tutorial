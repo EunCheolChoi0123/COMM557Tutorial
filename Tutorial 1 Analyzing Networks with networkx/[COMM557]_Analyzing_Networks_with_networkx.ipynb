{
  "cells": [
    {
      "cell_type": "markdown",
      "metadata": {
        "id": "TBsFRZexMqjq"
      },
      "source": [
        "# Analyzing networks in Python\n",
        "Some of the codes are adapted from https://github.com/CambridgeUniversityPress/FirstCourseNetworkScience, Chapter 1-2."
      ]
    },
    {
      "cell_type": "markdown",
      "source": [
        "# Import modules"
      ],
      "metadata": {
        "id": "ciNKkqzRH9ln"
      }
    },
    {
      "cell_type": "code",
      "execution_count": null,
      "metadata": {
        "id": "4a9fNwFfMqjt"
      },
      "outputs": [],
      "source": [
        "import networkx as nx\n",
        "\n",
        "import pandas as pd\n",
        "import matplotlib.pyplot as plt\n",
        "import urllib, json"
      ]
    },
    {
      "cell_type": "markdown",
      "metadata": {
        "id": "yoZCZ0RQMqju"
      },
      "source": [
        "## Loading a Network\n",
        "### House Graph example\n",
        "https://networkx.org/documentation/stable/auto_examples/drawing/plot_house_with_colors.html"
      ]
    },
    {
      "cell_type": "code",
      "execution_count": null,
      "metadata": {
        "id": "hZ46432DMqju"
      },
      "outputs": [],
      "source": [
        "HG = nx.house_graph()"
      ]
    },
    {
      "cell_type": "code",
      "execution_count": null,
      "metadata": {
        "id": "GVT_7LZ0Mqju",
        "outputId": "6a68ab07-71c1-44d4-9687-f40604f26e81",
        "colab": {
          "base_uri": "https://localhost:8080/"
        }
      },
      "outputs": [
        {
          "output_type": "execute_result",
          "data": {
            "text/plain": [
              "NodeView((0, 1, 2, 3, 4))"
            ]
          },
          "metadata": {},
          "execution_count": 37
        }
      ],
      "source": [
        "## Nodes\n",
        "HG.nodes()"
      ]
    },
    {
      "cell_type": "code",
      "execution_count": null,
      "metadata": {
        "id": "MqJckP98Mqjv",
        "outputId": "032c6d26-1197-4697-a277-e618571041f2",
        "colab": {
          "base_uri": "https://localhost:8080/"
        }
      },
      "outputs": [
        {
          "output_type": "execute_result",
          "data": {
            "text/plain": [
              "EdgeView([(0, 1), (0, 2), (1, 3), (2, 3), (2, 4), (3, 4)])"
            ]
          },
          "metadata": {},
          "execution_count": 38
        }
      ],
      "source": [
        "## Edges\n",
        "HG.edges()"
      ]
    },
    {
      "cell_type": "markdown",
      "metadata": {
        "id": "EX35U0-6Mqjw"
      },
      "source": [
        "## Types of Representations"
      ]
    },
    {
      "cell_type": "markdown",
      "metadata": {
        "id": "iHjhO1PqMqjw"
      },
      "source": [
        "### Edge List"
      ]
    },
    {
      "cell_type": "code",
      "execution_count": null,
      "metadata": {
        "id": "-F3aIpKGMqjw",
        "colab": {
          "base_uri": "https://localhost:8080/"
        },
        "outputId": "0aedeaf8-7960-4acf-bf56-8f389b0e25cf"
      },
      "outputs": [
        {
          "output_type": "execute_result",
          "data": {
            "text/plain": [
              "[(0, 1), (0, 2), (1, 3), (2, 3), (2, 4), (3, 4)]"
            ]
          },
          "metadata": {},
          "execution_count": 39
        }
      ],
      "source": [
        "list( HG.edges() )"
      ]
    },
    {
      "cell_type": "markdown",
      "metadata": {
        "id": "QB5x07xyMqjw"
      },
      "source": [
        "### Adjacency Matrix"
      ]
    },
    {
      "cell_type": "code",
      "execution_count": null,
      "metadata": {
        "id": "4Am5X8BeMqjw",
        "outputId": "9eb3b543-3b48-4708-d9a4-3b23b81d60e7",
        "colab": {
          "base_uri": "https://localhost:8080/",
          "height": 206
        }
      },
      "outputs": [
        {
          "output_type": "execute_result",
          "data": {
            "text/plain": [
              "     0    1    2    3    4\n",
              "0  0.0  1.0  1.0  0.0  0.0\n",
              "1  1.0  0.0  0.0  1.0  0.0\n",
              "2  1.0  0.0  0.0  1.0  1.0\n",
              "3  0.0  1.0  1.0  0.0  1.0\n",
              "4  0.0  0.0  1.0  1.0  0.0"
            ],
            "text/html": [
              "\n",
              "  <div id=\"df-ebab2bc2-1aed-4a6a-ae16-d010dc9ebeb1\" class=\"colab-df-container\">\n",
              "    <div>\n",
              "<style scoped>\n",
              "    .dataframe tbody tr th:only-of-type {\n",
              "        vertical-align: middle;\n",
              "    }\n",
              "\n",
              "    .dataframe tbody tr th {\n",
              "        vertical-align: top;\n",
              "    }\n",
              "\n",
              "    .dataframe thead th {\n",
              "        text-align: right;\n",
              "    }\n",
              "</style>\n",
              "<table border=\"1\" class=\"dataframe\">\n",
              "  <thead>\n",
              "    <tr style=\"text-align: right;\">\n",
              "      <th></th>\n",
              "      <th>0</th>\n",
              "      <th>1</th>\n",
              "      <th>2</th>\n",
              "      <th>3</th>\n",
              "      <th>4</th>\n",
              "    </tr>\n",
              "  </thead>\n",
              "  <tbody>\n",
              "    <tr>\n",
              "      <th>0</th>\n",
              "      <td>0.0</td>\n",
              "      <td>1.0</td>\n",
              "      <td>1.0</td>\n",
              "      <td>0.0</td>\n",
              "      <td>0.0</td>\n",
              "    </tr>\n",
              "    <tr>\n",
              "      <th>1</th>\n",
              "      <td>1.0</td>\n",
              "      <td>0.0</td>\n",
              "      <td>0.0</td>\n",
              "      <td>1.0</td>\n",
              "      <td>0.0</td>\n",
              "    </tr>\n",
              "    <tr>\n",
              "      <th>2</th>\n",
              "      <td>1.0</td>\n",
              "      <td>0.0</td>\n",
              "      <td>0.0</td>\n",
              "      <td>1.0</td>\n",
              "      <td>1.0</td>\n",
              "    </tr>\n",
              "    <tr>\n",
              "      <th>3</th>\n",
              "      <td>0.0</td>\n",
              "      <td>1.0</td>\n",
              "      <td>1.0</td>\n",
              "      <td>0.0</td>\n",
              "      <td>1.0</td>\n",
              "    </tr>\n",
              "    <tr>\n",
              "      <th>4</th>\n",
              "      <td>0.0</td>\n",
              "      <td>0.0</td>\n",
              "      <td>1.0</td>\n",
              "      <td>1.0</td>\n",
              "      <td>0.0</td>\n",
              "    </tr>\n",
              "  </tbody>\n",
              "</table>\n",
              "</div>\n",
              "    <div class=\"colab-df-buttons\">\n",
              "\n",
              "  <div class=\"colab-df-container\">\n",
              "    <button class=\"colab-df-convert\" onclick=\"convertToInteractive('df-ebab2bc2-1aed-4a6a-ae16-d010dc9ebeb1')\"\n",
              "            title=\"Convert this dataframe to an interactive table.\"\n",
              "            style=\"display:none;\">\n",
              "\n",
              "  <svg xmlns=\"http://www.w3.org/2000/svg\" height=\"24px\" viewBox=\"0 -960 960 960\">\n",
              "    <path d=\"M120-120v-720h720v720H120Zm60-500h600v-160H180v160Zm220 220h160v-160H400v160Zm0 220h160v-160H400v160ZM180-400h160v-160H180v160Zm440 0h160v-160H620v160ZM180-180h160v-160H180v160Zm440 0h160v-160H620v160Z\"/>\n",
              "  </svg>\n",
              "    </button>\n",
              "\n",
              "  <style>\n",
              "    .colab-df-container {\n",
              "      display:flex;\n",
              "      gap: 12px;\n",
              "    }\n",
              "\n",
              "    .colab-df-convert {\n",
              "      background-color: #E8F0FE;\n",
              "      border: none;\n",
              "      border-radius: 50%;\n",
              "      cursor: pointer;\n",
              "      display: none;\n",
              "      fill: #1967D2;\n",
              "      height: 32px;\n",
              "      padding: 0 0 0 0;\n",
              "      width: 32px;\n",
              "    }\n",
              "\n",
              "    .colab-df-convert:hover {\n",
              "      background-color: #E2EBFA;\n",
              "      box-shadow: 0px 1px 2px rgba(60, 64, 67, 0.3), 0px 1px 3px 1px rgba(60, 64, 67, 0.15);\n",
              "      fill: #174EA6;\n",
              "    }\n",
              "\n",
              "    .colab-df-buttons div {\n",
              "      margin-bottom: 4px;\n",
              "    }\n",
              "\n",
              "    [theme=dark] .colab-df-convert {\n",
              "      background-color: #3B4455;\n",
              "      fill: #D2E3FC;\n",
              "    }\n",
              "\n",
              "    [theme=dark] .colab-df-convert:hover {\n",
              "      background-color: #434B5C;\n",
              "      box-shadow: 0px 1px 3px 1px rgba(0, 0, 0, 0.15);\n",
              "      filter: drop-shadow(0px 1px 2px rgba(0, 0, 0, 0.3));\n",
              "      fill: #FFFFFF;\n",
              "    }\n",
              "  </style>\n",
              "\n",
              "    <script>\n",
              "      const buttonEl =\n",
              "        document.querySelector('#df-ebab2bc2-1aed-4a6a-ae16-d010dc9ebeb1 button.colab-df-convert');\n",
              "      buttonEl.style.display =\n",
              "        google.colab.kernel.accessAllowed ? 'block' : 'none';\n",
              "\n",
              "      async function convertToInteractive(key) {\n",
              "        const element = document.querySelector('#df-ebab2bc2-1aed-4a6a-ae16-d010dc9ebeb1');\n",
              "        const dataTable =\n",
              "          await google.colab.kernel.invokeFunction('convertToInteractive',\n",
              "                                                    [key], {});\n",
              "        if (!dataTable) return;\n",
              "\n",
              "        const docLinkHtml = 'Like what you see? Visit the ' +\n",
              "          '<a target=\"_blank\" href=https://colab.research.google.com/notebooks/data_table.ipynb>data table notebook</a>'\n",
              "          + ' to learn more about interactive tables.';\n",
              "        element.innerHTML = '';\n",
              "        dataTable['output_type'] = 'display_data';\n",
              "        await google.colab.output.renderOutput(dataTable, element);\n",
              "        const docLink = document.createElement('div');\n",
              "        docLink.innerHTML = docLinkHtml;\n",
              "        element.appendChild(docLink);\n",
              "      }\n",
              "    </script>\n",
              "  </div>\n",
              "\n",
              "\n",
              "<div id=\"df-acb89c6f-e320-42ac-b9f2-ff3a08414462\">\n",
              "  <button class=\"colab-df-quickchart\" onclick=\"quickchart('df-acb89c6f-e320-42ac-b9f2-ff3a08414462')\"\n",
              "            title=\"Suggest charts\"\n",
              "            style=\"display:none;\">\n",
              "\n",
              "<svg xmlns=\"http://www.w3.org/2000/svg\" height=\"24px\"viewBox=\"0 0 24 24\"\n",
              "     width=\"24px\">\n",
              "    <g>\n",
              "        <path d=\"M19 3H5c-1.1 0-2 .9-2 2v14c0 1.1.9 2 2 2h14c1.1 0 2-.9 2-2V5c0-1.1-.9-2-2-2zM9 17H7v-7h2v7zm4 0h-2V7h2v10zm4 0h-2v-4h2v4z\"/>\n",
              "    </g>\n",
              "</svg>\n",
              "  </button>\n",
              "\n",
              "<style>\n",
              "  .colab-df-quickchart {\n",
              "      --bg-color: #E8F0FE;\n",
              "      --fill-color: #1967D2;\n",
              "      --hover-bg-color: #E2EBFA;\n",
              "      --hover-fill-color: #174EA6;\n",
              "      --disabled-fill-color: #AAA;\n",
              "      --disabled-bg-color: #DDD;\n",
              "  }\n",
              "\n",
              "  [theme=dark] .colab-df-quickchart {\n",
              "      --bg-color: #3B4455;\n",
              "      --fill-color: #D2E3FC;\n",
              "      --hover-bg-color: #434B5C;\n",
              "      --hover-fill-color: #FFFFFF;\n",
              "      --disabled-bg-color: #3B4455;\n",
              "      --disabled-fill-color: #666;\n",
              "  }\n",
              "\n",
              "  .colab-df-quickchart {\n",
              "    background-color: var(--bg-color);\n",
              "    border: none;\n",
              "    border-radius: 50%;\n",
              "    cursor: pointer;\n",
              "    display: none;\n",
              "    fill: var(--fill-color);\n",
              "    height: 32px;\n",
              "    padding: 0;\n",
              "    width: 32px;\n",
              "  }\n",
              "\n",
              "  .colab-df-quickchart:hover {\n",
              "    background-color: var(--hover-bg-color);\n",
              "    box-shadow: 0 1px 2px rgba(60, 64, 67, 0.3), 0 1px 3px 1px rgba(60, 64, 67, 0.15);\n",
              "    fill: var(--button-hover-fill-color);\n",
              "  }\n",
              "\n",
              "  .colab-df-quickchart-complete:disabled,\n",
              "  .colab-df-quickchart-complete:disabled:hover {\n",
              "    background-color: var(--disabled-bg-color);\n",
              "    fill: var(--disabled-fill-color);\n",
              "    box-shadow: none;\n",
              "  }\n",
              "\n",
              "  .colab-df-spinner {\n",
              "    border: 2px solid var(--fill-color);\n",
              "    border-color: transparent;\n",
              "    border-bottom-color: var(--fill-color);\n",
              "    animation:\n",
              "      spin 1s steps(1) infinite;\n",
              "  }\n",
              "\n",
              "  @keyframes spin {\n",
              "    0% {\n",
              "      border-color: transparent;\n",
              "      border-bottom-color: var(--fill-color);\n",
              "      border-left-color: var(--fill-color);\n",
              "    }\n",
              "    20% {\n",
              "      border-color: transparent;\n",
              "      border-left-color: var(--fill-color);\n",
              "      border-top-color: var(--fill-color);\n",
              "    }\n",
              "    30% {\n",
              "      border-color: transparent;\n",
              "      border-left-color: var(--fill-color);\n",
              "      border-top-color: var(--fill-color);\n",
              "      border-right-color: var(--fill-color);\n",
              "    }\n",
              "    40% {\n",
              "      border-color: transparent;\n",
              "      border-right-color: var(--fill-color);\n",
              "      border-top-color: var(--fill-color);\n",
              "    }\n",
              "    60% {\n",
              "      border-color: transparent;\n",
              "      border-right-color: var(--fill-color);\n",
              "    }\n",
              "    80% {\n",
              "      border-color: transparent;\n",
              "      border-right-color: var(--fill-color);\n",
              "      border-bottom-color: var(--fill-color);\n",
              "    }\n",
              "    90% {\n",
              "      border-color: transparent;\n",
              "      border-bottom-color: var(--fill-color);\n",
              "    }\n",
              "  }\n",
              "</style>\n",
              "\n",
              "  <script>\n",
              "    async function quickchart(key) {\n",
              "      const quickchartButtonEl =\n",
              "        document.querySelector('#' + key + ' button');\n",
              "      quickchartButtonEl.disabled = true;  // To prevent multiple clicks.\n",
              "      quickchartButtonEl.classList.add('colab-df-spinner');\n",
              "      try {\n",
              "        const charts = await google.colab.kernel.invokeFunction(\n",
              "            'suggestCharts', [key], {});\n",
              "      } catch (error) {\n",
              "        console.error('Error during call to suggestCharts:', error);\n",
              "      }\n",
              "      quickchartButtonEl.classList.remove('colab-df-spinner');\n",
              "      quickchartButtonEl.classList.add('colab-df-quickchart-complete');\n",
              "    }\n",
              "    (() => {\n",
              "      let quickchartButtonEl =\n",
              "        document.querySelector('#df-acb89c6f-e320-42ac-b9f2-ff3a08414462 button');\n",
              "      quickchartButtonEl.style.display =\n",
              "        google.colab.kernel.accessAllowed ? 'block' : 'none';\n",
              "    })();\n",
              "  </script>\n",
              "</div>\n",
              "\n",
              "  <div id=\"id_65863107-7cca-4ce8-b16d-cf04d416c63e\">\n",
              "    <style>\n",
              "      .colab-df-generate {\n",
              "        background-color: #E8F0FE;\n",
              "        border: none;\n",
              "        border-radius: 50%;\n",
              "        cursor: pointer;\n",
              "        display: none;\n",
              "        fill: #1967D2;\n",
              "        height: 32px;\n",
              "        padding: 0 0 0 0;\n",
              "        width: 32px;\n",
              "      }\n",
              "\n",
              "      .colab-df-generate:hover {\n",
              "        background-color: #E2EBFA;\n",
              "        box-shadow: 0px 1px 2px rgba(60, 64, 67, 0.3), 0px 1px 3px 1px rgba(60, 64, 67, 0.15);\n",
              "        fill: #174EA6;\n",
              "      }\n",
              "\n",
              "      [theme=dark] .colab-df-generate {\n",
              "        background-color: #3B4455;\n",
              "        fill: #D2E3FC;\n",
              "      }\n",
              "\n",
              "      [theme=dark] .colab-df-generate:hover {\n",
              "        background-color: #434B5C;\n",
              "        box-shadow: 0px 1px 3px 1px rgba(0, 0, 0, 0.15);\n",
              "        filter: drop-shadow(0px 1px 2px rgba(0, 0, 0, 0.3));\n",
              "        fill: #FFFFFF;\n",
              "      }\n",
              "    </style>\n",
              "    <button class=\"colab-df-generate\" onclick=\"generateWithVariable('ADJ')\"\n",
              "            title=\"Generate code using this dataframe.\"\n",
              "            style=\"display:none;\">\n",
              "\n",
              "  <svg xmlns=\"http://www.w3.org/2000/svg\" height=\"24px\"viewBox=\"0 0 24 24\"\n",
              "       width=\"24px\">\n",
              "    <path d=\"M7,19H8.4L18.45,9,17,7.55,7,17.6ZM5,21V16.75L18.45,3.32a2,2,0,0,1,2.83,0l1.4,1.43a1.91,1.91,0,0,1,.58,1.4,1.91,1.91,0,0,1-.58,1.4L9.25,21ZM18.45,9,17,7.55Zm-12,3A5.31,5.31,0,0,0,4.9,8.1,5.31,5.31,0,0,0,1,6.5,5.31,5.31,0,0,0,4.9,4.9,5.31,5.31,0,0,0,6.5,1,5.31,5.31,0,0,0,8.1,4.9,5.31,5.31,0,0,0,12,6.5,5.46,5.46,0,0,0,6.5,12Z\"/>\n",
              "  </svg>\n",
              "    </button>\n",
              "    <script>\n",
              "      (() => {\n",
              "      const buttonEl =\n",
              "        document.querySelector('#id_65863107-7cca-4ce8-b16d-cf04d416c63e button.colab-df-generate');\n",
              "      buttonEl.style.display =\n",
              "        google.colab.kernel.accessAllowed ? 'block' : 'none';\n",
              "\n",
              "      buttonEl.onclick = () => {\n",
              "        google.colab.notebook.generateWithVariable('ADJ');\n",
              "      }\n",
              "      })();\n",
              "    </script>\n",
              "  </div>\n",
              "\n",
              "    </div>\n",
              "  </div>\n"
            ],
            "application/vnd.google.colaboratory.intrinsic+json": {
              "type": "dataframe",
              "variable_name": "ADJ",
              "summary": "{\n  \"name\": \"ADJ\",\n  \"rows\": 5,\n  \"fields\": [\n    {\n      \"column\": 0,\n      \"properties\": {\n        \"dtype\": \"number\",\n        \"std\": 0.5477225575051662,\n        \"min\": 0.0,\n        \"max\": 1.0,\n        \"num_unique_values\": 2,\n        \"samples\": [\n          1.0,\n          0.0\n        ],\n        \"semantic_type\": \"\",\n        \"description\": \"\"\n      }\n    },\n    {\n      \"column\": 1,\n      \"properties\": {\n        \"dtype\": \"number\",\n        \"std\": 0.5477225575051662,\n        \"min\": 0.0,\n        \"max\": 1.0,\n        \"num_unique_values\": 2,\n        \"samples\": [\n          0.0,\n          1.0\n        ],\n        \"semantic_type\": \"\",\n        \"description\": \"\"\n      }\n    },\n    {\n      \"column\": 2,\n      \"properties\": {\n        \"dtype\": \"number\",\n        \"std\": 0.5477225575051662,\n        \"min\": 0.0,\n        \"max\": 1.0,\n        \"num_unique_values\": 2,\n        \"samples\": [\n          0.0,\n          1.0\n        ],\n        \"semantic_type\": \"\",\n        \"description\": \"\"\n      }\n    },\n    {\n      \"column\": 3,\n      \"properties\": {\n        \"dtype\": \"number\",\n        \"std\": 0.5477225575051662,\n        \"min\": 0.0,\n        \"max\": 1.0,\n        \"num_unique_values\": 2,\n        \"samples\": [\n          1.0,\n          0.0\n        ],\n        \"semantic_type\": \"\",\n        \"description\": \"\"\n      }\n    },\n    {\n      \"column\": 4,\n      \"properties\": {\n        \"dtype\": \"number\",\n        \"std\": 0.5477225575051662,\n        \"min\": 0.0,\n        \"max\": 1.0,\n        \"num_unique_values\": 2,\n        \"samples\": [\n          1.0,\n          0.0\n        ],\n        \"semantic_type\": \"\",\n        \"description\": \"\"\n      }\n    }\n  ]\n}"
            }
          },
          "metadata": {},
          "execution_count": 40
        }
      ],
      "source": [
        "ADJ = nx.to_pandas_adjacency(HG)\n",
        "ADJ"
      ]
    },
    {
      "cell_type": "markdown",
      "metadata": {
        "id": "MFTqzmznMqjw"
      },
      "source": [
        "### Node-edge list"
      ]
    },
    {
      "cell_type": "code",
      "execution_count": null,
      "metadata": {
        "id": "YN1lnZbvMqjw",
        "outputId": "ee23b741-2c6a-476b-d109-9db7466e5795",
        "colab": {
          "base_uri": "https://localhost:8080/"
        }
      },
      "outputs": [
        {
          "output_type": "execute_result",
          "data": {
            "text/plain": [
              "{0: [1, 2], 1: [0, 3], 2: [0, 3, 4], 3: [1, 2, 4], 4: [2, 3]}"
            ]
          },
          "metadata": {},
          "execution_count": 41
        }
      ],
      "source": [
        "nx.to_dict_of_lists(HG)"
      ]
    },
    {
      "cell_type": "markdown",
      "metadata": {
        "id": "cxJ6jIhBMqjv"
      },
      "source": [
        "## Visualization example\n",
        "https://networkx.org/documentation/stable/auto_examples/drawing/plot_house_with_colors.html"
      ]
    },
    {
      "cell_type": "code",
      "source": [
        "# draw the graph\n",
        "?nx.draw\n",
        "# nx.draw(HG, with_labels=True)"
      ],
      "metadata": {
        "id": "t-lCiGpbEB_T"
      },
      "execution_count": null,
      "outputs": []
    },
    {
      "cell_type": "code",
      "source": [
        "nx.draw(HG,\n",
        "        with_labels=True,\n",
        "        node_color='blue',\n",
        "        node_size=1600,\n",
        "        font_color='white',\n",
        "        font_size=16,\n",
        "        )"
      ],
      "metadata": {
        "colab": {
          "base_uri": "https://localhost:8080/",
          "height": 516
        },
        "id": "2QaU5hwUEGGP",
        "outputId": "4a4e6077-026e-4f52-f210-50672b818c69"
      },
      "execution_count": null,
      "outputs": [
        {
          "output_type": "display_data",
          "data": {
            "text/plain": [
              "<Figure size 640x480 with 1 Axes>"
            ],
            "image/png": "[encoded data removed]"
          },
          "metadata": {}
        }
      ]
    },
    {
      "cell_type": "code",
      "execution_count": null,
      "metadata": {
        "scrolled": false,
        "id": "LlM-jzalMqjv",
        "outputId": "1f958fa2-122c-42c8-d8eb-7ed16953da89",
        "colab": {
          "base_uri": "https://localhost:8080/",
          "height": 487
        }
      },
      "outputs": [
        {
          "output_type": "display_data",
          "data": {
            "text/plain": [
              "<Figure size 640x480 with 1 Axes>"
            ],
            "image/png": "[encoded data removed]"
          },
          "metadata": {}
        }
      ],
      "source": [
        "pos = {0: (0, 0), 1: (1, 0), 2: (0, 1), 3: (1, 1), 4: (0.5, 2.0)}\n",
        "nx.draw_networkx_nodes(\n",
        "    HG, pos, node_size=3000, nodelist=[0, 1, 2, 3], node_color=\"tab:blue\"\n",
        ")\n",
        "nx.draw_networkx_nodes(HG, pos, node_size=2000, nodelist=[4], node_color=\"tab:orange\")\n",
        "nx.draw_networkx_edges(HG, pos, alpha=1, width=6)\n",
        "nx.draw_networkx_labels(HG, pos, font_size=20)\n",
        "\n",
        "plt.tight_layout()"
      ]
    },
    {
      "cell_type": "markdown",
      "source": [
        "# Graph methods"
      ],
      "metadata": {
        "id": "yVzGFzgYElfn"
      }
    },
    {
      "cell_type": "code",
      "source": [
        "# nodes (iterator)\n",
        "HG.nodes()"
      ],
      "metadata": {
        "colab": {
          "base_uri": "https://localhost:8080/"
        },
        "id": "0m3Nx3d3E2qI",
        "outputId": "c0c9e035-7d62-42cf-fa2e-d3d4097b8919"
      },
      "execution_count": null,
      "outputs": [
        {
          "output_type": "execute_result",
          "data": {
            "text/plain": [
              "NodeView((0, 1, 2, 3, 4))"
            ]
          },
          "metadata": {},
          "execution_count": 45
        }
      ]
    },
    {
      "cell_type": "code",
      "source": [
        "# edges (iterator)\n",
        "HG.edges()"
      ],
      "metadata": {
        "id": "fy8EcfMEFFlE",
        "colab": {
          "base_uri": "https://localhost:8080/"
        },
        "outputId": "6011065b-78b5-4f45-a581-ed007d46e2f2"
      },
      "execution_count": null,
      "outputs": [
        {
          "output_type": "execute_result",
          "data": {
            "text/plain": [
              "EdgeView([(0, 1), (0, 2), (1, 3), (2, 3), (2, 4), (3, 4)])"
            ]
          },
          "metadata": {},
          "execution_count": 46
        }
      ]
    },
    {
      "cell_type": "code",
      "source": [
        "len(HG.nodes()) == HG.number_of_nodes()"
      ],
      "metadata": {
        "colab": {
          "base_uri": "https://localhost:8080/"
        },
        "id": "7MXs1ws5s7fi",
        "outputId": "9fcd84fd-6e26-48d0-935c-f1f00c21d443"
      },
      "execution_count": null,
      "outputs": [
        {
          "output_type": "execute_result",
          "data": {
            "text/plain": [
              "True"
            ]
          },
          "metadata": {},
          "execution_count": 47
        }
      ]
    },
    {
      "cell_type": "code",
      "source": [
        "len(HG.edges()) == HG.number_of_edges()"
      ],
      "metadata": {
        "colab": {
          "base_uri": "https://localhost:8080/"
        },
        "id": "BNBhA9mOtAiK",
        "outputId": "754c8952-c731-4ee9-dd74-63dcc196f99f"
      },
      "execution_count": null,
      "outputs": [
        {
          "output_type": "execute_result",
          "data": {
            "text/plain": [
              "True"
            ]
          },
          "metadata": {},
          "execution_count": 48
        }
      ]
    },
    {
      "cell_type": "code",
      "source": [
        "# Let's see neighbors of a certain node\n",
        "HG.neighbors(1)"
      ],
      "metadata": {
        "colab": {
          "base_uri": "https://localhost:8080/"
        },
        "id": "wvhTCvUjErlW",
        "outputId": "99788733-8eae-4611-adbe-8776afb39be3"
      },
      "execution_count": null,
      "outputs": [
        {
          "output_type": "execute_result",
          "data": {
            "text/plain": [
              "<dict_keyiterator at 0x7f7f5bd35300>"
            ]
          },
          "metadata": {},
          "execution_count": 49
        }
      ]
    },
    {
      "cell_type": "code",
      "source": [
        "nx.to_dict_of_lists(HG)[1]"
      ],
      "metadata": {
        "colab": {
          "base_uri": "https://localhost:8080/"
        },
        "id": "bW7laBR8Aw7Y",
        "outputId": "c5c324ce-58ba-41f7-c8c1-6866309730aa"
      },
      "execution_count": null,
      "outputs": [
        {
          "output_type": "execute_result",
          "data": {
            "text/plain": [
              "[0, 3]"
            ]
          },
          "metadata": {},
          "execution_count": 50
        }
      ]
    },
    {
      "cell_type": "code",
      "source": [
        "[neighbor for neighbor in HG.neighbors(1)] == nx.to_dict_of_lists(HG)[1]"
      ],
      "metadata": {
        "colab": {
          "base_uri": "https://localhost:8080/"
        },
        "id": "gQg0jZXuFUJ_",
        "outputId": "40221a2d-d505-4940-ee28-75d7fdcd991e"
      },
      "execution_count": null,
      "outputs": [
        {
          "output_type": "execute_result",
          "data": {
            "text/plain": [
              "True"
            ]
          },
          "metadata": {},
          "execution_count": 51
        }
      ]
    },
    {
      "cell_type": "code",
      "source": [
        "HG.degree(1) == len(nx.to_dict_of_lists(HG)[1])"
      ],
      "metadata": {
        "colab": {
          "base_uri": "https://localhost:8080/"
        },
        "id": "-bdHTlxqGtRR",
        "outputId": "bcba3bce-8730-4eda-cfbc-e3d0854107e4"
      },
      "execution_count": null,
      "outputs": [
        {
          "output_type": "execute_result",
          "data": {
            "text/plain": [
              "True"
            ]
          },
          "metadata": {},
          "execution_count": 52
        }
      ]
    },
    {
      "cell_type": "markdown",
      "source": [
        "# Directed graphs"
      ],
      "metadata": {
        "id": "phwT-JjvFtYs"
      }
    },
    {
      "cell_type": "code",
      "source": [
        "D = nx.DiGraph()\n",
        "\n",
        "D.add_edges_from([('Albert','Bob'),('Bob', 'Cathy'),('Cathy','Bob'),('Cathy','Donald'),\n",
        " ('Cathy', 'Edward'),('Donald','Edward'),('Donald','Frank'),('Edward','Frank'),('Frank','Donald'),('Donald','Bob')])\n",
        "\n",
        "nx.draw(D, with_labels=True)"
      ],
      "metadata": {
        "colab": {
          "base_uri": "https://localhost:8080/",
          "height": 516
        },
        "id": "lvqN2asIFu66",
        "outputId": "987405f1-faad-4d53-d939-d84b7f821711"
      },
      "execution_count": null,
      "outputs": [
        {
          "output_type": "display_data",
          "data": {
            "text/plain": [
              "<Figure size 640x480 with 1 Axes>"
            ],
            "image/png": "[encoded data removed]"
          },
          "metadata": {}
        }
      ]
    },
    {
      "cell_type": "code",
      "source": [
        "D.has_edge('Albert','Bob'), D.has_edge('Bob','Albert'),"
      ],
      "metadata": {
        "colab": {
          "base_uri": "https://localhost:8080/"
        },
        "id": "HF1aaq1TGF7u",
        "outputId": "0721eeb4-cfb1-4cf9-96d8-273db0467cb9"
      },
      "execution_count": null,
      "outputs": [
        {
          "output_type": "execute_result",
          "data": {
            "text/plain": [
              "(True, False)"
            ]
          },
          "metadata": {},
          "execution_count": 54
        }
      ]
    },
    {
      "cell_type": "code",
      "source": [
        "D.in_degree('Bob')"
      ],
      "metadata": {
        "colab": {
          "base_uri": "https://localhost:8080/"
        },
        "id": "qsC_MdDwGkKl",
        "outputId": "41e71776-c111-475a-df05-c4bbf49c40fc"
      },
      "execution_count": null,
      "outputs": [
        {
          "output_type": "execute_result",
          "data": {
            "text/plain": [
              "3"
            ]
          },
          "metadata": {},
          "execution_count": 55
        }
      ]
    },
    {
      "cell_type": "code",
      "source": [
        "D.out_degree('Bob')"
      ],
      "metadata": {
        "colab": {
          "base_uri": "https://localhost:8080/"
        },
        "id": "ayA3hWTNGl41",
        "outputId": "0d4994b8-601b-4bc9-9784-a159947b5b73"
      },
      "execution_count": null,
      "outputs": [
        {
          "output_type": "execute_result",
          "data": {
            "text/plain": [
              "1"
            ]
          },
          "metadata": {},
          "execution_count": 56
        }
      ]
    },
    {
      "cell_type": "markdown",
      "source": [
        "Shortest paths"
      ],
      "metadata": {
        "id": "QvRvrIyVsfbD"
      }
    },
    {
      "cell_type": "code",
      "source": [
        "nx.shortest_path(HG,0,4)"
      ],
      "metadata": {
        "colab": {
          "base_uri": "https://localhost:8080/"
        },
        "id": "cyDeEQtCsW5y",
        "outputId": "fb11b545-a7d4-4454-d7b6-470b58a5c724"
      },
      "execution_count": null,
      "outputs": [
        {
          "output_type": "execute_result",
          "data": {
            "text/plain": [
              "[0, 2, 4]"
            ]
          },
          "metadata": {},
          "execution_count": 57
        }
      ]
    },
    {
      "cell_type": "code",
      "source": [
        "nx.shortest_path(D, 'Edward', 'Bob')"
      ],
      "metadata": {
        "colab": {
          "base_uri": "https://localhost:8080/"
        },
        "id": "tT-8T_4isaTR",
        "outputId": "f557094a-45ca-43bb-8993-7a7d352daae2"
      },
      "execution_count": null,
      "outputs": [
        {
          "output_type": "execute_result",
          "data": {
            "text/plain": [
              "['Edward', 'Frank', 'Donald', 'Bob']"
            ]
          },
          "metadata": {},
          "execution_count": 58
        }
      ]
    },
    {
      "cell_type": "markdown",
      "source": [
        "Diameter"
      ],
      "metadata": {
        "id": "ldk9hvCRLrJg"
      }
    },
    {
      "cell_type": "code",
      "source": [
        "nx.diameter(HG)"
      ],
      "metadata": {
        "colab": {
          "base_uri": "https://localhost:8080/"
        },
        "id": "Fv9QMZKdLsX1",
        "outputId": "234054fd-effc-48c1-eba2-f2151ba588ab"
      },
      "execution_count": null,
      "outputs": [
        {
          "output_type": "execute_result",
          "data": {
            "text/plain": [
              "2"
            ]
          },
          "metadata": {},
          "execution_count": 59
        }
      ]
    },
    {
      "cell_type": "code",
      "source": [
        "nx.diameter(D)"
      ],
      "metadata": {
        "colab": {
          "base_uri": "https://localhost:8080/",
          "height": 294
        },
        "id": "jKiC2nrILumH",
        "outputId": "75e45ec6-be9c-49c6-cde4-981c7f6fd580"
      },
      "execution_count": null,
      "outputs": [
        {
          "output_type": "error",
          "ename": "NetworkXError",
          "evalue": "Found infinite path length because the digraph is not strongly connected",
          "traceback": [
            "\u001b[0;31m---------------------------------------------------------------------------\u001b[0m",
            "\u001b[0;31mNetworkXError\u001b[0m                             Traceback (most recent call last)",
            "\u001b[0;32m<ipython-input-60-5a6f9b3e1e75>\u001b[0m in \u001b[0;36m<cell line: 1>\u001b[0;34m()\u001b[0m\n\u001b[0;32m----> 1\u001b[0;31m \u001b[0mnx\u001b[0m\u001b[0;34m.\u001b[0m\u001b[0mdiameter\u001b[0m\u001b[0;34m(\u001b[0m\u001b[0mD\u001b[0m\u001b[0;34m)\u001b[0m\u001b[0;34m\u001b[0m\u001b[0;34m\u001b[0m\u001b[0m\n\u001b[0m",
            "\u001b[0;32m/usr/local/lib/python3.10/dist-packages/networkx/utils/decorators.py\u001b[0m in \u001b[0;36margmap_diameter_45\u001b[0;34m(G, e, usebounds, weight, backend, **backend_kwargs)\u001b[0m\n\u001b[1;32m      1\u001b[0m \u001b[0;32mimport\u001b[0m \u001b[0mbz2\u001b[0m\u001b[0;34m\u001b[0m\u001b[0;34m\u001b[0m\u001b[0m\n\u001b[1;32m      2\u001b[0m \u001b[0;32mimport\u001b[0m \u001b[0mcollections\u001b[0m\u001b[0;34m\u001b[0m\u001b[0;34m\u001b[0m\u001b[0m\n\u001b[0;32m----> 3\u001b[0;31m \u001b[0;32mimport\u001b[0m \u001b[0mgzip\u001b[0m\u001b[0;34m\u001b[0m\u001b[0;34m\u001b[0m\u001b[0m\n\u001b[0m\u001b[1;32m      4\u001b[0m \u001b[0;32mimport\u001b[0m \u001b[0minspect\u001b[0m\u001b[0;34m\u001b[0m\u001b[0;34m\u001b[0m\u001b[0m\n\u001b[1;32m      5\u001b[0m \u001b[0;32mimport\u001b[0m \u001b[0mitertools\u001b[0m\u001b[0;34m\u001b[0m\u001b[0;34m\u001b[0m\u001b[0m\n",
            "\u001b[0;32m/usr/local/lib/python3.10/dist-packages/networkx/utils/backends.py\u001b[0m in \u001b[0;36m__call__\u001b[0;34m(self, backend, *args, **kwargs)\u001b[0m\n\u001b[1;32m    631\u001b[0m         \u001b[0;32mif\u001b[0m \u001b[0;32mnot\u001b[0m \u001b[0mbackends\u001b[0m\u001b[0;34m:\u001b[0m\u001b[0;34m\u001b[0m\u001b[0;34m\u001b[0m\u001b[0m\n\u001b[1;32m    632\u001b[0m             \u001b[0;31m# Fast path if no backends are installed\u001b[0m\u001b[0;34m\u001b[0m\u001b[0;34m\u001b[0m\u001b[0m\n\u001b[0;32m--> 633\u001b[0;31m             \u001b[0;32mreturn\u001b[0m \u001b[0mself\u001b[0m\u001b[0;34m.\u001b[0m\u001b[0morig_func\u001b[0m\u001b[0;34m(\u001b[0m\u001b[0;34m*\u001b[0m\u001b[0margs\u001b[0m\u001b[0;34m,\u001b[0m \u001b[0;34m**\u001b[0m\u001b[0mkwargs\u001b[0m\u001b[0;34m)\u001b[0m\u001b[0;34m\u001b[0m\u001b[0;34m\u001b[0m\u001b[0m\n\u001b[0m\u001b[1;32m    634\u001b[0m \u001b[0;34m\u001b[0m\u001b[0m\n\u001b[1;32m    635\u001b[0m         \u001b[0;31m# Use `backend_name` in this function instead of `backend`\u001b[0m\u001b[0;34m\u001b[0m\u001b[0;34m\u001b[0m\u001b[0m\n",
            "\u001b[0;32m/usr/local/lib/python3.10/dist-packages/networkx/algorithms/distance_measures.py\u001b[0m in \u001b[0;36mdiameter\u001b[0;34m(G, e, usebounds, weight)\u001b[0m\n\u001b[1;32m    379\u001b[0m         \u001b[0;32mreturn\u001b[0m \u001b[0m_extrema_bounding\u001b[0m\u001b[0;34m(\u001b[0m\u001b[0mG\u001b[0m\u001b[0;34m,\u001b[0m \u001b[0mcompute\u001b[0m\u001b[0;34m=\u001b[0m\u001b[0;34m\"diameter\"\u001b[0m\u001b[0;34m,\u001b[0m \u001b[0mweight\u001b[0m\u001b[0;34m=\u001b[0m\u001b[0mweight\u001b[0m\u001b[0;34m)\u001b[0m\u001b[0;34m\u001b[0m\u001b[0;34m\u001b[0m\u001b[0m\n\u001b[1;32m    380\u001b[0m     \u001b[0;32mif\u001b[0m \u001b[0me\u001b[0m \u001b[0;32mis\u001b[0m \u001b[0;32mNone\u001b[0m\u001b[0;34m:\u001b[0m\u001b[0;34m\u001b[0m\u001b[0;34m\u001b[0m\u001b[0m\n\u001b[0;32m--> 381\u001b[0;31m         \u001b[0me\u001b[0m \u001b[0;34m=\u001b[0m \u001b[0meccentricity\u001b[0m\u001b[0;34m(\u001b[0m\u001b[0mG\u001b[0m\u001b[0;34m,\u001b[0m \u001b[0mweight\u001b[0m\u001b[0;34m=\u001b[0m\u001b[0mweight\u001b[0m\u001b[0;34m)\u001b[0m\u001b[0;34m\u001b[0m\u001b[0;34m\u001b[0m\u001b[0m\n\u001b[0m\u001b[1;32m    382\u001b[0m     \u001b[0;32mreturn\u001b[0m \u001b[0mmax\u001b[0m\u001b[0;34m(\u001b[0m\u001b[0me\u001b[0m\u001b[0;34m.\u001b[0m\u001b[0mvalues\u001b[0m\u001b[0;34m(\u001b[0m\u001b[0;34m)\u001b[0m\u001b[0;34m)\u001b[0m\u001b[0;34m\u001b[0m\u001b[0;34m\u001b[0m\u001b[0m\n\u001b[1;32m    383\u001b[0m \u001b[0;34m\u001b[0m\u001b[0m\n",
            "\u001b[0;32m/usr/local/lib/python3.10/dist-packages/networkx/utils/decorators.py\u001b[0m in \u001b[0;36margmap_eccentricity_49\u001b[0;34m(G, v, sp, weight, backend, **backend_kwargs)\u001b[0m\n\u001b[1;32m      1\u001b[0m \u001b[0;32mimport\u001b[0m \u001b[0mbz2\u001b[0m\u001b[0;34m\u001b[0m\u001b[0;34m\u001b[0m\u001b[0m\n\u001b[1;32m      2\u001b[0m \u001b[0;32mimport\u001b[0m \u001b[0mcollections\u001b[0m\u001b[0;34m\u001b[0m\u001b[0;34m\u001b[0m\u001b[0m\n\u001b[0;32m----> 3\u001b[0;31m \u001b[0;32mimport\u001b[0m \u001b[0mgzip\u001b[0m\u001b[0;34m\u001b[0m\u001b[0;34m\u001b[0m\u001b[0m\n\u001b[0m\u001b[1;32m      4\u001b[0m \u001b[0;32mimport\u001b[0m \u001b[0minspect\u001b[0m\u001b[0;34m\u001b[0m\u001b[0;34m\u001b[0m\u001b[0m\n\u001b[1;32m      5\u001b[0m \u001b[0;32mimport\u001b[0m \u001b[0mitertools\u001b[0m\u001b[0;34m\u001b[0m\u001b[0;34m\u001b[0m\u001b[0m\n",
            "\u001b[0;32m/usr/local/lib/python3.10/dist-packages/networkx/utils/backends.py\u001b[0m in \u001b[0;36m__call__\u001b[0;34m(self, backend, *args, **kwargs)\u001b[0m\n\u001b[1;32m    631\u001b[0m         \u001b[0;32mif\u001b[0m \u001b[0;32mnot\u001b[0m \u001b[0mbackends\u001b[0m\u001b[0;34m:\u001b[0m\u001b[0;34m\u001b[0m\u001b[0;34m\u001b[0m\u001b[0m\n\u001b[1;32m    632\u001b[0m             \u001b[0;31m# Fast path if no backends are installed\u001b[0m\u001b[0;34m\u001b[0m\u001b[0;34m\u001b[0m\u001b[0m\n\u001b[0;32m--> 633\u001b[0;31m             \u001b[0;32mreturn\u001b[0m \u001b[0mself\u001b[0m\u001b[0;34m.\u001b[0m\u001b[0morig_func\u001b[0m\u001b[0;34m(\u001b[0m\u001b[0;34m*\u001b[0m\u001b[0margs\u001b[0m\u001b[0;34m,\u001b[0m \u001b[0;34m**\u001b[0m\u001b[0mkwargs\u001b[0m\u001b[0;34m)\u001b[0m\u001b[0;34m\u001b[0m\u001b[0;34m\u001b[0m\u001b[0m\n\u001b[0m\u001b[1;32m    634\u001b[0m \u001b[0;34m\u001b[0m\u001b[0m\n\u001b[1;32m    635\u001b[0m         \u001b[0;31m# Use `backend_name` in this function instead of `backend`\u001b[0m\u001b[0;34m\u001b[0m\u001b[0;34m\u001b[0m\u001b[0m\n",
            "\u001b[0;32m/usr/local/lib/python3.10/dist-packages/networkx/algorithms/distance_measures.py\u001b[0m in \u001b[0;36meccentricity\u001b[0;34m(G, v, sp, weight)\u001b[0m\n\u001b[1;32m    318\u001b[0m             \u001b[0;32melse\u001b[0m\u001b[0;34m:\u001b[0m\u001b[0;34m\u001b[0m\u001b[0;34m\u001b[0m\u001b[0m\n\u001b[1;32m    319\u001b[0m                 \u001b[0mmsg\u001b[0m \u001b[0;34m=\u001b[0m \u001b[0;34m\"Found infinite path length because the graph is not\"\u001b[0m \u001b[0;34m\" connected\"\u001b[0m\u001b[0;34m\u001b[0m\u001b[0;34m\u001b[0m\u001b[0m\n\u001b[0;32m--> 320\u001b[0;31m             \u001b[0;32mraise\u001b[0m \u001b[0mnx\u001b[0m\u001b[0;34m.\u001b[0m\u001b[0mNetworkXError\u001b[0m\u001b[0;34m(\u001b[0m\u001b[0mmsg\u001b[0m\u001b[0;34m)\u001b[0m\u001b[0;34m\u001b[0m\u001b[0;34m\u001b[0m\u001b[0m\n\u001b[0m\u001b[1;32m    321\u001b[0m \u001b[0;34m\u001b[0m\u001b[0m\n\u001b[1;32m    322\u001b[0m         \u001b[0me\u001b[0m\u001b[0;34m[\u001b[0m\u001b[0mn\u001b[0m\u001b[0;34m]\u001b[0m \u001b[0;34m=\u001b[0m \u001b[0mmax\u001b[0m\u001b[0;34m(\u001b[0m\u001b[0mlength\u001b[0m\u001b[0;34m.\u001b[0m\u001b[0mvalues\u001b[0m\u001b[0;34m(\u001b[0m\u001b[0;34m)\u001b[0m\u001b[0;34m)\u001b[0m\u001b[0;34m\u001b[0m\u001b[0;34m\u001b[0m\u001b[0m\n",
            "\u001b[0;31mNetworkXError\u001b[0m: Found infinite path length because the digraph is not strongly connected"
          ]
        }
      ]
    },
    {
      "cell_type": "code",
      "source": [
        "largest_cc = max(nx.strongly_connected_components(D), key=len)\n",
        "subgraph = D.subgraph(largest_cc)"
      ],
      "metadata": {
        "id": "HoROsLPbL4uo"
      },
      "execution_count": null,
      "outputs": []
    },
    {
      "cell_type": "code",
      "source": [
        "subgraph.nodes()"
      ],
      "metadata": {
        "colab": {
          "base_uri": "https://localhost:8080/"
        },
        "id": "FID0-5bTMLGH",
        "outputId": "109584c1-b393-44a3-a747-433325da3e32"
      },
      "execution_count": null,
      "outputs": [
        {
          "output_type": "execute_result",
          "data": {
            "text/plain": [
              "NodeView(('Bob', 'Cathy', 'Donald', 'Edward', 'Frank'))"
            ]
          },
          "metadata": {},
          "execution_count": 62
        }
      ]
    },
    {
      "cell_type": "code",
      "source": [
        "subgraph.edges()"
      ],
      "metadata": {
        "colab": {
          "base_uri": "https://localhost:8080/"
        },
        "id": "GqPde9cwMP3Z",
        "outputId": "5423a880-e53d-443b-d5ab-759201a83e93"
      },
      "execution_count": null,
      "outputs": [
        {
          "output_type": "execute_result",
          "data": {
            "text/plain": [
              "OutEdgeView([('Bob', 'Cathy'), ('Cathy', 'Bob'), ('Cathy', 'Donald'), ('Cathy', 'Edward'), ('Donald', 'Edward'), ('Donald', 'Frank'), ('Donald', 'Bob'), ('Edward', 'Frank'), ('Frank', 'Donald')])"
            ]
          },
          "metadata": {},
          "execution_count": 63
        }
      ]
    },
    {
      "cell_type": "code",
      "source": [
        "nx.diameter(subgraph)"
      ],
      "metadata": {
        "id": "vb6h7RbKMPTE",
        "colab": {
          "base_uri": "https://localhost:8080/"
        },
        "outputId": "eb4e14c3-b040-4799-9900-1e5610b7bacf"
      },
      "execution_count": null,
      "outputs": [
        {
          "output_type": "execute_result",
          "data": {
            "text/plain": [
              "4"
            ]
          },
          "metadata": {},
          "execution_count": 64
        }
      ]
    },
    {
      "cell_type": "markdown",
      "metadata": {
        "id": "2LhnZwTSMqjx"
      },
      "source": [
        "## Some Metrics"
      ]
    },
    {
      "cell_type": "markdown",
      "metadata": {
        "id": "1yPtnSGwMqjx"
      },
      "source": [
        "Network density"
      ]
    },
    {
      "cell_type": "code",
      "execution_count": null,
      "metadata": {
        "id": "vijNj8N4Mqjx",
        "colab": {
          "base_uri": "https://localhost:8080/"
        },
        "outputId": "88656eb6-616b-476c-d393-e9e3d6767cdb"
      },
      "outputs": [
        {
          "output_type": "execute_result",
          "data": {
            "text/plain": [
              "0.6"
            ]
          },
          "metadata": {},
          "execution_count": 65
        }
      ],
      "source": [
        "nx.density(HG)"
      ]
    },
    {
      "cell_type": "code",
      "execution_count": null,
      "metadata": {
        "id": "IQi22h5ZMqjx",
        "colab": {
          "base_uri": "https://localhost:8080/"
        },
        "outputId": "502700e3-11e8-4934-90f9-e52c9a8822cf"
      },
      "outputs": [
        {
          "output_type": "execute_result",
          "data": {
            "text/plain": [
              "0.3333333333333333"
            ]
          },
          "metadata": {},
          "execution_count": 66
        }
      ],
      "source": [
        "nx.density(D)"
      ]
    },
    {
      "cell_type": "markdown",
      "metadata": {
        "id": "NKTtbuenMqjy"
      },
      "source": [
        "Degree centrality"
      ]
    },
    {
      "cell_type": "code",
      "execution_count": null,
      "metadata": {
        "id": "0ENt7QkZMqjy",
        "colab": {
          "base_uri": "https://localhost:8080/"
        },
        "outputId": "3102d3ee-de06-4e1a-8db1-28c48f9bf1cc"
      },
      "outputs": [
        {
          "output_type": "execute_result",
          "data": {
            "text/plain": [
              "{0: 0.5, 1: 0.5, 2: 0.75, 3: 0.75, 4: 0.5}"
            ]
          },
          "metadata": {},
          "execution_count": 67
        }
      ],
      "source": [
        "nx.degree_centrality(HG)"
      ]
    },
    {
      "cell_type": "code",
      "source": [
        "nx.in_degree_centrality(D)"
      ],
      "metadata": {
        "id": "S1PFYCrKHgKk",
        "colab": {
          "base_uri": "https://localhost:8080/"
        },
        "outputId": "1f7a04a1-d0fe-4e64-f201-bd70250374df"
      },
      "execution_count": null,
      "outputs": [
        {
          "output_type": "execute_result",
          "data": {
            "text/plain": [
              "{'Albert': 0.0,\n",
              " 'Bob': 0.6000000000000001,\n",
              " 'Cathy': 0.2,\n",
              " 'Donald': 0.4,\n",
              " 'Edward': 0.4,\n",
              " 'Frank': 0.4}"
            ]
          },
          "metadata": {},
          "execution_count": 68
        }
      ]
    },
    {
      "cell_type": "code",
      "source": [
        "nx.out_degree_centrality(D)"
      ],
      "metadata": {
        "id": "Cx1X93qAHs-Y",
        "colab": {
          "base_uri": "https://localhost:8080/"
        },
        "outputId": "648b79ce-d272-4f86-eb93-651c0878231c"
      },
      "execution_count": null,
      "outputs": [
        {
          "output_type": "execute_result",
          "data": {
            "text/plain": [
              "{'Albert': 0.2,\n",
              " 'Bob': 0.2,\n",
              " 'Cathy': 0.6000000000000001,\n",
              " 'Donald': 0.6000000000000001,\n",
              " 'Edward': 0.2,\n",
              " 'Frank': 0.2}"
            ]
          },
          "metadata": {},
          "execution_count": 69
        }
      ]
    },
    {
      "cell_type": "markdown",
      "metadata": {
        "id": "ZmmZA5BoMqjx"
      },
      "source": [
        "Betweenness centrality"
      ]
    },
    {
      "cell_type": "code",
      "execution_count": null,
      "metadata": {
        "id": "HKX_eYQZMqjy",
        "colab": {
          "base_uri": "https://localhost:8080/"
        },
        "outputId": "438e483d-5d63-4a7a-cd33-3b6363fc69cb"
      },
      "outputs": [
        {
          "output_type": "execute_result",
          "data": {
            "text/plain": [
              "{0: 0.5, 1: 0.5, 2: 1.5, 3: 1.5, 4: 0.0}"
            ]
          },
          "metadata": {},
          "execution_count": 70
        }
      ],
      "source": [
        "nx.betweenness_centrality(HG, normalized=False)"
      ]
    },
    {
      "cell_type": "code",
      "source": [
        "nx.betweenness_centrality(D, normalized=False)"
      ],
      "metadata": {
        "id": "GfB-j8DQHE9A",
        "colab": {
          "base_uri": "https://localhost:8080/"
        },
        "outputId": "5d6fb96c-76db-46ce-8dff-19b894324001"
      },
      "execution_count": null,
      "outputs": [
        {
          "output_type": "execute_result",
          "data": {
            "text/plain": [
              "{'Albert': 0.0,\n",
              " 'Bob': 7.0,\n",
              " 'Cathy': 6.0,\n",
              " 'Donald': 6.5,\n",
              " 'Edward': 1.5,\n",
              " 'Frank': 3.0}"
            ]
          },
          "metadata": {},
          "execution_count": 71
        }
      ]
    },
    {
      "cell_type": "markdown",
      "metadata": {
        "id": "4KUyBgEEMqjy"
      },
      "source": [
        "# Les Miserables Graph\n",
        "*   Nodes: Each of the characters in Les Miserables.\n",
        "*   Edges: Pairs of characters co-appearing in the same chapter(s).  \n",
        "https://github.com/plotly/datasets"
      ]
    },
    {
      "cell_type": "code",
      "execution_count": null,
      "metadata": {
        "id": "YVAVncrBMqjy"
      },
      "outputs": [],
      "source": [
        "lemis_url = 'https://raw.githubusercontent.com/plotly/datasets/master/miserables.json'\n",
        "with urllib.request.urlopen(lemis_url) as url:\n",
        "    raw_data = json.loads(url.read().decode())"
      ]
    },
    {
      "cell_type": "code",
      "source": [
        "nodes = raw_data['nodes']\n",
        "edges = raw_data['links']"
      ],
      "metadata": {
        "id": "Rzyqt1N2BuYT"
      },
      "execution_count": null,
      "outputs": []
    },
    {
      "cell_type": "code",
      "source": [
        "import pandas as pd\n",
        "nodes_df = pd.DataFrame(nodes)\n",
        "nodes_df.to_csv('nodes.csv', index=False)"
      ],
      "metadata": {
        "id": "PGQKTzeJBTRG"
      },
      "execution_count": null,
      "outputs": []
    },
    {
      "cell_type": "code",
      "source": [
        "nodelist = list(nodes_df['name'])\n",
        "nodelist"
      ],
      "metadata": {
        "id": "oMi_ffoOClVu",
        "colab": {
          "base_uri": "https://localhost:8080/"
        },
        "outputId": "4d899dd8-8615-4691-9952-b78ae5635ca2"
      },
      "execution_count": null,
      "outputs": [
        {
          "output_type": "execute_result",
          "data": {
            "text/plain": [
              "['Myriel',\n",
              " 'Napoleon',\n",
              " 'Mlle.Baptistine',\n",
              " 'Mme.Magloire',\n",
              " 'CountessdeLo',\n",
              " 'Geborand',\n",
              " 'Champtercier',\n",
              " 'Cravatte',\n",
              " 'Count',\n",
              " 'OldMan',\n",
              " 'Labarre',\n",
              " 'Valjean',\n",
              " 'Marguerite',\n",
              " 'Mme.deR',\n",
              " 'Isabeau',\n",
              " 'Gervais',\n",
              " 'Tholomyes',\n",
              " 'Listolier',\n",
              " 'Fameuil',\n",
              " 'Blacheville',\n",
              " 'Favourite',\n",
              " 'Dahlia',\n",
              " 'Zephine',\n",
              " 'Fantine',\n",
              " 'Mme.Thenardier',\n",
              " 'Thenardier',\n",
              " 'Cosette',\n",
              " 'Javert',\n",
              " 'Fauchelevent',\n",
              " 'Bamatabois',\n",
              " 'Perpetue',\n",
              " 'Simplice',\n",
              " 'Scaufflaire',\n",
              " 'Woman1',\n",
              " 'Judge',\n",
              " 'Champmathieu',\n",
              " 'Brevet',\n",
              " 'Chenildieu',\n",
              " 'Cochepaille',\n",
              " 'Pontmercy',\n",
              " 'Boulatruelle',\n",
              " 'Eponine',\n",
              " 'Anzelma',\n",
              " 'Woman2',\n",
              " 'MotherInnocent',\n",
              " 'Gribier',\n",
              " 'Jondrette',\n",
              " 'Mme.Burgon',\n",
              " 'Gavroche',\n",
              " 'Gillenormand',\n",
              " 'Magnon',\n",
              " 'Mlle.Gillenormand',\n",
              " 'Mme.Pontmercy',\n",
              " 'Mlle.Vaubois',\n",
              " 'Lt.Gillenormand',\n",
              " 'Marius',\n",
              " 'BaronessT',\n",
              " 'Mabeuf',\n",
              " 'Enjolras',\n",
              " 'Combeferre',\n",
              " 'Prouvaire',\n",
              " 'Feuilly',\n",
              " 'Courfeyrac',\n",
              " 'Bahorel',\n",
              " 'Bossuet',\n",
              " 'Joly',\n",
              " 'Grantaire',\n",
              " 'MotherPlutarch',\n",
              " 'Gueulemer',\n",
              " 'Babet',\n",
              " 'Claquesous',\n",
              " 'Montparnasse',\n",
              " 'Toussaint',\n",
              " 'Child1',\n",
              " 'Child2',\n",
              " 'Brujon',\n",
              " 'Mme.Hucheloup']"
            ]
          },
          "metadata": {},
          "execution_count": 75
        }
      ]
    },
    {
      "cell_type": "code",
      "source": [
        "edges_df = pd.DataFrame(edges)\n",
        "edges_df.to_csv('edges.csv', index=False)"
      ],
      "metadata": {
        "id": "KQ9Q3Cb1IlL8"
      },
      "execution_count": null,
      "outputs": []
    },
    {
      "cell_type": "code",
      "execution_count": null,
      "metadata": {
        "id": "pGr8-0dAMqjy",
        "colab": {
          "base_uri": "https://localhost:8080/"
        },
        "outputId": "322d536c-3cd5-44aa-d53b-374b6e3507de"
      },
      "outputs": [
        {
          "output_type": "execute_result",
          "data": {
            "text/plain": [
              "[(1, 0),\n",
              " (2, 0),\n",
              " (3, 0),\n",
              " (3, 2),\n",
              " (4, 0),\n",
              " (5, 0),\n",
              " (6, 0),\n",
              " (7, 0),\n",
              " (8, 0),\n",
              " (9, 0),\n",
              " (11, 10),\n",
              " (11, 3),\n",
              " (11, 2),\n",
              " (11, 0),\n",
              " (12, 11),\n",
              " (13, 11),\n",
              " (14, 11),\n",
              " (15, 11),\n",
              " (17, 16),\n",
              " (18, 16),\n",
              " (18, 17),\n",
              " (19, 16),\n",
              " (19, 17),\n",
              " (19, 18),\n",
              " (20, 16),\n",
              " (20, 17),\n",
              " (20, 18),\n",
              " (20, 19),\n",
              " (21, 16),\n",
              " (21, 17),\n",
              " (21, 18),\n",
              " (21, 19),\n",
              " (21, 20),\n",
              " (22, 16),\n",
              " (22, 17),\n",
              " (22, 18),\n",
              " (22, 19),\n",
              " (22, 20),\n",
              " (22, 21),\n",
              " (23, 16),\n",
              " (23, 17),\n",
              " (23, 18),\n",
              " (23, 19),\n",
              " (23, 20),\n",
              " (23, 21),\n",
              " (23, 22),\n",
              " (23, 12),\n",
              " (23, 11),\n",
              " (24, 23),\n",
              " (24, 11),\n",
              " (25, 24),\n",
              " (25, 23),\n",
              " (25, 11),\n",
              " (26, 24),\n",
              " (26, 11),\n",
              " (26, 16),\n",
              " (26, 25),\n",
              " (27, 11),\n",
              " (27, 23),\n",
              " (27, 25),\n",
              " (27, 24),\n",
              " (27, 26),\n",
              " (28, 11),\n",
              " (28, 27),\n",
              " (29, 23),\n",
              " (29, 27),\n",
              " (29, 11),\n",
              " (30, 23),\n",
              " (31, 30),\n",
              " (31, 11),\n",
              " (31, 23),\n",
              " (31, 27),\n",
              " (32, 11),\n",
              " (33, 11),\n",
              " (33, 27),\n",
              " (34, 11),\n",
              " (34, 29),\n",
              " (35, 11),\n",
              " (35, 34),\n",
              " (35, 29),\n",
              " (36, 34),\n",
              " (36, 35),\n",
              " (36, 11),\n",
              " (36, 29),\n",
              " (37, 34),\n",
              " (37, 35),\n",
              " (37, 36),\n",
              " (37, 11),\n",
              " (37, 29),\n",
              " (38, 34),\n",
              " (38, 35),\n",
              " (38, 36),\n",
              " (38, 37),\n",
              " (38, 11),\n",
              " (38, 29),\n",
              " (39, 25),\n",
              " (40, 25),\n",
              " (41, 24),\n",
              " (41, 25),\n",
              " (42, 41),\n",
              " (42, 25),\n",
              " (42, 24),\n",
              " (43, 11),\n",
              " (43, 26),\n",
              " (43, 27),\n",
              " (44, 28),\n",
              " (44, 11),\n",
              " (45, 28),\n",
              " (47, 46),\n",
              " (48, 47),\n",
              " (48, 25),\n",
              " (48, 27),\n",
              " (48, 11),\n",
              " (49, 26),\n",
              " (49, 11),\n",
              " (50, 49),\n",
              " (50, 24),\n",
              " (51, 49),\n",
              " (51, 26),\n",
              " (51, 11),\n",
              " (52, 51),\n",
              " (52, 39),\n",
              " (53, 51),\n",
              " (54, 51),\n",
              " (54, 49),\n",
              " (54, 26),\n",
              " (55, 51),\n",
              " (55, 49),\n",
              " (55, 39),\n",
              " (55, 54),\n",
              " (55, 26),\n",
              " (55, 11),\n",
              " (55, 16),\n",
              " (55, 25),\n",
              " (55, 41),\n",
              " (55, 48),\n",
              " (56, 49),\n",
              " (56, 55),\n",
              " (57, 55),\n",
              " (57, 41),\n",
              " (57, 48),\n",
              " (58, 55),\n",
              " (58, 48),\n",
              " (58, 27),\n",
              " (58, 57),\n",
              " (58, 11),\n",
              " (59, 58),\n",
              " (59, 55),\n",
              " (59, 48),\n",
              " (59, 57),\n",
              " (60, 48),\n",
              " (60, 58),\n",
              " (60, 59),\n",
              " (61, 48),\n",
              " (61, 58),\n",
              " (61, 60),\n",
              " (61, 59),\n",
              " (61, 57),\n",
              " (61, 55),\n",
              " (62, 55),\n",
              " (62, 58),\n",
              " (62, 59),\n",
              " (62, 48),\n",
              " (62, 57),\n",
              " (62, 41),\n",
              " (62, 61),\n",
              " (62, 60),\n",
              " (63, 59),\n",
              " (63, 48),\n",
              " (63, 62),\n",
              " (63, 57),\n",
              " (63, 58),\n",
              " (63, 61),\n",
              " (63, 60),\n",
              " (63, 55),\n",
              " (64, 55),\n",
              " (64, 62),\n",
              " (64, 48),\n",
              " (64, 63),\n",
              " (64, 58),\n",
              " (64, 61),\n",
              " (64, 60),\n",
              " (64, 59),\n",
              " (64, 57),\n",
              " (64, 11),\n",
              " (65, 63),\n",
              " (65, 64),\n",
              " (65, 48),\n",
              " (65, 62),\n",
              " (65, 58),\n",
              " (65, 61),\n",
              " (65, 60),\n",
              " (65, 59),\n",
              " (65, 57),\n",
              " (65, 55),\n",
              " (66, 64),\n",
              " (66, 58),\n",
              " (66, 59),\n",
              " (66, 62),\n",
              " (66, 65),\n",
              " (66, 48),\n",
              " (66, 63),\n",
              " (66, 61),\n",
              " (66, 60),\n",
              " (67, 57),\n",
              " (68, 25),\n",
              " (68, 11),\n",
              " (68, 24),\n",
              " (68, 27),\n",
              " (68, 48),\n",
              " (68, 41),\n",
              " (69, 25),\n",
              " (69, 68),\n",
              " (69, 11),\n",
              " (69, 24),\n",
              " (69, 27),\n",
              " (69, 48),\n",
              " (69, 41),\n",
              " (70, 25),\n",
              " (70, 69),\n",
              " (70, 68),\n",
              " (70, 11),\n",
              " (70, 24),\n",
              " (70, 27),\n",
              " (70, 41),\n",
              " (70, 58),\n",
              " (71, 27),\n",
              " (71, 69),\n",
              " (71, 68),\n",
              " (71, 70),\n",
              " (71, 11),\n",
              " (71, 48),\n",
              " (71, 41),\n",
              " (71, 25),\n",
              " (72, 26),\n",
              " (72, 27),\n",
              " (72, 11),\n",
              " (73, 48),\n",
              " (74, 48),\n",
              " (74, 73),\n",
              " (75, 69),\n",
              " (75, 68),\n",
              " (75, 25),\n",
              " (75, 48),\n",
              " (75, 41),\n",
              " (75, 70),\n",
              " (75, 71),\n",
              " (76, 64),\n",
              " (76, 65),\n",
              " (76, 66),\n",
              " (76, 63),\n",
              " (76, 62),\n",
              " (76, 48),\n",
              " (76, 58)]"
            ]
          },
          "metadata": {},
          "execution_count": 77
        }
      ],
      "source": [
        "edgelist = [(row[\"source\"], row[\"target\"]) for _, row in edges_df.iterrows()]\n",
        "edgelist"
      ]
    },
    {
      "cell_type": "code",
      "source": [
        "edgelist = [(nodelist[a], nodelist[b]) for a, b in edgelist]\n",
        "edgelist"
      ],
      "metadata": {
        "id": "mFzkOkWhJdkn",
        "colab": {
          "base_uri": "https://localhost:8080/"
        },
        "outputId": "3db17b34-233a-42df-d6a8-57409c035036"
      },
      "execution_count": null,
      "outputs": [
        {
          "output_type": "execute_result",
          "data": {
            "text/plain": [
              "[('Napoleon', 'Myriel'),\n",
              " ('Mlle.Baptistine', 'Myriel'),\n",
              " ('Mme.Magloire', 'Myriel'),\n",
              " ('Mme.Magloire', 'Mlle.Baptistine'),\n",
              " ('CountessdeLo', 'Myriel'),\n",
              " ('Geborand', 'Myriel'),\n",
              " ('Champtercier', 'Myriel'),\n",
              " ('Cravatte', 'Myriel'),\n",
              " ('Count', 'Myriel'),\n",
              " ('OldMan', 'Myriel'),\n",
              " ('Valjean', 'Labarre'),\n",
              " ('Valjean', 'Mme.Magloire'),\n",
              " ('Valjean', 'Mlle.Baptistine'),\n",
              " ('Valjean', 'Myriel'),\n",
              " ('Marguerite', 'Valjean'),\n",
              " ('Mme.deR', 'Valjean'),\n",
              " ('Isabeau', 'Valjean'),\n",
              " ('Gervais', 'Valjean'),\n",
              " ('Listolier', 'Tholomyes'),\n",
              " ('Fameuil', 'Tholomyes'),\n",
              " ('Fameuil', 'Listolier'),\n",
              " ('Blacheville', 'Tholomyes'),\n",
              " ('Blacheville', 'Listolier'),\n",
              " ('Blacheville', 'Fameuil'),\n",
              " ('Favourite', 'Tholomyes'),\n",
              " ('Favourite', 'Listolier'),\n",
              " ('Favourite', 'Fameuil'),\n",
              " ('Favourite', 'Blacheville'),\n",
              " ('Dahlia', 'Tholomyes'),\n",
              " ('Dahlia', 'Listolier'),\n",
              " ('Dahlia', 'Fameuil'),\n",
              " ('Dahlia', 'Blacheville'),\n",
              " ('Dahlia', 'Favourite'),\n",
              " ('Zephine', 'Tholomyes'),\n",
              " ('Zephine', 'Listolier'),\n",
              " ('Zephine', 'Fameuil'),\n",
              " ('Zephine', 'Blacheville'),\n",
              " ('Zephine', 'Favourite'),\n",
              " ('Zephine', 'Dahlia'),\n",
              " ('Fantine', 'Tholomyes'),\n",
              " ('Fantine', 'Listolier'),\n",
              " ('Fantine', 'Fameuil'),\n",
              " ('Fantine', 'Blacheville'),\n",
              " ('Fantine', 'Favourite'),\n",
              " ('Fantine', 'Dahlia'),\n",
              " ('Fantine', 'Zephine'),\n",
              " ('Fantine', 'Marguerite'),\n",
              " ('Fantine', 'Valjean'),\n",
              " ('Mme.Thenardier', 'Fantine'),\n",
              " ('Mme.Thenardier', 'Valjean'),\n",
              " ('Thenardier', 'Mme.Thenardier'),\n",
              " ('Thenardier', 'Fantine'),\n",
              " ('Thenardier', 'Valjean'),\n",
              " ('Cosette', 'Mme.Thenardier'),\n",
              " ('Cosette', 'Valjean'),\n",
              " ('Cosette', 'Tholomyes'),\n",
              " ('Cosette', 'Thenardier'),\n",
              " ('Javert', 'Valjean'),\n",
              " ('Javert', 'Fantine'),\n",
              " ('Javert', 'Thenardier'),\n",
              " ('Javert', 'Mme.Thenardier'),\n",
              " ('Javert', 'Cosette'),\n",
              " ('Fauchelevent', 'Valjean'),\n",
              " ('Fauchelevent', 'Javert'),\n",
              " ('Bamatabois', 'Fantine'),\n",
              " ('Bamatabois', 'Javert'),\n",
              " ('Bamatabois', 'Valjean'),\n",
              " ('Perpetue', 'Fantine'),\n",
              " ('Simplice', 'Perpetue'),\n",
              " ('Simplice', 'Valjean'),\n",
              " ('Simplice', 'Fantine'),\n",
              " ('Simplice', 'Javert'),\n",
              " ('Scaufflaire', 'Valjean'),\n",
              " ('Woman1', 'Valjean'),\n",
              " ('Woman1', 'Javert'),\n",
              " ('Judge', 'Valjean'),\n",
              " ('Judge', 'Bamatabois'),\n",
              " ('Champmathieu', 'Valjean'),\n",
              " ('Champmathieu', 'Judge'),\n",
              " ('Champmathieu', 'Bamatabois'),\n",
              " ('Brevet', 'Judge'),\n",
              " ('Brevet', 'Champmathieu'),\n",
              " ('Brevet', 'Valjean'),\n",
              " ('Brevet', 'Bamatabois'),\n",
              " ('Chenildieu', 'Judge'),\n",
              " ('Chenildieu', 'Champmathieu'),\n",
              " ('Chenildieu', 'Brevet'),\n",
              " ('Chenildieu', 'Valjean'),\n",
              " ('Chenildieu', 'Bamatabois'),\n",
              " ('Cochepaille', 'Judge'),\n",
              " ('Cochepaille', 'Champmathieu'),\n",
              " ('Cochepaille', 'Brevet'),\n",
              " ('Cochepaille', 'Chenildieu'),\n",
              " ('Cochepaille', 'Valjean'),\n",
              " ('Cochepaille', 'Bamatabois'),\n",
              " ('Pontmercy', 'Thenardier'),\n",
              " ('Boulatruelle', 'Thenardier'),\n",
              " ('Eponine', 'Mme.Thenardier'),\n",
              " ('Eponine', 'Thenardier'),\n",
              " ('Anzelma', 'Eponine'),\n",
              " ('Anzelma', 'Thenardier'),\n",
              " ('Anzelma', 'Mme.Thenardier'),\n",
              " ('Woman2', 'Valjean'),\n",
              " ('Woman2', 'Cosette'),\n",
              " ('Woman2', 'Javert'),\n",
              " ('MotherInnocent', 'Fauchelevent'),\n",
              " ('MotherInnocent', 'Valjean'),\n",
              " ('Gribier', 'Fauchelevent'),\n",
              " ('Mme.Burgon', 'Jondrette'),\n",
              " ('Gavroche', 'Mme.Burgon'),\n",
              " ('Gavroche', 'Thenardier'),\n",
              " ('Gavroche', 'Javert'),\n",
              " ('Gavroche', 'Valjean'),\n",
              " ('Gillenormand', 'Cosette'),\n",
              " ('Gillenormand', 'Valjean'),\n",
              " ('Magnon', 'Gillenormand'),\n",
              " ('Magnon', 'Mme.Thenardier'),\n",
              " ('Mlle.Gillenormand', 'Gillenormand'),\n",
              " ('Mlle.Gillenormand', 'Cosette'),\n",
              " ('Mlle.Gillenormand', 'Valjean'),\n",
              " ('Mme.Pontmercy', 'Mlle.Gillenormand'),\n",
              " ('Mme.Pontmercy', 'Pontmercy'),\n",
              " ('Mlle.Vaubois', 'Mlle.Gillenormand'),\n",
              " ('Lt.Gillenormand', 'Mlle.Gillenormand'),\n",
              " ('Lt.Gillenormand', 'Gillenormand'),\n",
              " ('Lt.Gillenormand', 'Cosette'),\n",
              " ('Marius', 'Mlle.Gillenormand'),\n",
              " ('Marius', 'Gillenormand'),\n",
              " ('Marius', 'Pontmercy'),\n",
              " ('Marius', 'Lt.Gillenormand'),\n",
              " ('Marius', 'Cosette'),\n",
              " ('Marius', 'Valjean'),\n",
              " ('Marius', 'Tholomyes'),\n",
              " ('Marius', 'Thenardier'),\n",
              " ('Marius', 'Eponine'),\n",
              " ('Marius', 'Gavroche'),\n",
              " ('BaronessT', 'Gillenormand'),\n",
              " ('BaronessT', 'Marius'),\n",
              " ('Mabeuf', 'Marius'),\n",
              " ('Mabeuf', 'Eponine'),\n",
              " ('Mabeuf', 'Gavroche'),\n",
              " ('Enjolras', 'Marius'),\n",
              " ('Enjolras', 'Gavroche'),\n",
              " ('Enjolras', 'Javert'),\n",
              " ('Enjolras', 'Mabeuf'),\n",
              " ('Enjolras', 'Valjean'),\n",
              " ('Combeferre', 'Enjolras'),\n",
              " ('Combeferre', 'Marius'),\n",
              " ('Combeferre', 'Gavroche'),\n",
              " ('Combeferre', 'Mabeuf'),\n",
              " ('Prouvaire', 'Gavroche'),\n",
              " ('Prouvaire', 'Enjolras'),\n",
              " ('Prouvaire', 'Combeferre'),\n",
              " ('Feuilly', 'Gavroche'),\n",
              " ('Feuilly', 'Enjolras'),\n",
              " ('Feuilly', 'Prouvaire'),\n",
              " ('Feuilly', 'Combeferre'),\n",
              " ('Feuilly', 'Mabeuf'),\n",
              " ('Feuilly', 'Marius'),\n",
              " ('Courfeyrac', 'Marius'),\n",
              " ('Courfeyrac', 'Enjolras'),\n",
              " ('Courfeyrac', 'Combeferre'),\n",
              " ('Courfeyrac', 'Gavroche'),\n",
              " ('Courfeyrac', 'Mabeuf'),\n",
              " ('Courfeyrac', 'Eponine'),\n",
              " ('Courfeyrac', 'Feuilly'),\n",
              " ('Courfeyrac', 'Prouvaire'),\n",
              " ('Bahorel', 'Combeferre'),\n",
              " ('Bahorel', 'Gavroche'),\n",
              " ('Bahorel', 'Courfeyrac'),\n",
              " ('Bahorel', 'Mabeuf'),\n",
              " ('Bahorel', 'Enjolras'),\n",
              " ('Bahorel', 'Feuilly'),\n",
              " ('Bahorel', 'Prouvaire'),\n",
              " ('Bahorel', 'Marius'),\n",
              " ('Bossuet', 'Marius'),\n",
              " ('Bossuet', 'Courfeyrac'),\n",
              " ('Bossuet', 'Gavroche'),\n",
              " ('Bossuet', 'Bahorel'),\n",
              " ('Bossuet', 'Enjolras'),\n",
              " ('Bossuet', 'Feuilly'),\n",
              " ('Bossuet', 'Prouvaire'),\n",
              " ('Bossuet', 'Combeferre'),\n",
              " ('Bossuet', 'Mabeuf'),\n",
              " ('Bossuet', 'Valjean'),\n",
              " ('Joly', 'Bahorel'),\n",
              " ('Joly', 'Bossuet'),\n",
              " ('Joly', 'Gavroche'),\n",
              " ('Joly', 'Courfeyrac'),\n",
              " ('Joly', 'Enjolras'),\n",
              " ('Joly', 'Feuilly'),\n",
              " ('Joly', 'Prouvaire'),\n",
              " ('Joly', 'Combeferre'),\n",
              " ('Joly', 'Mabeuf'),\n",
              " ('Joly', 'Marius'),\n",
              " ('Grantaire', 'Bossuet'),\n",
              " ('Grantaire', 'Enjolras'),\n",
              " ('Grantaire', 'Combeferre'),\n",
              " ('Grantaire', 'Courfeyrac'),\n",
              " ('Grantaire', 'Joly'),\n",
              " ('Grantaire', 'Gavroche'),\n",
              " ('Grantaire', 'Bahorel'),\n",
              " ('Grantaire', 'Feuilly'),\n",
              " ('Grantaire', 'Prouvaire'),\n",
              " ('MotherPlutarch', 'Mabeuf'),\n",
              " ('Gueulemer', 'Thenardier'),\n",
              " ('Gueulemer', 'Valjean'),\n",
              " ('Gueulemer', 'Mme.Thenardier'),\n",
              " ('Gueulemer', 'Javert'),\n",
              " ('Gueulemer', 'Gavroche'),\n",
              " ('Gueulemer', 'Eponine'),\n",
              " ('Babet', 'Thenardier'),\n",
              " ('Babet', 'Gueulemer'),\n",
              " ('Babet', 'Valjean'),\n",
              " ('Babet', 'Mme.Thenardier'),\n",
              " ('Babet', 'Javert'),\n",
              " ('Babet', 'Gavroche'),\n",
              " ('Babet', 'Eponine'),\n",
              " ('Claquesous', 'Thenardier'),\n",
              " ('Claquesous', 'Babet'),\n",
              " ('Claquesous', 'Gueulemer'),\n",
              " ('Claquesous', 'Valjean'),\n",
              " ('Claquesous', 'Mme.Thenardier'),\n",
              " ('Claquesous', 'Javert'),\n",
              " ('Claquesous', 'Eponine'),\n",
              " ('Claquesous', 'Enjolras'),\n",
              " ('Montparnasse', 'Javert'),\n",
              " ('Montparnasse', 'Babet'),\n",
              " ('Montparnasse', 'Gueulemer'),\n",
              " ('Montparnasse', 'Claquesous'),\n",
              " ('Montparnasse', 'Valjean'),\n",
              " ('Montparnasse', 'Gavroche'),\n",
              " ('Montparnasse', 'Eponine'),\n",
              " ('Montparnasse', 'Thenardier'),\n",
              " ('Toussaint', 'Cosette'),\n",
              " ('Toussaint', 'Javert'),\n",
              " ('Toussaint', 'Valjean'),\n",
              " ('Child1', 'Gavroche'),\n",
              " ('Child2', 'Gavroche'),\n",
              " ('Child2', 'Child1'),\n",
              " ('Brujon', 'Babet'),\n",
              " ('Brujon', 'Gueulemer'),\n",
              " ('Brujon', 'Thenardier'),\n",
              " ('Brujon', 'Gavroche'),\n",
              " ('Brujon', 'Eponine'),\n",
              " ('Brujon', 'Claquesous'),\n",
              " ('Brujon', 'Montparnasse'),\n",
              " ('Mme.Hucheloup', 'Bossuet'),\n",
              " ('Mme.Hucheloup', 'Joly'),\n",
              " ('Mme.Hucheloup', 'Grantaire'),\n",
              " ('Mme.Hucheloup', 'Bahorel'),\n",
              " ('Mme.Hucheloup', 'Courfeyrac'),\n",
              " ('Mme.Hucheloup', 'Gavroche'),\n",
              " ('Mme.Hucheloup', 'Enjolras')]"
            ]
          },
          "metadata": {},
          "execution_count": 78
        }
      ]
    },
    {
      "cell_type": "markdown",
      "metadata": {
        "id": "XAMnBuxdMqjy"
      },
      "source": [
        "### Create a networkx object with the information above\n",
        "https://networkx.org/documentation/networkx-1.0/tutorial/tutorial.html"
      ]
    },
    {
      "cell_type": "code",
      "execution_count": null,
      "metadata": {
        "id": "_feI2iQKMqjz"
      },
      "outputs": [],
      "source": [
        "LM_G = nx.Graph()\n",
        "LM_G.add_edges_from(edgelist)"
      ]
    },
    {
      "cell_type": "code",
      "source": [
        "LM_G.number_of_nodes()"
      ],
      "metadata": {
        "id": "7ut5TBy2LZmZ",
        "colab": {
          "base_uri": "https://localhost:8080/"
        },
        "outputId": "73180da4-6441-4f61-fd80-9d625a8c7369"
      },
      "execution_count": null,
      "outputs": [
        {
          "output_type": "execute_result",
          "data": {
            "text/plain": [
              "77"
            ]
          },
          "metadata": {},
          "execution_count": 80
        }
      ]
    },
    {
      "cell_type": "code",
      "source": [
        "LM_G.degree('Valjean')"
      ],
      "metadata": {
        "id": "Eg21sUgwLVZb",
        "colab": {
          "base_uri": "https://localhost:8080/"
        },
        "outputId": "a709f603-8ae2-4374-bea7-ab00d6fed2f9"
      },
      "execution_count": null,
      "outputs": [
        {
          "output_type": "execute_result",
          "data": {
            "text/plain": [
              "36"
            ]
          },
          "metadata": {},
          "execution_count": 81
        }
      ]
    },
    {
      "cell_type": "code",
      "source": [
        "[neighbor for neighbor in LM_G.neighbors('Valjean')]"
      ],
      "metadata": {
        "id": "-P7mn-irK1qQ",
        "colab": {
          "base_uri": "https://localhost:8080/"
        },
        "outputId": "f936f4ca-acc3-453d-c8d5-a9c6e02b132d"
      },
      "execution_count": null,
      "outputs": [
        {
          "output_type": "execute_result",
          "data": {
            "text/plain": [
              "['Labarre',\n",
              " 'Mme.Magloire',\n",
              " 'Mlle.Baptistine',\n",
              " 'Myriel',\n",
              " 'Marguerite',\n",
              " 'Mme.deR',\n",
              " 'Isabeau',\n",
              " 'Gervais',\n",
              " 'Fantine',\n",
              " 'Mme.Thenardier',\n",
              " 'Thenardier',\n",
              " 'Cosette',\n",
              " 'Javert',\n",
              " 'Fauchelevent',\n",
              " 'Bamatabois',\n",
              " 'Simplice',\n",
              " 'Scaufflaire',\n",
              " 'Woman1',\n",
              " 'Judge',\n",
              " 'Champmathieu',\n",
              " 'Brevet',\n",
              " 'Chenildieu',\n",
              " 'Cochepaille',\n",
              " 'Woman2',\n",
              " 'MotherInnocent',\n",
              " 'Gavroche',\n",
              " 'Gillenormand',\n",
              " 'Mlle.Gillenormand',\n",
              " 'Marius',\n",
              " 'Enjolras',\n",
              " 'Bossuet',\n",
              " 'Gueulemer',\n",
              " 'Babet',\n",
              " 'Claquesous',\n",
              " 'Montparnasse',\n",
              " 'Toussaint']"
            ]
          },
          "metadata": {},
          "execution_count": 82
        }
      ]
    },
    {
      "cell_type": "code",
      "execution_count": null,
      "metadata": {
        "scrolled": true,
        "id": "kaoLITYaMqjz",
        "colab": {
          "base_uri": "https://localhost:8080/",
          "height": 487
        },
        "outputId": "2b63a19b-0fd6-45c9-b66d-e617fec1a20b"
      },
      "outputs": [
        {
          "output_type": "display_data",
          "data": {
            "text/plain": [
              "<Figure size 640x480 with 1 Axes>"
            ],
            "image/png": "[encoded data removed]"
          },
          "metadata": {}
        }
      ],
      "source": [
        "ax = plt.subplots()\n",
        "\n",
        "pos = nx.spring_layout(LM_G, seed=200)\n",
        "nx.draw_networkx_edges(LM_G, pos, alpha=0.25, width=1)\n",
        "nx.draw_networkx_nodes(LM_G, pos, node_size=100).set_edgecolor('black')\n",
        "\n",
        "# Add labels to the nodes\n",
        "labels = {node: str(node) for node in LM_G.nodes()}  # Replace str(node) with your actual labels\n",
        "nx.draw_networkx_labels(LM_G, pos, labels, font_size=5, font_color='black')\n",
        "\n",
        "plt.tight_layout()\n",
        "plt.axis(\"off\")\n",
        "plt.show()"
      ]
    },
    {
      "cell_type": "code",
      "execution_count": null,
      "metadata": {
        "id": "fDFum6IlMqjz",
        "colab": {
          "base_uri": "https://localhost:8080/",
          "height": 423
        },
        "outputId": "8299310f-4695-49a5-ad07-ca197069d202"
      },
      "outputs": [
        {
          "output_type": "execute_result",
          "data": {
            "text/plain": [
              "           node  degree\n",
              "10      Valjean      36\n",
              "48     Gavroche      22\n",
              "55       Marius      19\n",
              "27       Javert      17\n",
              "25   Thenardier      16\n",
              "..          ...     ...\n",
              "13      Mme.deR       1\n",
              "14      Isabeau       1\n",
              "15      Gervais       1\n",
              "32  Scaufflaire       1\n",
              "0      Napoleon       1\n",
              "\n",
              "[77 rows x 2 columns]"
            ],
            "text/html": [
              "\n",
              "  <div id=\"df-9703f769-d0a7-4af5-9b36-80175048031a\" class=\"colab-df-container\">\n",
              "    <div>\n",
              "<style scoped>\n",
              "    .dataframe tbody tr th:only-of-type {\n",
              "        vertical-align: middle;\n",
              "    }\n",
              "\n",
              "    .dataframe tbody tr th {\n",
              "        vertical-align: top;\n",
              "    }\n",
              "\n",
              "    .dataframe thead th {\n",
              "        text-align: right;\n",
              "    }\n",
              "</style>\n",
              "<table border=\"1\" class=\"dataframe\">\n",
              "  <thead>\n",
              "    <tr style=\"text-align: right;\">\n",
              "      <th></th>\n",
              "      <th>node</th>\n",
              "      <th>degree</th>\n",
              "    </tr>\n",
              "  </thead>\n",
              "  <tbody>\n",
              "    <tr>\n",
              "      <th>10</th>\n",
              "      <td>Valjean</td>\n",
              "      <td>36</td>\n",
              "    </tr>\n",
              "    <tr>\n",
              "      <th>48</th>\n",
              "      <td>Gavroche</td>\n",
              "      <td>22</td>\n",
              "    </tr>\n",
              "    <tr>\n",
              "      <th>55</th>\n",
              "      <td>Marius</td>\n",
              "      <td>19</td>\n",
              "    </tr>\n",
              "    <tr>\n",
              "      <th>27</th>\n",
              "      <td>Javert</td>\n",
              "      <td>17</td>\n",
              "    </tr>\n",
              "    <tr>\n",
              "      <th>25</th>\n",
              "      <td>Thenardier</td>\n",
              "      <td>16</td>\n",
              "    </tr>\n",
              "    <tr>\n",
              "      <th>...</th>\n",
              "      <td>...</td>\n",
              "      <td>...</td>\n",
              "    </tr>\n",
              "    <tr>\n",
              "      <th>13</th>\n",
              "      <td>Mme.deR</td>\n",
              "      <td>1</td>\n",
              "    </tr>\n",
              "    <tr>\n",
              "      <th>14</th>\n",
              "      <td>Isabeau</td>\n",
              "      <td>1</td>\n",
              "    </tr>\n",
              "    <tr>\n",
              "      <th>15</th>\n",
              "      <td>Gervais</td>\n",
              "      <td>1</td>\n",
              "    </tr>\n",
              "    <tr>\n",
              "      <th>32</th>\n",
              "      <td>Scaufflaire</td>\n",
              "      <td>1</td>\n",
              "    </tr>\n",
              "    <tr>\n",
              "      <th>0</th>\n",
              "      <td>Napoleon</td>\n",
              "      <td>1</td>\n",
              "    </tr>\n",
              "  </tbody>\n",
              "</table>\n",
              "<p>77 rows × 2 columns</p>\n",
              "</div>\n",
              "    <div class=\"colab-df-buttons\">\n",
              "\n",
              "  <div class=\"colab-df-container\">\n",
              "    <button class=\"colab-df-convert\" onclick=\"convertToInteractive('df-9703f769-d0a7-4af5-9b36-80175048031a')\"\n",
              "            title=\"Convert this dataframe to an interactive table.\"\n",
              "            style=\"display:none;\">\n",
              "\n",
              "  <svg xmlns=\"http://www.w3.org/2000/svg\" height=\"24px\" viewBox=\"0 -960 960 960\">\n",
              "    <path d=\"M120-120v-720h720v720H120Zm60-500h600v-160H180v160Zm220 220h160v-160H400v160Zm0 220h160v-160H400v160ZM180-400h160v-160H180v160Zm440 0h160v-160H620v160ZM180-180h160v-160H180v160Zm440 0h160v-160H620v160Z\"/>\n",
              "  </svg>\n",
              "    </button>\n",
              "\n",
              "  <style>\n",
              "    .colab-df-container {\n",
              "      display:flex;\n",
              "      gap: 12px;\n",
              "    }\n",
              "\n",
              "    .colab-df-convert {\n",
              "      background-color: #E8F0FE;\n",
              "      border: none;\n",
              "      border-radius: 50%;\n",
              "      cursor: pointer;\n",
              "      display: none;\n",
              "      fill: #1967D2;\n",
              "      height: 32px;\n",
              "      padding: 0 0 0 0;\n",
              "      width: 32px;\n",
              "    }\n",
              "\n",
              "    .colab-df-convert:hover {\n",
              "      background-color: #E2EBFA;\n",
              "      box-shadow: 0px 1px 2px rgba(60, 64, 67, 0.3), 0px 1px 3px 1px rgba(60, 64, 67, 0.15);\n",
              "      fill: #174EA6;\n",
              "    }\n",
              "\n",
              "    .colab-df-buttons div {\n",
              "      margin-bottom: 4px;\n",
              "    }\n",
              "\n",
              "    [theme=dark] .colab-df-convert {\n",
              "      background-color: #3B4455;\n",
              "      fill: #D2E3FC;\n",
              "    }\n",
              "\n",
              "    [theme=dark] .colab-df-convert:hover {\n",
              "      background-color: #434B5C;\n",
              "      box-shadow: 0px 1px 3px 1px rgba(0, 0, 0, 0.15);\n",
              "      filter: drop-shadow(0px 1px 2px rgba(0, 0, 0, 0.3));\n",
              "      fill: #FFFFFF;\n",
              "    }\n",
              "  </style>\n",
              "\n",
              "    <script>\n",
              "      const buttonEl =\n",
              "        document.querySelector('#df-9703f769-d0a7-4af5-9b36-80175048031a button.colab-df-convert');\n",
              "      buttonEl.style.display =\n",
              "        google.colab.kernel.accessAllowed ? 'block' : 'none';\n",
              "\n",
              "      async function convertToInteractive(key) {\n",
              "        const element = document.querySelector('#df-9703f769-d0a7-4af5-9b36-80175048031a');\n",
              "        const dataTable =\n",
              "          await google.colab.kernel.invokeFunction('convertToInteractive',\n",
              "                                                    [key], {});\n",
              "        if (!dataTable) return;\n",
              "\n",
              "        const docLinkHtml = 'Like what you see? Visit the ' +\n",
              "          '<a target=\"_blank\" href=https://colab.research.google.com/notebooks/data_table.ipynb>data table notebook</a>'\n",
              "          + ' to learn more about interactive tables.';\n",
              "        element.innerHTML = '';\n",
              "        dataTable['output_type'] = 'display_data';\n",
              "        await google.colab.output.renderOutput(dataTable, element);\n",
              "        const docLink = document.createElement('div');\n",
              "        docLink.innerHTML = docLinkHtml;\n",
              "        element.appendChild(docLink);\n",
              "      }\n",
              "    </script>\n",
              "  </div>\n",
              "\n",
              "\n",
              "<div id=\"df-1b74fb31-de1d-42f2-847c-0eac6e772939\">\n",
              "  <button class=\"colab-df-quickchart\" onclick=\"quickchart('df-1b74fb31-de1d-42f2-847c-0eac6e772939')\"\n",
              "            title=\"Suggest charts\"\n",
              "            style=\"display:none;\">\n",
              "\n",
              "<svg xmlns=\"http://www.w3.org/2000/svg\" height=\"24px\"viewBox=\"0 0 24 24\"\n",
              "     width=\"24px\">\n",
              "    <g>\n",
              "        <path d=\"M19 3H5c-1.1 0-2 .9-2 2v14c0 1.1.9 2 2 2h14c1.1 0 2-.9 2-2V5c0-1.1-.9-2-2-2zM9 17H7v-7h2v7zm4 0h-2V7h2v10zm4 0h-2v-4h2v4z\"/>\n",
              "    </g>\n",
              "</svg>\n",
              "  </button>\n",
              "\n",
              "<style>\n",
              "  .colab-df-quickchart {\n",
              "      --bg-color: #E8F0FE;\n",
              "      --fill-color: #1967D2;\n",
              "      --hover-bg-color: #E2EBFA;\n",
              "      --hover-fill-color: #174EA6;\n",
              "      --disabled-fill-color: #AAA;\n",
              "      --disabled-bg-color: #DDD;\n",
              "  }\n",
              "\n",
              "  [theme=dark] .colab-df-quickchart {\n",
              "      --bg-color: #3B4455;\n",
              "      --fill-color: #D2E3FC;\n",
              "      --hover-bg-color: #434B5C;\n",
              "      --hover-fill-color: #FFFFFF;\n",
              "      --disabled-bg-color: #3B4455;\n",
              "      --disabled-fill-color: #666;\n",
              "  }\n",
              "\n",
              "  .colab-df-quickchart {\n",
              "    background-color: var(--bg-color);\n",
              "    border: none;\n",
              "    border-radius: 50%;\n",
              "    cursor: pointer;\n",
              "    display: none;\n",
              "    fill: var(--fill-color);\n",
              "    height: 32px;\n",
              "    padding: 0;\n",
              "    width: 32px;\n",
              "  }\n",
              "\n",
              "  .colab-df-quickchart:hover {\n",
              "    background-color: var(--hover-bg-color);\n",
              "    box-shadow: 0 1px 2px rgba(60, 64, 67, 0.3), 0 1px 3px 1px rgba(60, 64, 67, 0.15);\n",
              "    fill: var(--button-hover-fill-color);\n",
              "  }\n",
              "\n",
              "  .colab-df-quickchart-complete:disabled,\n",
              "  .colab-df-quickchart-complete:disabled:hover {\n",
              "    background-color: var(--disabled-bg-color);\n",
              "    fill: var(--disabled-fill-color);\n",
              "    box-shadow: none;\n",
              "  }\n",
              "\n",
              "  .colab-df-spinner {\n",
              "    border: 2px solid var(--fill-color);\n",
              "    border-color: transparent;\n",
              "    border-bottom-color: var(--fill-color);\n",
              "    animation:\n",
              "      spin 1s steps(1) infinite;\n",
              "  }\n",
              "\n",
              "  @keyframes spin {\n",
              "    0% {\n",
              "      border-color: transparent;\n",
              "      border-bottom-color: var(--fill-color);\n",
              "      border-left-color: var(--fill-color);\n",
              "    }\n",
              "    20% {\n",
              "      border-color: transparent;\n",
              "      border-left-color: var(--fill-color);\n",
              "      border-top-color: var(--fill-color);\n",
              "    }\n",
              "    30% {\n",
              "      border-color: transparent;\n",
              "      border-left-color: var(--fill-color);\n",
              "      border-top-color: var(--fill-color);\n",
              "      border-right-color: var(--fill-color);\n",
              "    }\n",
              "    40% {\n",
              "      border-color: transparent;\n",
              "      border-right-color: var(--fill-color);\n",
              "      border-top-color: var(--fill-color);\n",
              "    }\n",
              "    60% {\n",
              "      border-color: transparent;\n",
              "      border-right-color: var(--fill-color);\n",
              "    }\n",
              "    80% {\n",
              "      border-color: transparent;\n",
              "      border-right-color: var(--fill-color);\n",
              "      border-bottom-color: var(--fill-color);\n",
              "    }\n",
              "    90% {\n",
              "      border-color: transparent;\n",
              "      border-bottom-color: var(--fill-color);\n",
              "    }\n",
              "  }\n",
              "</style>\n",
              "\n",
              "  <script>\n",
              "    async function quickchart(key) {\n",
              "      const quickchartButtonEl =\n",
              "        document.querySelector('#' + key + ' button');\n",
              "      quickchartButtonEl.disabled = true;  // To prevent multiple clicks.\n",
              "      quickchartButtonEl.classList.add('colab-df-spinner');\n",
              "      try {\n",
              "        const charts = await google.colab.kernel.invokeFunction(\n",
              "            'suggestCharts', [key], {});\n",
              "      } catch (error) {\n",
              "        console.error('Error during call to suggestCharts:', error);\n",
              "      }\n",
              "      quickchartButtonEl.classList.remove('colab-df-spinner');\n",
              "      quickchartButtonEl.classList.add('colab-df-quickchart-complete');\n",
              "    }\n",
              "    (() => {\n",
              "      let quickchartButtonEl =\n",
              "        document.querySelector('#df-1b74fb31-de1d-42f2-847c-0eac6e772939 button');\n",
              "      quickchartButtonEl.style.display =\n",
              "        google.colab.kernel.accessAllowed ? 'block' : 'none';\n",
              "    })();\n",
              "  </script>\n",
              "</div>\n",
              "\n",
              "    </div>\n",
              "  </div>\n"
            ],
            "application/vnd.google.colaboratory.intrinsic+json": {
              "type": "dataframe",
              "summary": "{\n  \"name\": \"df\",\n  \"rows\": 77,\n  \"fields\": [\n    {\n      \"column\": \"node\",\n      \"properties\": {\n        \"dtype\": \"string\",\n        \"num_unique_values\": 77,\n        \"samples\": [\n          \"Thenardier\",\n          \"Fameuil\",\n          \"Joly\"\n        ],\n        \"semantic_type\": \"\",\n        \"description\": \"\"\n      }\n    },\n    {\n      \"column\": \"degree\",\n      \"properties\": {\n        \"dtype\": \"number\",\n        \"std\": 6,\n        \"min\": 1,\n        \"max\": 36,\n        \"num_unique_values\": 18,\n        \"samples\": [\n          36,\n          22,\n          11\n        ],\n        \"semantic_type\": \"\",\n        \"description\": \"\"\n      }\n    }\n  ]\n}"
            }
          },
          "metadata": {},
          "execution_count": 84
        }
      ],
      "source": [
        "df = pd.DataFrame( nx.degree(LM_G), columns=['node', 'degree'] )\n",
        "df.sort_values('degree', ascending=False)"
      ]
    },
    {
      "cell_type": "code",
      "source": [
        "nx.degree_centrality(LM_G)['Valjean']"
      ],
      "metadata": {
        "id": "VCm1iQBHPNK-",
        "colab": {
          "base_uri": "https://localhost:8080/"
        },
        "outputId": "fdf78045-7f35-454d-c69d-a926bf87d6fd"
      },
      "execution_count": null,
      "outputs": [
        {
          "output_type": "execute_result",
          "data": {
            "text/plain": [
              "0.47368421052631576"
            ]
          },
          "metadata": {},
          "execution_count": 85
        }
      ]
    },
    {
      "cell_type": "code",
      "source": [
        "nx.betweenness_centrality(LM_G)['Valjean']"
      ],
      "metadata": {
        "id": "0SG8lEatPcPa",
        "colab": {
          "base_uri": "https://localhost:8080/"
        },
        "outputId": "0744ed98-f332-4a30-ecf9-0dfef7bf16e4"
      },
      "execution_count": null,
      "outputs": [
        {
          "output_type": "execute_result",
          "data": {
            "text/plain": [
              "0.5699890527836184"
            ]
          },
          "metadata": {},
          "execution_count": 86
        }
      ]
    },
    {
      "cell_type": "code",
      "source": [
        "nx.closeness_centrality(LM_G)['Valjean']"
      ],
      "metadata": {
        "id": "Al9IoXQqPgjv",
        "colab": {
          "base_uri": "https://localhost:8080/"
        },
        "outputId": "5b575432-13bf-4f18-bfd7-6cebb58f9012"
      },
      "execution_count": null,
      "outputs": [
        {
          "output_type": "execute_result",
          "data": {
            "text/plain": [
              "0.6440677966101694"
            ]
          },
          "metadata": {},
          "execution_count": 87
        }
      ]
    },
    {
      "cell_type": "code",
      "source": [
        "nx.eigenvector_centrality(LM_G)['Valjean']"
      ],
      "metadata": {
        "id": "phSTIOC6PjFa",
        "colab": {
          "base_uri": "https://localhost:8080/"
        },
        "outputId": "d76ecd04-ed0d-41d6-bf6f-62c58e59337e"
      },
      "execution_count": null,
      "outputs": [
        {
          "output_type": "execute_result",
          "data": {
            "text/plain": [
              "0.2676181759885394"
            ]
          },
          "metadata": {},
          "execution_count": 88
        }
      ]
    },
    {
      "cell_type": "code",
      "source": [
        "betweenness_dict = nx.betweenness_centrality(LM_G)\n",
        "\n",
        "for _, row in df.iterrows():\n",
        "    character = row['node']\n",
        "    betweenness = betweenness_dict[character]\n",
        "    df.loc[df['node'] == character, 'betweenness'] = betweenness"
      ],
      "metadata": {
        "id": "L3NUrQO-DEQ0"
      },
      "execution_count": null,
      "outputs": []
    },
    {
      "cell_type": "code",
      "source": [
        "df.sort_values('betweenness', ascending=False)"
      ],
      "metadata": {
        "id": "J1F7ZBQ1DdO1",
        "colab": {
          "base_uri": "https://localhost:8080/",
          "height": 423
        },
        "outputId": "117e0ff9-ee7f-454c-d8c6-20689de8b434"
      },
      "execution_count": null,
      "outputs": [
        {
          "output_type": "execute_result",
          "data": {
            "text/plain": [
              "             node  degree  betweenness\n",
              "10        Valjean      36     0.569989\n",
              "1          Myriel      10     0.176842\n",
              "48       Gavroche      22     0.165113\n",
              "55         Marius      19     0.132032\n",
              "23        Fantine      15     0.129645\n",
              "..            ...     ...          ...\n",
              "36         Brevet       6     0.000000\n",
              "37     Chenildieu       6     0.000000\n",
              "40   Boulatruelle       1     0.000000\n",
              "42        Anzelma       3     0.000000\n",
              "76  Mme.Hucheloup       7     0.000000\n",
              "\n",
              "[77 rows x 3 columns]"
            ],
            "text/html": [
              "\n",
              "  <div id=\"df-b01aef7e-44ce-4a87-b461-f7c869d67610\" class=\"colab-df-container\">\n",
              "    <div>\n",
              "<style scoped>\n",
              "    .dataframe tbody tr th:only-of-type {\n",
              "        vertical-align: middle;\n",
              "    }\n",
              "\n",
              "    .dataframe tbody tr th {\n",
              "        vertical-align: top;\n",
              "    }\n",
              "\n",
              "    .dataframe thead th {\n",
              "        text-align: right;\n",
              "    }\n",
              "</style>\n",
              "<table border=\"1\" class=\"dataframe\">\n",
              "  <thead>\n",
              "    <tr style=\"text-align: right;\">\n",
              "      <th></th>\n",
              "      <th>node</th>\n",
              "      <th>degree</th>\n",
              "      <th>betweenness</th>\n",
              "    </tr>\n",
              "  </thead>\n",
              "  <tbody>\n",
              "    <tr>\n",
              "      <th>10</th>\n",
              "      <td>Valjean</td>\n",
              "      <td>36</td>\n",
              "      <td>0.569989</td>\n",
              "    </tr>\n",
              "    <tr>\n",
              "      <th>1</th>\n",
              "      <td>Myriel</td>\n",
              "      <td>10</td>\n",
              "      <td>0.176842</td>\n",
              "    </tr>\n",
              "    <tr>\n",
              "      <th>48</th>\n",
              "      <td>Gavroche</td>\n",
              "      <td>22</td>\n",
              "      <td>0.165113</td>\n",
              "    </tr>\n",
              "    <tr>\n",
              "      <th>55</th>\n",
              "      <td>Marius</td>\n",
              "      <td>19</td>\n",
              "      <td>0.132032</td>\n",
              "    </tr>\n",
              "    <tr>\n",
              "      <th>23</th>\n",
              "      <td>Fantine</td>\n",
              "      <td>15</td>\n",
              "      <td>0.129645</td>\n",
              "    </tr>\n",
              "    <tr>\n",
              "      <th>...</th>\n",
              "      <td>...</td>\n",
              "      <td>...</td>\n",
              "      <td>...</td>\n",
              "    </tr>\n",
              "    <tr>\n",
              "      <th>36</th>\n",
              "      <td>Brevet</td>\n",
              "      <td>6</td>\n",
              "      <td>0.000000</td>\n",
              "    </tr>\n",
              "    <tr>\n",
              "      <th>37</th>\n",
              "      <td>Chenildieu</td>\n",
              "      <td>6</td>\n",
              "      <td>0.000000</td>\n",
              "    </tr>\n",
              "    <tr>\n",
              "      <th>40</th>\n",
              "      <td>Boulatruelle</td>\n",
              "      <td>1</td>\n",
              "      <td>0.000000</td>\n",
              "    </tr>\n",
              "    <tr>\n",
              "      <th>42</th>\n",
              "      <td>Anzelma</td>\n",
              "      <td>3</td>\n",
              "      <td>0.000000</td>\n",
              "    </tr>\n",
              "    <tr>\n",
              "      <th>76</th>\n",
              "      <td>Mme.Hucheloup</td>\n",
              "      <td>7</td>\n",
              "      <td>0.000000</td>\n",
              "    </tr>\n",
              "  </tbody>\n",
              "</table>\n",
              "<p>77 rows × 3 columns</p>\n",
              "</div>\n",
              "    <div class=\"colab-df-buttons\">\n",
              "\n",
              "  <div class=\"colab-df-container\">\n",
              "    <button class=\"colab-df-convert\" onclick=\"convertToInteractive('df-b01aef7e-44ce-4a87-b461-f7c869d67610')\"\n",
              "            title=\"Convert this dataframe to an interactive table.\"\n",
              "            style=\"display:none;\">\n",
              "\n",
              "  <svg xmlns=\"http://www.w3.org/2000/svg\" height=\"24px\" viewBox=\"0 -960 960 960\">\n",
              "    <path d=\"M120-120v-720h720v720H120Zm60-500h600v-160H180v160Zm220 220h160v-160H400v160Zm0 220h160v-160H400v160ZM180-400h160v-160H180v160Zm440 0h160v-160H620v160ZM180-180h160v-160H180v160Zm440 0h160v-160H620v160Z\"/>\n",
              "  </svg>\n",
              "    </button>\n",
              "\n",
              "  <style>\n",
              "    .colab-df-container {\n",
              "      display:flex;\n",
              "      gap: 12px;\n",
              "    }\n",
              "\n",
              "    .colab-df-convert {\n",
              "      background-color: #E8F0FE;\n",
              "      border: none;\n",
              "      border-radius: 50%;\n",
              "      cursor: pointer;\n",
              "      display: none;\n",
              "      fill: #1967D2;\n",
              "      height: 32px;\n",
              "      padding: 0 0 0 0;\n",
              "      width: 32px;\n",
              "    }\n",
              "\n",
              "    .colab-df-convert:hover {\n",
              "      background-color: #E2EBFA;\n",
              "      box-shadow: 0px 1px 2px rgba(60, 64, 67, 0.3), 0px 1px 3px 1px rgba(60, 64, 67, 0.15);\n",
              "      fill: #174EA6;\n",
              "    }\n",
              "\n",
              "    .colab-df-buttons div {\n",
              "      margin-bottom: 4px;\n",
              "    }\n",
              "\n",
              "    [theme=dark] .colab-df-convert {\n",
              "      background-color: #3B4455;\n",
              "      fill: #D2E3FC;\n",
              "    }\n",
              "\n",
              "    [theme=dark] .colab-df-convert:hover {\n",
              "      background-color: #434B5C;\n",
              "      box-shadow: 0px 1px 3px 1px rgba(0, 0, 0, 0.15);\n",
              "      filter: drop-shadow(0px 1px 2px rgba(0, 0, 0, 0.3));\n",
              "      fill: #FFFFFF;\n",
              "    }\n",
              "  </style>\n",
              "\n",
              "    <script>\n",
              "      const buttonEl =\n",
              "        document.querySelector('#df-b01aef7e-44ce-4a87-b461-f7c869d67610 button.colab-df-convert');\n",
              "      buttonEl.style.display =\n",
              "        google.colab.kernel.accessAllowed ? 'block' : 'none';\n",
              "\n",
              "      async function convertToInteractive(key) {\n",
              "        const element = document.querySelector('#df-b01aef7e-44ce-4a87-b461-f7c869d67610');\n",
              "        const dataTable =\n",
              "          await google.colab.kernel.invokeFunction('convertToInteractive',\n",
              "                                                    [key], {});\n",
              "        if (!dataTable) return;\n",
              "\n",
              "        const docLinkHtml = 'Like what you see? Visit the ' +\n",
              "          '<a target=\"_blank\" href=https://colab.research.google.com/notebooks/data_table.ipynb>data table notebook</a>'\n",
              "          + ' to learn more about interactive tables.';\n",
              "        element.innerHTML = '';\n",
              "        dataTable['output_type'] = 'display_data';\n",
              "        await google.colab.output.renderOutput(dataTable, element);\n",
              "        const docLink = document.createElement('div');\n",
              "        docLink.innerHTML = docLinkHtml;\n",
              "        element.appendChild(docLink);\n",
              "      }\n",
              "    </script>\n",
              "  </div>\n",
              "\n",
              "\n",
              "<div id=\"df-abd0e3f9-a169-4f2d-adf6-da8a12cb7362\">\n",
              "  <button class=\"colab-df-quickchart\" onclick=\"quickchart('df-abd0e3f9-a169-4f2d-adf6-da8a12cb7362')\"\n",
              "            title=\"Suggest charts\"\n",
              "            style=\"display:none;\">\n",
              "\n",
              "<svg xmlns=\"http://www.w3.org/2000/svg\" height=\"24px\"viewBox=\"0 0 24 24\"\n",
              "     width=\"24px\">\n",
              "    <g>\n",
              "        <path d=\"M19 3H5c-1.1 0-2 .9-2 2v14c0 1.1.9 2 2 2h14c1.1 0 2-.9 2-2V5c0-1.1-.9-2-2-2zM9 17H7v-7h2v7zm4 0h-2V7h2v10zm4 0h-2v-4h2v4z\"/>\n",
              "    </g>\n",
              "</svg>\n",
              "  </button>\n",
              "\n",
              "<style>\n",
              "  .colab-df-quickchart {\n",
              "      --bg-color: #E8F0FE;\n",
              "      --fill-color: #1967D2;\n",
              "      --hover-bg-color: #E2EBFA;\n",
              "      --hover-fill-color: #174EA6;\n",
              "      --disabled-fill-color: #AAA;\n",
              "      --disabled-bg-color: #DDD;\n",
              "  }\n",
              "\n",
              "  [theme=dark] .colab-df-quickchart {\n",
              "      --bg-color: #3B4455;\n",
              "      --fill-color: #D2E3FC;\n",
              "      --hover-bg-color: #434B5C;\n",
              "      --hover-fill-color: #FFFFFF;\n",
              "      --disabled-bg-color: #3B4455;\n",
              "      --disabled-fill-color: #666;\n",
              "  }\n",
              "\n",
              "  .colab-df-quickchart {\n",
              "    background-color: var(--bg-color);\n",
              "    border: none;\n",
              "    border-radius: 50%;\n",
              "    cursor: pointer;\n",
              "    display: none;\n",
              "    fill: var(--fill-color);\n",
              "    height: 32px;\n",
              "    padding: 0;\n",
              "    width: 32px;\n",
              "  }\n",
              "\n",
              "  .colab-df-quickchart:hover {\n",
              "    background-color: var(--hover-bg-color);\n",
              "    box-shadow: 0 1px 2px rgba(60, 64, 67, 0.3), 0 1px 3px 1px rgba(60, 64, 67, 0.15);\n",
              "    fill: var(--button-hover-fill-color);\n",
              "  }\n",
              "\n",
              "  .colab-df-quickchart-complete:disabled,\n",
              "  .colab-df-quickchart-complete:disabled:hover {\n",
              "    background-color: var(--disabled-bg-color);\n",
              "    fill: var(--disabled-fill-color);\n",
              "    box-shadow: none;\n",
              "  }\n",
              "\n",
              "  .colab-df-spinner {\n",
              "    border: 2px solid var(--fill-color);\n",
              "    border-color: transparent;\n",
              "    border-bottom-color: var(--fill-color);\n",
              "    animation:\n",
              "      spin 1s steps(1) infinite;\n",
              "  }\n",
              "\n",
              "  @keyframes spin {\n",
              "    0% {\n",
              "      border-color: transparent;\n",
              "      border-bottom-color: var(--fill-color);\n",
              "      border-left-color: var(--fill-color);\n",
              "    }\n",
              "    20% {\n",
              "      border-color: transparent;\n",
              "      border-left-color: var(--fill-color);\n",
              "      border-top-color: var(--fill-color);\n",
              "    }\n",
              "    30% {\n",
              "      border-color: transparent;\n",
              "      border-left-color: var(--fill-color);\n",
              "      border-top-color: var(--fill-color);\n",
              "      border-right-color: var(--fill-color);\n",
              "    }\n",
              "    40% {\n",
              "      border-color: transparent;\n",
              "      border-right-color: var(--fill-color);\n",
              "      border-top-color: var(--fill-color);\n",
              "    }\n",
              "    60% {\n",
              "      border-color: transparent;\n",
              "      border-right-color: var(--fill-color);\n",
              "    }\n",
              "    80% {\n",
              "      border-color: transparent;\n",
              "      border-right-color: var(--fill-color);\n",
              "      border-bottom-color: var(--fill-color);\n",
              "    }\n",
              "    90% {\n",
              "      border-color: transparent;\n",
              "      border-bottom-color: var(--fill-color);\n",
              "    }\n",
              "  }\n",
              "</style>\n",
              "\n",
              "  <script>\n",
              "    async function quickchart(key) {\n",
              "      const quickchartButtonEl =\n",
              "        document.querySelector('#' + key + ' button');\n",
              "      quickchartButtonEl.disabled = true;  // To prevent multiple clicks.\n",
              "      quickchartButtonEl.classList.add('colab-df-spinner');\n",
              "      try {\n",
              "        const charts = await google.colab.kernel.invokeFunction(\n",
              "            'suggestCharts', [key], {});\n",
              "      } catch (error) {\n",
              "        console.error('Error during call to suggestCharts:', error);\n",
              "      }\n",
              "      quickchartButtonEl.classList.remove('colab-df-spinner');\n",
              "      quickchartButtonEl.classList.add('colab-df-quickchart-complete');\n",
              "    }\n",
              "    (() => {\n",
              "      let quickchartButtonEl =\n",
              "        document.querySelector('#df-abd0e3f9-a169-4f2d-adf6-da8a12cb7362 button');\n",
              "      quickchartButtonEl.style.display =\n",
              "        google.colab.kernel.accessAllowed ? 'block' : 'none';\n",
              "    })();\n",
              "  </script>\n",
              "</div>\n",
              "\n",
              "    </div>\n",
              "  </div>\n"
            ],
            "application/vnd.google.colaboratory.intrinsic+json": {
              "type": "dataframe",
              "summary": "{\n  \"name\": \"df\",\n  \"rows\": 77,\n  \"fields\": [\n    {\n      \"column\": \"node\",\n      \"properties\": {\n        \"dtype\": \"string\",\n        \"num_unique_values\": 77,\n        \"samples\": [\n          \"Fantine\",\n          \"Child2\",\n          \"Bossuet\"\n        ],\n        \"semantic_type\": \"\",\n        \"description\": \"\"\n      }\n    },\n    {\n      \"column\": \"degree\",\n      \"properties\": {\n        \"dtype\": \"number\",\n        \"std\": 6,\n        \"min\": 1,\n        \"max\": 36,\n        \"num_unique_values\": 18,\n        \"samples\": [\n          36,\n          10,\n          9\n        ],\n        \"semantic_type\": \"\",\n        \"description\": \"\"\n      }\n    },\n    {\n      \"column\": \"betweenness\",\n      \"properties\": {\n        \"dtype\": \"number\",\n        \"std\": 0.07258861800944823,\n        \"min\": 0.0,\n        \"max\": 0.5699890527836184,\n        \"num_unique_values\": 32,\n        \"samples\": [\n          0.00021720969089390142,\n          0.023796253454148188,\n          0.0038738298738298727\n        ],\n        \"semantic_type\": \"\",\n        \"description\": \"\"\n      }\n    }\n  ]\n}"
            }
          },
          "metadata": {},
          "execution_count": 103
        }
      ]
    },
    {
      "cell_type": "markdown",
      "source": [
        "## community detection (Louvain algorithm)\n",
        "https://github.com/taynaud/python-louvain"
      ],
      "metadata": {
        "id": "o1G9NqdZuK_A"
      }
    },
    {
      "cell_type": "code",
      "source": [
        "from community import community_louvain\n",
        "import matplotlib.cm as cm\n",
        "import matplotlib.pyplot as plt\n",
        "import networkx as nx\n",
        "\n",
        "# compute the best partition\n",
        "partition = community_louvain.best_partition(LM_G)"
      ],
      "metadata": {
        "id": "LibZvN5Et4-G"
      },
      "execution_count": null,
      "outputs": []
    },
    {
      "cell_type": "code",
      "source": [
        "partition"
      ],
      "metadata": {
        "id": "vfg699TouC6N",
        "colab": {
          "base_uri": "https://localhost:8080/"
        },
        "outputId": "1cc0cc20-483c-4504-e9a2-fced632b2843"
      },
      "execution_count": null,
      "outputs": [
        {
          "output_type": "execute_result",
          "data": {
            "text/plain": [
              "{'Napoleon': 1,\n",
              " 'Myriel': 1,\n",
              " 'Mlle.Baptistine': 1,\n",
              " 'Mme.Magloire': 1,\n",
              " 'CountessdeLo': 1,\n",
              " 'Geborand': 1,\n",
              " 'Champtercier': 1,\n",
              " 'Cravatte': 1,\n",
              " 'Count': 1,\n",
              " 'OldMan': 1,\n",
              " 'Valjean': 2,\n",
              " 'Labarre': 2,\n",
              " 'Marguerite': 6,\n",
              " 'Mme.deR': 2,\n",
              " 'Isabeau': 2,\n",
              " 'Gervais': 2,\n",
              " 'Listolier': 6,\n",
              " 'Tholomyes': 6,\n",
              " 'Fameuil': 6,\n",
              " 'Blacheville': 6,\n",
              " 'Favourite': 6,\n",
              " 'Dahlia': 6,\n",
              " 'Zephine': 6,\n",
              " 'Fantine': 6,\n",
              " 'Mme.Thenardier': 4,\n",
              " 'Thenardier': 4,\n",
              " 'Cosette': 4,\n",
              " 'Javert': 4,\n",
              " 'Fauchelevent': 2,\n",
              " 'Bamatabois': 2,\n",
              " 'Perpetue': 6,\n",
              " 'Simplice': 6,\n",
              " 'Scaufflaire': 2,\n",
              " 'Woman1': 4,\n",
              " 'Judge': 2,\n",
              " 'Champmathieu': 2,\n",
              " 'Brevet': 2,\n",
              " 'Chenildieu': 2,\n",
              " 'Cochepaille': 2,\n",
              " 'Pontmercy': 5,\n",
              " 'Boulatruelle': 4,\n",
              " 'Eponine': 4,\n",
              " 'Anzelma': 4,\n",
              " 'Woman2': 4,\n",
              " 'MotherInnocent': 2,\n",
              " 'Gribier': 2,\n",
              " 'Mme.Burgon': 0,\n",
              " 'Jondrette': 0,\n",
              " 'Gavroche': 3,\n",
              " 'Gillenormand': 5,\n",
              " 'Magnon': 5,\n",
              " 'Mlle.Gillenormand': 5,\n",
              " 'Mme.Pontmercy': 5,\n",
              " 'Mlle.Vaubois': 5,\n",
              " 'Lt.Gillenormand': 5,\n",
              " 'Marius': 3,\n",
              " 'BaronessT': 5,\n",
              " 'Mabeuf': 3,\n",
              " 'Enjolras': 3,\n",
              " 'Combeferre': 3,\n",
              " 'Prouvaire': 3,\n",
              " 'Feuilly': 3,\n",
              " 'Courfeyrac': 3,\n",
              " 'Bahorel': 3,\n",
              " 'Bossuet': 3,\n",
              " 'Joly': 3,\n",
              " 'Grantaire': 3,\n",
              " 'MotherPlutarch': 3,\n",
              " 'Gueulemer': 4,\n",
              " 'Babet': 4,\n",
              " 'Claquesous': 4,\n",
              " 'Montparnasse': 4,\n",
              " 'Toussaint': 4,\n",
              " 'Child1': 3,\n",
              " 'Child2': 3,\n",
              " 'Brujon': 4,\n",
              " 'Mme.Hucheloup': 3}"
            ]
          },
          "metadata": {},
          "execution_count": 92
        }
      ]
    },
    {
      "cell_type": "code",
      "source": [
        "# draw the graph\n",
        "pos = nx.spring_layout(LM_G)\n",
        "# color the nodes according to their partition\n",
        "cmap = cm.get_cmap('viridis', max(partition.values()) + 1)\n",
        "nx.draw_networkx_nodes(LM_G, pos, partition.keys(), node_size=40,\n",
        "                       cmap=cmap, node_color=list(partition.values()))\n",
        "nx.draw_networkx_edges(LM_G, pos, alpha=0.5)\n",
        "plt.show()"
      ],
      "metadata": {
        "id": "1WzgBgHjuNS7",
        "colab": {
          "base_uri": "https://localhost:8080/",
          "height": 462
        },
        "outputId": "036c9244-a631-4727-c7b7-102474db6a37"
      },
      "execution_count": null,
      "outputs": [
        {
          "output_type": "stream",
          "name": "stderr",
          "text": [
            "<ipython-input-93-c6c45ee8aeb7>:4: MatplotlibDeprecationWarning: The get_cmap function was deprecated in Matplotlib 3.7 and will be removed two minor releases later. Use ``matplotlib.colormaps[name]`` or ``matplotlib.colormaps.get_cmap(obj)`` instead.\n",
            "  cmap = cm.get_cmap('viridis', max(partition.values()) + 1)\n"
          ]
        },
        {
          "output_type": "display_data",
          "data": {
            "text/plain": [
              "<Figure size 640x480 with 1 Axes>"
            ],
            "image/png": "[encoded data removed]"
          },
          "metadata": {}
        }
      ]
    },
    {
      "cell_type": "markdown",
      "source": [
        "# Visualize using PyVis\n",
        "Documentation: https://pyvis.readthedocs.io/en/latest/tutorial.html#getting-started"
      ],
      "metadata": {
        "id": "Ra3A-m-g0jD7"
      }
    },
    {
      "cell_type": "code",
      "source": [
        "!pip install pyvis\n",
        "from pyvis.network import Network\n",
        "from IPython.core.display import display, HTML"
      ],
      "metadata": {
        "id": "4_srvLYKL5ro",
        "colab": {
          "base_uri": "https://localhost:8080/"
        },
        "outputId": "bc12b769-fdc6-4e93-b54e-13dd7c5f26e4"
      },
      "execution_count": null,
      "outputs": [
        {
          "output_type": "stream",
          "name": "stdout",
          "text": [
            "Collecting pyvis\n",
            "  Downloading pyvis-0.3.2-py3-none-any.whl.metadata (1.7 kB)\n",
            "Requirement already satisfied: ipython>=5.3.0 in /usr/local/lib/python3.10/dist-packages (from pyvis) (7.34.0)\n",
            "Requirement already satisfied: jinja2>=2.9.6 in /usr/local/lib/python3.10/dist-packages (from pyvis) (3.1.4)\n",
            "Requirement already satisfied: jsonpickle>=1.4.1 in /usr/local/lib/python3.10/dist-packages (from pyvis) (3.2.2)\n",
            "Requirement already satisfied: networkx>=1.11 in /usr/local/lib/python3.10/dist-packages (from pyvis) (3.3)\n",
            "Requirement already satisfied: setuptools>=18.5 in /usr/local/lib/python3.10/dist-packages (from ipython>=5.3.0->pyvis) (71.0.4)\n",
            "Collecting jedi>=0.16 (from ipython>=5.3.0->pyvis)\n",
            "  Using cached jedi-0.19.1-py2.py3-none-any.whl.metadata (22 kB)\n",
            "Requirement already satisfied: decorator in /usr/local/lib/python3.10/dist-packages (from ipython>=5.3.0->pyvis) (4.4.2)\n",
            "Requirement already satisfied: pickleshare in /usr/local/lib/python3.10/dist-packages (from ipython>=5.3.0->pyvis) (0.7.5)\n",
            "Requirement already satisfied: traitlets>=4.2 in /usr/local/lib/python3.10/dist-packages (from ipython>=5.3.0->pyvis) (5.7.1)\n",
            "Requirement already satisfied: prompt-toolkit!=3.0.0,!=3.0.1,<3.1.0,>=2.0.0 in /usr/local/lib/python3.10/dist-packages (from ipython>=5.3.0->pyvis) (3.0.47)\n",
            "Requirement already satisfied: pygments in /usr/local/lib/python3.10/dist-packages (from ipython>=5.3.0->pyvis) (2.16.1)\n",
            "Requirement already satisfied: backcall in /usr/local/lib/python3.10/dist-packages (from ipython>=5.3.0->pyvis) (0.2.0)\n",
            "Requirement already satisfied: matplotlib-inline in /usr/local/lib/python3.10/dist-packages (from ipython>=5.3.0->pyvis) (0.1.7)\n",
            "Requirement already satisfied: pexpect>4.3 in /usr/local/lib/python3.10/dist-packages (from ipython>=5.3.0->pyvis) (4.9.0)\n",
            "Requirement already satisfied: MarkupSafe>=2.0 in /usr/local/lib/python3.10/dist-packages (from jinja2>=2.9.6->pyvis) (2.1.5)\n",
            "Requirement already satisfied: parso<0.9.0,>=0.8.3 in /usr/local/lib/python3.10/dist-packages (from jedi>=0.16->ipython>=5.3.0->pyvis) (0.8.4)\n",
            "Requirement already satisfied: ptyprocess>=0.5 in /usr/local/lib/python3.10/dist-packages (from pexpect>4.3->ipython>=5.3.0->pyvis) (0.7.0)\n",
            "Requirement already satisfied: wcwidth in /usr/local/lib/python3.10/dist-packages (from prompt-toolkit!=3.0.0,!=3.0.1,<3.1.0,>=2.0.0->ipython>=5.3.0->pyvis) (0.2.13)\n",
            "Downloading pyvis-0.3.2-py3-none-any.whl (756 kB)\n",
            "\u001b[2K   \u001b[90m━━━━━━━━━━━━━━━━━━━━━━━━━━━━━━━━━━━━━━━━\u001b[0m \u001b[32m756.0/756.0 kB\u001b[0m \u001b[31m8.4 MB/s\u001b[0m eta \u001b[36m0:00:00\u001b[0m\n",
            "\u001b[?25hUsing cached jedi-0.19.1-py2.py3-none-any.whl (1.6 MB)\n",
            "Installing collected packages: jedi, pyvis\n",
            "Successfully installed jedi-0.19.1 pyvis-0.3.2\n"
          ]
        }
      ]
    },
    {
      "cell_type": "code",
      "source": [
        "net = Network(notebook=True, cdn_resources='remote')\n",
        "net.from_nx(LM_G)"
      ],
      "metadata": {
        "id": "ZNg3IMLAxiLS"
      },
      "execution_count": null,
      "outputs": []
    },
    {
      "cell_type": "code",
      "source": [
        "net.show_buttons(filter_=['nodes', 'edges'])"
      ],
      "metadata": {
        "id": "kkLgxgk3zP0A"
      },
      "execution_count": null,
      "outputs": []
    },
    {
      "cell_type": "code",
      "source": [
        "# Save to an HTML file\n",
        "net_file = \"graph.html\"\n",
        "net.save_graph(net_file)\n",
        "\n",
        "# Display the saved HTML within Colab\n",
        "display(HTML(filename=net_file))"
      ],
      "metadata": {
        "id": "hnzJL1-zyqCJ",
        "colab": {
          "base_uri": "https://localhost:8080/",
          "height": 1000
        },
        "outputId": "7e4169b1-ca5b-4f25-ffa2-8d6ebfff19d1"
      },
      "execution_count": null,
      "outputs": [
        {
          "output_type": "display_data",
          "data": {
            "text/plain": [
              "<IPython.core.display.HTML object>"
            ],
            "text/html": [
              "<html>\n",
              "    <head>\n",
              "        <meta charset=\"utf-8\">\n",
              "        \n",
              "            <script>function neighbourhoodHighlight(params) {\n",
              "  // console.log(\"in nieghbourhoodhighlight\");\n",
              "  allNodes = nodes.get({ returnType: \"Object\" });\n",
              "  // originalNodes = JSON.parse(JSON.stringify(allNodes));\n",
              "  // if something is selected:\n",
              "  if (params.nodes.length > 0) {\n",
              "    highlightActive = true;\n",
              "    var i, j;\n",
              "    var selectedNode = params.nodes[0];\n",
              "    var degrees = 2;\n",
              "\n",
              "    // mark all nodes as hard to read.\n",
              "    for (let nodeId in allNodes) {\n",
              "      // nodeColors[nodeId] = allNodes[nodeId].color;\n",
              "      allNodes[nodeId].color = \"rgba(200,200,200,0.5)\";\n",
              "      if (allNodes[nodeId].hiddenLabel === undefined) {\n",
              "        allNodes[nodeId].hiddenLabel = allNodes[nodeId].label;\n",
              "        allNodes[nodeId].label = undefined;\n",
              "      }\n",
              "    }\n",
              "    var connectedNodes = network.getConnectedNodes(selectedNode);\n",
              "    var allConnectedNodes = [];\n",
              "\n",
              "    // get the second degree nodes\n",
              "    for (i = 1; i < degrees; i++) {\n",
              "      for (j = 0; j < connectedNodes.length; j++) {\n",
              "        allConnectedNodes = allConnectedNodes.concat(\n",
              "          network.getConnectedNodes(connectedNodes[j])\n",
              "        );\n",
              "      }\n",
              "    }\n",
              "\n",
              "    // all second degree nodes get a different color and their label back\n",
              "    for (i = 0; i < allConnectedNodes.length; i++) {\n",
              "      // allNodes[allConnectedNodes[i]].color = \"pink\";\n",
              "      allNodes[allConnectedNodes[i]].color = \"rgba(150,150,150,0.75)\";\n",
              "      if (allNodes[allConnectedNodes[i]].hiddenLabel !== undefined) {\n",
              "        allNodes[allConnectedNodes[i]].label =\n",
              "          allNodes[allConnectedNodes[i]].hiddenLabel;\n",
              "        allNodes[allConnectedNodes[i]].hiddenLabel = undefined;\n",
              "      }\n",
              "    }\n",
              "\n",
              "    // all first degree nodes get their own color and their label back\n",
              "    for (i = 0; i < connectedNodes.length; i++) {\n",
              "      // allNodes[connectedNodes[i]].color = undefined;\n",
              "      allNodes[connectedNodes[i]].color = nodeColors[connectedNodes[i]];\n",
              "      if (allNodes[connectedNodes[i]].hiddenLabel !== undefined) {\n",
              "        allNodes[connectedNodes[i]].label =\n",
              "          allNodes[connectedNodes[i]].hiddenLabel;\n",
              "        allNodes[connectedNodes[i]].hiddenLabel = undefined;\n",
              "      }\n",
              "    }\n",
              "\n",
              "    // the main node gets its own color and its label back.\n",
              "    // allNodes[selectedNode].color = undefined;\n",
              "    allNodes[selectedNode].color = nodeColors[selectedNode];\n",
              "    if (allNodes[selectedNode].hiddenLabel !== undefined) {\n",
              "      allNodes[selectedNode].label = allNodes[selectedNode].hiddenLabel;\n",
              "      allNodes[selectedNode].hiddenLabel = undefined;\n",
              "    }\n",
              "  } else if (highlightActive === true) {\n",
              "    // console.log(\"highlightActive was true\");\n",
              "    // reset all nodes\n",
              "    for (let nodeId in allNodes) {\n",
              "      // allNodes[nodeId].color = \"purple\";\n",
              "      allNodes[nodeId].color = nodeColors[nodeId];\n",
              "      // delete allNodes[nodeId].color;\n",
              "      if (allNodes[nodeId].hiddenLabel !== undefined) {\n",
              "        allNodes[nodeId].label = allNodes[nodeId].hiddenLabel;\n",
              "        allNodes[nodeId].hiddenLabel = undefined;\n",
              "      }\n",
              "    }\n",
              "    highlightActive = false;\n",
              "  }\n",
              "\n",
              "  // transform the object into an array\n",
              "  var updateArray = [];\n",
              "  if (params.nodes.length > 0) {\n",
              "    for (let nodeId in allNodes) {\n",
              "      if (allNodes.hasOwnProperty(nodeId)) {\n",
              "        // console.log(allNodes[nodeId]);\n",
              "        updateArray.push(allNodes[nodeId]);\n",
              "      }\n",
              "    }\n",
              "    nodes.update(updateArray);\n",
              "  } else {\n",
              "    // console.log(\"Nothing was selected\");\n",
              "    for (let nodeId in allNodes) {\n",
              "      if (allNodes.hasOwnProperty(nodeId)) {\n",
              "        // console.log(allNodes[nodeId]);\n",
              "        // allNodes[nodeId].color = {};\n",
              "        updateArray.push(allNodes[nodeId]);\n",
              "      }\n",
              "    }\n",
              "    nodes.update(updateArray);\n",
              "  }\n",
              "}\n",
              "\n",
              "function filterHighlight(params) {\n",
              "  allNodes = nodes.get({ returnType: \"Object\" });\n",
              "  // if something is selected:\n",
              "  if (params.nodes.length > 0) {\n",
              "    filterActive = true;\n",
              "    let selectedNodes = params.nodes;\n",
              "\n",
              "    // hiding all nodes and saving the label\n",
              "    for (let nodeId in allNodes) {\n",
              "      allNodes[nodeId].hidden = true;\n",
              "      if (allNodes[nodeId].savedLabel === undefined) {\n",
              "        allNodes[nodeId].savedLabel = allNodes[nodeId].label;\n",
              "        allNodes[nodeId].label = undefined;\n",
              "      }\n",
              "    }\n",
              "\n",
              "    for (let i=0; i < selectedNodes.length; i++) {\n",
              "      allNodes[selectedNodes[i]].hidden = false;\n",
              "      if (allNodes[selectedNodes[i]].savedLabel !== undefined) {\n",
              "        allNodes[selectedNodes[i]].label = allNodes[selectedNodes[i]].savedLabel;\n",
              "        allNodes[selectedNodes[i]].savedLabel = undefined;\n",
              "      }\n",
              "    }\n",
              "\n",
              "  } else if (filterActive === true) {\n",
              "    // reset all nodes\n",
              "    for (let nodeId in allNodes) {\n",
              "      allNodes[nodeId].hidden = false;\n",
              "      if (allNodes[nodeId].savedLabel !== undefined) {\n",
              "        allNodes[nodeId].label = allNodes[nodeId].savedLabel;\n",
              "        allNodes[nodeId].savedLabel = undefined;\n",
              "      }\n",
              "    }\n",
              "    filterActive = false;\n",
              "  }\n",
              "\n",
              "  // transform the object into an array\n",
              "  var updateArray = [];\n",
              "  if (params.nodes.length > 0) {\n",
              "    for (let nodeId in allNodes) {\n",
              "      if (allNodes.hasOwnProperty(nodeId)) {\n",
              "        updateArray.push(allNodes[nodeId]);\n",
              "      }\n",
              "    }\n",
              "    nodes.update(updateArray);\n",
              "  } else {\n",
              "    for (let nodeId in allNodes) {\n",
              "      if (allNodes.hasOwnProperty(nodeId)) {\n",
              "        updateArray.push(allNodes[nodeId]);\n",
              "      }\n",
              "    }\n",
              "    nodes.update(updateArray);\n",
              "  }\n",
              "}\n",
              "\n",
              "function selectNode(nodes) {\n",
              "  network.selectNodes(nodes);\n",
              "  neighbourhoodHighlight({ nodes: nodes });\n",
              "  return nodes;\n",
              "}\n",
              "\n",
              "function selectNodes(nodes) {\n",
              "  network.selectNodes(nodes);\n",
              "  filterHighlight({nodes: nodes});\n",
              "  return nodes;\n",
              "}\n",
              "\n",
              "function highlightFilter(filter) {\n",
              "  let selectedNodes = []\n",
              "  let selectedProp = filter['property']\n",
              "  if (filter['item'] === 'node') {\n",
              "    let allNodes = nodes.get({ returnType: \"Object\" });\n",
              "    for (let nodeId in allNodes) {\n",
              "      if (allNodes[nodeId][selectedProp] && filter['value'].includes((allNodes[nodeId][selectedProp]).toString())) {\n",
              "        selectedNodes.push(nodeId)\n",
              "      }\n",
              "    }\n",
              "  }\n",
              "  else if (filter['item'] === 'edge'){\n",
              "    let allEdges = edges.get({returnType: 'object'});\n",
              "    // check if the selected property exists for selected edge and select the nodes connected to the edge\n",
              "    for (let edge in allEdges) {\n",
              "      if (allEdges[edge][selectedProp] && filter['value'].includes((allEdges[edge][selectedProp]).toString())) {\n",
              "        selectedNodes.push(allEdges[edge]['from'])\n",
              "        selectedNodes.push(allEdges[edge]['to'])\n",
              "      }\n",
              "    }\n",
              "  }\n",
              "  selectNodes(selectedNodes)\n",
              "}</script>\n",
              "            <link rel=\"stylesheet\" href=\"https://cdnjs.cloudflare.com/ajax/libs/vis-network/9.1.2/dist/dist/vis-network.min.css\" integrity=\"sha512-WgxfT5LWjfszlPHXRmBWHkV2eceiWTOBvrKCNbdgDYTHrT2AeLCGbF4sZlZw3UMN3WtL0tGUoIAKsu8mllg/XA==\" crossorigin=\"anonymous\" referrerpolicy=\"no-referrer\" />\n",
              "            <script src=\"https://cdnjs.cloudflare.com/ajax/libs/vis-network/9.1.2/dist/vis-network.min.js\" integrity=\"sha512-LnvoEWDFrqGHlHmDD2101OrLcbsfkrzoSpvtSQtxK3RMnRV0eOkhhBN2dXHKRrUU8p2DGRTk35n4O8nWSVe1mQ==\" crossorigin=\"anonymous\" referrerpolicy=\"no-referrer\"></script>\n",
              "            \n",
              "            \n",
              "            \n",
              "            \n",
              "            \n",
              "            \n",
              "\n",
              "        \n",
              "<center>\n",
              "<h1></h1>\n",
              "</center>\n",
              "\n",
              "<!-- <link rel=\"stylesheet\" href=\"../node_modules/vis/dist/vis.min.css\" type=\"text/css\" />\n",
              "<script type=\"text/javascript\" src=\"../node_modules/vis/dist/vis.js\"> </script>-->\n",
              "        <link\n",
              "          href=\"https://cdn.jsdelivr.net/npm/bootstrap@5.0.0-beta3/dist/css/bootstrap.min.css\"\n",
              "          rel=\"stylesheet\"\n",
              "          integrity=\"sha384-eOJMYsd53ii+scO/bJGFsiCZc+5NDVN2yr8+0RDqr0Ql0h+rP48ckxlpbzKgwra6\"\n",
              "          crossorigin=\"anonymous\"\n",
              "        />\n",
              "        <script\n",
              "          src=\"https://cdn.jsdelivr.net/npm/bootstrap@5.0.0-beta3/dist/js/bootstrap.bundle.min.js\"\n",
              "          integrity=\"sha384-JEW9xMcG8R+pH31jmWH6WWP0WintQrMb4s7ZOdauHnUtxwoG2vI5DkLtS3qm9Ekf\"\n",
              "          crossorigin=\"anonymous\"\n",
              "        ></script>\n",
              "\n",
              "\n",
              "        <center>\n",
              "          <h1></h1>\n",
              "        </center>\n",
              "        <style type=\"text/css\">\n",
              "\n",
              "             #mynetwork {\n",
              "                 width: 100%;\n",
              "                 height: 600px;\n",
              "                 background-color: #ffffff;\n",
              "                 border: 1px solid lightgray;\n",
              "                 position: relative;\n",
              "                 float: left;\n",
              "             }\n",
              "\n",
              "             \n",
              "\n",
              "             \n",
              "             #config {\n",
              "                 float: left;\n",
              "                 width: 400px;\n",
              "                 height: 600px;\n",
              "             }\n",
              "             \n",
              "\n",
              "             \n",
              "        </style>\n",
              "    </head>\n",
              "\n",
              "\n",
              "    <body>\n",
              "        <div class=\"card\" style=\"width: 100%\">\n",
              "            \n",
              "            \n",
              "            <div id=\"mynetwork\" class=\"card-body\"></div>\n",
              "        </div>\n",
              "\n",
              "        \n",
              "        \n",
              "            <div id=\"config\"></div>\n",
              "        \n",
              "\n",
              "        <script type=\"text/javascript\">\n",
              "\n",
              "              // initialize global variables.\n",
              "              var edges;\n",
              "              var nodes;\n",
              "              var allNodes;\n",
              "              var allEdges;\n",
              "              var nodeColors;\n",
              "              var originalNodes;\n",
              "              var network;\n",
              "              var container;\n",
              "              var options, data;\n",
              "              var filter = {\n",
              "                  item : '',\n",
              "                  property : '',\n",
              "                  value : []\n",
              "              };\n",
              "\n",
              "              \n",
              "\n",
              "              \n",
              "\n",
              "              // This method is responsible for drawing the graph, returns the drawn network\n",
              "              function drawGraph() {\n",
              "                  var container = document.getElementById('mynetwork');\n",
              "\n",
              "                  \n",
              "\n",
              "                  // parsing and collecting nodes and edges from the python\n",
              "                  nodes = new vis.DataSet([{\"color\": \"#97c2fc\", \"id\": \"Napoleon\", \"label\": \"Napoleon\", \"shape\": \"dot\", \"size\": 10}, {\"color\": \"#97c2fc\", \"id\": \"Myriel\", \"label\": \"Myriel\", \"shape\": \"dot\", \"size\": 10}, {\"color\": \"#97c2fc\", \"id\": \"Mlle.Baptistine\", \"label\": \"Mlle.Baptistine\", \"shape\": \"dot\", \"size\": 10}, {\"color\": \"#97c2fc\", \"id\": \"Mme.Magloire\", \"label\": \"Mme.Magloire\", \"shape\": \"dot\", \"size\": 10}, {\"color\": \"#97c2fc\", \"id\": \"CountessdeLo\", \"label\": \"CountessdeLo\", \"shape\": \"dot\", \"size\": 10}, {\"color\": \"#97c2fc\", \"id\": \"Geborand\", \"label\": \"Geborand\", \"shape\": \"dot\", \"size\": 10}, {\"color\": \"#97c2fc\", \"id\": \"Champtercier\", \"label\": \"Champtercier\", \"shape\": \"dot\", \"size\": 10}, {\"color\": \"#97c2fc\", \"id\": \"Cravatte\", \"label\": \"Cravatte\", \"shape\": \"dot\", \"size\": 10}, {\"color\": \"#97c2fc\", \"id\": \"Count\", \"label\": \"Count\", \"shape\": \"dot\", \"size\": 10}, {\"color\": \"#97c2fc\", \"id\": \"OldMan\", \"label\": \"OldMan\", \"shape\": \"dot\", \"size\": 10}, {\"color\": \"#97c2fc\", \"id\": \"Valjean\", \"label\": \"Valjean\", \"shape\": \"dot\", \"size\": 10}, {\"color\": \"#97c2fc\", \"id\": \"Labarre\", \"label\": \"Labarre\", \"shape\": \"dot\", \"size\": 10}, {\"color\": \"#97c2fc\", \"id\": \"Marguerite\", \"label\": \"Marguerite\", \"shape\": \"dot\", \"size\": 10}, {\"color\": \"#97c2fc\", \"id\": \"Mme.deR\", \"label\": \"Mme.deR\", \"shape\": \"dot\", \"size\": 10}, {\"color\": \"#97c2fc\", \"id\": \"Isabeau\", \"label\": \"Isabeau\", \"shape\": \"dot\", \"size\": 10}, {\"color\": \"#97c2fc\", \"id\": \"Gervais\", \"label\": \"Gervais\", \"shape\": \"dot\", \"size\": 10}, {\"color\": \"#97c2fc\", \"id\": \"Fantine\", \"label\": \"Fantine\", \"shape\": \"dot\", \"size\": 10}, {\"color\": \"#97c2fc\", \"id\": \"Mme.Thenardier\", \"label\": \"Mme.Thenardier\", \"shape\": \"dot\", \"size\": 10}, {\"color\": \"#97c2fc\", \"id\": \"Thenardier\", \"label\": \"Thenardier\", \"shape\": \"dot\", \"size\": 10}, {\"color\": \"#97c2fc\", \"id\": \"Cosette\", \"label\": \"Cosette\", \"shape\": \"dot\", \"size\": 10}, {\"color\": \"#97c2fc\", \"id\": \"Javert\", \"label\": \"Javert\", \"shape\": \"dot\", \"size\": 10}, {\"color\": \"#97c2fc\", \"id\": \"Fauchelevent\", \"label\": \"Fauchelevent\", \"shape\": \"dot\", \"size\": 10}, {\"color\": \"#97c2fc\", \"id\": \"Bamatabois\", \"label\": \"Bamatabois\", \"shape\": \"dot\", \"size\": 10}, {\"color\": \"#97c2fc\", \"id\": \"Simplice\", \"label\": \"Simplice\", \"shape\": \"dot\", \"size\": 10}, {\"color\": \"#97c2fc\", \"id\": \"Scaufflaire\", \"label\": \"Scaufflaire\", \"shape\": \"dot\", \"size\": 10}, {\"color\": \"#97c2fc\", \"id\": \"Woman1\", \"label\": \"Woman1\", \"shape\": \"dot\", \"size\": 10}, {\"color\": \"#97c2fc\", \"id\": \"Judge\", \"label\": \"Judge\", \"shape\": \"dot\", \"size\": 10}, {\"color\": \"#97c2fc\", \"id\": \"Champmathieu\", \"label\": \"Champmathieu\", \"shape\": \"dot\", \"size\": 10}, {\"color\": \"#97c2fc\", \"id\": \"Brevet\", \"label\": \"Brevet\", \"shape\": \"dot\", \"size\": 10}, {\"color\": \"#97c2fc\", \"id\": \"Chenildieu\", \"label\": \"Chenildieu\", \"shape\": \"dot\", \"size\": 10}, {\"color\": \"#97c2fc\", \"id\": \"Cochepaille\", \"label\": \"Cochepaille\", \"shape\": \"dot\", \"size\": 10}, {\"color\": \"#97c2fc\", \"id\": \"Woman2\", \"label\": \"Woman2\", \"shape\": \"dot\", \"size\": 10}, {\"color\": \"#97c2fc\", \"id\": \"MotherInnocent\", \"label\": \"MotherInnocent\", \"shape\": \"dot\", \"size\": 10}, {\"color\": \"#97c2fc\", \"id\": \"Gavroche\", \"label\": \"Gavroche\", \"shape\": \"dot\", \"size\": 10}, {\"color\": \"#97c2fc\", \"id\": \"Gillenormand\", \"label\": \"Gillenormand\", \"shape\": \"dot\", \"size\": 10}, {\"color\": \"#97c2fc\", \"id\": \"Mlle.Gillenormand\", \"label\": \"Mlle.Gillenormand\", \"shape\": \"dot\", \"size\": 10}, {\"color\": \"#97c2fc\", \"id\": \"Marius\", \"label\": \"Marius\", \"shape\": \"dot\", \"size\": 10}, {\"color\": \"#97c2fc\", \"id\": \"Enjolras\", \"label\": \"Enjolras\", \"shape\": \"dot\", \"size\": 10}, {\"color\": \"#97c2fc\", \"id\": \"Bossuet\", \"label\": \"Bossuet\", \"shape\": \"dot\", \"size\": 10}, {\"color\": \"#97c2fc\", \"id\": \"Gueulemer\", \"label\": \"Gueulemer\", \"shape\": \"dot\", \"size\": 10}, {\"color\": \"#97c2fc\", \"id\": \"Babet\", \"label\": \"Babet\", \"shape\": \"dot\", \"size\": 10}, {\"color\": \"#97c2fc\", \"id\": \"Claquesous\", \"label\": \"Claquesous\", \"shape\": \"dot\", \"size\": 10}, {\"color\": \"#97c2fc\", \"id\": \"Montparnasse\", \"label\": \"Montparnasse\", \"shape\": \"dot\", \"size\": 10}, {\"color\": \"#97c2fc\", \"id\": \"Toussaint\", \"label\": \"Toussaint\", \"shape\": \"dot\", \"size\": 10}, {\"color\": \"#97c2fc\", \"id\": \"Listolier\", \"label\": \"Listolier\", \"shape\": \"dot\", \"size\": 10}, {\"color\": \"#97c2fc\", \"id\": \"Tholomyes\", \"label\": \"Tholomyes\", \"shape\": \"dot\", \"size\": 10}, {\"color\": \"#97c2fc\", \"id\": \"Fameuil\", \"label\": \"Fameuil\", \"shape\": \"dot\", \"size\": 10}, {\"color\": \"#97c2fc\", \"id\": \"Blacheville\", \"label\": \"Blacheville\", \"shape\": \"dot\", \"size\": 10}, {\"color\": \"#97c2fc\", \"id\": \"Favourite\", \"label\": \"Favourite\", \"shape\": \"dot\", \"size\": 10}, {\"color\": \"#97c2fc\", \"id\": \"Dahlia\", \"label\": \"Dahlia\", \"shape\": \"dot\", \"size\": 10}, {\"color\": \"#97c2fc\", \"id\": \"Zephine\", \"label\": \"Zephine\", \"shape\": \"dot\", \"size\": 10}, {\"color\": \"#97c2fc\", \"id\": \"Perpetue\", \"label\": \"Perpetue\", \"shape\": \"dot\", \"size\": 10}, {\"color\": \"#97c2fc\", \"id\": \"Eponine\", \"label\": \"Eponine\", \"shape\": \"dot\", \"size\": 10}, {\"color\": \"#97c2fc\", \"id\": \"Anzelma\", \"label\": \"Anzelma\", \"shape\": \"dot\", \"size\": 10}, {\"color\": \"#97c2fc\", \"id\": \"Magnon\", \"label\": \"Magnon\", \"shape\": \"dot\", \"size\": 10}, {\"color\": \"#97c2fc\", \"id\": \"Pontmercy\", \"label\": \"Pontmercy\", \"shape\": \"dot\", \"size\": 10}, {\"color\": \"#97c2fc\", \"id\": \"Boulatruelle\", \"label\": \"Boulatruelle\", \"shape\": \"dot\", \"size\": 10}, {\"color\": \"#97c2fc\", \"id\": \"Brujon\", \"label\": \"Brujon\", \"shape\": \"dot\", \"size\": 10}, {\"color\": \"#97c2fc\", \"id\": \"Lt.Gillenormand\", \"label\": \"Lt.Gillenormand\", \"shape\": \"dot\", \"size\": 10}, {\"color\": \"#97c2fc\", \"id\": \"Gribier\", \"label\": \"Gribier\", \"shape\": \"dot\", \"size\": 10}, {\"color\": \"#97c2fc\", \"id\": \"Mme.Pontmercy\", \"label\": \"Mme.Pontmercy\", \"shape\": \"dot\", \"size\": 10}, {\"color\": \"#97c2fc\", \"id\": \"Mabeuf\", \"label\": \"Mabeuf\", \"shape\": \"dot\", \"size\": 10}, {\"color\": \"#97c2fc\", \"id\": \"Courfeyrac\", \"label\": \"Courfeyrac\", \"shape\": \"dot\", \"size\": 10}, {\"color\": \"#97c2fc\", \"id\": \"Mme.Burgon\", \"label\": \"Mme.Burgon\", \"shape\": \"dot\", \"size\": 10}, {\"color\": \"#97c2fc\", \"id\": \"Jondrette\", \"label\": \"Jondrette\", \"shape\": \"dot\", \"size\": 10}, {\"color\": \"#97c2fc\", \"id\": \"Combeferre\", \"label\": \"Combeferre\", \"shape\": \"dot\", \"size\": 10}, {\"color\": \"#97c2fc\", \"id\": \"Prouvaire\", \"label\": \"Prouvaire\", \"shape\": \"dot\", \"size\": 10}, {\"color\": \"#97c2fc\", \"id\": \"Feuilly\", \"label\": \"Feuilly\", \"shape\": \"dot\", \"size\": 10}, {\"color\": \"#97c2fc\", \"id\": \"Bahorel\", \"label\": \"Bahorel\", \"shape\": \"dot\", \"size\": 10}, {\"color\": \"#97c2fc\", \"id\": \"Joly\", \"label\": \"Joly\", \"shape\": \"dot\", \"size\": 10}, {\"color\": \"#97c2fc\", \"id\": \"Grantaire\", \"label\": \"Grantaire\", \"shape\": \"dot\", \"size\": 10}, {\"color\": \"#97c2fc\", \"id\": \"Child1\", \"label\": \"Child1\", \"shape\": \"dot\", \"size\": 10}, {\"color\": \"#97c2fc\", \"id\": \"Child2\", \"label\": \"Child2\", \"shape\": \"dot\", \"size\": 10}, {\"color\": \"#97c2fc\", \"id\": \"Mme.Hucheloup\", \"label\": \"Mme.Hucheloup\", \"shape\": \"dot\", \"size\": 10}, {\"color\": \"#97c2fc\", \"id\": \"BaronessT\", \"label\": \"BaronessT\", \"shape\": \"dot\", \"size\": 10}, {\"color\": \"#97c2fc\", \"id\": \"Mlle.Vaubois\", \"label\": \"Mlle.Vaubois\", \"shape\": \"dot\", \"size\": 10}, {\"color\": \"#97c2fc\", \"id\": \"MotherPlutarch\", \"label\": \"MotherPlutarch\", \"shape\": \"dot\", \"size\": 10}]);\n",
              "                  edges = new vis.DataSet([{\"from\": \"Napoleon\", \"to\": \"Myriel\", \"width\": 1}, {\"from\": \"Myriel\", \"to\": \"Mlle.Baptistine\", \"width\": 1}, {\"from\": \"Myriel\", \"to\": \"Mme.Magloire\", \"width\": 1}, {\"from\": \"Myriel\", \"to\": \"CountessdeLo\", \"width\": 1}, {\"from\": \"Myriel\", \"to\": \"Geborand\", \"width\": 1}, {\"from\": \"Myriel\", \"to\": \"Champtercier\", \"width\": 1}, {\"from\": \"Myriel\", \"to\": \"Cravatte\", \"width\": 1}, {\"from\": \"Myriel\", \"to\": \"Count\", \"width\": 1}, {\"from\": \"Myriel\", \"to\": \"OldMan\", \"width\": 1}, {\"from\": \"Myriel\", \"to\": \"Valjean\", \"width\": 1}, {\"from\": \"Mlle.Baptistine\", \"to\": \"Mme.Magloire\", \"width\": 1}, {\"from\": \"Mlle.Baptistine\", \"to\": \"Valjean\", \"width\": 1}, {\"from\": \"Mme.Magloire\", \"to\": \"Valjean\", \"width\": 1}, {\"from\": \"Valjean\", \"to\": \"Labarre\", \"width\": 1}, {\"from\": \"Valjean\", \"to\": \"Marguerite\", \"width\": 1}, {\"from\": \"Valjean\", \"to\": \"Mme.deR\", \"width\": 1}, {\"from\": \"Valjean\", \"to\": \"Isabeau\", \"width\": 1}, {\"from\": \"Valjean\", \"to\": \"Gervais\", \"width\": 1}, {\"from\": \"Valjean\", \"to\": \"Fantine\", \"width\": 1}, {\"from\": \"Valjean\", \"to\": \"Mme.Thenardier\", \"width\": 1}, {\"from\": \"Valjean\", \"to\": \"Thenardier\", \"width\": 1}, {\"from\": \"Valjean\", \"to\": \"Cosette\", \"width\": 1}, {\"from\": \"Valjean\", \"to\": \"Javert\", \"width\": 1}, {\"from\": \"Valjean\", \"to\": \"Fauchelevent\", \"width\": 1}, {\"from\": \"Valjean\", \"to\": \"Bamatabois\", \"width\": 1}, {\"from\": \"Valjean\", \"to\": \"Simplice\", \"width\": 1}, {\"from\": \"Valjean\", \"to\": \"Scaufflaire\", \"width\": 1}, {\"from\": \"Valjean\", \"to\": \"Woman1\", \"width\": 1}, {\"from\": \"Valjean\", \"to\": \"Judge\", \"width\": 1}, {\"from\": \"Valjean\", \"to\": \"Champmathieu\", \"width\": 1}, {\"from\": \"Valjean\", \"to\": \"Brevet\", \"width\": 1}, {\"from\": \"Valjean\", \"to\": \"Chenildieu\", \"width\": 1}, {\"from\": \"Valjean\", \"to\": \"Cochepaille\", \"width\": 1}, {\"from\": \"Valjean\", \"to\": \"Woman2\", \"width\": 1}, {\"from\": \"Valjean\", \"to\": \"MotherInnocent\", \"width\": 1}, {\"from\": \"Valjean\", \"to\": \"Gavroche\", \"width\": 1}, {\"from\": \"Valjean\", \"to\": \"Gillenormand\", \"width\": 1}, {\"from\": \"Valjean\", \"to\": \"Mlle.Gillenormand\", \"width\": 1}, {\"from\": \"Valjean\", \"to\": \"Marius\", \"width\": 1}, {\"from\": \"Valjean\", \"to\": \"Enjolras\", \"width\": 1}, {\"from\": \"Valjean\", \"to\": \"Bossuet\", \"width\": 1}, {\"from\": \"Valjean\", \"to\": \"Gueulemer\", \"width\": 1}, {\"from\": \"Valjean\", \"to\": \"Babet\", \"width\": 1}, {\"from\": \"Valjean\", \"to\": \"Claquesous\", \"width\": 1}, {\"from\": \"Valjean\", \"to\": \"Montparnasse\", \"width\": 1}, {\"from\": \"Valjean\", \"to\": \"Toussaint\", \"width\": 1}, {\"from\": \"Marguerite\", \"to\": \"Fantine\", \"width\": 1}, {\"from\": \"Listolier\", \"to\": \"Tholomyes\", \"width\": 1}, {\"from\": \"Listolier\", \"to\": \"Fameuil\", \"width\": 1}, {\"from\": \"Listolier\", \"to\": \"Blacheville\", \"width\": 1}, {\"from\": \"Listolier\", \"to\": \"Favourite\", \"width\": 1}, {\"from\": \"Listolier\", \"to\": \"Dahlia\", \"width\": 1}, {\"from\": \"Listolier\", \"to\": \"Zephine\", \"width\": 1}, {\"from\": \"Listolier\", \"to\": \"Fantine\", \"width\": 1}, {\"from\": \"Tholomyes\", \"to\": \"Fameuil\", \"width\": 1}, {\"from\": \"Tholomyes\", \"to\": \"Blacheville\", \"width\": 1}, {\"from\": \"Tholomyes\", \"to\": \"Favourite\", \"width\": 1}, {\"from\": \"Tholomyes\", \"to\": \"Dahlia\", \"width\": 1}, {\"from\": \"Tholomyes\", \"to\": \"Zephine\", \"width\": 1}, {\"from\": \"Tholomyes\", \"to\": \"Fantine\", \"width\": 1}, {\"from\": \"Tholomyes\", \"to\": \"Cosette\", \"width\": 1}, {\"from\": \"Tholomyes\", \"to\": \"Marius\", \"width\": 1}, {\"from\": \"Fameuil\", \"to\": \"Blacheville\", \"width\": 1}, {\"from\": \"Fameuil\", \"to\": \"Favourite\", \"width\": 1}, {\"from\": \"Fameuil\", \"to\": \"Dahlia\", \"width\": 1}, {\"from\": \"Fameuil\", \"to\": \"Zephine\", \"width\": 1}, {\"from\": \"Fameuil\", \"to\": \"Fantine\", \"width\": 1}, {\"from\": \"Blacheville\", \"to\": \"Favourite\", \"width\": 1}, {\"from\": \"Blacheville\", \"to\": \"Dahlia\", \"width\": 1}, {\"from\": \"Blacheville\", \"to\": \"Zephine\", \"width\": 1}, {\"from\": \"Blacheville\", \"to\": \"Fantine\", \"width\": 1}, {\"from\": \"Favourite\", \"to\": \"Dahlia\", \"width\": 1}, {\"from\": \"Favourite\", \"to\": \"Zephine\", \"width\": 1}, {\"from\": \"Favourite\", \"to\": \"Fantine\", \"width\": 1}, {\"from\": \"Dahlia\", \"to\": \"Zephine\", \"width\": 1}, {\"from\": \"Dahlia\", \"to\": \"Fantine\", \"width\": 1}, {\"from\": \"Zephine\", \"to\": \"Fantine\", \"width\": 1}, {\"from\": \"Fantine\", \"to\": \"Mme.Thenardier\", \"width\": 1}, {\"from\": \"Fantine\", \"to\": \"Thenardier\", \"width\": 1}, {\"from\": \"Fantine\", \"to\": \"Javert\", \"width\": 1}, {\"from\": \"Fantine\", \"to\": \"Bamatabois\", \"width\": 1}, {\"from\": \"Fantine\", \"to\": \"Perpetue\", \"width\": 1}, {\"from\": \"Fantine\", \"to\": \"Simplice\", \"width\": 1}, {\"from\": \"Mme.Thenardier\", \"to\": \"Thenardier\", \"width\": 1}, {\"from\": \"Mme.Thenardier\", \"to\": \"Cosette\", \"width\": 1}, {\"from\": \"Mme.Thenardier\", \"to\": \"Javert\", \"width\": 1}, {\"from\": \"Mme.Thenardier\", \"to\": \"Eponine\", \"width\": 1}, {\"from\": \"Mme.Thenardier\", \"to\": \"Anzelma\", \"width\": 1}, {\"from\": \"Mme.Thenardier\", \"to\": \"Magnon\", \"width\": 1}, {\"from\": \"Mme.Thenardier\", \"to\": \"Gueulemer\", \"width\": 1}, {\"from\": \"Mme.Thenardier\", \"to\": \"Babet\", \"width\": 1}, {\"from\": \"Mme.Thenardier\", \"to\": \"Claquesous\", \"width\": 1}, {\"from\": \"Thenardier\", \"to\": \"Cosette\", \"width\": 1}, {\"from\": \"Thenardier\", \"to\": \"Javert\", \"width\": 1}, {\"from\": \"Thenardier\", \"to\": \"Pontmercy\", \"width\": 1}, {\"from\": \"Thenardier\", \"to\": \"Boulatruelle\", \"width\": 1}, {\"from\": \"Thenardier\", \"to\": \"Eponine\", \"width\": 1}, {\"from\": \"Thenardier\", \"to\": \"Anzelma\", \"width\": 1}, {\"from\": \"Thenardier\", \"to\": \"Gavroche\", \"width\": 1}, {\"from\": \"Thenardier\", \"to\": \"Marius\", \"width\": 1}, {\"from\": \"Thenardier\", \"to\": \"Gueulemer\", \"width\": 1}, {\"from\": \"Thenardier\", \"to\": \"Babet\", \"width\": 1}, {\"from\": \"Thenardier\", \"to\": \"Claquesous\", \"width\": 1}, {\"from\": \"Thenardier\", \"to\": \"Montparnasse\", \"width\": 1}, {\"from\": \"Thenardier\", \"to\": \"Brujon\", \"width\": 1}, {\"from\": \"Cosette\", \"to\": \"Javert\", \"width\": 1}, {\"from\": \"Cosette\", \"to\": \"Woman2\", \"width\": 1}, {\"from\": \"Cosette\", \"to\": \"Gillenormand\", \"width\": 1}, {\"from\": \"Cosette\", \"to\": \"Mlle.Gillenormand\", \"width\": 1}, {\"from\": \"Cosette\", \"to\": \"Lt.Gillenormand\", \"width\": 1}, {\"from\": \"Cosette\", \"to\": \"Marius\", \"width\": 1}, {\"from\": \"Cosette\", \"to\": \"Toussaint\", \"width\": 1}, {\"from\": \"Javert\", \"to\": \"Fauchelevent\", \"width\": 1}, {\"from\": \"Javert\", \"to\": \"Bamatabois\", \"width\": 1}, {\"from\": \"Javert\", \"to\": \"Simplice\", \"width\": 1}, {\"from\": \"Javert\", \"to\": \"Woman1\", \"width\": 1}, {\"from\": \"Javert\", \"to\": \"Woman2\", \"width\": 1}, {\"from\": \"Javert\", \"to\": \"Gavroche\", \"width\": 1}, {\"from\": \"Javert\", \"to\": \"Enjolras\", \"width\": 1}, {\"from\": \"Javert\", \"to\": \"Gueulemer\", \"width\": 1}, {\"from\": \"Javert\", \"to\": \"Babet\", \"width\": 1}, {\"from\": \"Javert\", \"to\": \"Claquesous\", \"width\": 1}, {\"from\": \"Javert\", \"to\": \"Montparnasse\", \"width\": 1}, {\"from\": \"Javert\", \"to\": \"Toussaint\", \"width\": 1}, {\"from\": \"Fauchelevent\", \"to\": \"MotherInnocent\", \"width\": 1}, {\"from\": \"Fauchelevent\", \"to\": \"Gribier\", \"width\": 1}, {\"from\": \"Bamatabois\", \"to\": \"Judge\", \"width\": 1}, {\"from\": \"Bamatabois\", \"to\": \"Champmathieu\", \"width\": 1}, {\"from\": \"Bamatabois\", \"to\": \"Brevet\", \"width\": 1}, {\"from\": \"Bamatabois\", \"to\": \"Chenildieu\", \"width\": 1}, {\"from\": \"Bamatabois\", \"to\": \"Cochepaille\", \"width\": 1}, {\"from\": \"Perpetue\", \"to\": \"Simplice\", \"width\": 1}, {\"from\": \"Judge\", \"to\": \"Champmathieu\", \"width\": 1}, {\"from\": \"Judge\", \"to\": \"Brevet\", \"width\": 1}, {\"from\": \"Judge\", \"to\": \"Chenildieu\", \"width\": 1}, {\"from\": \"Judge\", \"to\": \"Cochepaille\", \"width\": 1}, {\"from\": \"Champmathieu\", \"to\": \"Brevet\", \"width\": 1}, {\"from\": \"Champmathieu\", \"to\": \"Chenildieu\", \"width\": 1}, {\"from\": \"Champmathieu\", \"to\": \"Cochepaille\", \"width\": 1}, {\"from\": \"Brevet\", \"to\": \"Chenildieu\", \"width\": 1}, {\"from\": \"Brevet\", \"to\": \"Cochepaille\", \"width\": 1}, {\"from\": \"Chenildieu\", \"to\": \"Cochepaille\", \"width\": 1}, {\"from\": \"Pontmercy\", \"to\": \"Mme.Pontmercy\", \"width\": 1}, {\"from\": \"Pontmercy\", \"to\": \"Marius\", \"width\": 1}, {\"from\": \"Eponine\", \"to\": \"Anzelma\", \"width\": 1}, {\"from\": \"Eponine\", \"to\": \"Marius\", \"width\": 1}, {\"from\": \"Eponine\", \"to\": \"Mabeuf\", \"width\": 1}, {\"from\": \"Eponine\", \"to\": \"Courfeyrac\", \"width\": 1}, {\"from\": \"Eponine\", \"to\": \"Gueulemer\", \"width\": 1}, {\"from\": \"Eponine\", \"to\": \"Babet\", \"width\": 1}, {\"from\": \"Eponine\", \"to\": \"Claquesous\", \"width\": 1}, {\"from\": \"Eponine\", \"to\": \"Montparnasse\", \"width\": 1}, {\"from\": \"Eponine\", \"to\": \"Brujon\", \"width\": 1}, {\"from\": \"Mme.Burgon\", \"to\": \"Jondrette\", \"width\": 1}, {\"from\": \"Mme.Burgon\", \"to\": \"Gavroche\", \"width\": 1}, {\"from\": \"Gavroche\", \"to\": \"Marius\", \"width\": 1}, {\"from\": \"Gavroche\", \"to\": \"Mabeuf\", \"width\": 1}, {\"from\": \"Gavroche\", \"to\": \"Enjolras\", \"width\": 1}, {\"from\": \"Gavroche\", \"to\": \"Combeferre\", \"width\": 1}, {\"from\": \"Gavroche\", \"to\": \"Prouvaire\", \"width\": 1}, {\"from\": \"Gavroche\", \"to\": \"Feuilly\", \"width\": 1}, {\"from\": \"Gavroche\", \"to\": \"Courfeyrac\", \"width\": 1}, {\"from\": \"Gavroche\", \"to\": \"Bahorel\", \"width\": 1}, {\"from\": \"Gavroche\", \"to\": \"Bossuet\", \"width\": 1}, {\"from\": \"Gavroche\", \"to\": \"Joly\", \"width\": 1}, {\"from\": \"Gavroche\", \"to\": \"Grantaire\", \"width\": 1}, {\"from\": \"Gavroche\", \"to\": \"Gueulemer\", \"width\": 1}, {\"from\": \"Gavroche\", \"to\": \"Babet\", \"width\": 1}, {\"from\": \"Gavroche\", \"to\": \"Montparnasse\", \"width\": 1}, {\"from\": \"Gavroche\", \"to\": \"Child1\", \"width\": 1}, {\"from\": \"Gavroche\", \"to\": \"Child2\", \"width\": 1}, {\"from\": \"Gavroche\", \"to\": \"Brujon\", \"width\": 1}, {\"from\": \"Gavroche\", \"to\": \"Mme.Hucheloup\", \"width\": 1}, {\"from\": \"Gillenormand\", \"to\": \"Magnon\", \"width\": 1}, {\"from\": \"Gillenormand\", \"to\": \"Mlle.Gillenormand\", \"width\": 1}, {\"from\": \"Gillenormand\", \"to\": \"Lt.Gillenormand\", \"width\": 1}, {\"from\": \"Gillenormand\", \"to\": \"Marius\", \"width\": 1}, {\"from\": \"Gillenormand\", \"to\": \"BaronessT\", \"width\": 1}, {\"from\": \"Mlle.Gillenormand\", \"to\": \"Mme.Pontmercy\", \"width\": 1}, {\"from\": \"Mlle.Gillenormand\", \"to\": \"Mlle.Vaubois\", \"width\": 1}, {\"from\": \"Mlle.Gillenormand\", \"to\": \"Lt.Gillenormand\", \"width\": 1}, {\"from\": \"Mlle.Gillenormand\", \"to\": \"Marius\", \"width\": 1}, {\"from\": \"Lt.Gillenormand\", \"to\": \"Marius\", \"width\": 1}, {\"from\": \"Marius\", \"to\": \"BaronessT\", \"width\": 1}, {\"from\": \"Marius\", \"to\": \"Mabeuf\", \"width\": 1}, {\"from\": \"Marius\", \"to\": \"Enjolras\", \"width\": 1}, {\"from\": \"Marius\", \"to\": \"Combeferre\", \"width\": 1}, {\"from\": \"Marius\", \"to\": \"Feuilly\", \"width\": 1}, {\"from\": \"Marius\", \"to\": \"Courfeyrac\", \"width\": 1}, {\"from\": \"Marius\", \"to\": \"Bahorel\", \"width\": 1}, {\"from\": \"Marius\", \"to\": \"Bossuet\", \"width\": 1}, {\"from\": \"Marius\", \"to\": \"Joly\", \"width\": 1}, {\"from\": \"Mabeuf\", \"to\": \"Enjolras\", \"width\": 1}, {\"from\": \"Mabeuf\", \"to\": \"Combeferre\", \"width\": 1}, {\"from\": \"Mabeuf\", \"to\": \"Feuilly\", \"width\": 1}, {\"from\": \"Mabeuf\", \"to\": \"Courfeyrac\", \"width\": 1}, {\"from\": \"Mabeuf\", \"to\": \"Bahorel\", \"width\": 1}, {\"from\": \"Mabeuf\", \"to\": \"Bossuet\", \"width\": 1}, {\"from\": \"Mabeuf\", \"to\": \"Joly\", \"width\": 1}, {\"from\": \"Mabeuf\", \"to\": \"MotherPlutarch\", \"width\": 1}, {\"from\": \"Enjolras\", \"to\": \"Combeferre\", \"width\": 1}, {\"from\": \"Enjolras\", \"to\": \"Prouvaire\", \"width\": 1}, {\"from\": \"Enjolras\", \"to\": \"Feuilly\", \"width\": 1}, {\"from\": \"Enjolras\", \"to\": \"Courfeyrac\", \"width\": 1}, {\"from\": \"Enjolras\", \"to\": \"Bahorel\", \"width\": 1}, {\"from\": \"Enjolras\", \"to\": \"Bossuet\", \"width\": 1}, {\"from\": \"Enjolras\", \"to\": \"Joly\", \"width\": 1}, {\"from\": \"Enjolras\", \"to\": \"Grantaire\", \"width\": 1}, {\"from\": \"Enjolras\", \"to\": \"Claquesous\", \"width\": 1}, {\"from\": \"Enjolras\", \"to\": \"Mme.Hucheloup\", \"width\": 1}, {\"from\": \"Combeferre\", \"to\": \"Prouvaire\", \"width\": 1}, {\"from\": \"Combeferre\", \"to\": \"Feuilly\", \"width\": 1}, {\"from\": \"Combeferre\", \"to\": \"Courfeyrac\", \"width\": 1}, {\"from\": \"Combeferre\", \"to\": \"Bahorel\", \"width\": 1}, {\"from\": \"Combeferre\", \"to\": \"Bossuet\", \"width\": 1}, {\"from\": \"Combeferre\", \"to\": \"Joly\", \"width\": 1}, {\"from\": \"Combeferre\", \"to\": \"Grantaire\", \"width\": 1}, {\"from\": \"Prouvaire\", \"to\": \"Feuilly\", \"width\": 1}, {\"from\": \"Prouvaire\", \"to\": \"Courfeyrac\", \"width\": 1}, {\"from\": \"Prouvaire\", \"to\": \"Bahorel\", \"width\": 1}, {\"from\": \"Prouvaire\", \"to\": \"Bossuet\", \"width\": 1}, {\"from\": \"Prouvaire\", \"to\": \"Joly\", \"width\": 1}, {\"from\": \"Prouvaire\", \"to\": \"Grantaire\", \"width\": 1}, {\"from\": \"Feuilly\", \"to\": \"Courfeyrac\", \"width\": 1}, {\"from\": \"Feuilly\", \"to\": \"Bahorel\", \"width\": 1}, {\"from\": \"Feuilly\", \"to\": \"Bossuet\", \"width\": 1}, {\"from\": \"Feuilly\", \"to\": \"Joly\", \"width\": 1}, {\"from\": \"Feuilly\", \"to\": \"Grantaire\", \"width\": 1}, {\"from\": \"Courfeyrac\", \"to\": \"Bahorel\", \"width\": 1}, {\"from\": \"Courfeyrac\", \"to\": \"Bossuet\", \"width\": 1}, {\"from\": \"Courfeyrac\", \"to\": \"Joly\", \"width\": 1}, {\"from\": \"Courfeyrac\", \"to\": \"Grantaire\", \"width\": 1}, {\"from\": \"Courfeyrac\", \"to\": \"Mme.Hucheloup\", \"width\": 1}, {\"from\": \"Bahorel\", \"to\": \"Bossuet\", \"width\": 1}, {\"from\": \"Bahorel\", \"to\": \"Joly\", \"width\": 1}, {\"from\": \"Bahorel\", \"to\": \"Grantaire\", \"width\": 1}, {\"from\": \"Bahorel\", \"to\": \"Mme.Hucheloup\", \"width\": 1}, {\"from\": \"Bossuet\", \"to\": \"Joly\", \"width\": 1}, {\"from\": \"Bossuet\", \"to\": \"Grantaire\", \"width\": 1}, {\"from\": \"Bossuet\", \"to\": \"Mme.Hucheloup\", \"width\": 1}, {\"from\": \"Joly\", \"to\": \"Grantaire\", \"width\": 1}, {\"from\": \"Joly\", \"to\": \"Mme.Hucheloup\", \"width\": 1}, {\"from\": \"Grantaire\", \"to\": \"Mme.Hucheloup\", \"width\": 1}, {\"from\": \"Gueulemer\", \"to\": \"Babet\", \"width\": 1}, {\"from\": \"Gueulemer\", \"to\": \"Claquesous\", \"width\": 1}, {\"from\": \"Gueulemer\", \"to\": \"Montparnasse\", \"width\": 1}, {\"from\": \"Gueulemer\", \"to\": \"Brujon\", \"width\": 1}, {\"from\": \"Babet\", \"to\": \"Claquesous\", \"width\": 1}, {\"from\": \"Babet\", \"to\": \"Montparnasse\", \"width\": 1}, {\"from\": \"Babet\", \"to\": \"Brujon\", \"width\": 1}, {\"from\": \"Claquesous\", \"to\": \"Montparnasse\", \"width\": 1}, {\"from\": \"Claquesous\", \"to\": \"Brujon\", \"width\": 1}, {\"from\": \"Montparnasse\", \"to\": \"Brujon\", \"width\": 1}, {\"from\": \"Child1\", \"to\": \"Child2\", \"width\": 1}]);\n",
              "\n",
              "                  nodeColors = {};\n",
              "                  allNodes = nodes.get({ returnType: \"Object\" });\n",
              "                  for (nodeId in allNodes) {\n",
              "                    nodeColors[nodeId] = allNodes[nodeId].color;\n",
              "                  }\n",
              "                  allEdges = edges.get({ returnType: \"Object\" });\n",
              "                  // adding nodes and edges to the graph\n",
              "                  data = {nodes: nodes, edges: edges};\n",
              "\n",
              "                  var options = {\n",
              "    \"configure\": {\n",
              "        \"enabled\": true,\n",
              "        \"filter\": [\n",
              "            \"nodes\",\n",
              "            \"edges\"\n",
              "        ]\n",
              "    },\n",
              "    \"edges\": {\n",
              "        \"color\": {\n",
              "            \"inherit\": true\n",
              "        },\n",
              "        \"smooth\": {\n",
              "            \"enabled\": true,\n",
              "            \"type\": \"dynamic\"\n",
              "        }\n",
              "    },\n",
              "    \"interaction\": {\n",
              "        \"dragNodes\": true,\n",
              "        \"hideEdgesOnDrag\": false,\n",
              "        \"hideNodesOnDrag\": false\n",
              "    },\n",
              "    \"physics\": {\n",
              "        \"enabled\": true,\n",
              "        \"stabilization\": {\n",
              "            \"enabled\": true,\n",
              "            \"fit\": true,\n",
              "            \"iterations\": 1000,\n",
              "            \"onlyDynamicEdges\": false,\n",
              "            \"updateInterval\": 50\n",
              "        }\n",
              "    }\n",
              "};\n",
              "\n",
              "                  \n",
              "\n",
              "\n",
              "                  \n",
              "                  // if this network requires displaying the configure window,\n",
              "                  // put it in its div\n",
              "                  options.configure[\"container\"] = document.getElementById(\"config\");\n",
              "                  \n",
              "\n",
              "                  network = new vis.Network(container, data, options);\n",
              "\n",
              "                  \n",
              "\n",
              "                  \n",
              "\n",
              "                  \n",
              "\n",
              "\n",
              "                  \n",
              "\n",
              "                  return network;\n",
              "\n",
              "              }\n",
              "              drawGraph();\n",
              "        </script>\n",
              "    </body>\n",
              "</html>"
            ]
          },
          "metadata": {}
        }
      ]
    },
    {
      "cell_type": "markdown",
      "source": [
        "# Visualize with netwulf (local only, not on Google CoLab)\n",
        "Documentation: https://netwulf.readthedocs.io/en/latest/"
      ],
      "metadata": {
        "id": "mWdZ_bMQ06_8"
      }
    },
    {
      "cell_type": "code",
      "source": [
        "!pip install netwulf"
      ],
      "metadata": {
        "id": "2MmZwqG51fsh",
        "colab": {
          "base_uri": "https://localhost:8080/"
        },
        "outputId": "79ae19d1-509e-418e-fe35-a41f280f3a71"
      },
      "execution_count": null,
      "outputs": [
        {
          "output_type": "stream",
          "name": "stdout",
          "text": [
            "Collecting netwulf\n",
            "  Downloading netwulf-0.1.5.tar.gz (236 kB)\n",
            "\u001b[?25l     \u001b[90m━━━━━━━━━━━━━━━━━━━━━━━━━━━━━━━━━━━━━━━━\u001b[0m \u001b[32m0.0/236.0 kB\u001b[0m \u001b[31m?\u001b[0m eta \u001b[36m-:--:--\u001b[0m\r\u001b[2K     \u001b[91m━━━━━━━━━━━━━━━━━━━━━━━━━━━━━━━━\u001b[0m\u001b[91m╸\u001b[0m\u001b[90m━━━━━━━\u001b[0m \u001b[32m194.6/236.0 kB\u001b[0m \u001b[31m5.6 MB/s\u001b[0m eta \u001b[36m0:00:01\u001b[0m\r\u001b[2K     \u001b[90m━━━━━━━━━━━━━━━━━━━━━━━━━━━━━━━━━━━━━━━━\u001b[0m \u001b[32m236.0/236.0 kB\u001b[0m \u001b[31m4.1 MB/s\u001b[0m eta \u001b[36m0:00:00\u001b[0m\n",
            "\u001b[?25h  Preparing metadata (setup.py) ... \u001b[?25l\u001b[?25hdone\n",
            "Requirement already satisfied: networkx>=2.0 in /usr/local/lib/python3.10/dist-packages (from netwulf) (3.3)\n",
            "Requirement already satisfied: numpy>=0.14 in /usr/local/lib/python3.10/dist-packages (from netwulf) (1.26.4)\n",
            "Requirement already satisfied: matplotlib>=3.0 in /usr/local/lib/python3.10/dist-packages (from netwulf) (3.7.1)\n",
            "Collecting simplejson>=3.0 (from netwulf)\n",
            "  Downloading simplejson-3.19.3-cp310-cp310-manylinux_2_5_x86_64.manylinux1_x86_64.manylinux_2_17_x86_64.manylinux2014_x86_64.whl.metadata (3.2 kB)\n",
            "Requirement already satisfied: contourpy>=1.0.1 in /usr/local/lib/python3.10/dist-packages (from matplotlib>=3.0->netwulf) (1.3.0)\n",
            "Requirement already satisfied: cycler>=0.10 in /usr/local/lib/python3.10/dist-packages (from matplotlib>=3.0->netwulf) (0.12.1)\n",
            "Requirement already satisfied: fonttools>=4.22.0 in /usr/local/lib/python3.10/dist-packages (from matplotlib>=3.0->netwulf) (4.53.1)\n",
            "Requirement already satisfied: kiwisolver>=1.0.1 in /usr/local/lib/python3.10/dist-packages (from matplotlib>=3.0->netwulf) (1.4.5)\n",
            "Requirement already satisfied: packaging>=20.0 in /usr/local/lib/python3.10/dist-packages (from matplotlib>=3.0->netwulf) (24.1)\n",
            "Requirement already satisfied: pillow>=6.2.0 in /usr/local/lib/python3.10/dist-packages (from matplotlib>=3.0->netwulf) (9.4.0)\n",
            "Requirement already satisfied: pyparsing>=2.3.1 in /usr/local/lib/python3.10/dist-packages (from matplotlib>=3.0->netwulf) (3.1.4)\n",
            "Requirement already satisfied: python-dateutil>=2.7 in /usr/local/lib/python3.10/dist-packages (from matplotlib>=3.0->netwulf) (2.8.2)\n",
            "Requirement already satisfied: six>=1.5 in /usr/local/lib/python3.10/dist-packages (from python-dateutil>=2.7->matplotlib>=3.0->netwulf) (1.16.0)\n",
            "Downloading simplejson-3.19.3-cp310-cp310-manylinux_2_5_x86_64.manylinux1_x86_64.manylinux_2_17_x86_64.manylinux2014_x86_64.whl (137 kB)\n",
            "\u001b[2K   \u001b[90m━━━━━━━━━━━━━━━━━━━━━━━━━━━━━━━━━━━━━━━━\u001b[0m \u001b[32m137.9/137.9 kB\u001b[0m \u001b[31m5.6 MB/s\u001b[0m eta \u001b[36m0:00:00\u001b[0m\n",
            "\u001b[?25hBuilding wheels for collected packages: netwulf\n",
            "  Building wheel for netwulf (setup.py) ... \u001b[?25l\u001b[?25hdone\n",
            "  Created wheel for netwulf: filename=netwulf-0.1.5-py3-none-any.whl size=237984 sha256=66791d03e08a32c1cb5e2b4ba49d83210ef15ee77bbd1f08a044dcd850d76f2a\n",
            "  Stored in directory: /root/.cache/pip/wheels/04/f3/75/3ee8148fe5296ab40fc164cc09572b0e31255242ccee47b354\n",
            "Successfully built netwulf\n",
            "\u001b[31mERROR: Operation cancelled by user\u001b[0m\u001b[31m\n",
            "\u001b[0m"
          ]
        }
      ]
    },
    {
      "cell_type": "code",
      "source": [
        "from netwulf import visualize\n",
        "import netwulf as nw\n",
        "\n",
        "stylized_network, config = visualize(LM_G,)"
      ],
      "metadata": {
        "id": "Lgyx9klZ1LUr",
        "colab": {
          "base_uri": "https://localhost:8080/",
          "height": 377
        },
        "outputId": "064767d1-fb35-4d5d-e33f-c0f6e9bffc82"
      },
      "execution_count": null,
      "outputs": [
        {
          "output_type": "error",
          "ename": "ModuleNotFoundError",
          "evalue": "No module named 'netwulf'",
          "traceback": [
            "\u001b[0;31m---------------------------------------------------------------------------\u001b[0m",
            "\u001b[0;31mModuleNotFoundError\u001b[0m                       Traceback (most recent call last)",
            "\u001b[0;32m<ipython-input-99-66255946d970>\u001b[0m in \u001b[0;36m<cell line: 1>\u001b[0;34m()\u001b[0m\n\u001b[0;32m----> 1\u001b[0;31m \u001b[0;32mfrom\u001b[0m \u001b[0mnetwulf\u001b[0m \u001b[0;32mimport\u001b[0m \u001b[0mvisualize\u001b[0m\u001b[0;34m\u001b[0m\u001b[0;34m\u001b[0m\u001b[0m\n\u001b[0m\u001b[1;32m      2\u001b[0m \u001b[0;32mimport\u001b[0m \u001b[0mnetwulf\u001b[0m \u001b[0;32mas\u001b[0m \u001b[0mnw\u001b[0m\u001b[0;34m\u001b[0m\u001b[0;34m\u001b[0m\u001b[0m\n\u001b[1;32m      3\u001b[0m \u001b[0;34m\u001b[0m\u001b[0m\n\u001b[1;32m      4\u001b[0m \u001b[0mstylized_network\u001b[0m\u001b[0;34m,\u001b[0m \u001b[0mconfig\u001b[0m \u001b[0;34m=\u001b[0m \u001b[0mvisualize\u001b[0m\u001b[0;34m(\u001b[0m\u001b[0mLM_G\u001b[0m\u001b[0;34m,\u001b[0m\u001b[0;34m)\u001b[0m\u001b[0;34m\u001b[0m\u001b[0;34m\u001b[0m\u001b[0m\n",
            "\u001b[0;31mModuleNotFoundError\u001b[0m: No module named 'netwulf'",
            "",
            "\u001b[0;31m---------------------------------------------------------------------------\u001b[0;32m\nNOTE: If your import is failing due to a missing package, you can\nmanually install dependencies using either !pip or !apt.\n\nTo view examples of installing some common dependencies, click the\n\"Open Examples\" button below.\n\u001b[0;31m---------------------------------------------------------------------------\u001b[0m\n"
          ],
          "errorDetails": {
            "actions": [
              {
                "action": "open_url",
                "actionText": "Open Examples",
                "url": "/notebooks/snippets/importing_libraries.ipynb"
              }
            ]
          }
        }
      ]
    },
    {
      "cell_type": "markdown",
      "source": [
        "# On your Own (1):\n",
        "By running below code, you will get a NetworkX object KC_G that contains the network collected from the members of a university karate club by Wayne Zachary. Zachary (1977) used these data and an information flow model of network conflict resolution to explain the split-up of this group following disputes among the members.\n",
        "- https://networkx.org/documentation/stable/auto_examples/graph/plot_karate_club.html\n",
        "- http://vlado.fmf.uni-lj.si/pub/networks/data/Ucinet/UciData.htm\n",
        "- Zachary W. (1977). An information flow model for conflict and fission in small groups. Journal of Anthropological Research, 33, 452-473.\n",
        "\n",
        "\n",
        "(1) How many nodes and edges are there?  \n",
        "(2) What is the name of the node with the highest degree?  \n",
        "(3) What is the name of the node with the highest {degree, betweenness, closeness, eigenvector} centrality?  \n",
        "(4) Calculate the network diameter.  \n",
        "(5) Visualize the network. How does it look compared to Les Miserables graph?  \n",
        "(6) Run community detection and find the best partition using Louvain algorithm. How many communities are detected?"
      ],
      "metadata": {
        "id": "d3l0GBsHKUDQ"
      }
    },
    {
      "cell_type": "code",
      "source": [
        "KC_G = nx.karate_club_graph()"
      ],
      "metadata": {
        "id": "4JdonaztKkSO"
      },
      "execution_count": null,
      "outputs": []
    },
    {
      "cell_type": "markdown",
      "source": [
        "# On your Own (2):\n",
        "By running below code, you will get a NetworkX object FT_G that contains the network of American football games between Division IA colleges during regular season Fall 2000. (https://networkx.org/documentation/stable/auto_examples/graph/plot_football.html)\n",
        "\n",
        "(1) How many nodes and edges are there?  \n",
        "(2) What is the name of the node with the highest degree?  \n",
        "(3) What is the name of the node with the highest {degree, betweenness, closeness, eigenvector} centrality?  \n",
        "(4) Calculate the shortest path length between SouthernCalifornia and any other university that you pick.  \n",
        "(5) Visualize the network. How does it look compared to the above two graphs?  \n",
        "(6) Run community detection and find the best partition using Louvain algorithm. How many communities are detected?"
      ],
      "metadata": {
        "id": "T8I9Kag1aNYz"
      }
    },
    {
      "cell_type": "code",
      "source": [
        "import urllib.request\n",
        "import io\n",
        "import zipfile\n",
        "\n",
        "import matplotlib.pyplot as plt\n",
        "import networkx as nx\n",
        "\n",
        "url = \"http://www-personal.umich.edu/~mejn/netdata/football.zip\"\n",
        "\n",
        "sock = urllib.request.urlopen(url)  # open URL\n",
        "s = io.BytesIO(sock.read())  # read into BytesIO \"file\"\n",
        "sock.close()\n",
        "\n",
        "zf = zipfile.ZipFile(s)  # zipfile object\n",
        "txt = zf.read(\"football.txt\").decode()  # read info file\n",
        "gml = zf.read(\"football.gml\").decode()  # read gml data\n",
        "# throw away bogus first line with # from mejn files\n",
        "gml = gml.split(\"\\n\")[1:]\n",
        "FT_G = nx.parse_gml(gml)  # parse gml data"
      ],
      "metadata": {
        "id": "i7kgtOyMbA9n"
      },
      "execution_count": null,
      "outputs": []
    }
  ],
  "metadata": {
    "kernelspec": {
      "display_name": "Python 3 (ipykernel)",
      "language": "python",
      "name": "python3"
    },
    "language_info": {
      "codemirror_mode": {
        "name": "ipython",
        "version": 3
      },
      "file_extension": ".py",
      "mimetype": "text/x-python",
      "name": "python",
      "nbconvert_exporter": "python",
      "pygments_lexer": "ipython3",
      "version": "3.9.12"
    },
    "colab": {
      "provenance": []
    }
  },
  "nbformat": 4,
  "nbformat_minor": 0
}