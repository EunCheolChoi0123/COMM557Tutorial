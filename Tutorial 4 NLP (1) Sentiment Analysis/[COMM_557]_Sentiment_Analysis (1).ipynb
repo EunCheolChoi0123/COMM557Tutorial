{
  "nbformat": 4,
  "nbformat_minor": 0,
  "metadata": {
    "colab": {
      "provenance": []
    },
    "kernelspec": {
      "name": "python3",
      "display_name": "Python 3"
    },
    "language_info": {
      "name": "python"
    }
  },
  "cells": [
    {
      "cell_type": "markdown",
      "metadata": {
        "id": "zZeEg-28vZob"
      },
      "source": [
        "### Sentiment Analysis\n",
        "#### TextBlob"
      ]
    },
    {
      "cell_type": "code",
      "source": [
        "!pip install vaderSentiment"
      ],
      "metadata": {
        "colab": {
          "base_uri": "https://localhost:8080/"
        },
        "id": "tfK31UX0A-Zm",
        "outputId": "7385fede-583e-4d0f-b2ce-ef11466061dd"
      },
      "execution_count": null,
      "outputs": [
        {
          "output_type": "stream",
          "name": "stdout",
          "text": [
            "Requirement already satisfied: vaderSentiment in /usr/local/lib/python3.10/dist-packages (3.3.2)\n",
            "Requirement already satisfied: requests in /usr/local/lib/python3.10/dist-packages (from vaderSentiment) (2.32.3)\n",
            "Requirement already satisfied: charset-normalizer<4,>=2 in /usr/local/lib/python3.10/dist-packages (from requests->vaderSentiment) (3.3.2)\n",
            "Requirement already satisfied: idna<4,>=2.5 in /usr/local/lib/python3.10/dist-packages (from requests->vaderSentiment) (3.10)\n",
            "Requirement already satisfied: urllib3<3,>=1.21.1 in /usr/local/lib/python3.10/dist-packages (from requests->vaderSentiment) (2.2.3)\n",
            "Requirement already satisfied: certifi>=2017.4.17 in /usr/local/lib/python3.10/dist-packages (from requests->vaderSentiment) (2024.8.30)\n"
          ]
        }
      ]
    },
    {
      "cell_type": "code",
      "source": [
        "### Sentiment analysis\n",
        "import nltk\n",
        "from textblob import TextBlob\n",
        "from vaderSentiment.vaderSentiment import SentimentIntensityAnalyzer"
      ],
      "metadata": {
        "id": "96YnHkOZAySO"
      },
      "execution_count": null,
      "outputs": []
    },
    {
      "cell_type": "code",
      "source": [
        "nltk.download('punkt')\n",
        "nltk.download('averaged_perceptron_tagger')\n",
        "nltk.download('brown')\n",
        "nltk.download('movie_reviews')"
      ],
      "metadata": {
        "colab": {
          "base_uri": "https://localhost:8080/"
        },
        "id": "xmn3htnsy9uu",
        "outputId": "e4da7877-c159-4c57-f7f2-04d86019d6c5"
      },
      "execution_count": null,
      "outputs": [
        {
          "output_type": "stream",
          "name": "stderr",
          "text": [
            "[nltk_data] Downloading package punkt to /root/nltk_data...\n",
            "[nltk_data]   Package punkt is already up-to-date!\n",
            "[nltk_data] Downloading package averaged_perceptron_tagger to\n",
            "[nltk_data]     /root/nltk_data...\n",
            "[nltk_data]   Package averaged_perceptron_tagger is already up-to-\n",
            "[nltk_data]       date!\n",
            "[nltk_data] Downloading package brown to /root/nltk_data...\n",
            "[nltk_data]   Package brown is already up-to-date!\n",
            "[nltk_data] Downloading package movie_reviews to /root/nltk_data...\n",
            "[nltk_data]   Package movie_reviews is already up-to-date!\n"
          ]
        },
        {
          "output_type": "execute_result",
          "data": {
            "text/plain": [
              "True"
            ]
          },
          "metadata": {},
          "execution_count": 54
        }
      ]
    },
    {
      "cell_type": "code",
      "source": [
        "post = \"Our analysis shows concerted efforts by coordinated accounts to disseminate misleading, redundant, biased, and AI-generated content through a cross-platform information operation. The network spans X and YouTube, disseminating political content through duplicated mock news sites.\""
      ],
      "metadata": {
        "id": "LY0NSt9tBTUn"
      },
      "execution_count": null,
      "outputs": []
    },
    {
      "cell_type": "code",
      "execution_count": null,
      "metadata": {
        "colab": {
          "base_uri": "https://localhost:8080/"
        },
        "id": "p22_oBbdvZob",
        "outputId": "e19a65f9-063d-4043-ee79-8c9657f6d62f"
      },
      "outputs": [
        {
          "output_type": "execute_result",
          "data": {
            "text/plain": [
              "Sentiment(polarity=-0.1, subjectivity=0.15000000000000002)"
            ]
          },
          "metadata": {},
          "execution_count": 56
        }
      ],
      "source": [
        "blob = TextBlob(post)\n",
        "blob.sentiment"
      ]
    },
    {
      "cell_type": "markdown",
      "metadata": {
        "id": "wXHTftOGvZob"
      },
      "source": [
        "Textblob sentiment output:\n",
        "\n",
        "Polarity in [-1, 1] := [most negative, most positive]\n",
        "\n",
        "Subjectivity in [0, 1] := [factual, personal opinion]"
      ]
    },
    {
      "cell_type": "code",
      "execution_count": null,
      "metadata": {
        "colab": {
          "base_uri": "https://localhost:8080/"
        },
        "id": "1RUx-kd_vZob",
        "outputId": "a77ddef6-0063-4085-cd89-4f9d07581f5f"
      },
      "outputs": [
        {
          "output_type": "execute_result",
          "data": {
            "text/plain": [
              "WordList(['Our', 'analysis', 'shows', 'concerted', 'efforts', 'by', 'coordinated', 'accounts', 'to', 'disseminate', 'misleading', ',', 'redundant', ',', 'biased', ',', 'and', 'AI-generated', 'content', 'through', 'a', 'cross-platform', 'information', 'operation', '.', 'The', 'network', 'spans', 'X', 'and', 'YouTube', ',', 'disseminating', 'political', 'content', 'through', 'duplicated', 'mock', 'news', 'sites', '.'])"
            ]
          },
          "metadata": {},
          "execution_count": 57
        }
      ],
      "source": [
        "blob.tokens"
      ]
    },
    {
      "cell_type": "code",
      "execution_count": null,
      "metadata": {
        "colab": {
          "base_uri": "https://localhost:8080/"
        },
        "id": "Jbh3kSQmvZob",
        "outputId": "2d0aff9c-1281-432d-c0e9-a7ba2c1a0bab"
      },
      "outputs": [
        {
          "output_type": "execute_result",
          "data": {
            "text/plain": [
              "[('Our', 'PRP$'),\n",
              " ('analysis', 'NN'),\n",
              " ('shows', 'VBZ'),\n",
              " ('concerted', 'VBN'),\n",
              " ('efforts', 'NNS'),\n",
              " ('by', 'IN'),\n",
              " ('coordinated', 'JJ'),\n",
              " ('accounts', 'NNS'),\n",
              " ('to', 'TO'),\n",
              " ('disseminate', 'VB'),\n",
              " ('misleading', 'NN'),\n",
              " ('redundant', 'NN'),\n",
              " ('biased', 'VBN'),\n",
              " ('and', 'CC'),\n",
              " ('AI-generated', 'JJ'),\n",
              " ('content', 'NN'),\n",
              " ('through', 'IN'),\n",
              " ('a', 'DT'),\n",
              " ('cross-platform', 'JJ'),\n",
              " ('information', 'NN'),\n",
              " ('operation', 'NN'),\n",
              " ('The', 'DT'),\n",
              " ('network', 'NN'),\n",
              " ('spans', 'NNS'),\n",
              " ('X', 'VBP'),\n",
              " ('and', 'CC'),\n",
              " ('YouTube', 'NNP'),\n",
              " ('disseminating', 'VBG'),\n",
              " ('political', 'JJ'),\n",
              " ('content', 'NN'),\n",
              " ('through', 'IN'),\n",
              " ('duplicated', 'VBN'),\n",
              " ('mock', 'NN'),\n",
              " ('news', 'NN'),\n",
              " ('sites', 'NNS')]"
            ]
          },
          "metadata": {},
          "execution_count": 58
        }
      ],
      "source": [
        "blob.tags"
      ]
    },
    {
      "cell_type": "code",
      "execution_count": null,
      "metadata": {
        "colab": {
          "base_uri": "https://localhost:8080/"
        },
        "id": "yY_OwmEhvZoc",
        "outputId": "fcb7eb38-ebc9-45cf-ae1c-784724f792fa"
      },
      "outputs": [
        {
          "output_type": "execute_result",
          "data": {
            "text/plain": [
              "WordList(['analysis shows', 'ai-generated', 'cross-platform information operation', 'network spans', 'youtube', 'political content', 'mock news sites'])"
            ]
          },
          "metadata": {},
          "execution_count": 59
        }
      ],
      "source": [
        "blob.noun_phrases"
      ]
    },
    {
      "cell_type": "code",
      "execution_count": null,
      "metadata": {
        "colab": {
          "base_uri": "https://localhost:8080/"
        },
        "id": "qzjeOYb9vZoc",
        "outputId": "28f21e75-aa57-45a1-e9fa-01e2451e3468"
      },
      "outputs": [
        {
          "output_type": "execute_result",
          "data": {
            "text/plain": [
              "1"
            ]
          },
          "metadata": {},
          "execution_count": 60
        }
      ],
      "source": [
        "blob.words.count('youtube')"
      ]
    },
    {
      "cell_type": "code",
      "execution_count": null,
      "metadata": {
        "id": "L_fhJqqqvZoc"
      },
      "outputs": [],
      "source": [
        "test_msg1 = 'this is not the best football team'"
      ]
    },
    {
      "cell_type": "code",
      "execution_count": null,
      "metadata": {
        "colab": {
          "base_uri": "https://localhost:8080/"
        },
        "id": "502RkgyjvZoc",
        "outputId": "2252601e-9574-4e25-ba01-bce520b88f22"
      },
      "outputs": [
        {
          "output_type": "execute_result",
          "data": {
            "text/plain": [
              "Sentiment(polarity=1.0, subjectivity=0.3)"
            ]
          },
          "metadata": {},
          "execution_count": 62
        }
      ],
      "source": [
        "blob = TextBlob(test_msg1)\n",
        "blob.sentiment"
      ]
    },
    {
      "cell_type": "code",
      "execution_count": null,
      "metadata": {
        "id": "I8d3PXjYvZoc"
      },
      "outputs": [],
      "source": [
        "test_msg2 = 'hey this is not too bad'"
      ]
    },
    {
      "cell_type": "code",
      "execution_count": null,
      "metadata": {
        "colab": {
          "base_uri": "https://localhost:8080/"
        },
        "id": "XqgUbuZPvZoc",
        "outputId": "655ae63e-67c2-4e32-a068-d60b3b2b9693"
      },
      "outputs": [
        {
          "output_type": "execute_result",
          "data": {
            "text/plain": [
              "Sentiment(polarity=-0.6999999999999998, subjectivity=0.6666666666666666)"
            ]
          },
          "metadata": {},
          "execution_count": 64
        }
      ],
      "source": [
        "blob = TextBlob(test_msg2)\n",
        "blob.sentiment"
      ]
    },
    {
      "cell_type": "code",
      "execution_count": null,
      "metadata": {
        "colab": {
          "base_uri": "https://localhost:8080/"
        },
        "id": "vXoH5fBavZoc",
        "outputId": "e434718c-1d56-438f-f78d-f8e71b5cb9df"
      },
      "outputs": [
        {
          "output_type": "stream",
          "name": "stdout",
          "text": [
            "this is not the best football team\n",
            "Sentiment(classification='neg', p_pos=0.41870201702509297, p_neg=0.5812979829749073)\n",
            "hey this is not too bad\n",
            "Sentiment(classification='neg', p_pos=0.21032203786065207, p_neg=0.7896779621393482)\n"
          ]
        }
      ],
      "source": [
        "# NaiveBayesAnalyzer option, trained on movie reviews\n",
        "from textblob.sentiments import NaiveBayesAnalyzer\n",
        "\n",
        "print(test_msg1)\n",
        "blob = TextBlob(test_msg1, analyzer=NaiveBayesAnalyzer())\n",
        "print(blob.sentiment)\n",
        "\n",
        "print(test_msg2)\n",
        "blob = TextBlob(test_msg2, analyzer=NaiveBayesAnalyzer())\n",
        "print(blob.sentiment)"
      ]
    },
    {
      "cell_type": "code",
      "execution_count": null,
      "metadata": {
        "id": "EzMOQMfmvZoc"
      },
      "outputs": [],
      "source": [
        "blob = TextBlob(post, analyzer=NaiveBayesAnalyzer())\n",
        "blob.sentiment"
      ]
    },
    {
      "cell_type": "markdown",
      "metadata": {
        "id": "DDtZxt5mvZoc"
      },
      "source": [
        "Train your own classifers:\n",
        "https://textblob.readthedocs.io/en/dev/api_reference.html#module-textblob.classifiers"
      ]
    },
    {
      "cell_type": "markdown",
      "metadata": {
        "id": "5Sz4-6YavZoc"
      },
      "source": [
        "#### VADER (Valence Aware Dictionary and Sentiment Reasoner)"
      ]
    },
    {
      "cell_type": "code",
      "execution_count": null,
      "metadata": {
        "id": "P6raNOUfvZoc",
        "outputId": "b0db727a-4a75-4bbd-cfd3-def56c6a60ad",
        "colab": {
          "base_uri": "https://localhost:8080/",
          "height": 163
        }
      },
      "outputs": [
        {
          "output_type": "error",
          "ename": "NameError",
          "evalue": "name 'SentimentIntensityAnalyzer' is not defined",
          "traceback": [
            "\u001b[0;31m---------------------------------------------------------------------------\u001b[0m",
            "\u001b[0;31mNameError\u001b[0m                                 Traceback (most recent call last)",
            "\u001b[0;32m<ipython-input-2-cdf5e882a1eb>\u001b[0m in \u001b[0;36m<cell line: 2>\u001b[0;34m()\u001b[0m\n\u001b[1;32m      1\u001b[0m \u001b[0;31m#find sentiment vader\u001b[0m\u001b[0;34m\u001b[0m\u001b[0;34m\u001b[0m\u001b[0m\n\u001b[0;32m----> 2\u001b[0;31m \u001b[0manalyser\u001b[0m \u001b[0;34m=\u001b[0m \u001b[0mSentimentIntensityAnalyzer\u001b[0m\u001b[0;34m(\u001b[0m\u001b[0;34m)\u001b[0m\u001b[0;34m\u001b[0m\u001b[0;34m\u001b[0m\u001b[0m\n\u001b[0m",
            "\u001b[0;31mNameError\u001b[0m: name 'SentimentIntensityAnalyzer' is not defined"
          ]
        }
      ],
      "source": [
        "#find sentiment vader\n",
        "analyser = SentimentIntensityAnalyzer()"
      ]
    },
    {
      "cell_type": "code",
      "execution_count": null,
      "metadata": {
        "id": "JKwDz3bJvZoc"
      },
      "outputs": [],
      "source": [
        "help(analyser.polarity_scores)"
      ]
    },
    {
      "cell_type": "markdown",
      "metadata": {
        "id": "lnRuhpwtvZoc"
      },
      "source": [
        "Compound scores in [-1, 1] := [most negative, most positive]\n",
        "\n",
        "neg, neu, pos in [0, 1]"
      ]
    },
    {
      "cell_type": "code",
      "execution_count": null,
      "metadata": {
        "scrolled": true,
        "id": "mk3IgT0YvZoc",
        "outputId": "f346c348-4042-4262-bd19-e64689e8dc0a",
        "colab": {
          "base_uri": "https://localhost:8080/",
          "height": 163
        }
      },
      "outputs": [
        {
          "output_type": "error",
          "ename": "NameError",
          "evalue": "name 'analyser' is not defined",
          "traceback": [
            "\u001b[0;31m---------------------------------------------------------------------------\u001b[0m",
            "\u001b[0;31mNameError\u001b[0m                                 Traceback (most recent call last)",
            "\u001b[0;32m<ipython-input-1-754e925b2ee1>\u001b[0m in \u001b[0;36m<cell line: 1>\u001b[0;34m()\u001b[0m\n\u001b[0;32m----> 1\u001b[0;31m \u001b[0msentiment\u001b[0m \u001b[0;34m=\u001b[0m \u001b[0manalyser\u001b[0m\u001b[0;34m.\u001b[0m\u001b[0mpolarity_scores\u001b[0m\u001b[0;34m(\u001b[0m\u001b[0;34m'This is an example of a happy post'\u001b[0m\u001b[0;34m)\u001b[0m\u001b[0;34m\u001b[0m\u001b[0;34m\u001b[0m\u001b[0m\n\u001b[0m\u001b[1;32m      2\u001b[0m \u001b[0mprint\u001b[0m\u001b[0;34m(\u001b[0m\u001b[0msentiment\u001b[0m\u001b[0;34m)\u001b[0m\u001b[0;34m\u001b[0m\u001b[0;34m\u001b[0m\u001b[0m\n",
            "\u001b[0;31mNameError\u001b[0m: name 'analyser' is not defined"
          ]
        }
      ],
      "source": [
        "sentiment = analyser.polarity_scores('This is an example of a happy post')\n",
        "print(sentiment)"
      ]
    },
    {
      "cell_type": "code",
      "execution_count": null,
      "metadata": {
        "id": "kwaGrrhYvZoc"
      },
      "outputs": [],
      "source": [
        "sentiment['neg'] + sentiment['neu'] + sentiment['pos']"
      ]
    },
    {
      "cell_type": "code",
      "execution_count": null,
      "metadata": {
        "id": "eD2CM_0-vZoc"
      },
      "outputs": [],
      "source": [
        "# impact of punctuation\n",
        "sentiment = analyser.polarity_scores('This is an example of a happy post!')\n",
        "print(sentiment)"
      ]
    },
    {
      "cell_type": "code",
      "execution_count": null,
      "metadata": {
        "id": "rHGIRIYCvZoc"
      },
      "outputs": [],
      "source": [
        "# impact of emoji\n",
        "sentiment = analyser.polarity_scores('This is an example of a happy 😁 ❤️ post! ')\n",
        "print(sentiment)"
      ]
    },
    {
      "cell_type": "code",
      "execution_count": null,
      "metadata": {
        "id": "0HlduuJQvZoc"
      },
      "outputs": [],
      "source": [
        "print(test_msg1)\n",
        "sentiment = analyser.polarity_scores(test_msg1)\n",
        "print(sentiment)\n",
        "\n",
        "print(test_msg2)\n",
        "sentiment = analyser.polarity_scores(test_msg2)\n",
        "print(sentiment)"
      ]
    },
    {
      "cell_type": "code",
      "source": [
        "print(post)\n",
        "sentiment = analyser.polarity_scores(post)\n",
        "print(sentiment)"
      ],
      "metadata": {
        "id": "ZHoLmWIXFnLK"
      },
      "execution_count": null,
      "outputs": []
    },
    {
      "cell_type": "markdown",
      "metadata": {
        "id": "J9bfX-QkvZod"
      },
      "source": [
        "#### Extension\n",
        "\n",
        "Twitter roBERTa\n",
        "\n",
        "https://huggingface.co/cardiffnlp/twitter-roberta-base-sentiment\n",
        "\n",
        "Multilingual Twitter roBERTa: 8 languages (Ar, En, Fr, De, Hi, It, Sp, Pt)\n",
        "\n",
        "https://huggingface.co/cardiffnlp/twitter-xlm-roberta-base-sentiment\n"
      ]
    }
  ]
}